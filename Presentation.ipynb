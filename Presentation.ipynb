{
 "cells": [
  {
   "cell_type": "code",
   "execution_count": 1,
   "metadata": {},
   "outputs": [],
   "source": [
    "#Utilities main function\n",
    "import utility"
   ]
  },
  {
   "attachments": {},
   "cell_type": "markdown",
   "metadata": {},
   "source": [
    "### Main functions\n",
    "\n",
    "\n",
    "Some Important Clarifications\n",
    "\n",
    "1. Your VOC solution and the modules (e.g. preprocessing, feature engineering, models, pipelines etc) should be python scripts in .py files only. Notebooks are good for interactive analysis but they should not be part of your VOC solution.\n",
    "\n",
    "2.  In your VOC solution your need to code the training pipeline for all the models you are experimenting with. For sentiment analysis, Ideally you should also have an evaluation module to generate the scores for evaluating the performance of your models in terms of various metrics, and a comparison/selection module decide the best model."
   ]
  },
  {
   "cell_type": "code",
   "execution_count": null,
   "metadata": {},
   "outputs": [],
   "source": []
  },
  {
   "attachments": {},
   "cell_type": "markdown",
   "metadata": {},
   "source": [
    "### Sentimental Analysis Pipeline\n",
    "\n",
    "#### Showcase all restuls in terms of performance metrics (Training, Valid, Holdout Metrics) + Graph for threshold\n",
    "#### Why select final model as best model(Refer to performance metrics)"
   ]
  },
  {
   "cell_type": "code",
   "execution_count": 2,
   "metadata": {},
   "outputs": [
    {
     "name": "stderr",
     "output_type": "stream",
     "text": [
      "[nltk_data] Downloading package punkt to /Users/gjj980/nltk_data...\n",
      "[nltk_data]   Package punkt is already up-to-date!\n",
      "[nltk_data] Downloading package wordnet to /Users/gjj980/nltk_data...\n",
      "[nltk_data]   Package wordnet is already up-to-date!\n",
      "[nltk_data] Downloading package omw-1.4 to /Users/gjj980/nltk_data...\n",
      "[nltk_data]   Package omw-1.4 is already up-to-date!\n",
      "[nltk_data] Downloading package stopwords to\n",
      "[nltk_data]     /Users/gjj980/nltk_data...\n",
      "[nltk_data]   Package stopwords is already up-to-date!\n"
     ]
    }
   ],
   "source": [
    "from sentimental_analysis.bert.train import *"
   ]
  },
  {
   "cell_type": "code",
   "execution_count": null,
   "metadata": {},
   "outputs": [],
   "source": [
    "#from .... Non-bert"
   ]
  },
  {
   "cell_type": "code",
   "execution_count": null,
   "metadata": {},
   "outputs": [],
   "source": [
    "#NON-BERT"
   ]
  },
  {
   "attachments": {},
   "cell_type": "markdown",
   "metadata": {},
   "source": [
    "### Scoring function with Dockerised Sentimental Analysis Training pipeline"
   ]
  },
  {
   "cell_type": "code",
   "execution_count": null,
   "metadata": {},
   "outputs": [],
   "source": [
    "###Create a scorring function with\n",
    "\n",
    "def score(csv_file):\n",
    "    #Call Sentimental_analysis via Docker API\n",
    "\n",
    "    #Return csv file name as reviews_test_predictions_DSAPES.csv\n",
    "    #\"Text\", Time\", \"predicted_sentiment_probability\", \"predicted_sentiment\". \n",
    "    pass"
   ]
  },
  {
   "cell_type": "code",
   "execution_count": null,
   "metadata": {},
   "outputs": [],
   "source": [
    "#score(\"reviews_test.csv\")"
   ]
  },
  {
   "attachments": {},
   "cell_type": "markdown",
   "metadata": {},
   "source": [
    "### Topic Modelling Pipeline\n",
    "\n",
    "##### Shocase all models results + Perfomance metrics\n",
    "##### Showcase human judgement from topic modelling\n",
    "##### Type the explanation below\n",
    "\n",
    "#### Choose final model\n",
    "#### Call the Dockerised Topic Modelling final model"
   ]
  },
  {
   "cell_type": "code",
   "execution_count": null,
   "metadata": {},
   "outputs": [],
   "source": [
    "#from bert topic modelling"
   ]
  },
  {
   "cell_type": "code",
   "execution_count": null,
   "metadata": {},
   "outputs": [],
   "source": [
    "#from non_bert topic modelling"
   ]
  }
 ],
 "metadata": {
  "kernelspec": {
   "display_name": "base",
   "language": "python",
   "name": "python3"
  },
  "language_info": {
   "codemirror_mode": {
    "name": "ipython",
    "version": 3
   },
   "file_extension": ".py",
   "mimetype": "text/x-python",
   "name": "python",
   "nbconvert_exporter": "python",
   "pygments_lexer": "ipython3",
   "version": "3.9.10"
  },
  "orig_nbformat": 4
 },
 "nbformat": 4,
 "nbformat_minor": 2
}
