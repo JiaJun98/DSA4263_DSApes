{
 "cells": [
  {
   "cell_type": "code",
   "execution_count": 2,
   "metadata": {},
   "outputs": [],
   "source": [
    "#Utilities main function\n",
    "import utility\n",
    "import os\n",
    "original_wd = os.getcwd()"
   ]
  },
  {
   "attachments": {},
   "cell_type": "markdown",
   "metadata": {},
   "source": [
    "### **Main functions**"
   ]
  },
  {
   "cell_type": "code",
   "execution_count": null,
   "metadata": {},
   "outputs": [],
   "source": []
  },
  {
   "attachments": {},
   "cell_type": "markdown",
   "metadata": {},
   "source": [
    "### **Sentimental Analysis Pipeline**"
   ]
  },
  {
   "cell_type": "markdown",
   "metadata": {},
   "source": [
    "##### Bert Model"
   ]
  },
  {
   "cell_type": "code",
   "execution_count": 2,
   "metadata": {},
   "outputs": [
    {
     "name": "stderr",
     "output_type": "stream",
     "text": [
      "[nltk_data] Downloading package punkt to /Users/gjj980/nltk_data...\n",
      "[nltk_data]   Package punkt is already up-to-date!\n",
      "[nltk_data] Downloading package wordnet to /Users/gjj980/nltk_data...\n",
      "[nltk_data]   Package wordnet is already up-to-date!\n",
      "[nltk_data] Downloading package omw-1.4 to /Users/gjj980/nltk_data...\n",
      "[nltk_data]   Package omw-1.4 is already up-to-date!\n",
      "[nltk_data] Downloading package stopwords to\n",
      "[nltk_data]     /Users/gjj980/nltk_data...\n",
      "[nltk_data]   Package stopwords is already up-to-date!\n"
     ]
    }
   ],
   "source": [
    "from sentimental_analysis.bert.train import *"
   ]
  },
  {
   "cell_type": "markdown",
   "metadata": {},
   "source": [
    "##### Non-Bert Model"
   ]
  },
  {
   "cell_type": "code",
   "execution_count": 3,
   "metadata": {},
   "outputs": [
    {
     "name": "stdout",
     "output_type": "stream",
     "text": [
      "[10, 0.9044021911014027]\n",
      "Training dataset has been loaded successfully\n",
      "\n",
      "---------------------------------\n",
      "LogisticRegression model succesfully trained\n",
      "\n",
      "---------------------------------\n",
      "\n",
      "model_accuracy:   0.63\n",
      "model_precision:   0.88\n",
      "model_auc:   0.68\n",
      "model_f1score:   0.70\n",
      "sensitivity:   0.58\n",
      "specificity:   0.78\n",
      "\n",
      "---------------------------------\n",
      "\n",
      "Threshold parameter tuning\n",
      "\n",
      "Prediction using best threshold for accuracy\n",
      "-------------------------\n",
      "\n",
      "model_accuracy:   0.75\n",
      "model_precision:   0.76\n",
      "model_auc:   0.56\n",
      "model_f1score:   0.85\n",
      "sensitivity:   0.96\n",
      "specificity:   0.16\n",
      "Best threshold for accuracy: 0.14051379451626203\n",
      "Accuracy score at best threshold: 0.7502295684113865\n",
      "Warning: LogisticRegression model has NOT been saved\n",
      "\n",
      "---------------------------------\n",
      "\n"
     ]
    }
   ],
   "source": [
    "path = os.path.join(original_wd, 'sentimental_analysis\\\\non_bert')\n",
    "os.chdir(path)\n",
    "%run train\n",
    "os.chdir(original_wd)"
   ]
  },
  {
   "attachments": {},
   "cell_type": "markdown",
   "metadata": {},
   "source": [
    "### **Topic Modelling Pipeline**"
   ]
  },
  {
   "cell_type": "markdown",
   "metadata": {},
   "source": [
    "##### Bert Model"
   ]
  },
  {
   "cell_type": "markdown",
   "metadata": {},
   "source": [
    "##### Non-Bert Model"
   ]
  },
  {
   "attachments": {},
   "cell_type": "markdown",
   "metadata": {},
   "source": [
    "### **Dockerised API**"
   ]
  },
  {
   "cell_type": "code",
   "execution_count": null,
   "metadata": {},
   "outputs": [],
   "source": [
    "###Create a scorring function with\n",
    "\n",
    "def score(csv_file):\n",
    "    #Call Sentimental_analysis via Docker API\n",
    "\n",
    "    #Return csv file name as reviews_test_predictions_DSAPES.csv\n",
    "    #Text, Time, Sentimental Probabilities, Sentiments\n",
    "    pass"
   ]
  }
 ],
 "metadata": {
  "kernelspec": {
   "display_name": "base",
   "language": "python",
   "name": "python3"
  },
  "language_info": {
   "codemirror_mode": {
    "name": "ipython",
    "version": 3
   },
   "file_extension": ".py",
   "mimetype": "text/x-python",
   "name": "python",
   "nbconvert_exporter": "python",
   "pygments_lexer": "ipython3",
   "version": "3.9.13"
  },
  "orig_nbformat": 4
 },
 "nbformat": 4,
 "nbformat_minor": 2
}
