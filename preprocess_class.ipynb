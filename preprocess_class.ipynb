{
 "cells": [
  {
   "cell_type": "code",
   "execution_count": 54,
   "metadata": {},
   "outputs": [],
   "source": [
    "import pandas as pd\n",
    "import numpy as np\n",
    "from sklearn.model_selection import train_test_split\n",
    "from re import sub\n",
    "import nltk\n",
    "from nltk.tokenize import word_tokenize, sent_tokenize\n",
    "from nltk.corpus import stopwords, wordnet #trying different stopword list from packages nltk has a small list of stopwords\n",
    "from nltk.stem import WordNetLemmatizer, PorterStemmer\n",
    "from sklearn.feature_extraction.text import ENGLISH_STOP_WORDS, CountVectorizer #sklearn have larger list"
   ]
  },
  {
   "cell_type": "code",
   "execution_count": 18,
   "metadata": {},
   "outputs": [
    {
     "name": "stderr",
     "output_type": "stream",
     "text": [
      "[nltk_data] Downloading package punkt to\n",
      "[nltk_data]     C:\\Users\\limzi\\AppData\\Roaming\\nltk_data...\n",
      "[nltk_data]   Package punkt is already up-to-date!\n",
      "[nltk_data] Downloading package wordnet to\n",
      "[nltk_data]     C:\\Users\\limzi\\AppData\\Roaming\\nltk_data...\n",
      "[nltk_data]   Package wordnet is already up-to-date!\n",
      "[nltk_data] Downloading package omw-1.4 to\n",
      "[nltk_data]     C:\\Users\\limzi\\AppData\\Roaming\\nltk_data...\n",
      "[nltk_data]   Package omw-1.4 is already up-to-date!\n",
      "[nltk_data] Downloading package stopwords to\n",
      "[nltk_data]     C:\\Users\\limzi\\AppData\\Roaming\\nltk_data...\n",
      "[nltk_data]   Package stopwords is already up-to-date!\n"
     ]
    },
    {
     "data": {
      "text/plain": [
       "True"
      ]
     },
     "execution_count": 18,
     "metadata": {},
     "output_type": "execute_result"
    }
   ],
   "source": [
    "nltk.download('punkt')\n",
    "nltk.download(\"wordnet\")\n",
    "nltk.download(\"omw-1.4\")\n",
    "nltk.download('stopwords')\n"
   ]
  },
  {
   "cell_type": "code",
   "execution_count": 30,
   "metadata": {},
   "outputs": [],
   "source": [
    "df = pd.read_csv('reviews.csv')\n",
    "df['Time'] = pd.to_datetime(df['Time'])"
   ]
  },
  {
   "cell_type": "code",
   "execution_count": 34,
   "metadata": {},
   "outputs": [],
   "source": [
    "#need include train test split\n",
    "class Dataset:\n",
    "    def __init__(self, dataset):\n",
    "        \"\"\"\n",
    "        All the attributes will be stored in the form of dataframe\n",
    "        \"\"\"\n",
    "        self.sentiments = dataset['Sentiment']\n",
    "        self.date = dataset['Time']\n",
    "        self.text = dataset['Text']\n",
    "        self.tokenized_words = None\n",
    "        self.tokenized_sentence = None\n",
    "        self.stem = None\n",
    "        self.lemmatize = None\n",
    "        self.tokenized_no_stop_words = None\n",
    "        self.bag_of_word = None\n",
    "        self.bigrams = None\n",
    "        self.trigrams = None\n",
    "        self.tfidf = None\n",
    "    \n",
    "    def word_tokenizer(self):\n",
    "        \"\"\"\n",
    "        Split each text into individual word token.\n",
    "        Tokens such as numbers and punctuations are not considered as words, hence removed.\n",
    "        \"\"\"\n",
    "        self.tokenized_words = self.text.apply(lambda x: [word for word in word_tokenize(x) if word.isalpha()])\n",
    "\n",
    "    def sentence_tokenizer(self):\n",
    "        self.tokenized_sentence =  self.text.apply(sent_tokenize)\n",
    "\n",
    "    def stemming(self):\n",
    "        \"\"\"\n",
    "        Ensures that the words are tokenized before it can stem the words\n",
    "        \"\"\"\n",
    "        self.word_tokenizer()\n",
    "        ps = PorterStemmer()\n",
    "        self.stem = self.tokenized_words.apply(lambda x: [ps.stem(word) for word in x])\n",
    "    \n",
    "    def lemmatization(self):\n",
    "        pass\n",
    "    \n",
    "    def remove_stop_words(self, process = None):\n",
    "        \"\"\"\n",
    "        Last step of preprocessing\n",
    "        Users can choose whether to stem / lemmatize the words before removing stop words from the tokenised words\n",
    "        \"\"\"\n",
    "        if process == \"stem\":\n",
    "            self.stemming()\n",
    "            list_to_filter = self.stem\n",
    "        \n",
    "        elif process == \"lemmatize\":\n",
    "            self.lemmatization()\n",
    "            list_to_filter = self.lemmatize\n",
    "        \n",
    "        else:\n",
    "            list_to_filter = self.tokenized_words\n",
    "        stop_words_list = list(ENGLISH_STOP_WORDS).copy()\n",
    "        stop_words_list.remove(\"no\")\n",
    "        stop_words_list.remove(\"not\")\n",
    "        self.tokenized_no_stop_words = list_to_filter.apply(lambda x: [word for word in x if word.lower() not in stop_words_list])\n",
    "    \n",
    "    def bag_of_words(self):\n",
    "        \"\"\"\n",
    "        Assume that stop words are removed before compiling bag of words\n",
    "        \"\"\"\n",
    "        if self.tokenized_no_stop_words is None:\n",
    "            pass\n",
    "\n",
    "        final_text = self.tokenized_no_stop_words.apply(lambda x: \" \".join(x))\n",
    "        vectorizer = CountVectorizer()\n",
    "        self.bag_of_word = vectorizer.fit_transform(final_text)\n",
    "\n",
    "        "
   ]
  },
  {
   "cell_type": "code",
   "execution_count": null,
   "metadata": {},
   "outputs": [],
   "source": [
    "# filtered_stop_words = list(ENGLISH_STOP_WORDS).copy()\n",
    "# filtered_stop_words.remove(\"no\")\n",
    "# filtered_stop_words.remove(\"not\")\n",
    "# words = df['Text'].apply(lambda x: [word for word in word_tokenize(x) if word.isalpha()])\n",
    "# words = words.apply(lambda x: [word for word in x if word.lower() not in filtered_stop_words])\n",
    "# text_no_stop_words = words.apply(lambda x: \" \".join(x))\n",
    "# from sklearn.feature_extraction.text import TfidfVectorizer\n",
    "# vectorizer = TfidfVectorizer()\n",
    "# text_tfidf = vectorizer.fit_transform(text_no_stop_words)\n",
    "# vectorizer.get_feature_names_out()"
   ]
  }
 ],
 "metadata": {
  "kernelspec": {
   "display_name": "Python 3",
   "language": "python",
   "name": "python3"
  },
  "language_info": {
   "codemirror_mode": {
    "name": "ipython",
    "version": 3
   },
   "file_extension": ".py",
   "mimetype": "text/x-python",
   "name": "python",
   "nbconvert_exporter": "python",
   "pygments_lexer": "ipython3",
   "version": "3.10.7"
  },
  "orig_nbformat": 4,
  "vscode": {
   "interpreter": {
    "hash": "d7eb6d0ac8a911f2048ed045a4b8e3d0c84c023d3e3a8c702d4d1bcdcdce358b"
   }
  }
 },
 "nbformat": 4,
 "nbformat_minor": 2
}
