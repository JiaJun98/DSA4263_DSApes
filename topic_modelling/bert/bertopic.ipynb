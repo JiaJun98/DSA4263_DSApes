{
 "cells": [
  {
   "cell_type": "code",
   "execution_count": 1,
   "metadata": {},
   "outputs": [
    {
     "name": "stderr",
     "output_type": "stream",
     "text": [
      "[nltk_data] Downloading package punkt to\n",
      "[nltk_data]     C:\\Users\\tingy\\AppData\\Roaming\\nltk_data...\n",
      "[nltk_data]   Package punkt is already up-to-date!\n",
      "[nltk_data] Downloading package wordnet to\n",
      "[nltk_data]     C:\\Users\\tingy\\AppData\\Roaming\\nltk_data...\n",
      "[nltk_data]   Package wordnet is already up-to-date!\n",
      "[nltk_data] Downloading package omw-1.4 to\n",
      "[nltk_data]     C:\\Users\\tingy\\AppData\\Roaming\\nltk_data...\n",
      "[nltk_data]   Package omw-1.4 is already up-to-date!\n",
      "[nltk_data] Downloading package stopwords to\n",
      "[nltk_data]     C:\\Users\\tingy\\AppData\\Roaming\\nltk_data...\n",
      "[nltk_data]   Package stopwords is already up-to-date!\n"
     ]
    }
   ],
   "source": [
    "from bertopic import BERTopic\n",
    "import pandas as pd\n",
    "import numpy as np\n",
    "from sklearn.feature_extraction.text import CountVectorizer\n",
    "from sklearn.model_selection import train_test_split\n",
    "from gensim.models.coherencemodel import CoherenceModel\n",
    "import gensim.corpora as corpora\n",
    "import matplotlib.pyplot as plt\n",
    "from bertopic.vectorizers import ClassTfidfTransformer\n",
    "from bertopic.representation import MaximalMarginalRelevance\n",
    "import sys\n",
    "sys.path.append(\"../..\")\n",
    "from utility import parse_config, seed_everything, custom_print\n",
    "from preprocess_class import create_datasets"
   ]
  },
  {
   "cell_type": "code",
   "execution_count": 14,
   "metadata": {},
   "outputs": [],
   "source": [
    "from model_base_class import BaseModel"
   ]
  },
  {
   "cell_type": "code",
   "execution_count": 38,
   "metadata": {},
   "outputs": [],
   "source": [
    "from umap import UMAP\n",
    "from hdbscan import HDBSCAN"
   ]
  },
  {
   "cell_type": "code",
   "execution_count": 8,
   "metadata": {},
   "outputs": [],
   "source": [
    "df = pd.read_csv('../../data/reviews.csv')\n",
    "train, test = create_datasets(df)"
   ]
  },
  {
   "cell_type": "code",
   "execution_count": 3,
   "metadata": {},
   "outputs": [],
   "source": [
    "def get_coherence_score(df, topic_model):\n",
    "    \"\"\"\n",
    "    Evaluation metric for model\n",
    "    \"\"\"\n",
    "    documents = pd.DataFrame({\"Document\": df.text,\n",
    "                            \"ID\": range(len(df.text)),\n",
    "                            \"Topic\": topic_model.topics_})\n",
    "    documents_per_topic = documents.groupby(['Topic'], as_index=False).agg({'Document': ' '.join})\n",
    "    cleaned_docs = topic_model._preprocess_text(documents_per_topic.Document.values)\n",
    "\n",
    "    # Extract vectorizer and analyzer from BERTopic\n",
    "    vectorizer = topic_model.vectorizer_model\n",
    "    analyzer = vectorizer.build_analyzer()\n",
    "\n",
    "    # Extract features for Topic Coherence evaluation\n",
    "    tokens = [analyzer(doc) for doc in cleaned_docs]\n",
    "    dictionary = corpora.Dictionary(tokens)\n",
    "    corpus = [dictionary.doc2bow(token) for token in tokens]\n",
    "    topic_words = [[words for words, _ in topic_model.get_topic(topic)] \n",
    "                for topic in range(len(set(topic_model.topics_))-1)]\n",
    "\n",
    "    # Evaluate\n",
    "    cm = CoherenceModel(topics=topic_words, \n",
    "                                    texts=tokens, \n",
    "                                    corpus=corpus,\n",
    "                                    dictionary=dictionary, \n",
    "                                    coherence='c_npmi', #'u_mass', 'c_v', 'c_uci', 'c_npmi'\n",
    "                                    topn=5)\n",
    "    return cm.get_coherence()"
   ]
  },
  {
   "cell_type": "code",
   "execution_count": 9,
   "metadata": {},
   "outputs": [],
   "source": [
    "#can try with different stopwords\n",
    "train.modify_stop_words_list(exclude_words=[])"
   ]
  },
  {
   "cell_type": "code",
   "execution_count": null,
   "metadata": {},
   "outputs": [],
   "source": [
    "from sklearn.cluster import KMeans\n",
    "from sklearn.decomposition import PCA\n",
    "#alternative, using PCA and Kmeans\n",
    "dim_model = PCA(n_components=5)\n",
    "topic_model = BERTopic(umap_model=dim_model)\n",
    "\n",
    "cluster_model = KMeans(n_clusters=50)\n",
    "topic_model = BERTopic(hdbscan_model=cluster_model)\n"
   ]
  },
  {
   "cell_type": "code",
   "execution_count": 9,
   "metadata": {},
   "outputs": [
    {
     "data": {
      "application/vnd.jupyter.widget-view+json": {
       "model_id": "6e874695995d4ccd8c65c3a11dccb4bf",
       "version_major": 2,
       "version_minor": 0
      },
      "text/plain": [
       "Batches:   0%|          | 0/137 [00:00<?, ?it/s]"
      ]
     },
     "metadata": {},
     "output_type": "display_data"
    },
    {
     "name": "stderr",
     "output_type": "stream",
     "text": [
      "2023-03-28 13:23:55,299 - BERTopic - Transformed documents to Embeddings\n",
      "2023-03-28 13:23:59,845 - BERTopic - Reduced dimensionality\n",
      "2023-03-28 13:24:00,069 - BERTopic - Clustered reduced embeddings\n",
      "2023-03-28 13:24:01,794 - BERTopic - Reduced number of topics from 14 to 10\n"
     ]
    },
    {
     "name": "stdout",
     "output_type": "stream",
     "text": [
      "0.11556440966277887\n"
     ]
    }
   ],
   "source": [
    "#Start with vector\n",
    "# Sentence transformer\n",
    "#What to do with outliers\n",
    "# umap_model = umap_model #dimension reduction model\n",
    "# hdbscan_model = hdbscan_model #clustering model\n",
    "ctfidf_params = {\"bm25_weighting\": True, \"reduce_frequent_words\": True}\n",
    "vectorizer_params = {'min_df':10, 'max_df':1.0, \"ngram_range\": (1,2)}\n",
    "embedding_model = \"sentence-transformers/all-MiniLM-L12-v2\" #should set up a few other models to try\n",
    "ctfidf_model = ClassTfidfTransformer(bm25_weighting= ctfidf_params[\"bm25_weighting\"], reduce_frequent_words= ctfidf_params[\"reduce_frequent_words\"])\n",
    "vectorizer_model = CountVectorizer(stop_words=train.stop_words_list, min_df = vectorizer_params['min_df'], max_df = vectorizer_params['min_df'],\\\n",
    "                                   ngram_range=vectorizer_params['ngram_range'])\n",
    "\n",
    "umap_model = UMAP(n_neighbors=15, n_components=10, metric='cosine', low_memory=False) #PCA or truncated SVD\n",
    "hdbscan_model = HDBSCAN(min_cluster_size=10, metric='euclidean', prediction_data=True) #k-mean, birch\n",
    "# representation_model = MaximalMarginalRelevance(diversity=0.8) #0 least diverse and 1 most diverse\n",
    "#min_topic_size = 70\n",
    "topic_model = BERTopic(embedding_model=embedding_model, ctfidf_model=ctfidf_model,\\\n",
    "                        vectorizer_model=vectorizer_model, \\\n",
    "                        min_topic_size= 70,\n",
    "                        # representation_model=representation_model, \\\n",
    "                        # umap_model = umap_model, \\\n",
    "                        # hdbscan_model = hdbscan_model, \\\n",
    "                        nr_topics= 'auto',\n",
    "                        calculate_probabilities=False, verbose=True)\n",
    "topics, probs = topic_model.fit_transform(train.text)\n",
    "c_score = get_coherence_score(train, topic_model)\n",
    "print(c_score)\n",
    "# original_num_topic = len(topic_model.topic_labels_)\n",
    "# model_results = {'Topics': [],\n",
    "#                  'Coherence': []\n",
    "#                 }\n",
    "# c_score = get_coherence_score()\n",
    "# model_results['Topics'].append(original_num_topic)\n",
    "# model_results['Coherence'].append(c_score)\n",
    "# for num_topic in range(original_num_topic-1,15 ,-1):\n",
    "#     topic_model.reduce_topics(train['Text'], nr_topics=num_topic)\n",
    "#     topics = topic_model.topics_\n",
    "#     c_score = get_coherence_score()\n",
    "#     model_results['Topics'].append(num_topic)\n",
    "#     model_results['Coherence'].append(c_score)"
   ]
  },
  {
   "cell_type": "code",
   "execution_count": 41,
   "metadata": {},
   "outputs": [
    {
     "name": "stderr",
     "output_type": "stream",
     "text": [
      "2023-03-28 02:04:59,456 - BERTopic - Reduced number of topics from 72 to 71\n",
      "2023-03-28 02:05:15,073 - BERTopic - Reduced number of topics from 71 to 70\n",
      "2023-03-28 02:05:30,759 - BERTopic - Reduced number of topics from 70 to 69\n",
      "2023-03-28 02:05:46,623 - BERTopic - Reduced number of topics from 69 to 68\n",
      "2023-03-28 02:06:01,927 - BERTopic - Reduced number of topics from 68 to 67\n",
      "2023-03-28 02:06:17,240 - BERTopic - Reduced number of topics from 67 to 66\n",
      "2023-03-28 02:06:32,686 - BERTopic - Reduced number of topics from 66 to 65\n",
      "2023-03-28 02:06:48,224 - BERTopic - Reduced number of topics from 65 to 64\n",
      "2023-03-28 02:07:03,790 - BERTopic - Reduced number of topics from 64 to 63\n",
      "2023-03-28 02:07:18,956 - BERTopic - Reduced number of topics from 63 to 62\n",
      "2023-03-28 02:07:33,993 - BERTopic - Reduced number of topics from 62 to 61\n",
      "2023-03-28 02:07:48,895 - BERTopic - Reduced number of topics from 61 to 60\n",
      "2023-03-28 02:08:03,849 - BERTopic - Reduced number of topics from 60 to 59\n",
      "2023-03-28 02:08:18,719 - BERTopic - Reduced number of topics from 59 to 58\n",
      "2023-03-28 02:08:33,541 - BERTopic - Reduced number of topics from 58 to 57\n",
      "2023-03-28 02:08:48,336 - BERTopic - Reduced number of topics from 57 to 56\n",
      "2023-03-28 02:09:03,184 - BERTopic - Reduced number of topics from 56 to 55\n",
      "2023-03-28 02:09:17,892 - BERTopic - Reduced number of topics from 55 to 54\n",
      "2023-03-28 02:09:32,561 - BERTopic - Reduced number of topics from 54 to 53\n",
      "2023-03-28 02:09:47,190 - BERTopic - Reduced number of topics from 53 to 52\n",
      "2023-03-28 02:10:01,715 - BERTopic - Reduced number of topics from 52 to 51\n",
      "2023-03-28 02:10:16,276 - BERTopic - Reduced number of topics from 51 to 50\n",
      "2023-03-28 02:10:30,762 - BERTopic - Reduced number of topics from 50 to 49\n",
      "2023-03-28 02:10:45,268 - BERTopic - Reduced number of topics from 49 to 48\n",
      "2023-03-28 02:10:59,700 - BERTopic - Reduced number of topics from 48 to 47\n",
      "2023-03-28 02:11:14,092 - BERTopic - Reduced number of topics from 47 to 46\n",
      "2023-03-28 02:11:28,620 - BERTopic - Reduced number of topics from 46 to 45\n",
      "2023-03-28 02:11:43,263 - BERTopic - Reduced number of topics from 45 to 44\n",
      "2023-03-28 02:11:57,973 - BERTopic - Reduced number of topics from 44 to 43\n",
      "2023-03-28 02:12:12,270 - BERTopic - Reduced number of topics from 43 to 42\n",
      "2023-03-28 02:12:26,341 - BERTopic - Reduced number of topics from 42 to 41\n",
      "2023-03-28 02:12:40,448 - BERTopic - Reduced number of topics from 41 to 40\n",
      "2023-03-28 02:12:54,392 - BERTopic - Reduced number of topics from 40 to 39\n",
      "2023-03-28 02:13:08,230 - BERTopic - Reduced number of topics from 39 to 38\n",
      "2023-03-28 02:13:22,098 - BERTopic - Reduced number of topics from 38 to 37\n",
      "2023-03-28 02:13:35,917 - BERTopic - Reduced number of topics from 37 to 36\n",
      "2023-03-28 02:13:49,719 - BERTopic - Reduced number of topics from 36 to 35\n",
      "2023-03-28 02:14:03,607 - BERTopic - Reduced number of topics from 35 to 34\n",
      "2023-03-28 02:14:17,385 - BERTopic - Reduced number of topics from 34 to 33\n",
      "2023-03-28 02:14:31,283 - BERTopic - Reduced number of topics from 33 to 32\n",
      "2023-03-28 02:14:45,301 - BERTopic - Reduced number of topics from 32 to 31\n",
      "2023-03-28 02:14:59,437 - BERTopic - Reduced number of topics from 31 to 30\n",
      "2023-03-28 02:15:13,351 - BERTopic - Reduced number of topics from 30 to 29\n",
      "2023-03-28 02:15:27,253 - BERTopic - Reduced number of topics from 29 to 28\n",
      "2023-03-28 02:15:41,162 - BERTopic - Reduced number of topics from 28 to 27\n",
      "2023-03-28 02:15:54,567 - BERTopic - Reduced number of topics from 27 to 26\n",
      "2023-03-28 02:16:08,108 - BERTopic - Reduced number of topics from 26 to 25\n",
      "2023-03-28 02:16:21,555 - BERTopic - Reduced number of topics from 25 to 24\n",
      "2023-03-28 02:16:35,051 - BERTopic - Reduced number of topics from 24 to 23\n",
      "2023-03-28 02:16:48,611 - BERTopic - Reduced number of topics from 23 to 22\n",
      "2023-03-28 02:17:02,066 - BERTopic - Reduced number of topics from 22 to 21\n",
      "2023-03-28 02:17:15,355 - BERTopic - Reduced number of topics from 21 to 20\n",
      "2023-03-28 02:17:28,636 - BERTopic - Reduced number of topics from 20 to 19\n",
      "2023-03-28 02:17:42,089 - BERTopic - Reduced number of topics from 19 to 18\n",
      "2023-03-28 02:17:55,398 - BERTopic - Reduced number of topics from 18 to 17\n",
      "2023-03-28 02:18:09,142 - BERTopic - Reduced number of topics from 17 to 16\n"
     ]
    }
   ],
   "source": [
    "original_num_topic = len(topic_model.topic_labels_)\n",
    "model_results = {'Topics': [],\n",
    "                 'Coherence': []\n",
    "                }\n",
    "c_score = get_coherence_score(train, topic_model)\n",
    "model_results['Topics'].append(original_num_topic)\n",
    "model_results['Coherence'].append(c_score)\n",
    "for num_topic in range(original_num_topic-1,15 ,-1):\n",
    "    topic_model.reduce_topics(train.text, nr_topics=num_topic)\n",
    "    topics = topic_model.topics_\n",
    "    c_score = get_coherence_score(train, topic_model)\n",
    "    model_results['Topics'].append(num_topic)\n",
    "    model_results['Coherence'].append(c_score)"
   ]
  },
  {
   "cell_type": "code",
   "execution_count": 37,
   "metadata": {},
   "outputs": [],
   "source": [
    "class BERTopic_model(BaseModel):\n",
    "    \"\"\"\n",
    "    BERTOpic model for topic modelling task\n",
    "    \"\"\"\n",
    "    def __init__(self, embedding_model = None, clustering_model = None, vectorizer_model=None, \n",
    "                 ctfidf_model=None, dim_reduction_model=None, representation_model=None,\n",
    "                 min_topic_size = 10):\n",
    "        self.topic_model = None\n",
    "        self.embedding_model = embedding_model\n",
    "        self.clustering_model = clustering_model\n",
    "        self.vectorizer_model = vectorizer_model\n",
    "        self.ctfidf_model = ctfidf_model\n",
    "        self.dim_reduction_model = dim_reduction_model\n",
    "        self.representation_model =representation_model\n",
    "        self.min_topic_size = min_topic_size\n",
    "    \n",
    "    def train(self, dataset):\n",
    "        self.topic_model = BERTopic(embedding_model=self.embedding_model, ctfidf_model=self.ctfidf_model,\\\n",
    "                        vectorizer_model=self.vectorizer_model, \\\n",
    "                        min_topic_size= self.min_topic_size,\n",
    "                        representation_model=self.representation_model, \\\n",
    "                        umap_model = self.dim_reduction_model, \\\n",
    "                        hdbscan_model = self.clustering_model, \\\n",
    "                        nr_topics= 'auto',\n",
    "                        calculate_probabilities=False, verbose=True)\n",
    "        self.topic_model.fit_transform(dataset.text)\n",
    "\n",
    "    def evaluate(self,dataset):\n",
    "        \"\"\"\n",
    "        Evaluate performance of model using coherence_score. As it is a unsupervised method, we need to manually check if the topics make sense as well\n",
    "        \"\"\"\n",
    "        c_score = get_coherence_score(dataset, self.topic_model)\n",
    "        return c_score\n",
    "    \n",
    "    def predict(self, dataset):\n",
    "        return self.topic_model.transform(dataset.text)\n",
    "\n",
    "    def get_coherence_score(dataset, topic_model):\n",
    "        \"\"\"\n",
    "        Evaluation metric for model\n",
    "        \"\"\"\n",
    "        documents = pd.DataFrame({\"Document\": dataset.text,\n",
    "                                \"ID\": range(len(dataset.text)),\n",
    "                                \"Topic\": topic_model.topics_})\n",
    "        documents_per_topic = documents.groupby(['Topic'], as_index=False).agg({'Document': ' '.join})\n",
    "        cleaned_docs = topic_model._preprocess_text(documents_per_topic.Document.values)\n",
    "\n",
    "        # Extract vectorizer and analyzer from BERTopic\n",
    "        vectorizer = topic_model.vectorizer_model\n",
    "        analyzer = vectorizer.build_analyzer()\n",
    "\n",
    "        # Extract features for Topic Coherence evaluation\n",
    "        tokens = [analyzer(doc) for doc in cleaned_docs]\n",
    "        dictionary = corpora.Dictionary(tokens)\n",
    "        corpus = [dictionary.doc2bow(token) for token in tokens]\n",
    "        topic_words = [[words for words, _ in topic_model.get_topic(topic)] \n",
    "                    for topic in range(len(set(topic_model.topics_))-1)]\n",
    "\n",
    "        # Evaluate\n",
    "        cm = CoherenceModel(topics=topic_words, \n",
    "                                        texts=tokens, \n",
    "                                        corpus=corpus,\n",
    "                                        dictionary=dictionary, \n",
    "                                        coherence='c_npmi', #'u_mass', 'c_v', 'c_uci', 'c_npmi'\n",
    "                                        topn=5)\n",
    "        return cm.get_coherence()"
   ]
  },
  {
   "cell_type": "code",
   "execution_count": 30,
   "metadata": {},
   "outputs": [
    {
     "data": {
      "application/vnd.jupyter.widget-view+json": {
       "model_id": "8d336ee2cfda4b998ca8b972cae479ea",
       "version_major": 2,
       "version_minor": 0
      },
      "text/plain": [
       "Batches:   0%|          | 0/137 [00:00<?, ?it/s]"
      ]
     },
     "metadata": {},
     "output_type": "display_data"
    },
    {
     "name": "stderr",
     "output_type": "stream",
     "text": [
      "2023-03-28 17:07:28,169 - BERTopic - Transformed documents to Embeddings\n",
      "2023-03-28 17:07:33,147 - BERTopic - Reduced dimensionality\n",
      "2023-03-28 17:07:33,350 - BERTopic - Clustered reduced embeddings\n",
      "2023-03-28 17:07:41,777 - BERTopic - Reduced number of topics from 20 to 20\n"
     ]
    }
   ],
   "source": [
    "ctfidf_params = {\"bm25_weighting\": True, \"reduce_frequent_words\": True}\n",
    "vectorizer_params = {'min_df':5, 'max_df':1.0, \"ngram_range\": (1,2)}\n",
    "embedding_model = \"sentence-transformers/all-MiniLM-L12-v2\" #should set up a few other models to try\n",
    "ctfidf_model = ClassTfidfTransformer(bm25_weighting= ctfidf_params[\"bm25_weighting\"], reduce_frequent_words= ctfidf_params[\"reduce_frequent_words\"])\n",
    "vectorizer_model = CountVectorizer(stop_words=train.stop_words_list, min_df = vectorizer_params['min_df'], max_df = vectorizer_params['min_df'],\\\n",
    "                                   ngram_range=vectorizer_params['ngram_range'])\n",
    "\n",
    "# umap_model = UMAP(n_neighbors=15, n_components=10, metric='cosine', low_memory=False) #PCA or truncated SVD\n",
    "# hdbscan_model = HDBSCAN(min_cluster_size=10, metric='euclidean', prediction_data=True) #k-mean, birch\n",
    "representation_model = MaximalMarginalRelevance(diversity=0.5) #0 least diverse and 1 most diverse\n",
    "min_topic_size = 50\n",
    "model = BERTopic_model(embedding_model = embedding_model, clustering_model = None, vectorizer_model=vectorizer_model, \n",
    "                 ctfidf_model=ctfidf_model, dim_reduction_model=None, representation_model=representation_model,\n",
    "                 min_topic_size = min_topic_size)\n",
    "model.train(train)"
   ]
  },
  {
   "cell_type": "code",
   "execution_count": 36,
   "metadata": {},
   "outputs": [
    {
     "data": {
      "text/plain": [
       "-0.372271262664038"
      ]
     },
     "execution_count": 36,
     "metadata": {},
     "output_type": "execute_result"
    }
   ],
   "source": [
    "get_coherence_score(train, model.topic_model)"
   ]
  },
  {
   "cell_type": "code",
   "execution_count": 23,
   "metadata": {},
   "outputs": [],
   "source": [
    "topic_labels = topic_model.generate_topic_labels(nr_words=3,\n",
    "                                                 topic_prefix=False,\n",
    "                                                 word_length=10,\n",
    "                                                 separator=\", \")\n",
    "topic_model.set_topic_labels(topic_labels)\n",
    "# topic_model.set_topic_labels({1: \"Space Travel\", 7: \"Religion\"}) #manual"
   ]
  },
  {
   "cell_type": "code",
   "execution_count": 33,
   "metadata": {},
   "outputs": [
    {
     "data": {
      "application/vnd.plotly.v1+json": {
       "config": {
        "plotlyServerURL": "https://plot.ly"
       },
       "data": [
        {
         "customdata": [
          [
           0,
           "month old | 95 | gas | dried fruit | coupon",
           644
          ],
          [
           1,
           "drink coffee | acidity | green mountain | grind | creamer",
           274
          ],
          [
           2,
           "rose | steep | cup tea | hot cold | sip",
           267
          ],
          [
           3,
           "dogs | newman | food products | bank | peas",
           260
          ],
          [
           4,
           "carbonated | orange juice | 140 calories | tang | fewer",
           193
          ],
          [
           5,
           "grass | tasting product | carrots | taste smooth | thought good",
           169
          ],
          [
           6,
           "salad dressing | sandwiches | spaghetti | olive oil | pace",
           134
          ],
          [
           7,
           "try ll | pink | seafood | overall recommend | shipments",
           120
          ],
          [
           8,
           "kettle | carbohydrate | perfect snack | munching | coupons",
           108
          ],
          [
           9,
           "granola bars | quaker | tasty snack | lose weight | non dairy",
           108
          ],
          [
           10,
           "muffin | betty | oven | substitutes | blueberries",
           107
          ],
          [
           11,
           "chocolate chip | nana | mini | 140 calories | raisins",
           105
          ],
          [
           12,
           "flax | snacking | granola bars | raisin | 12 ounces",
           93
          ],
          [
           13,
           "keurig | lids | green mountain | cider | member",
           92
          ],
          [
           14,
           "swiss | distinct | falls | non dairy | 24 pack",
           81
          ],
          [
           15,
           "thai | boiling | spaghetti | dehydrated | easy prepare",
           75
          ],
          [
           16,
           "almonds | cashews | bran | fats | pecans",
           72
          ],
          [
           17,
           "blood sugar | sugar taste | diabetes | couple years | french vanilla",
           58
          ],
          [
           18,
           "crackers | low cal | crust | cream cheese | small package",
           54
          ]
         ],
         "hovertemplate": "<b>Topic %{customdata[0]}</b><br>%{customdata[1]}<br>Size: %{customdata[2]}",
         "legendgroup": "",
         "marker": {
          "color": "#B0BEC5",
          "line": {
           "color": "DarkSlateGrey",
           "width": 2
          },
          "size": [
           644,
           274,
           267,
           260,
           193,
           169,
           134,
           120,
           108,
           108,
           107,
           105,
           93,
           92,
           81,
           75,
           72,
           58,
           54
          ],
          "sizemode": "area",
          "sizeref": 0.4025,
          "symbol": "circle"
         },
         "mode": "markers",
         "name": "",
         "orientation": "v",
         "showlegend": false,
         "type": "scatter",
         "x": [
          9.704549789428711,
          0.18610389530658722,
          -0.052271194756031036,
          9.824201583862305,
          11.200471878051758,
          10.46229076385498,
          13.398748397827148,
          10.058746337890625,
          12.43049430847168,
          11.421327590942383,
          10.094902038574219,
          10.6240816116333,
          11.576103210449219,
          0.3984404504299164,
          12.164783477783203,
          13.63724422454834,
          12.309943199157715,
          11.520506858825684,
          10.928452491760254
         ],
         "xaxis": "x",
         "y": [
          6.570103168487549,
          10.03096866607666,
          10.269668579101562,
          6.0070672035217285,
          8.190879821777344,
          6.395143032073975,
          6.717819690704346,
          6.795708656311035,
          7.335562705993652,
          7.21763801574707,
          5.631123065948486,
          6.846197605133057,
          6.432311058044434,
          9.81895637512207,
          5.499228477478027,
          6.498879909515381,
          6.578649044036865,
          8.454490661621094,
          5.894783973693848
         ],
         "yaxis": "y"
        }
       ],
       "layout": {
        "annotations": [
         {
          "showarrow": false,
          "text": "D1",
          "x": -0.060111873969435695,
          "y": 8.24223153591156,
          "yshift": 10
         },
         {
          "showarrow": false,
          "text": "D2",
          "x": 7.811359492130578,
          "xshift": 10,
          "y": 11.810118865966796
         }
        ],
        "height": 650,
        "hoverlabel": {
         "bgcolor": "white",
         "font": {
          "family": "Rockwell",
          "size": 16
         }
        },
        "legend": {
         "itemsizing": "constant",
         "tracegroupgap": 0
        },
        "margin": {
         "t": 60
        },
        "shapes": [
         {
          "line": {
           "color": "#CFD8DC",
           "width": 2
          },
          "type": "line",
          "x0": 7.811359492130578,
          "x1": 7.811359492130578,
          "y0": 4.674344205856324,
          "y1": 11.810118865966796
         },
         {
          "line": {
           "color": "#9E9E9E",
           "width": 2
          },
          "type": "line",
          "x0": -0.060111873969435695,
          "x1": 15.682830858230592,
          "y0": 8.24223153591156,
          "y1": 8.24223153591156
         }
        ],
        "sliders": [
         {
          "active": 0,
          "pad": {
           "t": 50
          },
          "steps": [
           {
            "args": [
             {
              "marker.color": [
               [
                "red",
                "#B0BEC5",
                "#B0BEC5",
                "#B0BEC5",
                "#B0BEC5",
                "#B0BEC5",
                "#B0BEC5",
                "#B0BEC5",
                "#B0BEC5",
                "#B0BEC5",
                "#B0BEC5",
                "#B0BEC5",
                "#B0BEC5",
                "#B0BEC5",
                "#B0BEC5",
                "#B0BEC5",
                "#B0BEC5",
                "#B0BEC5",
                "#B0BEC5"
               ]
              ]
             }
            ],
            "label": "Topic 0",
            "method": "update"
           },
           {
            "args": [
             {
              "marker.color": [
               [
                "#B0BEC5",
                "red",
                "#B0BEC5",
                "#B0BEC5",
                "#B0BEC5",
                "#B0BEC5",
                "#B0BEC5",
                "#B0BEC5",
                "#B0BEC5",
                "#B0BEC5",
                "#B0BEC5",
                "#B0BEC5",
                "#B0BEC5",
                "#B0BEC5",
                "#B0BEC5",
                "#B0BEC5",
                "#B0BEC5",
                "#B0BEC5",
                "#B0BEC5"
               ]
              ]
             }
            ],
            "label": "Topic 1",
            "method": "update"
           },
           {
            "args": [
             {
              "marker.color": [
               [
                "#B0BEC5",
                "#B0BEC5",
                "red",
                "#B0BEC5",
                "#B0BEC5",
                "#B0BEC5",
                "#B0BEC5",
                "#B0BEC5",
                "#B0BEC5",
                "#B0BEC5",
                "#B0BEC5",
                "#B0BEC5",
                "#B0BEC5",
                "#B0BEC5",
                "#B0BEC5",
                "#B0BEC5",
                "#B0BEC5",
                "#B0BEC5",
                "#B0BEC5"
               ]
              ]
             }
            ],
            "label": "Topic 2",
            "method": "update"
           },
           {
            "args": [
             {
              "marker.color": [
               [
                "#B0BEC5",
                "#B0BEC5",
                "#B0BEC5",
                "red",
                "#B0BEC5",
                "#B0BEC5",
                "#B0BEC5",
                "#B0BEC5",
                "#B0BEC5",
                "#B0BEC5",
                "#B0BEC5",
                "#B0BEC5",
                "#B0BEC5",
                "#B0BEC5",
                "#B0BEC5",
                "#B0BEC5",
                "#B0BEC5",
                "#B0BEC5",
                "#B0BEC5"
               ]
              ]
             }
            ],
            "label": "Topic 3",
            "method": "update"
           },
           {
            "args": [
             {
              "marker.color": [
               [
                "#B0BEC5",
                "#B0BEC5",
                "#B0BEC5",
                "#B0BEC5",
                "red",
                "#B0BEC5",
                "#B0BEC5",
                "#B0BEC5",
                "#B0BEC5",
                "#B0BEC5",
                "#B0BEC5",
                "#B0BEC5",
                "#B0BEC5",
                "#B0BEC5",
                "#B0BEC5",
                "#B0BEC5",
                "#B0BEC5",
                "#B0BEC5",
                "#B0BEC5"
               ]
              ]
             }
            ],
            "label": "Topic 4",
            "method": "update"
           },
           {
            "args": [
             {
              "marker.color": [
               [
                "#B0BEC5",
                "#B0BEC5",
                "#B0BEC5",
                "#B0BEC5",
                "#B0BEC5",
                "red",
                "#B0BEC5",
                "#B0BEC5",
                "#B0BEC5",
                "#B0BEC5",
                "#B0BEC5",
                "#B0BEC5",
                "#B0BEC5",
                "#B0BEC5",
                "#B0BEC5",
                "#B0BEC5",
                "#B0BEC5",
                "#B0BEC5",
                "#B0BEC5"
               ]
              ]
             }
            ],
            "label": "Topic 5",
            "method": "update"
           },
           {
            "args": [
             {
              "marker.color": [
               [
                "#B0BEC5",
                "#B0BEC5",
                "#B0BEC5",
                "#B0BEC5",
                "#B0BEC5",
                "#B0BEC5",
                "red",
                "#B0BEC5",
                "#B0BEC5",
                "#B0BEC5",
                "#B0BEC5",
                "#B0BEC5",
                "#B0BEC5",
                "#B0BEC5",
                "#B0BEC5",
                "#B0BEC5",
                "#B0BEC5",
                "#B0BEC5",
                "#B0BEC5"
               ]
              ]
             }
            ],
            "label": "Topic 6",
            "method": "update"
           },
           {
            "args": [
             {
              "marker.color": [
               [
                "#B0BEC5",
                "#B0BEC5",
                "#B0BEC5",
                "#B0BEC5",
                "#B0BEC5",
                "#B0BEC5",
                "#B0BEC5",
                "red",
                "#B0BEC5",
                "#B0BEC5",
                "#B0BEC5",
                "#B0BEC5",
                "#B0BEC5",
                "#B0BEC5",
                "#B0BEC5",
                "#B0BEC5",
                "#B0BEC5",
                "#B0BEC5",
                "#B0BEC5"
               ]
              ]
             }
            ],
            "label": "Topic 7",
            "method": "update"
           },
           {
            "args": [
             {
              "marker.color": [
               [
                "#B0BEC5",
                "#B0BEC5",
                "#B0BEC5",
                "#B0BEC5",
                "#B0BEC5",
                "#B0BEC5",
                "#B0BEC5",
                "#B0BEC5",
                "red",
                "#B0BEC5",
                "#B0BEC5",
                "#B0BEC5",
                "#B0BEC5",
                "#B0BEC5",
                "#B0BEC5",
                "#B0BEC5",
                "#B0BEC5",
                "#B0BEC5",
                "#B0BEC5"
               ]
              ]
             }
            ],
            "label": "Topic 8",
            "method": "update"
           },
           {
            "args": [
             {
              "marker.color": [
               [
                "#B0BEC5",
                "#B0BEC5",
                "#B0BEC5",
                "#B0BEC5",
                "#B0BEC5",
                "#B0BEC5",
                "#B0BEC5",
                "#B0BEC5",
                "#B0BEC5",
                "red",
                "#B0BEC5",
                "#B0BEC5",
                "#B0BEC5",
                "#B0BEC5",
                "#B0BEC5",
                "#B0BEC5",
                "#B0BEC5",
                "#B0BEC5",
                "#B0BEC5"
               ]
              ]
             }
            ],
            "label": "Topic 9",
            "method": "update"
           },
           {
            "args": [
             {
              "marker.color": [
               [
                "#B0BEC5",
                "#B0BEC5",
                "#B0BEC5",
                "#B0BEC5",
                "#B0BEC5",
                "#B0BEC5",
                "#B0BEC5",
                "#B0BEC5",
                "#B0BEC5",
                "#B0BEC5",
                "red",
                "#B0BEC5",
                "#B0BEC5",
                "#B0BEC5",
                "#B0BEC5",
                "#B0BEC5",
                "#B0BEC5",
                "#B0BEC5",
                "#B0BEC5"
               ]
              ]
             }
            ],
            "label": "Topic 10",
            "method": "update"
           },
           {
            "args": [
             {
              "marker.color": [
               [
                "#B0BEC5",
                "#B0BEC5",
                "#B0BEC5",
                "#B0BEC5",
                "#B0BEC5",
                "#B0BEC5",
                "#B0BEC5",
                "#B0BEC5",
                "#B0BEC5",
                "#B0BEC5",
                "#B0BEC5",
                "red",
                "#B0BEC5",
                "#B0BEC5",
                "#B0BEC5",
                "#B0BEC5",
                "#B0BEC5",
                "#B0BEC5",
                "#B0BEC5"
               ]
              ]
             }
            ],
            "label": "Topic 11",
            "method": "update"
           },
           {
            "args": [
             {
              "marker.color": [
               [
                "#B0BEC5",
                "#B0BEC5",
                "#B0BEC5",
                "#B0BEC5",
                "#B0BEC5",
                "#B0BEC5",
                "#B0BEC5",
                "#B0BEC5",
                "#B0BEC5",
                "#B0BEC5",
                "#B0BEC5",
                "#B0BEC5",
                "red",
                "#B0BEC5",
                "#B0BEC5",
                "#B0BEC5",
                "#B0BEC5",
                "#B0BEC5",
                "#B0BEC5"
               ]
              ]
             }
            ],
            "label": "Topic 12",
            "method": "update"
           },
           {
            "args": [
             {
              "marker.color": [
               [
                "#B0BEC5",
                "#B0BEC5",
                "#B0BEC5",
                "#B0BEC5",
                "#B0BEC5",
                "#B0BEC5",
                "#B0BEC5",
                "#B0BEC5",
                "#B0BEC5",
                "#B0BEC5",
                "#B0BEC5",
                "#B0BEC5",
                "#B0BEC5",
                "red",
                "#B0BEC5",
                "#B0BEC5",
                "#B0BEC5",
                "#B0BEC5",
                "#B0BEC5"
               ]
              ]
             }
            ],
            "label": "Topic 13",
            "method": "update"
           },
           {
            "args": [
             {
              "marker.color": [
               [
                "#B0BEC5",
                "#B0BEC5",
                "#B0BEC5",
                "#B0BEC5",
                "#B0BEC5",
                "#B0BEC5",
                "#B0BEC5",
                "#B0BEC5",
                "#B0BEC5",
                "#B0BEC5",
                "#B0BEC5",
                "#B0BEC5",
                "#B0BEC5",
                "#B0BEC5",
                "red",
                "#B0BEC5",
                "#B0BEC5",
                "#B0BEC5",
                "#B0BEC5"
               ]
              ]
             }
            ],
            "label": "Topic 14",
            "method": "update"
           },
           {
            "args": [
             {
              "marker.color": [
               [
                "#B0BEC5",
                "#B0BEC5",
                "#B0BEC5",
                "#B0BEC5",
                "#B0BEC5",
                "#B0BEC5",
                "#B0BEC5",
                "#B0BEC5",
                "#B0BEC5",
                "#B0BEC5",
                "#B0BEC5",
                "#B0BEC5",
                "#B0BEC5",
                "#B0BEC5",
                "#B0BEC5",
                "red",
                "#B0BEC5",
                "#B0BEC5",
                "#B0BEC5"
               ]
              ]
             }
            ],
            "label": "Topic 15",
            "method": "update"
           },
           {
            "args": [
             {
              "marker.color": [
               [
                "#B0BEC5",
                "#B0BEC5",
                "#B0BEC5",
                "#B0BEC5",
                "#B0BEC5",
                "#B0BEC5",
                "#B0BEC5",
                "#B0BEC5",
                "#B0BEC5",
                "#B0BEC5",
                "#B0BEC5",
                "#B0BEC5",
                "#B0BEC5",
                "#B0BEC5",
                "#B0BEC5",
                "#B0BEC5",
                "red",
                "#B0BEC5",
                "#B0BEC5"
               ]
              ]
             }
            ],
            "label": "Topic 16",
            "method": "update"
           },
           {
            "args": [
             {
              "marker.color": [
               [
                "#B0BEC5",
                "#B0BEC5",
                "#B0BEC5",
                "#B0BEC5",
                "#B0BEC5",
                "#B0BEC5",
                "#B0BEC5",
                "#B0BEC5",
                "#B0BEC5",
                "#B0BEC5",
                "#B0BEC5",
                "#B0BEC5",
                "#B0BEC5",
                "#B0BEC5",
                "#B0BEC5",
                "#B0BEC5",
                "#B0BEC5",
                "red",
                "#B0BEC5"
               ]
              ]
             }
            ],
            "label": "Topic 17",
            "method": "update"
           },
           {
            "args": [
             {
              "marker.color": [
               [
                "#B0BEC5",
                "#B0BEC5",
                "#B0BEC5",
                "#B0BEC5",
                "#B0BEC5",
                "#B0BEC5",
                "#B0BEC5",
                "#B0BEC5",
                "#B0BEC5",
                "#B0BEC5",
                "#B0BEC5",
                "#B0BEC5",
                "#B0BEC5",
                "#B0BEC5",
                "#B0BEC5",
                "#B0BEC5",
                "#B0BEC5",
                "#B0BEC5",
                "red"
               ]
              ]
             }
            ],
            "label": "Topic 18",
            "method": "update"
           }
          ]
         }
        ],
        "template": {
         "data": {
          "bar": [
           {
            "error_x": {
             "color": "rgb(36,36,36)"
            },
            "error_y": {
             "color": "rgb(36,36,36)"
            },
            "marker": {
             "line": {
              "color": "white",
              "width": 0.5
             },
             "pattern": {
              "fillmode": "overlay",
              "size": 10,
              "solidity": 0.2
             }
            },
            "type": "bar"
           }
          ],
          "barpolar": [
           {
            "marker": {
             "line": {
              "color": "white",
              "width": 0.5
             },
             "pattern": {
              "fillmode": "overlay",
              "size": 10,
              "solidity": 0.2
             }
            },
            "type": "barpolar"
           }
          ],
          "carpet": [
           {
            "aaxis": {
             "endlinecolor": "rgb(36,36,36)",
             "gridcolor": "white",
             "linecolor": "white",
             "minorgridcolor": "white",
             "startlinecolor": "rgb(36,36,36)"
            },
            "baxis": {
             "endlinecolor": "rgb(36,36,36)",
             "gridcolor": "white",
             "linecolor": "white",
             "minorgridcolor": "white",
             "startlinecolor": "rgb(36,36,36)"
            },
            "type": "carpet"
           }
          ],
          "choropleth": [
           {
            "colorbar": {
             "outlinewidth": 1,
             "tickcolor": "rgb(36,36,36)",
             "ticks": "outside"
            },
            "type": "choropleth"
           }
          ],
          "contour": [
           {
            "colorbar": {
             "outlinewidth": 1,
             "tickcolor": "rgb(36,36,36)",
             "ticks": "outside"
            },
            "colorscale": [
             [
              0,
              "#440154"
             ],
             [
              0.1111111111111111,
              "#482878"
             ],
             [
              0.2222222222222222,
              "#3e4989"
             ],
             [
              0.3333333333333333,
              "#31688e"
             ],
             [
              0.4444444444444444,
              "#26828e"
             ],
             [
              0.5555555555555556,
              "#1f9e89"
             ],
             [
              0.6666666666666666,
              "#35b779"
             ],
             [
              0.7777777777777778,
              "#6ece58"
             ],
             [
              0.8888888888888888,
              "#b5de2b"
             ],
             [
              1,
              "#fde725"
             ]
            ],
            "type": "contour"
           }
          ],
          "contourcarpet": [
           {
            "colorbar": {
             "outlinewidth": 1,
             "tickcolor": "rgb(36,36,36)",
             "ticks": "outside"
            },
            "type": "contourcarpet"
           }
          ],
          "heatmap": [
           {
            "colorbar": {
             "outlinewidth": 1,
             "tickcolor": "rgb(36,36,36)",
             "ticks": "outside"
            },
            "colorscale": [
             [
              0,
              "#440154"
             ],
             [
              0.1111111111111111,
              "#482878"
             ],
             [
              0.2222222222222222,
              "#3e4989"
             ],
             [
              0.3333333333333333,
              "#31688e"
             ],
             [
              0.4444444444444444,
              "#26828e"
             ],
             [
              0.5555555555555556,
              "#1f9e89"
             ],
             [
              0.6666666666666666,
              "#35b779"
             ],
             [
              0.7777777777777778,
              "#6ece58"
             ],
             [
              0.8888888888888888,
              "#b5de2b"
             ],
             [
              1,
              "#fde725"
             ]
            ],
            "type": "heatmap"
           }
          ],
          "heatmapgl": [
           {
            "colorbar": {
             "outlinewidth": 1,
             "tickcolor": "rgb(36,36,36)",
             "ticks": "outside"
            },
            "colorscale": [
             [
              0,
              "#440154"
             ],
             [
              0.1111111111111111,
              "#482878"
             ],
             [
              0.2222222222222222,
              "#3e4989"
             ],
             [
              0.3333333333333333,
              "#31688e"
             ],
             [
              0.4444444444444444,
              "#26828e"
             ],
             [
              0.5555555555555556,
              "#1f9e89"
             ],
             [
              0.6666666666666666,
              "#35b779"
             ],
             [
              0.7777777777777778,
              "#6ece58"
             ],
             [
              0.8888888888888888,
              "#b5de2b"
             ],
             [
              1,
              "#fde725"
             ]
            ],
            "type": "heatmapgl"
           }
          ],
          "histogram": [
           {
            "marker": {
             "line": {
              "color": "white",
              "width": 0.6
             }
            },
            "type": "histogram"
           }
          ],
          "histogram2d": [
           {
            "colorbar": {
             "outlinewidth": 1,
             "tickcolor": "rgb(36,36,36)",
             "ticks": "outside"
            },
            "colorscale": [
             [
              0,
              "#440154"
             ],
             [
              0.1111111111111111,
              "#482878"
             ],
             [
              0.2222222222222222,
              "#3e4989"
             ],
             [
              0.3333333333333333,
              "#31688e"
             ],
             [
              0.4444444444444444,
              "#26828e"
             ],
             [
              0.5555555555555556,
              "#1f9e89"
             ],
             [
              0.6666666666666666,
              "#35b779"
             ],
             [
              0.7777777777777778,
              "#6ece58"
             ],
             [
              0.8888888888888888,
              "#b5de2b"
             ],
             [
              1,
              "#fde725"
             ]
            ],
            "type": "histogram2d"
           }
          ],
          "histogram2dcontour": [
           {
            "colorbar": {
             "outlinewidth": 1,
             "tickcolor": "rgb(36,36,36)",
             "ticks": "outside"
            },
            "colorscale": [
             [
              0,
              "#440154"
             ],
             [
              0.1111111111111111,
              "#482878"
             ],
             [
              0.2222222222222222,
              "#3e4989"
             ],
             [
              0.3333333333333333,
              "#31688e"
             ],
             [
              0.4444444444444444,
              "#26828e"
             ],
             [
              0.5555555555555556,
              "#1f9e89"
             ],
             [
              0.6666666666666666,
              "#35b779"
             ],
             [
              0.7777777777777778,
              "#6ece58"
             ],
             [
              0.8888888888888888,
              "#b5de2b"
             ],
             [
              1,
              "#fde725"
             ]
            ],
            "type": "histogram2dcontour"
           }
          ],
          "mesh3d": [
           {
            "colorbar": {
             "outlinewidth": 1,
             "tickcolor": "rgb(36,36,36)",
             "ticks": "outside"
            },
            "type": "mesh3d"
           }
          ],
          "parcoords": [
           {
            "line": {
             "colorbar": {
              "outlinewidth": 1,
              "tickcolor": "rgb(36,36,36)",
              "ticks": "outside"
             }
            },
            "type": "parcoords"
           }
          ],
          "pie": [
           {
            "automargin": true,
            "type": "pie"
           }
          ],
          "scatter": [
           {
            "fillpattern": {
             "fillmode": "overlay",
             "size": 10,
             "solidity": 0.2
            },
            "type": "scatter"
           }
          ],
          "scatter3d": [
           {
            "line": {
             "colorbar": {
              "outlinewidth": 1,
              "tickcolor": "rgb(36,36,36)",
              "ticks": "outside"
             }
            },
            "marker": {
             "colorbar": {
              "outlinewidth": 1,
              "tickcolor": "rgb(36,36,36)",
              "ticks": "outside"
             }
            },
            "type": "scatter3d"
           }
          ],
          "scattercarpet": [
           {
            "marker": {
             "colorbar": {
              "outlinewidth": 1,
              "tickcolor": "rgb(36,36,36)",
              "ticks": "outside"
             }
            },
            "type": "scattercarpet"
           }
          ],
          "scattergeo": [
           {
            "marker": {
             "colorbar": {
              "outlinewidth": 1,
              "tickcolor": "rgb(36,36,36)",
              "ticks": "outside"
             }
            },
            "type": "scattergeo"
           }
          ],
          "scattergl": [
           {
            "marker": {
             "colorbar": {
              "outlinewidth": 1,
              "tickcolor": "rgb(36,36,36)",
              "ticks": "outside"
             }
            },
            "type": "scattergl"
           }
          ],
          "scattermapbox": [
           {
            "marker": {
             "colorbar": {
              "outlinewidth": 1,
              "tickcolor": "rgb(36,36,36)",
              "ticks": "outside"
             }
            },
            "type": "scattermapbox"
           }
          ],
          "scatterpolar": [
           {
            "marker": {
             "colorbar": {
              "outlinewidth": 1,
              "tickcolor": "rgb(36,36,36)",
              "ticks": "outside"
             }
            },
            "type": "scatterpolar"
           }
          ],
          "scatterpolargl": [
           {
            "marker": {
             "colorbar": {
              "outlinewidth": 1,
              "tickcolor": "rgb(36,36,36)",
              "ticks": "outside"
             }
            },
            "type": "scatterpolargl"
           }
          ],
          "scatterternary": [
           {
            "marker": {
             "colorbar": {
              "outlinewidth": 1,
              "tickcolor": "rgb(36,36,36)",
              "ticks": "outside"
             }
            },
            "type": "scatterternary"
           }
          ],
          "surface": [
           {
            "colorbar": {
             "outlinewidth": 1,
             "tickcolor": "rgb(36,36,36)",
             "ticks": "outside"
            },
            "colorscale": [
             [
              0,
              "#440154"
             ],
             [
              0.1111111111111111,
              "#482878"
             ],
             [
              0.2222222222222222,
              "#3e4989"
             ],
             [
              0.3333333333333333,
              "#31688e"
             ],
             [
              0.4444444444444444,
              "#26828e"
             ],
             [
              0.5555555555555556,
              "#1f9e89"
             ],
             [
              0.6666666666666666,
              "#35b779"
             ],
             [
              0.7777777777777778,
              "#6ece58"
             ],
             [
              0.8888888888888888,
              "#b5de2b"
             ],
             [
              1,
              "#fde725"
             ]
            ],
            "type": "surface"
           }
          ],
          "table": [
           {
            "cells": {
             "fill": {
              "color": "rgb(237,237,237)"
             },
             "line": {
              "color": "white"
             }
            },
            "header": {
             "fill": {
              "color": "rgb(217,217,217)"
             },
             "line": {
              "color": "white"
             }
            },
            "type": "table"
           }
          ]
         },
         "layout": {
          "annotationdefaults": {
           "arrowhead": 0,
           "arrowwidth": 1
          },
          "autotypenumbers": "strict",
          "coloraxis": {
           "colorbar": {
            "outlinewidth": 1,
            "tickcolor": "rgb(36,36,36)",
            "ticks": "outside"
           }
          },
          "colorscale": {
           "diverging": [
            [
             0,
             "rgb(103,0,31)"
            ],
            [
             0.1,
             "rgb(178,24,43)"
            ],
            [
             0.2,
             "rgb(214,96,77)"
            ],
            [
             0.3,
             "rgb(244,165,130)"
            ],
            [
             0.4,
             "rgb(253,219,199)"
            ],
            [
             0.5,
             "rgb(247,247,247)"
            ],
            [
             0.6,
             "rgb(209,229,240)"
            ],
            [
             0.7,
             "rgb(146,197,222)"
            ],
            [
             0.8,
             "rgb(67,147,195)"
            ],
            [
             0.9,
             "rgb(33,102,172)"
            ],
            [
             1,
             "rgb(5,48,97)"
            ]
           ],
           "sequential": [
            [
             0,
             "#440154"
            ],
            [
             0.1111111111111111,
             "#482878"
            ],
            [
             0.2222222222222222,
             "#3e4989"
            ],
            [
             0.3333333333333333,
             "#31688e"
            ],
            [
             0.4444444444444444,
             "#26828e"
            ],
            [
             0.5555555555555556,
             "#1f9e89"
            ],
            [
             0.6666666666666666,
             "#35b779"
            ],
            [
             0.7777777777777778,
             "#6ece58"
            ],
            [
             0.8888888888888888,
             "#b5de2b"
            ],
            [
             1,
             "#fde725"
            ]
           ],
           "sequentialminus": [
            [
             0,
             "#440154"
            ],
            [
             0.1111111111111111,
             "#482878"
            ],
            [
             0.2222222222222222,
             "#3e4989"
            ],
            [
             0.3333333333333333,
             "#31688e"
            ],
            [
             0.4444444444444444,
             "#26828e"
            ],
            [
             0.5555555555555556,
             "#1f9e89"
            ],
            [
             0.6666666666666666,
             "#35b779"
            ],
            [
             0.7777777777777778,
             "#6ece58"
            ],
            [
             0.8888888888888888,
             "#b5de2b"
            ],
            [
             1,
             "#fde725"
            ]
           ]
          },
          "colorway": [
           "#1F77B4",
           "#FF7F0E",
           "#2CA02C",
           "#D62728",
           "#9467BD",
           "#8C564B",
           "#E377C2",
           "#7F7F7F",
           "#BCBD22",
           "#17BECF"
          ],
          "font": {
           "color": "rgb(36,36,36)"
          },
          "geo": {
           "bgcolor": "white",
           "lakecolor": "white",
           "landcolor": "white",
           "showlakes": true,
           "showland": true,
           "subunitcolor": "white"
          },
          "hoverlabel": {
           "align": "left"
          },
          "hovermode": "closest",
          "mapbox": {
           "style": "light"
          },
          "paper_bgcolor": "white",
          "plot_bgcolor": "white",
          "polar": {
           "angularaxis": {
            "gridcolor": "rgb(232,232,232)",
            "linecolor": "rgb(36,36,36)",
            "showgrid": false,
            "showline": true,
            "ticks": "outside"
           },
           "bgcolor": "white",
           "radialaxis": {
            "gridcolor": "rgb(232,232,232)",
            "linecolor": "rgb(36,36,36)",
            "showgrid": false,
            "showline": true,
            "ticks": "outside"
           }
          },
          "scene": {
           "xaxis": {
            "backgroundcolor": "white",
            "gridcolor": "rgb(232,232,232)",
            "gridwidth": 2,
            "linecolor": "rgb(36,36,36)",
            "showbackground": true,
            "showgrid": false,
            "showline": true,
            "ticks": "outside",
            "zeroline": false,
            "zerolinecolor": "rgb(36,36,36)"
           },
           "yaxis": {
            "backgroundcolor": "white",
            "gridcolor": "rgb(232,232,232)",
            "gridwidth": 2,
            "linecolor": "rgb(36,36,36)",
            "showbackground": true,
            "showgrid": false,
            "showline": true,
            "ticks": "outside",
            "zeroline": false,
            "zerolinecolor": "rgb(36,36,36)"
           },
           "zaxis": {
            "backgroundcolor": "white",
            "gridcolor": "rgb(232,232,232)",
            "gridwidth": 2,
            "linecolor": "rgb(36,36,36)",
            "showbackground": true,
            "showgrid": false,
            "showline": true,
            "ticks": "outside",
            "zeroline": false,
            "zerolinecolor": "rgb(36,36,36)"
           }
          },
          "shapedefaults": {
           "fillcolor": "black",
           "line": {
            "width": 0
           },
           "opacity": 0.3
          },
          "ternary": {
           "aaxis": {
            "gridcolor": "rgb(232,232,232)",
            "linecolor": "rgb(36,36,36)",
            "showgrid": false,
            "showline": true,
            "ticks": "outside"
           },
           "baxis": {
            "gridcolor": "rgb(232,232,232)",
            "linecolor": "rgb(36,36,36)",
            "showgrid": false,
            "showline": true,
            "ticks": "outside"
           },
           "bgcolor": "white",
           "caxis": {
            "gridcolor": "rgb(232,232,232)",
            "linecolor": "rgb(36,36,36)",
            "showgrid": false,
            "showline": true,
            "ticks": "outside"
           }
          },
          "title": {
           "x": 0.05
          },
          "xaxis": {
           "automargin": true,
           "gridcolor": "rgb(232,232,232)",
           "linecolor": "rgb(36,36,36)",
           "showgrid": false,
           "showline": true,
           "ticks": "outside",
           "title": {
            "standoff": 15
           },
           "zeroline": false,
           "zerolinecolor": "rgb(36,36,36)"
          },
          "yaxis": {
           "automargin": true,
           "gridcolor": "rgb(232,232,232)",
           "linecolor": "rgb(36,36,36)",
           "showgrid": false,
           "showline": true,
           "ticks": "outside",
           "title": {
            "standoff": 15
           },
           "zeroline": false,
           "zerolinecolor": "rgb(36,36,36)"
          }
         }
        },
        "title": {
         "font": {
          "color": "Black",
          "size": 22
         },
         "text": "<b>Intertopic Distance Map</b>",
         "x": 0.5,
         "xanchor": "center",
         "y": 0.95,
         "yanchor": "top"
        },
        "width": 650,
        "xaxis": {
         "anchor": "y",
         "domain": [
          0,
          1
         ],
         "range": [
          -0.060111873969435695,
          15.682830858230592
         ],
         "title": {
          "text": ""
         },
         "visible": false
        },
        "yaxis": {
         "anchor": "x",
         "domain": [
          0,
          1
         ],
         "range": [
          4.674344205856324,
          11.810118865966796
         ],
         "title": {
          "text": ""
         },
         "visible": false
        }
       }
      }
     },
     "metadata": {},
     "output_type": "display_data"
    }
   ],
   "source": [
    "model.topic_model.visualize_topics(custom_labels=True)\n",
    "# topic_model.visualize_barchart(top_n_topics=16, custom_labels=True)"
   ]
  },
  {
   "cell_type": "code",
   "execution_count": 34,
   "metadata": {},
   "outputs": [
    {
     "data": {
      "text/html": [
       "<div>\n",
       "<style scoped>\n",
       "    .dataframe tbody tr th:only-of-type {\n",
       "        vertical-align: middle;\n",
       "    }\n",
       "\n",
       "    .dataframe tbody tr th {\n",
       "        vertical-align: top;\n",
       "    }\n",
       "\n",
       "    .dataframe thead th {\n",
       "        text-align: right;\n",
       "    }\n",
       "</style>\n",
       "<table border=\"1\" class=\"dataframe\">\n",
       "  <thead>\n",
       "    <tr style=\"text-align: right;\">\n",
       "      <th></th>\n",
       "      <th>Topic</th>\n",
       "      <th>Count</th>\n",
       "      <th>Name</th>\n",
       "    </tr>\n",
       "  </thead>\n",
       "  <tbody>\n",
       "    <tr>\n",
       "      <th>0</th>\n",
       "      <td>-1</td>\n",
       "      <td>1341</td>\n",
       "      <td>-1_maple syrup_paste_shakes_frosting</td>\n",
       "    </tr>\n",
       "    <tr>\n",
       "      <th>1</th>\n",
       "      <td>0</td>\n",
       "      <td>644</td>\n",
       "      <td>0_month old_95_gas_dried fruit</td>\n",
       "    </tr>\n",
       "    <tr>\n",
       "      <th>2</th>\n",
       "      <td>1</td>\n",
       "      <td>274</td>\n",
       "      <td>1_drink coffee_acidity_green mountain_grind</td>\n",
       "    </tr>\n",
       "    <tr>\n",
       "      <th>3</th>\n",
       "      <td>2</td>\n",
       "      <td>267</td>\n",
       "      <td>2_rose_steep_cup tea_hot cold</td>\n",
       "    </tr>\n",
       "    <tr>\n",
       "      <th>4</th>\n",
       "      <td>3</td>\n",
       "      <td>260</td>\n",
       "      <td>3_dogs_newman_food products_bank</td>\n",
       "    </tr>\n",
       "    <tr>\n",
       "      <th>5</th>\n",
       "      <td>4</td>\n",
       "      <td>193</td>\n",
       "      <td>4_carbonated_orange juice_140 calories_tang</td>\n",
       "    </tr>\n",
       "    <tr>\n",
       "      <th>6</th>\n",
       "      <td>5</td>\n",
       "      <td>169</td>\n",
       "      <td>5_grass_tasting product_carrots_taste smooth</td>\n",
       "    </tr>\n",
       "    <tr>\n",
       "      <th>7</th>\n",
       "      <td>6</td>\n",
       "      <td>134</td>\n",
       "      <td>6_salad dressing_sandwiches_spaghetti_olive oil</td>\n",
       "    </tr>\n",
       "    <tr>\n",
       "      <th>8</th>\n",
       "      <td>7</td>\n",
       "      <td>120</td>\n",
       "      <td>7_try ll_pink_seafood_overall recommend</td>\n",
       "    </tr>\n",
       "    <tr>\n",
       "      <th>9</th>\n",
       "      <td>8</td>\n",
       "      <td>108</td>\n",
       "      <td>8_kettle_carbohydrate_perfect snack_munching</td>\n",
       "    </tr>\n",
       "    <tr>\n",
       "      <th>10</th>\n",
       "      <td>9</td>\n",
       "      <td>108</td>\n",
       "      <td>9_granola bars_quaker_tasty snack_lose weight</td>\n",
       "    </tr>\n",
       "    <tr>\n",
       "      <th>11</th>\n",
       "      <td>10</td>\n",
       "      <td>107</td>\n",
       "      <td>10_muffin_betty_oven_substitutes</td>\n",
       "    </tr>\n",
       "    <tr>\n",
       "      <th>12</th>\n",
       "      <td>11</td>\n",
       "      <td>105</td>\n",
       "      <td>11_chocolate chip_nana_mini_140 calories</td>\n",
       "    </tr>\n",
       "    <tr>\n",
       "      <th>13</th>\n",
       "      <td>12</td>\n",
       "      <td>93</td>\n",
       "      <td>12_flax_snacking_granola bars_raisin</td>\n",
       "    </tr>\n",
       "    <tr>\n",
       "      <th>14</th>\n",
       "      <td>13</td>\n",
       "      <td>92</td>\n",
       "      <td>13_keurig_lids_green mountain_cider</td>\n",
       "    </tr>\n",
       "    <tr>\n",
       "      <th>15</th>\n",
       "      <td>14</td>\n",
       "      <td>81</td>\n",
       "      <td>14_swiss_distinct_falls_non dairy</td>\n",
       "    </tr>\n",
       "    <tr>\n",
       "      <th>16</th>\n",
       "      <td>15</td>\n",
       "      <td>75</td>\n",
       "      <td>15_thai_boiling_spaghetti_dehydrated</td>\n",
       "    </tr>\n",
       "    <tr>\n",
       "      <th>17</th>\n",
       "      <td>16</td>\n",
       "      <td>72</td>\n",
       "      <td>16_almonds_cashews_bran_fats</td>\n",
       "    </tr>\n",
       "    <tr>\n",
       "      <th>18</th>\n",
       "      <td>17</td>\n",
       "      <td>58</td>\n",
       "      <td>17_blood sugar_sugar taste_diabetes_couple years</td>\n",
       "    </tr>\n",
       "    <tr>\n",
       "      <th>19</th>\n",
       "      <td>18</td>\n",
       "      <td>54</td>\n",
       "      <td>18_crackers_low cal_crust_cream cheese</td>\n",
       "    </tr>\n",
       "  </tbody>\n",
       "</table>\n",
       "</div>"
      ],
      "text/plain": [
       "    Topic  Count                                              Name\n",
       "0      -1   1341              -1_maple syrup_paste_shakes_frosting\n",
       "1       0    644                    0_month old_95_gas_dried fruit\n",
       "2       1    274       1_drink coffee_acidity_green mountain_grind\n",
       "3       2    267                     2_rose_steep_cup tea_hot cold\n",
       "4       3    260                  3_dogs_newman_food products_bank\n",
       "5       4    193       4_carbonated_orange juice_140 calories_tang\n",
       "6       5    169      5_grass_tasting product_carrots_taste smooth\n",
       "7       6    134   6_salad dressing_sandwiches_spaghetti_olive oil\n",
       "8       7    120           7_try ll_pink_seafood_overall recommend\n",
       "9       8    108      8_kettle_carbohydrate_perfect snack_munching\n",
       "10      9    108     9_granola bars_quaker_tasty snack_lose weight\n",
       "11     10    107                  10_muffin_betty_oven_substitutes\n",
       "12     11    105          11_chocolate chip_nana_mini_140 calories\n",
       "13     12     93              12_flax_snacking_granola bars_raisin\n",
       "14     13     92               13_keurig_lids_green mountain_cider\n",
       "15     14     81                 14_swiss_distinct_falls_non dairy\n",
       "16     15     75              15_thai_boiling_spaghetti_dehydrated\n",
       "17     16     72                      16_almonds_cashews_bran_fats\n",
       "18     17     58  17_blood sugar_sugar taste_diabetes_couple years\n",
       "19     18     54            18_crackers_low cal_crust_cream cheese"
      ]
     },
     "execution_count": 34,
     "metadata": {},
     "output_type": "execute_result"
    }
   ],
   "source": [
    "freq = model.topic_model.get_topic_info()\n",
    "freq# Select the most frequent topic"
   ]
  },
  {
   "cell_type": "code",
   "execution_count": 2,
   "metadata": {},
   "outputs": [],
   "source": [
    "#First attempt at bertopics\n",
    "df = pd.read_csv('reviews.csv')\n",
    "train, test = train_test_split(df, test_size = 0.2, random_state = 4263, stratify = df['Sentiment'])\n",
    "train.reset_index(inplace=True)\n",
    "train['Time'] = pd.to_datetime(df['Time'])\n",
    "train['Text'] = train['Text'].apply(lambda x: sub(\"<[^>]+>\", \"\", x).strip())"
   ]
  },
  {
   "attachments": {},
   "cell_type": "markdown",
   "metadata": {},
   "source": [
    "Pillars for bertopic\n",
    "Embedding, dimension reduction, clustering, tokenizer, word weighting scheme\\\n",
    "For embedding:\\\n",
    "Transformer\\\n",
    "Gensim\\\n",
    "USE\\\n",
    "spacy\\\n",
    "For dimension reduction:\\\n",
    "UMAP\\\n",
    "PCA\\\n",
    "For clustering:\\\n",
    "HDBSCAN\\\n",
    "K-means (you can choose the number of clusters, can be highly noisy)\\\n",
    "For tokenizer/word weighting\\\n",
    "Count vectorizer (can adjust ngram/stopwords/min df etc)"
   ]
  },
  {
   "cell_type": "code",
   "execution_count": 30,
   "metadata": {},
   "outputs": [
    {
     "name": "stderr",
     "output_type": "stream",
     "text": [
      "2023-03-20 12:24:21,000 - BERTopic - Reduced number of topics from 68 to 66\n",
      "2023-03-20 12:24:34,531 - BERTopic - Reduced number of topics from 66 to 65\n",
      "2023-03-20 12:24:48,330 - BERTopic - Reduced number of topics from 65 to 64\n",
      "2023-03-20 12:25:02,059 - BERTopic - Reduced number of topics from 64 to 63\n",
      "2023-03-20 12:25:15,831 - BERTopic - Reduced number of topics from 63 to 62\n",
      "2023-03-20 12:25:29,368 - BERTopic - Reduced number of topics from 62 to 61\n",
      "2023-03-20 12:25:42,791 - BERTopic - Reduced number of topics from 61 to 60\n",
      "2023-03-20 12:25:56,254 - BERTopic - Reduced number of topics from 60 to 59\n",
      "2023-03-20 12:26:09,827 - BERTopic - Reduced number of topics from 59 to 58\n",
      "2023-03-20 12:26:23,272 - BERTopic - Reduced number of topics from 58 to 57\n",
      "2023-03-20 12:26:37,291 - BERTopic - Reduced number of topics from 57 to 56\n",
      "2023-03-20 12:26:50,676 - BERTopic - Reduced number of topics from 56 to 55\n",
      "2023-03-20 12:27:03,843 - BERTopic - Reduced number of topics from 55 to 54\n",
      "2023-03-20 12:27:16,987 - BERTopic - Reduced number of topics from 54 to 53\n",
      "2023-03-20 12:27:30,100 - BERTopic - Reduced number of topics from 53 to 52\n",
      "2023-03-20 12:27:43,321 - BERTopic - Reduced number of topics from 52 to 51\n",
      "2023-03-20 12:27:56,298 - BERTopic - Reduced number of topics from 51 to 50\n",
      "2023-03-20 12:28:09,505 - BERTopic - Reduced number of topics from 50 to 49\n",
      "2023-03-20 12:28:22,961 - BERTopic - Reduced number of topics from 49 to 48\n",
      "2023-03-20 12:28:36,158 - BERTopic - Reduced number of topics from 48 to 47\n",
      "2023-03-20 12:28:49,148 - BERTopic - Reduced number of topics from 47 to 46\n",
      "2023-03-20 12:29:02,660 - BERTopic - Reduced number of topics from 46 to 45\n",
      "2023-03-20 12:29:15,520 - BERTopic - Reduced number of topics from 45 to 44\n",
      "2023-03-20 12:29:28,578 - BERTopic - Reduced number of topics from 44 to 43\n",
      "2023-03-20 12:29:41,421 - BERTopic - Reduced number of topics from 43 to 42\n",
      "2023-03-20 12:29:54,177 - BERTopic - Reduced number of topics from 42 to 41\n",
      "2023-03-20 12:30:07,157 - BERTopic - Reduced number of topics from 41 to 40\n",
      "2023-03-20 12:30:19,949 - BERTopic - Reduced number of topics from 40 to 39\n",
      "2023-03-20 12:30:32,967 - BERTopic - Reduced number of topics from 39 to 38\n",
      "2023-03-20 12:30:45,623 - BERTopic - Reduced number of topics from 38 to 37\n",
      "2023-03-20 12:30:58,107 - BERTopic - Reduced number of topics from 37 to 36\n",
      "2023-03-20 12:31:10,520 - BERTopic - Reduced number of topics from 36 to 35\n",
      "2023-03-20 12:31:23,017 - BERTopic - Reduced number of topics from 35 to 34\n",
      "2023-03-20 12:31:35,311 - BERTopic - Reduced number of topics from 34 to 33\n",
      "2023-03-20 12:31:47,691 - BERTopic - Reduced number of topics from 33 to 32\n",
      "2023-03-20 12:31:59,942 - BERTopic - Reduced number of topics from 32 to 31\n",
      "2023-03-20 12:32:12,184 - BERTopic - Reduced number of topics from 31 to 30\n",
      "2023-03-20 12:32:24,336 - BERTopic - Reduced number of topics from 30 to 29\n",
      "2023-03-20 12:32:36,464 - BERTopic - Reduced number of topics from 29 to 28\n",
      "2023-03-20 12:32:48,530 - BERTopic - Reduced number of topics from 28 to 27\n",
      "2023-03-20 12:33:00,684 - BERTopic - Reduced number of topics from 27 to 26\n",
      "2023-03-20 12:33:12,500 - BERTopic - Reduced number of topics from 26 to 25\n",
      "2023-03-20 12:33:24,450 - BERTopic - Reduced number of topics from 25 to 24\n",
      "2023-03-20 12:33:36,838 - BERTopic - Reduced number of topics from 24 to 23\n",
      "2023-03-20 12:33:48,749 - BERTopic - Reduced number of topics from 23 to 22\n",
      "2023-03-20 12:34:00,469 - BERTopic - Reduced number of topics from 22 to 21\n",
      "2023-03-20 12:34:12,077 - BERTopic - Reduced number of topics from 21 to 20\n",
      "2023-03-20 12:34:23,625 - BERTopic - Reduced number of topics from 20 to 19\n",
      "2023-03-20 12:34:35,052 - BERTopic - Reduced number of topics from 19 to 18\n",
      "2023-03-20 12:34:46,480 - BERTopic - Reduced number of topics from 18 to 17\n",
      "2023-03-20 12:34:57,679 - BERTopic - Reduced number of topics from 17 to 16\n"
     ]
    }
   ],
   "source": [
    "#Start with vector\n",
    "# Sentence transformer\n",
    "#What to do with outliers\n",
    "# umap_model = umap_model #dimension reduction model\n",
    "# hdbscan_model = hdbscan_model #clustering model\n",
    "ctfidf_model = ClassTfidfTransformer(bm25_weighting=True, reduce_frequent_words=True)\n",
    "vectorizer_model = CountVectorizer(stop_words=\"english\")\n",
    "topic_model = BERTopic(embedding_model=\"sentence-transformers/all-MiniLM-L12-v2\", ctfidf_model=ctfidf_model,\\\n",
    "                       vectorizer_model=vectorizer_model, calculate_probabilities=False, verbose=True)\n",
    "topics, probs = topic_model.fit_transform(train['Text'])\n",
    "original_num_topic = len(topic_model.topic_labels_)\n",
    "model_results = {'Topics': [],\n",
    "                 'Coherence': []\n",
    "                }\n",
    "c_score = get_coherence_score()\n",
    "model_results['Topics'].append(original_num_topic)\n",
    "model_results['Coherence'].append(c_score)\n",
    "for num_topic in range(original_num_topic-1,15 ,-1):\n",
    "    topic_model.reduce_topics(train['Text'], nr_topics=num_topic)\n",
    "    topics = topic_model.topics_\n",
    "    c_score = get_coherence_score()\n",
    "    model_results['Topics'].append(num_topic)\n",
    "    model_results['Coherence'].append(c_score)"
   ]
  },
  {
   "cell_type": "code",
   "execution_count": 43,
   "metadata": {},
   "outputs": [
    {
     "data": {
      "image/png": "[encoded data removed]",
      "text/plain": [
       "<Figure size 640x480 with 1 Axes>"
      ]
     },
     "metadata": {},
     "output_type": "display_data"
    }
   ],
   "source": [
    "plt.plot(model_results['Topics'], model_results['Coherence'])\n",
    "plt.axvline(30, color ='r', linestyle ='--', alpha = 0.5)\n",
    "plt.xlabel('Number of topics')\n",
    "plt.ylabel('Coherence score (npmi)')\n",
    "plt.show()"
   ]
  },
  {
   "cell_type": "code",
   "execution_count": null,
   "metadata": {},
   "outputs": [],
   "source": [
    "#OR distilbert-base-nli-stsb-mean-tokens\n",
    "topic_model = BERTopic(language=\"english\", calculate_probabilities=True, verbose=True)\n",
    "topics, probs = topic_model.fit_transform(df['Text'])\n",
    "\n",
    "# Fine-tune topic representations after training BERTopic\n",
    "vectorizer_model = CountVectorizer(stop_words=\"english\", ngram_range=(1, 3)) #see if need stop words removal\n",
    "topic_model.update_topics(docs, vectorizer_model=vectorizer_model)"
   ]
  },
  {
   "cell_type": "code",
   "execution_count": 32,
   "metadata": {},
   "outputs": [
    {
     "data": {
      "text/html": [
       "<div>\n",
       "<style scoped>\n",
       "    .dataframe tbody tr th:only-of-type {\n",
       "        vertical-align: middle;\n",
       "    }\n",
       "\n",
       "    .dataframe tbody tr th {\n",
       "        vertical-align: top;\n",
       "    }\n",
       "\n",
       "    .dataframe thead th {\n",
       "        text-align: right;\n",
       "    }\n",
       "</style>\n",
       "<table border=\"1\" class=\"dataframe\">\n",
       "  <thead>\n",
       "    <tr style=\"text-align: right;\">\n",
       "      <th></th>\n",
       "      <th>Topic</th>\n",
       "      <th>Count</th>\n",
       "      <th>Name</th>\n",
       "      <th>CustomName</th>\n",
       "    </tr>\n",
       "  </thead>\n",
       "  <tbody>\n",
       "    <tr>\n",
       "      <th>0</th>\n",
       "      <td>-1</td>\n",
       "      <td>1179</td>\n",
       "      <td>-1_oil_butter_milk_tried</td>\n",
       "      <td>oil, butter, milk</td>\n",
       "    </tr>\n",
       "    <tr>\n",
       "      <th>1</th>\n",
       "      <td>0</td>\n",
       "      <td>1531</td>\n",
       "      <td>0_price_buy_easy_amazon</td>\n",
       "      <td>price, buy, easy</td>\n",
       "    </tr>\n",
       "    <tr>\n",
       "      <th>2</th>\n",
       "      <td>1</td>\n",
       "      <td>304</td>\n",
       "      <td>1_sugar_natural_artificial_flavors</td>\n",
       "      <td>sugar, natural, artificial</td>\n",
       "    </tr>\n",
       "    <tr>\n",
       "      <th>3</th>\n",
       "      <td>2</td>\n",
       "      <td>294</td>\n",
       "      <td>2_coffee_cup_nice_flavor</td>\n",
       "      <td>coffee, cup, nice</td>\n",
       "    </tr>\n",
       "    <tr>\n",
       "      <th>4</th>\n",
       "      <td>3</td>\n",
       "      <td>280</td>\n",
       "      <td>3_honey_white_day_hot</td>\n",
       "      <td>honey, white, day</td>\n",
       "    </tr>\n",
       "    <tr>\n",
       "      <th>5</th>\n",
       "      <td>4</td>\n",
       "      <td>262</td>\n",
       "      <td>4_products_ingredients_treat_small</td>\n",
       "      <td>products, ingredient, treat</td>\n",
       "    </tr>\n",
       "    <tr>\n",
       "      <th>6</th>\n",
       "      <td>5</td>\n",
       "      <td>202</td>\n",
       "      <td>5_eating_sweet_healthy_carbs</td>\n",
       "      <td>eating, sweet, healthy</td>\n",
       "    </tr>\n",
       "    <tr>\n",
       "      <th>7</th>\n",
       "      <td>6</td>\n",
       "      <td>112</td>\n",
       "      <td>6_chocolate_ingredients_butter_texture</td>\n",
       "      <td>chocolate, ingredient, butter</td>\n",
       "    </tr>\n",
       "    <tr>\n",
       "      <th>8</th>\n",
       "      <td>7</td>\n",
       "      <td>109</td>\n",
       "      <td>7_bag_texture_calories_case</td>\n",
       "      <td>bag, texture, calories</td>\n",
       "    </tr>\n",
       "    <tr>\n",
       "      <th>9</th>\n",
       "      <td>8</td>\n",
       "      <td>82</td>\n",
       "      <td>8_chocolate_hot_milk_unfortunately</td>\n",
       "      <td>chocolate, hot, milk</td>\n",
       "    </tr>\n",
       "  </tbody>\n",
       "</table>\n",
       "</div>"
      ],
      "text/plain": [
       "   Topic  Count                                    Name  \\\n",
       "0     -1   1179                -1_oil_butter_milk_tried   \n",
       "1      0   1531                 0_price_buy_easy_amazon   \n",
       "2      1    304      1_sugar_natural_artificial_flavors   \n",
       "3      2    294                2_coffee_cup_nice_flavor   \n",
       "4      3    280                   3_honey_white_day_hot   \n",
       "5      4    262      4_products_ingredients_treat_small   \n",
       "6      5    202            5_eating_sweet_healthy_carbs   \n",
       "7      6    112  6_chocolate_ingredients_butter_texture   \n",
       "8      7    109             7_bag_texture_calories_case   \n",
       "9      8     82      8_chocolate_hot_milk_unfortunately   \n",
       "\n",
       "                      CustomName  \n",
       "0              oil, butter, milk  \n",
       "1               price, buy, easy  \n",
       "2     sugar, natural, artificial  \n",
       "3              coffee, cup, nice  \n",
       "4              honey, white, day  \n",
       "5    products, ingredient, treat  \n",
       "6         eating, sweet, healthy  \n",
       "7  chocolate, ingredient, butter  \n",
       "8         bag, texture, calories  \n",
       "9           chocolate, hot, milk  "
      ]
     },
     "execution_count": 32,
     "metadata": {},
     "output_type": "execute_result"
    }
   ],
   "source": [
    "freq = topic_model.get_topic_info()\n",
    "freq# Select the most frequent topic"
   ]
  },
  {
   "cell_type": "code",
   "execution_count": null,
   "metadata": {},
   "outputs": [],
   "source": [
    "# The variable probabilities that is returned from transform() or fit_transform() can be used to understand how confident BERTopic is that certain topics can be found in a document.\n",
    "#Doesnt seem to be working as expected atm, need to debug\n",
    "# topics, probs = topic_model.transform(df['Text'])\n",
    "# topic_model.visualize_distribution(probs, min_probability=0.2)"
   ]
  },
  {
   "cell_type": "code",
   "execution_count": 12,
   "metadata": {},
   "outputs": [
    {
     "data": {
      "application/vnd.plotly.v1+json": {
       "config": {
        "plotlyServerURL": "https://plot.ly"
       },
       "data": [
        {
         "hoverinfo": "text",
         "marker": {
          "color": "rgb(61,153,112)"
         },
         "mode": "lines",
         "type": "scatter",
         "x": [
          0,
          0.10179162439811291,
          0.10179162439811291,
          0
         ],
         "xaxis": "x",
         "y": [
          -15,
          -15,
          -25,
          -25
         ],
         "yaxis": "y"
        },
        {
         "hoverinfo": "text",
         "marker": {
          "color": "rgb(61,153,112)"
         },
         "mode": "lines",
         "type": "scatter",
         "x": [
          0.10179162439811291,
          0.11481465155374675,
          0.11481465155374675,
          0
         ],
         "xaxis": "x",
         "y": [
          -20,
          -20,
          -35,
          -35
         ],
         "yaxis": "y"
        },
        {
         "hoverinfo": "text",
         "marker": {
          "color": "rgb(61,153,112)"
         },
         "mode": "lines",
         "type": "scatter",
         "x": [
          0,
          0.10153380142733928,
          0.10153380142733928,
          0
         ],
         "xaxis": "x",
         "y": [
          -45,
          -45,
          -55,
          -55
         ],
         "yaxis": "y"
        },
        {
         "hoverinfo": "text",
         "marker": {
          "color": "rgb(61,153,112)"
         },
         "mode": "lines",
         "type": "scatter",
         "x": [
          0.10153380142733928,
          0.1402540722687949,
          0.1402540722687949,
          0
         ],
         "xaxis": "x",
         "y": [
          -50,
          -50,
          -65,
          -65
         ],
         "yaxis": "y"
        },
        {
         "hoverinfo": "text",
         "marker": {
          "color": "rgb(61,153,112)"
         },
         "mode": "lines",
         "type": "scatter",
         "x": [
          0.11481465155374675,
          0.15842045488324952,
          0.15842045488324952,
          0.1402540722687949
         ],
         "xaxis": "x",
         "y": [
          -27.5,
          -27.5,
          -57.5,
          -57.5
         ],
         "yaxis": "y"
        },
        {
         "hoverinfo": "text",
         "marker": {
          "color": "rgb(61,153,112)"
         },
         "mode": "lines",
         "type": "scatter",
         "x": [
          0,
          0.18427431556014637,
          0.18427431556014637,
          0
         ],
         "xaxis": "x",
         "y": [
          -75,
          -75,
          -85,
          -85
         ],
         "yaxis": "y"
        },
        {
         "hoverinfo": "text",
         "marker": {
          "color": "rgb(61,153,112)"
         },
         "mode": "lines",
         "type": "scatter",
         "x": [
          0.15842045488324952,
          0.19932796122951202,
          0.19932796122951202,
          0.18427431556014637
         ],
         "xaxis": "x",
         "y": [
          -42.5,
          -42.5,
          -80,
          -80
         ],
         "yaxis": "y"
        },
        {
         "hoverinfo": "text",
         "marker": {
          "color": "rgb(61,153,112)"
         },
         "mode": "lines",
         "type": "scatter",
         "x": [
          0,
          0.23268944794190702,
          0.23268944794190702,
          0.19932796122951202
         ],
         "xaxis": "x",
         "y": [
          -5,
          -5,
          -61.25,
          -61.25
         ],
         "yaxis": "y"
        }
       ],
       "layout": {
        "autosize": false,
        "height": 335,
        "hoverlabel": {
         "bgcolor": "white",
         "font": {
          "family": "Rockwell",
          "size": 16
         }
        },
        "hovermode": "closest",
        "plot_bgcolor": "#ECEFF1",
        "showlegend": false,
        "template": {
         "data": {
          "bar": [
           {
            "error_x": {
             "color": "#2a3f5f"
            },
            "error_y": {
             "color": "#2a3f5f"
            },
            "marker": {
             "line": {
              "color": "white",
              "width": 0.5
             },
             "pattern": {
              "fillmode": "overlay",
              "size": 10,
              "solidity": 0.2
             }
            },
            "type": "bar"
           }
          ],
          "barpolar": [
           {
            "marker": {
             "line": {
              "color": "white",
              "width": 0.5
             },
             "pattern": {
              "fillmode": "overlay",
              "size": 10,
              "solidity": 0.2
             }
            },
            "type": "barpolar"
           }
          ],
          "carpet": [
           {
            "aaxis": {
             "endlinecolor": "#2a3f5f",
             "gridcolor": "#C8D4E3",
             "linecolor": "#C8D4E3",
             "minorgridcolor": "#C8D4E3",
             "startlinecolor": "#2a3f5f"
            },
            "baxis": {
             "endlinecolor": "#2a3f5f",
             "gridcolor": "#C8D4E3",
             "linecolor": "#C8D4E3",
             "minorgridcolor": "#C8D4E3",
             "startlinecolor": "#2a3f5f"
            },
            "type": "carpet"
           }
          ],
          "choropleth": [
           {
            "colorbar": {
             "outlinewidth": 0,
             "ticks": ""
            },
            "type": "choropleth"
           }
          ],
          "contour": [
           {
            "colorbar": {
             "outlinewidth": 0,
             "ticks": ""
            },
            "colorscale": [
             [
              0,
              "#0d0887"
             ],
             [
              0.1111111111111111,
              "#46039f"
             ],
             [
              0.2222222222222222,
              "#7201a8"
             ],
             [
              0.3333333333333333,
              "#9c179e"
             ],
             [
              0.4444444444444444,
              "#bd3786"
             ],
             [
              0.5555555555555556,
              "#d8576b"
             ],
             [
              0.6666666666666666,
              "#ed7953"
             ],
             [
              0.7777777777777778,
              "#fb9f3a"
             ],
             [
              0.8888888888888888,
              "#fdca26"
             ],
             [
              1,
              "#f0f921"
             ]
            ],
            "type": "contour"
           }
          ],
          "contourcarpet": [
           {
            "colorbar": {
             "outlinewidth": 0,
             "ticks": ""
            },
            "type": "contourcarpet"
           }
          ],
          "heatmap": [
           {
            "colorbar": {
             "outlinewidth": 0,
             "ticks": ""
            },
            "colorscale": [
             [
              0,
              "#0d0887"
             ],
             [
              0.1111111111111111,
              "#46039f"
             ],
             [
              0.2222222222222222,
              "#7201a8"
             ],
             [
              0.3333333333333333,
              "#9c179e"
             ],
             [
              0.4444444444444444,
              "#bd3786"
             ],
             [
              0.5555555555555556,
              "#d8576b"
             ],
             [
              0.6666666666666666,
              "#ed7953"
             ],
             [
              0.7777777777777778,
              "#fb9f3a"
             ],
             [
              0.8888888888888888,
              "#fdca26"
             ],
             [
              1,
              "#f0f921"
             ]
            ],
            "type": "heatmap"
           }
          ],
          "heatmapgl": [
           {
            "colorbar": {
             "outlinewidth": 0,
             "ticks": ""
            },
            "colorscale": [
             [
              0,
              "#0d0887"
             ],
             [
              0.1111111111111111,
              "#46039f"
             ],
             [
              0.2222222222222222,
              "#7201a8"
             ],
             [
              0.3333333333333333,
              "#9c179e"
             ],
             [
              0.4444444444444444,
              "#bd3786"
             ],
             [
              0.5555555555555556,
              "#d8576b"
             ],
             [
              0.6666666666666666,
              "#ed7953"
             ],
             [
              0.7777777777777778,
              "#fb9f3a"
             ],
             [
              0.8888888888888888,
              "#fdca26"
             ],
             [
              1,
              "#f0f921"
             ]
            ],
            "type": "heatmapgl"
           }
          ],
          "histogram": [
           {
            "marker": {
             "pattern": {
              "fillmode": "overlay",
              "size": 10,
              "solidity": 0.2
             }
            },
            "type": "histogram"
           }
          ],
          "histogram2d": [
           {
            "colorbar": {
             "outlinewidth": 0,
             "ticks": ""
            },
            "colorscale": [
             [
              0,
              "#0d0887"
             ],
             [
              0.1111111111111111,
              "#46039f"
             ],
             [
              0.2222222222222222,
              "#7201a8"
             ],
             [
              0.3333333333333333,
              "#9c179e"
             ],
             [
              0.4444444444444444,
              "#bd3786"
             ],
             [
              0.5555555555555556,
              "#d8576b"
             ],
             [
              0.6666666666666666,
              "#ed7953"
             ],
             [
              0.7777777777777778,
              "#fb9f3a"
             ],
             [
              0.8888888888888888,
              "#fdca26"
             ],
             [
              1,
              "#f0f921"
             ]
            ],
            "type": "histogram2d"
           }
          ],
          "histogram2dcontour": [
           {
            "colorbar": {
             "outlinewidth": 0,
             "ticks": ""
            },
            "colorscale": [
             [
              0,
              "#0d0887"
             ],
             [
              0.1111111111111111,
              "#46039f"
             ],
             [
              0.2222222222222222,
              "#7201a8"
             ],
             [
              0.3333333333333333,
              "#9c179e"
             ],
             [
              0.4444444444444444,
              "#bd3786"
             ],
             [
              0.5555555555555556,
              "#d8576b"
             ],
             [
              0.6666666666666666,
              "#ed7953"
             ],
             [
              0.7777777777777778,
              "#fb9f3a"
             ],
             [
              0.8888888888888888,
              "#fdca26"
             ],
             [
              1,
              "#f0f921"
             ]
            ],
            "type": "histogram2dcontour"
           }
          ],
          "mesh3d": [
           {
            "colorbar": {
             "outlinewidth": 0,
             "ticks": ""
            },
            "type": "mesh3d"
           }
          ],
          "parcoords": [
           {
            "line": {
             "colorbar": {
              "outlinewidth": 0,
              "ticks": ""
             }
            },
            "type": "parcoords"
           }
          ],
          "pie": [
           {
            "automargin": true,
            "type": "pie"
           }
          ],
          "scatter": [
           {
            "fillpattern": {
             "fillmode": "overlay",
             "size": 10,
             "solidity": 0.2
            },
            "type": "scatter"
           }
          ],
          "scatter3d": [
           {
            "line": {
             "colorbar": {
              "outlinewidth": 0,
              "ticks": ""
             }
            },
            "marker": {
             "colorbar": {
              "outlinewidth": 0,
              "ticks": ""
             }
            },
            "type": "scatter3d"
           }
          ],
          "scattercarpet": [
           {
            "marker": {
             "colorbar": {
              "outlinewidth": 0,
              "ticks": ""
             }
            },
            "type": "scattercarpet"
           }
          ],
          "scattergeo": [
           {
            "marker": {
             "colorbar": {
              "outlinewidth": 0,
              "ticks": ""
             }
            },
            "type": "scattergeo"
           }
          ],
          "scattergl": [
           {
            "marker": {
             "colorbar": {
              "outlinewidth": 0,
              "ticks": ""
             }
            },
            "type": "scattergl"
           }
          ],
          "scattermapbox": [
           {
            "marker": {
             "colorbar": {
              "outlinewidth": 0,
              "ticks": ""
             }
            },
            "type": "scattermapbox"
           }
          ],
          "scatterpolar": [
           {
            "marker": {
             "colorbar": {
              "outlinewidth": 0,
              "ticks": ""
             }
            },
            "type": "scatterpolar"
           }
          ],
          "scatterpolargl": [
           {
            "marker": {
             "colorbar": {
              "outlinewidth": 0,
              "ticks": ""
             }
            },
            "type": "scatterpolargl"
           }
          ],
          "scatterternary": [
           {
            "marker": {
             "colorbar": {
              "outlinewidth": 0,
              "ticks": ""
             }
            },
            "type": "scatterternary"
           }
          ],
          "surface": [
           {
            "colorbar": {
             "outlinewidth": 0,
             "ticks": ""
            },
            "colorscale": [
             [
              0,
              "#0d0887"
             ],
             [
              0.1111111111111111,
              "#46039f"
             ],
             [
              0.2222222222222222,
              "#7201a8"
             ],
             [
              0.3333333333333333,
              "#9c179e"
             ],
             [
              0.4444444444444444,
              "#bd3786"
             ],
             [
              0.5555555555555556,
              "#d8576b"
             ],
             [
              0.6666666666666666,
              "#ed7953"
             ],
             [
              0.7777777777777778,
              "#fb9f3a"
             ],
             [
              0.8888888888888888,
              "#fdca26"
             ],
             [
              1,
              "#f0f921"
             ]
            ],
            "type": "surface"
           }
          ],
          "table": [
           {
            "cells": {
             "fill": {
              "color": "#EBF0F8"
             },
             "line": {
              "color": "white"
             }
            },
            "header": {
             "fill": {
              "color": "#C8D4E3"
             },
             "line": {
              "color": "white"
             }
            },
            "type": "table"
           }
          ]
         },
         "layout": {
          "annotationdefaults": {
           "arrowcolor": "#2a3f5f",
           "arrowhead": 0,
           "arrowwidth": 1
          },
          "autotypenumbers": "strict",
          "coloraxis": {
           "colorbar": {
            "outlinewidth": 0,
            "ticks": ""
           }
          },
          "colorscale": {
           "diverging": [
            [
             0,
             "#8e0152"
            ],
            [
             0.1,
             "#c51b7d"
            ],
            [
             0.2,
             "#de77ae"
            ],
            [
             0.3,
             "#f1b6da"
            ],
            [
             0.4,
             "#fde0ef"
            ],
            [
             0.5,
             "#f7f7f7"
            ],
            [
             0.6,
             "#e6f5d0"
            ],
            [
             0.7,
             "#b8e186"
            ],
            [
             0.8,
             "#7fbc41"
            ],
            [
             0.9,
             "#4d9221"
            ],
            [
             1,
             "#276419"
            ]
           ],
           "sequential": [
            [
             0,
             "#0d0887"
            ],
            [
             0.1111111111111111,
             "#46039f"
            ],
            [
             0.2222222222222222,
             "#7201a8"
            ],
            [
             0.3333333333333333,
             "#9c179e"
            ],
            [
             0.4444444444444444,
             "#bd3786"
            ],
            [
             0.5555555555555556,
             "#d8576b"
            ],
            [
             0.6666666666666666,
             "#ed7953"
            ],
            [
             0.7777777777777778,
             "#fb9f3a"
            ],
            [
             0.8888888888888888,
             "#fdca26"
            ],
            [
             1,
             "#f0f921"
            ]
           ],
           "sequentialminus": [
            [
             0,
             "#0d0887"
            ],
            [
             0.1111111111111111,
             "#46039f"
            ],
            [
             0.2222222222222222,
             "#7201a8"
            ],
            [
             0.3333333333333333,
             "#9c179e"
            ],
            [
             0.4444444444444444,
             "#bd3786"
            ],
            [
             0.5555555555555556,
             "#d8576b"
            ],
            [
             0.6666666666666666,
             "#ed7953"
            ],
            [
             0.7777777777777778,
             "#fb9f3a"
            ],
            [
             0.8888888888888888,
             "#fdca26"
            ],
            [
             1,
             "#f0f921"
            ]
           ]
          },
          "colorway": [
           "#636efa",
           "#EF553B",
           "#00cc96",
           "#ab63fa",
           "#FFA15A",
           "#19d3f3",
           "#FF6692",
           "#B6E880",
           "#FF97FF",
           "#FECB52"
          ],
          "font": {
           "color": "#2a3f5f"
          },
          "geo": {
           "bgcolor": "white",
           "lakecolor": "white",
           "landcolor": "white",
           "showlakes": true,
           "showland": true,
           "subunitcolor": "#C8D4E3"
          },
          "hoverlabel": {
           "align": "left"
          },
          "hovermode": "closest",
          "mapbox": {
           "style": "light"
          },
          "paper_bgcolor": "white",
          "plot_bgcolor": "white",
          "polar": {
           "angularaxis": {
            "gridcolor": "#EBF0F8",
            "linecolor": "#EBF0F8",
            "ticks": ""
           },
           "bgcolor": "white",
           "radialaxis": {
            "gridcolor": "#EBF0F8",
            "linecolor": "#EBF0F8",
            "ticks": ""
           }
          },
          "scene": {
           "xaxis": {
            "backgroundcolor": "white",
            "gridcolor": "#DFE8F3",
            "gridwidth": 2,
            "linecolor": "#EBF0F8",
            "showbackground": true,
            "ticks": "",
            "zerolinecolor": "#EBF0F8"
           },
           "yaxis": {
            "backgroundcolor": "white",
            "gridcolor": "#DFE8F3",
            "gridwidth": 2,
            "linecolor": "#EBF0F8",
            "showbackground": true,
            "ticks": "",
            "zerolinecolor": "#EBF0F8"
           },
           "zaxis": {
            "backgroundcolor": "white",
            "gridcolor": "#DFE8F3",
            "gridwidth": 2,
            "linecolor": "#EBF0F8",
            "showbackground": true,
            "ticks": "",
            "zerolinecolor": "#EBF0F8"
           }
          },
          "shapedefaults": {
           "line": {
            "color": "#2a3f5f"
           }
          },
          "ternary": {
           "aaxis": {
            "gridcolor": "#DFE8F3",
            "linecolor": "#A2B1C6",
            "ticks": ""
           },
           "baxis": {
            "gridcolor": "#DFE8F3",
            "linecolor": "#A2B1C6",
            "ticks": ""
           },
           "bgcolor": "white",
           "caxis": {
            "gridcolor": "#DFE8F3",
            "linecolor": "#A2B1C6",
            "ticks": ""
           }
          },
          "title": {
           "x": 0.05
          },
          "xaxis": {
           "automargin": true,
           "gridcolor": "#EBF0F8",
           "linecolor": "#EBF0F8",
           "ticks": "",
           "title": {
            "standoff": 15
           },
           "zerolinecolor": "#EBF0F8",
           "zerolinewidth": 2
          },
          "yaxis": {
           "automargin": true,
           "gridcolor": "#EBF0F8",
           "linecolor": "#EBF0F8",
           "ticks": "",
           "title": {
            "standoff": 15
           },
           "zerolinecolor": "#EBF0F8",
           "zerolinewidth": 2
          }
         }
        },
        "title": {
         "font": {
          "color": "Black",
          "size": 22
         },
         "text": "<b>Hierarchical Clustering</b>",
         "x": 0.5,
         "xanchor": "center",
         "yanchor": "top"
        },
        "width": 1000,
        "xaxis": {
         "mirror": "allticks",
         "rangemode": "tozero",
         "showgrid": false,
         "showline": true,
         "showticklabels": true,
         "ticks": "outside",
         "type": "linear",
         "zeroline": false
        },
        "yaxis": {
         "mirror": "allticks",
         "range": [
          -90,
          0
         ],
         "rangemode": "tozero",
         "showgrid": false,
         "showline": true,
         "showticklabels": true,
         "tickmode": "array",
         "ticks": "outside",
         "ticktext": [
          "8_chocolate_hot_milk",
          "5_eating_sweet_healthy",
          "6_chocolate_ingredients_but...",
          "7_bag_texture_calories",
          "0_price_buy_easy",
          "3_honey_white_day",
          "1_sugar_natural_artificial",
          "2_coffee_cup_nice",
          "4_products_ingredients_treat"
         ],
         "tickvals": [
          -5,
          -15,
          -25,
          -35,
          -45,
          -55,
          -65,
          -75,
          -85
         ],
         "type": "linear",
         "zeroline": false
        }
       }
      }
     },
     "metadata": {},
     "output_type": "display_data"
    }
   ],
   "source": [
    "topic_model.visualize_hierarchy(top_n_topics=10)"
   ]
  },
  {
   "cell_type": "code",
   "execution_count": 13,
   "metadata": {},
   "outputs": [
    {
     "data": {
      "application/vnd.plotly.v1+json": {
       "config": {
        "plotlyServerURL": "https://plot.ly"
       },
       "data": [
        {
         "marker": {
          "color": "#D55E00"
         },
         "orientation": "h",
         "type": "bar",
         "x": [
          0.256774796738896,
          0.2616014585027504,
          0.265698603764078,
          0.2664515490997072,
          0.2727839046261867
         ],
         "xaxis": "x",
         "y": [
          "box  ",
          "amazon  ",
          "easy  ",
          "buy  ",
          "price  "
         ],
         "yaxis": "y"
        },
        {
         "marker": {
          "color": "#0072B2"
         },
         "orientation": "h",
         "type": "bar",
         "x": [
          0.3320040845620519,
          0.3409202564084796,
          0.34669191318943937,
          0.35648364934133975,
          0.43967630980473527
         ],
         "xaxis": "x2",
         "y": [
          "tastes  ",
          "flavors  ",
          "artificial  ",
          "natural  ",
          "sugar  "
         ],
         "yaxis": "y2"
        },
        {
         "marker": {
          "color": "#CC79A7"
         },
         "orientation": "h",
         "type": "bar",
         "x": [
          0.26978803648658634,
          0.2697945561197261,
          0.2760549209110135,
          0.4188601867541219,
          0.6873577556335969
         ],
         "xaxis": "x3",
         "y": [
          "tried  ",
          "flavor  ",
          "nice  ",
          "cup  ",
          "coffee  "
         ],
         "yaxis": "y3"
        },
        {
         "marker": {
          "color": "#E69F00"
         },
         "orientation": "h",
         "type": "bar",
         "x": [
          0.28813559132263544,
          0.2883295957039532,
          0.29420078525852217,
          0.3296422671010705,
          0.5426222363250546
         ],
         "xaxis": "x4",
         "y": [
          "tastes  ",
          "hot  ",
          "day  ",
          "white  ",
          "honey  "
         ],
         "yaxis": "y4"
        },
        {
         "marker": {
          "color": "#56B4E9"
         },
         "orientation": "h",
         "type": "bar",
         "x": [
          0.3341607118166765,
          0.3501729064823567,
          0.36527675690198474,
          0.37153020089093874,
          0.38536072088205786
         ],
         "xaxis": "x5",
         "y": [
          "quality  ",
          "small  ",
          "treat  ",
          "ingredients  ",
          "products  "
         ],
         "yaxis": "y5"
        },
        {
         "marker": {
          "color": "#009E73"
         },
         "orientation": "h",
         "type": "bar",
         "x": [
          0.3351399418726967,
          0.33971339503728254,
          0.37588661607712986,
          0.386193520508212,
          0.39753062227962593
         ],
         "xaxis": "x6",
         "y": [
          "ingredients  ",
          "carbs  ",
          "healthy  ",
          "sweet  ",
          "eating  "
         ],
         "yaxis": "y6"
        },
        {
         "marker": {
          "color": "#F0E442"
         },
         "orientation": "h",
         "type": "bar",
         "x": [
          0.3282489398471345,
          0.33039089512461955,
          0.3409903568776098,
          0.3420596059848749,
          0.4549120792867584
         ],
         "xaxis": "x7",
         "y": [
          "sweet  ",
          "texture  ",
          "butter  ",
          "ingredients  ",
          "chocolate  "
         ],
         "yaxis": "y7"
        },
        {
         "marker": {
          "color": "#D55E00"
         },
         "orientation": "h",
         "type": "bar",
         "x": [
          0.321406566928567,
          0.3261420642058729,
          0.33366246704789937,
          0.35788052247514995,
          0.4880037211585051
         ],
         "xaxis": "x8",
         "y": [
          "healthy  ",
          "case  ",
          "calories  ",
          "texture  ",
          "bag  "
         ],
         "yaxis": "y8"
        },
        {
         "marker": {
          "color": "#0072B2"
         },
         "orientation": "h",
         "type": "bar",
         "x": [
          0.30751794197554294,
          0.3144013687397172,
          0.5054333896648868,
          0.6271260882579741,
          0.8235565704547808
         ],
         "xaxis": "x9",
         "y": [
          "better  ",
          "unfortunately  ",
          "milk  ",
          "hot  ",
          "chocolate  "
         ],
         "yaxis": "y9"
        }
       ],
       "layout": {
        "annotations": [
         {
          "font": {
           "size": 16
          },
          "showarrow": false,
          "text": "Topic 0",
          "x": 0.0875,
          "xanchor": "center",
          "xref": "paper",
          "y": 1,
          "yanchor": "bottom",
          "yref": "paper"
         },
         {
          "font": {
           "size": 16
          },
          "showarrow": false,
          "text": "Topic 1",
          "x": 0.36250000000000004,
          "xanchor": "center",
          "xref": "paper",
          "y": 1,
          "yanchor": "bottom",
          "yref": "paper"
         },
         {
          "font": {
           "size": 16
          },
          "showarrow": false,
          "text": "Topic 2",
          "x": 0.6375000000000001,
          "xanchor": "center",
          "xref": "paper",
          "y": 1,
          "yanchor": "bottom",
          "yref": "paper"
         },
         {
          "font": {
           "size": 16
          },
          "showarrow": false,
          "text": "Topic 3",
          "x": 0.9125,
          "xanchor": "center",
          "xref": "paper",
          "y": 1,
          "yanchor": "bottom",
          "yref": "paper"
         },
         {
          "font": {
           "size": 16
          },
          "showarrow": false,
          "text": "Topic 4",
          "x": 0.0875,
          "xanchor": "center",
          "xref": "paper",
          "y": 0.6222222222222222,
          "yanchor": "bottom",
          "yref": "paper"
         },
         {
          "font": {
           "size": 16
          },
          "showarrow": false,
          "text": "Topic 5",
          "x": 0.36250000000000004,
          "xanchor": "center",
          "xref": "paper",
          "y": 0.6222222222222222,
          "yanchor": "bottom",
          "yref": "paper"
         },
         {
          "font": {
           "size": 16
          },
          "showarrow": false,
          "text": "Topic 6",
          "x": 0.6375000000000001,
          "xanchor": "center",
          "xref": "paper",
          "y": 0.6222222222222222,
          "yanchor": "bottom",
          "yref": "paper"
         },
         {
          "font": {
           "size": 16
          },
          "showarrow": false,
          "text": "Topic 7",
          "x": 0.9125,
          "xanchor": "center",
          "xref": "paper",
          "y": 0.6222222222222222,
          "yanchor": "bottom",
          "yref": "paper"
         },
         {
          "font": {
           "size": 16
          },
          "showarrow": false,
          "text": "Topic 8",
          "x": 0.0875,
          "xanchor": "center",
          "xref": "paper",
          "y": 0.24444444444444446,
          "yanchor": "bottom",
          "yref": "paper"
         }
        ],
        "height": 750,
        "hoverlabel": {
         "bgcolor": "white",
         "font": {
          "family": "Rockwell",
          "size": 16
         }
        },
        "showlegend": false,
        "template": {
         "data": {
          "bar": [
           {
            "error_x": {
             "color": "#2a3f5f"
            },
            "error_y": {
             "color": "#2a3f5f"
            },
            "marker": {
             "line": {
              "color": "white",
              "width": 0.5
             },
             "pattern": {
              "fillmode": "overlay",
              "size": 10,
              "solidity": 0.2
             }
            },
            "type": "bar"
           }
          ],
          "barpolar": [
           {
            "marker": {
             "line": {
              "color": "white",
              "width": 0.5
             },
             "pattern": {
              "fillmode": "overlay",
              "size": 10,
              "solidity": 0.2
             }
            },
            "type": "barpolar"
           }
          ],
          "carpet": [
           {
            "aaxis": {
             "endlinecolor": "#2a3f5f",
             "gridcolor": "#C8D4E3",
             "linecolor": "#C8D4E3",
             "minorgridcolor": "#C8D4E3",
             "startlinecolor": "#2a3f5f"
            },
            "baxis": {
             "endlinecolor": "#2a3f5f",
             "gridcolor": "#C8D4E3",
             "linecolor": "#C8D4E3",
             "minorgridcolor": "#C8D4E3",
             "startlinecolor": "#2a3f5f"
            },
            "type": "carpet"
           }
          ],
          "choropleth": [
           {
            "colorbar": {
             "outlinewidth": 0,
             "ticks": ""
            },
            "type": "choropleth"
           }
          ],
          "contour": [
           {
            "colorbar": {
             "outlinewidth": 0,
             "ticks": ""
            },
            "colorscale": [
             [
              0,
              "#0d0887"
             ],
             [
              0.1111111111111111,
              "#46039f"
             ],
             [
              0.2222222222222222,
              "#7201a8"
             ],
             [
              0.3333333333333333,
              "#9c179e"
             ],
             [
              0.4444444444444444,
              "#bd3786"
             ],
             [
              0.5555555555555556,
              "#d8576b"
             ],
             [
              0.6666666666666666,
              "#ed7953"
             ],
             [
              0.7777777777777778,
              "#fb9f3a"
             ],
             [
              0.8888888888888888,
              "#fdca26"
             ],
             [
              1,
              "#f0f921"
             ]
            ],
            "type": "contour"
           }
          ],
          "contourcarpet": [
           {
            "colorbar": {
             "outlinewidth": 0,
             "ticks": ""
            },
            "type": "contourcarpet"
           }
          ],
          "heatmap": [
           {
            "colorbar": {
             "outlinewidth": 0,
             "ticks": ""
            },
            "colorscale": [
             [
              0,
              "#0d0887"
             ],
             [
              0.1111111111111111,
              "#46039f"
             ],
             [
              0.2222222222222222,
              "#7201a8"
             ],
             [
              0.3333333333333333,
              "#9c179e"
             ],
             [
              0.4444444444444444,
              "#bd3786"
             ],
             [
              0.5555555555555556,
              "#d8576b"
             ],
             [
              0.6666666666666666,
              "#ed7953"
             ],
             [
              0.7777777777777778,
              "#fb9f3a"
             ],
             [
              0.8888888888888888,
              "#fdca26"
             ],
             [
              1,
              "#f0f921"
             ]
            ],
            "type": "heatmap"
           }
          ],
          "heatmapgl": [
           {
            "colorbar": {
             "outlinewidth": 0,
             "ticks": ""
            },
            "colorscale": [
             [
              0,
              "#0d0887"
             ],
             [
              0.1111111111111111,
              "#46039f"
             ],
             [
              0.2222222222222222,
              "#7201a8"
             ],
             [
              0.3333333333333333,
              "#9c179e"
             ],
             [
              0.4444444444444444,
              "#bd3786"
             ],
             [
              0.5555555555555556,
              "#d8576b"
             ],
             [
              0.6666666666666666,
              "#ed7953"
             ],
             [
              0.7777777777777778,
              "#fb9f3a"
             ],
             [
              0.8888888888888888,
              "#fdca26"
             ],
             [
              1,
              "#f0f921"
             ]
            ],
            "type": "heatmapgl"
           }
          ],
          "histogram": [
           {
            "marker": {
             "pattern": {
              "fillmode": "overlay",
              "size": 10,
              "solidity": 0.2
             }
            },
            "type": "histogram"
           }
          ],
          "histogram2d": [
           {
            "colorbar": {
             "outlinewidth": 0,
             "ticks": ""
            },
            "colorscale": [
             [
              0,
              "#0d0887"
             ],
             [
              0.1111111111111111,
              "#46039f"
             ],
             [
              0.2222222222222222,
              "#7201a8"
             ],
             [
              0.3333333333333333,
              "#9c179e"
             ],
             [
              0.4444444444444444,
              "#bd3786"
             ],
             [
              0.5555555555555556,
              "#d8576b"
             ],
             [
              0.6666666666666666,
              "#ed7953"
             ],
             [
              0.7777777777777778,
              "#fb9f3a"
             ],
             [
              0.8888888888888888,
              "#fdca26"
             ],
             [
              1,
              "#f0f921"
             ]
            ],
            "type": "histogram2d"
           }
          ],
          "histogram2dcontour": [
           {
            "colorbar": {
             "outlinewidth": 0,
             "ticks": ""
            },
            "colorscale": [
             [
              0,
              "#0d0887"
             ],
             [
              0.1111111111111111,
              "#46039f"
             ],
             [
              0.2222222222222222,
              "#7201a8"
             ],
             [
              0.3333333333333333,
              "#9c179e"
             ],
             [
              0.4444444444444444,
              "#bd3786"
             ],
             [
              0.5555555555555556,
              "#d8576b"
             ],
             [
              0.6666666666666666,
              "#ed7953"
             ],
             [
              0.7777777777777778,
              "#fb9f3a"
             ],
             [
              0.8888888888888888,
              "#fdca26"
             ],
             [
              1,
              "#f0f921"
             ]
            ],
            "type": "histogram2dcontour"
           }
          ],
          "mesh3d": [
           {
            "colorbar": {
             "outlinewidth": 0,
             "ticks": ""
            },
            "type": "mesh3d"
           }
          ],
          "parcoords": [
           {
            "line": {
             "colorbar": {
              "outlinewidth": 0,
              "ticks": ""
             }
            },
            "type": "parcoords"
           }
          ],
          "pie": [
           {
            "automargin": true,
            "type": "pie"
           }
          ],
          "scatter": [
           {
            "fillpattern": {
             "fillmode": "overlay",
             "size": 10,
             "solidity": 0.2
            },
            "type": "scatter"
           }
          ],
          "scatter3d": [
           {
            "line": {
             "colorbar": {
              "outlinewidth": 0,
              "ticks": ""
             }
            },
            "marker": {
             "colorbar": {
              "outlinewidth": 0,
              "ticks": ""
             }
            },
            "type": "scatter3d"
           }
          ],
          "scattercarpet": [
           {
            "marker": {
             "colorbar": {
              "outlinewidth": 0,
              "ticks": ""
             }
            },
            "type": "scattercarpet"
           }
          ],
          "scattergeo": [
           {
            "marker": {
             "colorbar": {
              "outlinewidth": 0,
              "ticks": ""
             }
            },
            "type": "scattergeo"
           }
          ],
          "scattergl": [
           {
            "marker": {
             "colorbar": {
              "outlinewidth": 0,
              "ticks": ""
             }
            },
            "type": "scattergl"
           }
          ],
          "scattermapbox": [
           {
            "marker": {
             "colorbar": {
              "outlinewidth": 0,
              "ticks": ""
             }
            },
            "type": "scattermapbox"
           }
          ],
          "scatterpolar": [
           {
            "marker": {
             "colorbar": {
              "outlinewidth": 0,
              "ticks": ""
             }
            },
            "type": "scatterpolar"
           }
          ],
          "scatterpolargl": [
           {
            "marker": {
             "colorbar": {
              "outlinewidth": 0,
              "ticks": ""
             }
            },
            "type": "scatterpolargl"
           }
          ],
          "scatterternary": [
           {
            "marker": {
             "colorbar": {
              "outlinewidth": 0,
              "ticks": ""
             }
            },
            "type": "scatterternary"
           }
          ],
          "surface": [
           {
            "colorbar": {
             "outlinewidth": 0,
             "ticks": ""
            },
            "colorscale": [
             [
              0,
              "#0d0887"
             ],
             [
              0.1111111111111111,
              "#46039f"
             ],
             [
              0.2222222222222222,
              "#7201a8"
             ],
             [
              0.3333333333333333,
              "#9c179e"
             ],
             [
              0.4444444444444444,
              "#bd3786"
             ],
             [
              0.5555555555555556,
              "#d8576b"
             ],
             [
              0.6666666666666666,
              "#ed7953"
             ],
             [
              0.7777777777777778,
              "#fb9f3a"
             ],
             [
              0.8888888888888888,
              "#fdca26"
             ],
             [
              1,
              "#f0f921"
             ]
            ],
            "type": "surface"
           }
          ],
          "table": [
           {
            "cells": {
             "fill": {
              "color": "#EBF0F8"
             },
             "line": {
              "color": "white"
             }
            },
            "header": {
             "fill": {
              "color": "#C8D4E3"
             },
             "line": {
              "color": "white"
             }
            },
            "type": "table"
           }
          ]
         },
         "layout": {
          "annotationdefaults": {
           "arrowcolor": "#2a3f5f",
           "arrowhead": 0,
           "arrowwidth": 1
          },
          "autotypenumbers": "strict",
          "coloraxis": {
           "colorbar": {
            "outlinewidth": 0,
            "ticks": ""
           }
          },
          "colorscale": {
           "diverging": [
            [
             0,
             "#8e0152"
            ],
            [
             0.1,
             "#c51b7d"
            ],
            [
             0.2,
             "#de77ae"
            ],
            [
             0.3,
             "#f1b6da"
            ],
            [
             0.4,
             "#fde0ef"
            ],
            [
             0.5,
             "#f7f7f7"
            ],
            [
             0.6,
             "#e6f5d0"
            ],
            [
             0.7,
             "#b8e186"
            ],
            [
             0.8,
             "#7fbc41"
            ],
            [
             0.9,
             "#4d9221"
            ],
            [
             1,
             "#276419"
            ]
           ],
           "sequential": [
            [
             0,
             "#0d0887"
            ],
            [
             0.1111111111111111,
             "#46039f"
            ],
            [
             0.2222222222222222,
             "#7201a8"
            ],
            [
             0.3333333333333333,
             "#9c179e"
            ],
            [
             0.4444444444444444,
             "#bd3786"
            ],
            [
             0.5555555555555556,
             "#d8576b"
            ],
            [
             0.6666666666666666,
             "#ed7953"
            ],
            [
             0.7777777777777778,
             "#fb9f3a"
            ],
            [
             0.8888888888888888,
             "#fdca26"
            ],
            [
             1,
             "#f0f921"
            ]
           ],
           "sequentialminus": [
            [
             0,
             "#0d0887"
            ],
            [
             0.1111111111111111,
             "#46039f"
            ],
            [
             0.2222222222222222,
             "#7201a8"
            ],
            [
             0.3333333333333333,
             "#9c179e"
            ],
            [
             0.4444444444444444,
             "#bd3786"
            ],
            [
             0.5555555555555556,
             "#d8576b"
            ],
            [
             0.6666666666666666,
             "#ed7953"
            ],
            [
             0.7777777777777778,
             "#fb9f3a"
            ],
            [
             0.8888888888888888,
             "#fdca26"
            ],
            [
             1,
             "#f0f921"
            ]
           ]
          },
          "colorway": [
           "#636efa",
           "#EF553B",
           "#00cc96",
           "#ab63fa",
           "#FFA15A",
           "#19d3f3",
           "#FF6692",
           "#B6E880",
           "#FF97FF",
           "#FECB52"
          ],
          "font": {
           "color": "#2a3f5f"
          },
          "geo": {
           "bgcolor": "white",
           "lakecolor": "white",
           "landcolor": "white",
           "showlakes": true,
           "showland": true,
           "subunitcolor": "#C8D4E3"
          },
          "hoverlabel": {
           "align": "left"
          },
          "hovermode": "closest",
          "mapbox": {
           "style": "light"
          },
          "paper_bgcolor": "white",
          "plot_bgcolor": "white",
          "polar": {
           "angularaxis": {
            "gridcolor": "#EBF0F8",
            "linecolor": "#EBF0F8",
            "ticks": ""
           },
           "bgcolor": "white",
           "radialaxis": {
            "gridcolor": "#EBF0F8",
            "linecolor": "#EBF0F8",
            "ticks": ""
           }
          },
          "scene": {
           "xaxis": {
            "backgroundcolor": "white",
            "gridcolor": "#DFE8F3",
            "gridwidth": 2,
            "linecolor": "#EBF0F8",
            "showbackground": true,
            "ticks": "",
            "zerolinecolor": "#EBF0F8"
           },
           "yaxis": {
            "backgroundcolor": "white",
            "gridcolor": "#DFE8F3",
            "gridwidth": 2,
            "linecolor": "#EBF0F8",
            "showbackground": true,
            "ticks": "",
            "zerolinecolor": "#EBF0F8"
           },
           "zaxis": {
            "backgroundcolor": "white",
            "gridcolor": "#DFE8F3",
            "gridwidth": 2,
            "linecolor": "#EBF0F8",
            "showbackground": true,
            "ticks": "",
            "zerolinecolor": "#EBF0F8"
           }
          },
          "shapedefaults": {
           "line": {
            "color": "#2a3f5f"
           }
          },
          "ternary": {
           "aaxis": {
            "gridcolor": "#DFE8F3",
            "linecolor": "#A2B1C6",
            "ticks": ""
           },
           "baxis": {
            "gridcolor": "#DFE8F3",
            "linecolor": "#A2B1C6",
            "ticks": ""
           },
           "bgcolor": "white",
           "caxis": {
            "gridcolor": "#DFE8F3",
            "linecolor": "#A2B1C6",
            "ticks": ""
           }
          },
          "title": {
           "x": 0.05
          },
          "xaxis": {
           "automargin": true,
           "gridcolor": "#EBF0F8",
           "linecolor": "#EBF0F8",
           "ticks": "",
           "title": {
            "standoff": 15
           },
           "zerolinecolor": "#EBF0F8",
           "zerolinewidth": 2
          },
          "yaxis": {
           "automargin": true,
           "gridcolor": "#EBF0F8",
           "linecolor": "#EBF0F8",
           "ticks": "",
           "title": {
            "standoff": 15
           },
           "zerolinecolor": "#EBF0F8",
           "zerolinewidth": 2
          }
         }
        },
        "title": {
         "font": {
          "color": "Black",
          "size": 22
         },
         "text": "Topic Word Scores",
         "x": 0.5,
         "xanchor": "center",
         "yanchor": "top"
        },
        "width": 1000,
        "xaxis": {
         "anchor": "y",
         "domain": [
          0,
          0.175
         ],
         "showgrid": true
        },
        "xaxis10": {
         "anchor": "y10",
         "domain": [
          0.275,
          0.45
         ],
         "showgrid": true
        },
        "xaxis11": {
         "anchor": "y11",
         "domain": [
          0.55,
          0.7250000000000001
         ],
         "showgrid": true
        },
        "xaxis12": {
         "anchor": "y12",
         "domain": [
          0.825,
          1
         ],
         "showgrid": true
        },
        "xaxis2": {
         "anchor": "y2",
         "domain": [
          0.275,
          0.45
         ],
         "showgrid": true
        },
        "xaxis3": {
         "anchor": "y3",
         "domain": [
          0.55,
          0.7250000000000001
         ],
         "showgrid": true
        },
        "xaxis4": {
         "anchor": "y4",
         "domain": [
          0.825,
          1
         ],
         "showgrid": true
        },
        "xaxis5": {
         "anchor": "y5",
         "domain": [
          0,
          0.175
         ],
         "showgrid": true
        },
        "xaxis6": {
         "anchor": "y6",
         "domain": [
          0.275,
          0.45
         ],
         "showgrid": true
        },
        "xaxis7": {
         "anchor": "y7",
         "domain": [
          0.55,
          0.7250000000000001
         ],
         "showgrid": true
        },
        "xaxis8": {
         "anchor": "y8",
         "domain": [
          0.825,
          1
         ],
         "showgrid": true
        },
        "xaxis9": {
         "anchor": "y9",
         "domain": [
          0,
          0.175
         ],
         "showgrid": true
        },
        "yaxis": {
         "anchor": "x",
         "domain": [
          0.7555555555555555,
          1
         ],
         "showgrid": true
        },
        "yaxis10": {
         "anchor": "x10",
         "domain": [
          0,
          0.24444444444444446
         ],
         "showgrid": true
        },
        "yaxis11": {
         "anchor": "x11",
         "domain": [
          0,
          0.24444444444444446
         ],
         "showgrid": true
        },
        "yaxis12": {
         "anchor": "x12",
         "domain": [
          0,
          0.24444444444444446
         ],
         "showgrid": true
        },
        "yaxis2": {
         "anchor": "x2",
         "domain": [
          0.7555555555555555,
          1
         ],
         "showgrid": true
        },
        "yaxis3": {
         "anchor": "x3",
         "domain": [
          0.7555555555555555,
          1
         ],
         "showgrid": true
        },
        "yaxis4": {
         "anchor": "x4",
         "domain": [
          0.7555555555555555,
          1
         ],
         "showgrid": true
        },
        "yaxis5": {
         "anchor": "x5",
         "domain": [
          0.37777777777777777,
          0.6222222222222222
         ],
         "showgrid": true
        },
        "yaxis6": {
         "anchor": "x6",
         "domain": [
          0.37777777777777777,
          0.6222222222222222
         ],
         "showgrid": true
        },
        "yaxis7": {
         "anchor": "x7",
         "domain": [
          0.37777777777777777,
          0.6222222222222222
         ],
         "showgrid": true
        },
        "yaxis8": {
         "anchor": "x8",
         "domain": [
          0.37777777777777777,
          0.6222222222222222
         ],
         "showgrid": true
        },
        "yaxis9": {
         "anchor": "x9",
         "domain": [
          0,
          0.24444444444444446
         ],
         "showgrid": true
        }
       }
      }
     },
     "metadata": {},
     "output_type": "display_data"
    }
   ],
   "source": [
    "topic_model.visualize_barchart(top_n_topics=16, custom_labels=True)"
   ]
  },
  {
   "cell_type": "code",
   "execution_count": 23,
   "metadata": {},
   "outputs": [
    {
     "data": {
      "text/plain": [
       "<bertopic._bertopic.BERTopic at 0x145130a6c80>"
      ]
     },
     "execution_count": 23,
     "metadata": {},
     "output_type": "execute_result"
    }
   ],
   "source": [
    "#possible things to do\n",
    "#merge similar topics manually\n",
    "topic_model.merge_topics(df['Text'], topics_to_merge=[1,4,5])\n",
    "#iteratively merge\n",
    "topic_model.reduce_topics(df['Text'], nr_topics=10)"
   ]
  },
  {
   "cell_type": "code",
   "execution_count": 48,
   "metadata": {},
   "outputs": [
    {
     "data": {
      "application/vnd.jupyter.widget-view+json": {
       "model_id": "e4070ef3fbc4483b83c59e1e2b165687",
       "version_major": 2,
       "version_minor": 0
      },
      "text/plain": [
       "Batches:   0%|          | 0/137 [00:00<?, ?it/s]"
      ]
     },
     "metadata": {},
     "output_type": "display_data"
    },
    {
     "name": "stderr",
     "output_type": "stream",
     "text": [
      "2023-03-20 13:08:46,916 - BERTopic - Transformed documents to Embeddings\n",
      "2023-03-20 13:08:52,104 - BERTopic - Reduced dimensionality\n",
      "2023-03-20 13:08:52,275 - BERTopic - Clustered reduced embeddings\n",
      "2023-03-20 13:08:56,274 - BERTopic - Reduced number of topics from 72 to 30\n"
     ]
    }
   ],
   "source": [
    "ctfidf_model = ClassTfidfTransformer(bm25_weighting=True, reduce_frequent_words=True)\n",
    "vectorizer_model = CountVectorizer(stop_words=\"english\")\n",
    "topic_model = BERTopic(embedding_model=\"sentence-transformers/all-MiniLM-L12-v2\", ctfidf_model=ctfidf_model,\\\n",
    "                       vectorizer_model=vectorizer_model, nr_topics=30, calculate_probabilities=False, verbose=True)\n",
    "topics, probs = topic_model.fit_transform(train['Text'])"
   ]
  },
  {
   "cell_type": "code",
   "execution_count": 29,
   "metadata": {},
   "outputs": [],
   "source": [
    "vectorizer_model = CountVectorizer(stop_words=\"english\", ngram_range=(1, 3), min_df=10) #see if need stop words removal\n",
    "topic_model.update_topics(train['Text'], vectorizer_model=vectorizer_model)"
   ]
  },
  {
   "cell_type": "code",
   "execution_count": 45,
   "metadata": {},
   "outputs": [
    {
     "name": "stderr",
     "output_type": "stream",
     "text": [
      "19it [00:00, 24.53it/s]\n"
     ]
    }
   ],
   "source": [
    "topics_over_time = topic_model.topics_over_time(docs=train['Text'], \n",
    "                                                timestamps=train['Time'], \n",
    "                                                global_tuning=True, \n",
    "                                                evolution_tuning=True, \n",
    "                                                nr_bins=20)"
   ]
  },
  {
   "cell_type": "code",
   "execution_count": 46,
   "metadata": {},
   "outputs": [
    {
     "data": {
      "application/vnd.plotly.v1+json": {
       "config": {
        "plotlyServerURL": "https://plot.ly"
       },
       "data": [
        {
         "hoverinfo": "text",
         "hovertext": [
          "<b>Topic 0</b><br>Words: breadsticks, careless, upright, subscribed, hummus",
          "<b>Topic 0</b><br>Words: prunes, roll, cardboard, spray, chips",
          "<b>Topic 0</b><br>Words: germ, mixed, starving, hungry, shell",
          "<b>Topic 0</b><br>Words: pod, open, basil, india, lightly",
          "<b>Topic 0</b><br>Words: chimichurri, protein, fajita, almond, sauce",
          "<b>Topic 0</b><br>Words: butter, barney, glaze, peanuts, peanut",
          "<b>Topic 0</b><br>Words: frooties, jaws, skimpy, cordon, accurate",
          "<b>Topic 0</b><br>Words: wheatgrass, bettermade, craving, vices, borderline",
          "<b>Topic 0</b><br>Words: seeds, bob, ingesting, pumpkins, pumpkin",
          "<b>Topic 0</b><br>Words: wing, cashews, seeds, peanut, nutrition",
          "<b>Topic 0</b><br>Words: chips, ghee, sauce, kettle, cinnamon",
          "<b>Topic 0</b><br>Words: noodles, soba, chips, matcha, awful",
          "<b>Topic 0</b><br>Words: chips, id, market, business, mix",
          "<b>Topic 0</b><br>Words: golean, cereal, cheese, rebound, peanut",
          "<b>Topic 0</b><br>Words: chips, eat, bars, crackers, protein",
          "<b>Topic 0</b><br>Words: gluten, protein, bars, chips, rice",
          "<b>Topic 0</b><br>Words: sauce, cereal, crackers, spicy, bars",
          "<b>Topic 0</b><br>Words: bars, snack, chips, bar, noodles",
          "<b>Topic 0</b><br>Words: chips, peanut, protein, snack, pasta"
         ],
         "marker": {
          "color": "#E69F00"
         },
         "mode": "lines",
         "name": "0_chips_bars_snack_sauce",
         "type": "scatter",
         "x": [
          "2017-07-10T09:18:43.200000",
          "2017-12-20T04:48:00",
          "2018-03-10T19:12:00",
          "2018-05-30T09:36:00",
          "2018-08-19T00:00:00",
          "2018-11-07T14:24:00",
          "2019-01-27T04:48:00",
          "2019-04-17T19:12:00",
          "2019-07-07T09:36:00",
          "2019-09-26T00:00:00",
          "2019-12-15T14:24:00",
          "2020-03-05T04:48:00",
          "2020-05-24T19:12:00",
          "2020-08-13T09:36:00",
          "2020-11-02T00:00:00",
          "2021-01-21T14:24:00",
          "2021-04-12T04:48:00",
          "2021-07-01T19:12:00",
          "2021-09-20T09:36:00"
         ],
         "y": [
          2,
          24,
          11,
          9,
          26,
          12,
          5,
          5,
          20,
          22,
          109,
          52,
          78,
          45,
          97,
          129,
          242,
          217,
          206
         ]
        },
        {
         "hoverinfo": "text",
         "hovertext": [
          "<b>Topic 1</b><br>Words: 6oz, sunkist, intial, 6pk, dare",
          "<b>Topic 1</b><br>Words: switch, burnt, cherry, coffee, airforce",
          "<b>Topic 1</b><br>Words: sorrento, strong, ginger, rooibos, stomach",
          "<b>Topic 1</b><br>Words: futuristic, bottle, enhancer, flavoring, spending",
          "<b>Topic 1</b><br>Words: coffee, cadbury, decaf, drink, sorta",
          "<b>Topic 1</b><br>Words: ese, pods, espresso, zico, tetra",
          "<b>Topic 1</b><br>Words: darjeeling, keemun, conjou, teas, davidson",
          "<b>Topic 1</b><br>Words: pee, mango, poo, poopy, leavs",
          "<b>Topic 1</b><br>Words: voss, orange, coffee, impress, water",
          "<b>Topic 1</b><br>Words: juice, orange, coffee, drink, drinks",
          "<b>Topic 1</b><br>Words: coffee, tea, drink, soda, juice",
          "<b>Topic 1</b><br>Words: milk, coffee, pb2, tea, coconut",
          "<b>Topic 1</b><br>Words: tea, coffee, drink, caffeine, cup",
          "<b>Topic 1</b><br>Words: tea, drink, coffee, cup, orange",
          "<b>Topic 1</b><br>Words: tea, soda, vitamin, soap, coffee",
          "<b>Topic 1</b><br>Words: coffee, tea, water, drink, cup",
          "<b>Topic 1</b><br>Words: tea, coffee, drink, cups, cup",
          "<b>Topic 1</b><br>Words: tea, coffee, drink, cup, strong",
          "<b>Topic 1</b><br>Words: coffee, tea, drink, juice, cups"
         ],
         "marker": {
          "color": "#56B4E9"
         },
         "mode": "lines",
         "name": "1_tea_coffee_drink_cup",
         "type": "scatter",
         "x": [
          "2017-07-10T09:18:43.200000",
          "2017-12-20T04:48:00",
          "2018-03-10T19:12:00",
          "2018-05-30T09:36:00",
          "2018-08-19T00:00:00",
          "2018-11-07T14:24:00",
          "2019-01-27T04:48:00",
          "2019-04-17T19:12:00",
          "2019-07-07T09:36:00",
          "2019-09-26T00:00:00",
          "2019-12-15T14:24:00",
          "2020-03-05T04:48:00",
          "2020-05-24T19:12:00",
          "2020-08-13T09:36:00",
          "2020-11-02T00:00:00",
          "2021-01-21T14:24:00",
          "2021-04-12T04:48:00",
          "2021-07-01T19:12:00",
          "2021-09-20T09:36:00"
         ],
         "y": [
          2,
          14,
          13,
          1,
          24,
          12,
          8,
          5,
          22,
          30,
          81,
          38,
          64,
          42,
          70,
          109,
          186,
          160,
          146
         ]
        },
        {
         "hoverinfo": "text",
         "hovertext": [
          "<b>Topic 2</b><br>Words: threatening, faan, toast, delish, ironically",
          "<b>Topic 2</b><br>Words: grabbing, habit, breakfast, door, trouble",
          "<b>Topic 2</b><br>Words: collection, bread, separately, cookies, mixes",
          "<b>Topic 2</b><br>Words: lunchtime, cookie, breakfast, icing, thaw",
          "<b>Topic 2</b><br>Words: pliability, newtonss, maintains, softness, blueberry",
          "<b>Topic 2</b><br>Words: lo, carb, pizza, leilalove, macaron",
          "<b>Topic 2</b><br>Words: clayton, cakes, fruit, cake, overloaded",
          "<b>Topic 2</b><br>Words: cookies, cookie, martha, fudge, pancakes",
          "<b>Topic 2</b><br>Words: cookies, tang, zupas, pathetic, memorable",
          "<b>Topic 2</b><br>Words: cookies, cookie, crispy, nana, shortbread",
          "<b>Topic 2</b><br>Words: frosting, marketed, cookies, cracked, needs",
          "<b>Topic 2</b><br>Words: fig, paleo, cookies, cookie, gf",
          "<b>Topic 2</b><br>Words: flour, biscuits, bisquick, mix, cake",
          "<b>Topic 2</b><br>Words: cookies, pancakes, cakes, cake, pancake",
          "<b>Topic 2</b><br>Words: cake, cookies, df, pancakes, mixes",
          "<b>Topic 2</b><br>Words: cookie, cookies, cake, oreos, frosting"
         ],
         "marker": {
          "color": "#009E73"
         },
         "mode": "lines",
         "name": "2_cookies_cookie_cake_pancakes",
         "type": "scatter",
         "x": [
          "2017-12-20T04:48:00",
          "2018-05-30T09:36:00",
          "2018-08-19T00:00:00",
          "2018-11-07T14:24:00",
          "2019-04-17T19:12:00",
          "2019-07-07T09:36:00",
          "2019-09-26T00:00:00",
          "2019-12-15T14:24:00",
          "2020-03-05T04:48:00",
          "2020-05-24T19:12:00",
          "2020-08-13T09:36:00",
          "2020-11-02T00:00:00",
          "2021-01-21T14:24:00",
          "2021-04-12T04:48:00",
          "2021-07-01T19:12:00",
          "2021-09-20T09:36:00"
         ],
         "y": [
          5,
          1,
          10,
          2,
          2,
          7,
          5,
          18,
          7,
          13,
          6,
          15,
          18,
          42,
          34,
          33
         ]
        },
        {
         "hoverinfo": "text",
         "hovertext": [
          "<b>Topic 3</b><br>Words: enticing, poultry, release, cat, breaking",
          "<b>Topic 3</b><br>Words: urine, prescription, younger, overfeed, science",
          "<b>Topic 3</b><br>Words: reacting, beefeaters, cooperative, csr, protection",
          "<b>Topic 3</b><br>Words: movements, outside, bowel, utilized, whine",
          "<b>Topic 3</b><br>Words: merchant, wellness, cats, fromm, merchants",
          "<b>Topic 3</b><br>Words: fussy, bank, reorder, 35, lab",
          "<b>Topic 3</b><br>Words: lesssmelly, throws, stomachs, gobbled, carbohydrates",
          "<b>Topic 3</b><br>Words: kidney, anorexia, shun, giblets, whiskas",
          "<b>Topic 3</b><br>Words: fda, origin, consumers, associated, jerky",
          "<b>Topic 3</b><br>Words: china, cats, contaminated, pet, felidae",
          "<b>Topic 3</b><br>Words: dogs, buffalo, duck, dog, treats",
          "<b>Topic 3</b><br>Words: science, food, percent, hungry, wellness",
          "<b>Topic 3</b><br>Words: greta, purina, dog, china, dogs",
          "<b>Topic 3</b><br>Words: human, discriminating, pincher, pounce, arthritis",
          "<b>Topic 3</b><br>Words: pet, food, rendered, duck, cats",
          "<b>Topic 3</b><br>Words: dog, treats, cat, felidae, grain",
          "<b>Topic 3</b><br>Words: cat, cats, dog, treats, food",
          "<b>Topic 3</b><br>Words: dog, treats, dogs, china, food",
          "<b>Topic 3</b><br>Words: dog, treats, china, dogs, cat"
         ],
         "marker": {
          "color": "#F0E442"
         },
         "mode": "lines",
         "name": "3_dog_cat_treats_dogs",
         "type": "scatter",
         "x": [
          "2017-07-10T09:18:43.200000",
          "2017-12-20T04:48:00",
          "2018-03-10T19:12:00",
          "2018-05-30T09:36:00",
          "2018-08-19T00:00:00",
          "2018-11-07T14:24:00",
          "2019-01-27T04:48:00",
          "2019-04-17T19:12:00",
          "2019-07-07T09:36:00",
          "2019-09-26T00:00:00",
          "2019-12-15T14:24:00",
          "2020-03-05T04:48:00",
          "2020-05-24T19:12:00",
          "2020-08-13T09:36:00",
          "2020-11-02T00:00:00",
          "2021-01-21T14:24:00",
          "2021-04-12T04:48:00",
          "2021-07-01T19:12:00",
          "2021-09-20T09:36:00"
         ],
         "y": [
          1,
          3,
          2,
          1,
          6,
          1,
          1,
          2,
          2,
          7,
          15,
          6,
          17,
          8,
          15,
          19,
          35,
          37,
          35
         ]
        },
        {
         "hoverinfo": "text",
         "hovertext": [
          "<b>Topic 4</b><br>Words: tablespoon, granulated, nectar, 60, 45",
          "<b>Topic 4</b><br>Words: maple, 16oz, drop, lemonade, grade",
          "<b>Topic 4</b><br>Words: pints, quarts, cherry, nervous, supermarkets",
          "<b>Topic 4</b><br>Words: coombs, maple, speedy, syrup, thanks",
          "<b>Topic 4</b><br>Words: sweetner, convinece, garage, bored, fake",
          "<b>Topic 4</b><br>Words: maple, syrup, kim, encased, hello",
          "<b>Topic 4</b><br>Words: miscellaneous, 500g, regulator, granulated, containing",
          "<b>Topic 4</b><br>Words: stevia, sugar, equal, quit, smart",
          "<b>Topic 4</b><br>Words: stevia, stevita, touched, supreme, recommendations",
          "<b>Topic 4</b><br>Words: kindergarten, sugar, houses, diffrence, teaches",
          "<b>Topic 4</b><br>Words: stumbling, skittles, bridal, aunt, torani",
          "<b>Topic 4</b><br>Words: syrup, candies, blueberry, locally, sugar",
          "<b>Topic 4</b><br>Words: grade, maple, syrup, stevia, quart",
          "<b>Topic 4</b><br>Words: maple, syrup, sugar, stevia, gingerbread",
          "<b>Topic 4</b><br>Words: stevia, truvia, dispenser, sugar, splenda",
          "<b>Topic 4</b><br>Words: stevia, sugar, candy, aspartame, truvia"
         ],
         "marker": {
          "color": "#D55E00"
         },
         "mode": "lines",
         "name": "4_stevia_sugar_syrup_maple",
         "type": "scatter",
         "x": [
          "2017-07-10T09:18:43.200000",
          "2017-12-20T04:48:00",
          "2018-03-10T19:12:00",
          "2018-08-19T00:00:00",
          "2019-04-17T19:12:00",
          "2019-07-07T09:36:00",
          "2019-09-26T00:00:00",
          "2019-12-15T14:24:00",
          "2020-03-05T04:48:00",
          "2020-05-24T19:12:00",
          "2020-08-13T09:36:00",
          "2020-11-02T00:00:00",
          "2021-01-21T14:24:00",
          "2021-04-12T04:48:00",
          "2021-07-01T19:12:00",
          "2021-09-20T09:36:00"
         ],
         "y": [
          1,
          3,
          2,
          1,
          1,
          5,
          1,
          8,
          1,
          7,
          3,
          13,
          10,
          33,
          25,
          17
         ]
        },
        {
         "hoverinfo": "text",
         "hovertext": [
          "<b>Topic 5</b><br>Words: ages, licorice, vines, pomegranate, chowing",
          "<b>Topic 5</b><br>Words: licorice, gustaf, laces, supplies, dissatisfied",
          "<b>Topic 5</b><br>Words: eaten, licorice, stale, fast, treats",
          "<b>Topic 5</b><br>Words: stretch, newman, licorice, course, products",
          "<b>Topic 5</b><br>Words: salt, sweat, body, retain, everybody",
          "<b>Topic 5</b><br>Words: rinse, prefer, fits, pomegranate, enjoyed",
          "<b>Topic 5</b><br>Words: licorice, salt, pomegranate, enhances, sea",
          "<b>Topic 5</b><br>Words: fiend, fiance, stir, correctly, cover",
          "<b>Topic 5</b><br>Words: salt, wildly, casserole, 510, requested",
          "<b>Topic 5</b><br>Words: licorice, black, salt, nuitionists, coarser",
          "<b>Topic 5</b><br>Words: salt, ouzo, oghi, vinegary, arent",
          "<b>Topic 5</b><br>Words: salt, sea, ketchup, table, concentration",
          "<b>Topic 5</b><br>Words: salt, licorice, table, sea, laces",
          "<b>Topic 5</b><br>Words: licorice, pomegranate, salt, table, pom",
          "<b>Topic 5</b><br>Words: salted, licorice, salt, acquired, holm"
         ],
         "marker": {
          "color": "#0072B2"
         },
         "mode": "lines",
         "name": "5_licorice_salt_sea_pomegranate",
         "type": "scatter",
         "x": [
          "2017-12-20T04:48:00",
          "2018-08-19T00:00:00",
          "2019-01-27T04:48:00",
          "2019-04-17T19:12:00",
          "2019-07-07T09:36:00",
          "2019-09-26T00:00:00",
          "2019-12-15T14:24:00",
          "2020-03-05T04:48:00",
          "2020-05-24T19:12:00",
          "2020-08-13T09:36:00",
          "2020-11-02T00:00:00",
          "2021-01-21T14:24:00",
          "2021-04-12T04:48:00",
          "2021-07-01T19:12:00",
          "2021-09-20T09:36:00"
         ],
         "y": [
          2,
          1,
          1,
          1,
          3,
          2,
          6,
          1,
          4,
          4,
          4,
          6,
          14,
          8,
          4
         ]
        },
        {
         "hoverinfo": "text",
         "hovertext": [
          "<b>Topic 6</b><br>Words: costumer, okey, claims, bpa, lids",
          "<b>Topic 6</b><br>Words: earth, appalled, tonight, poison, angry",
          "<b>Topic 6</b><br>Words: babies, eb, bpa, preferred, yellow",
          "<b>Topic 6</b><br>Words: fenugreek, breastfeeding, mo, bust, odors",
          "<b>Topic 6</b><br>Words: colic, lactose, baby, cries, intake",
          "<b>Topic 6</b><br>Words: baby, zucchini, stretchy, notified, pears",
          "<b>Topic 6</b><br>Words: stool, constipation, colon, baby, breast",
          "<b>Topic 6</b><br>Words: earth, jars, baby, contained, usda",
          "<b>Topic 6</b><br>Words: baby, bpa, jars, october, old",
          "<b>Topic 6</b><br>Words: baby, similac, bpa, earth, stage"
         ],
         "marker": {
          "color": "#CC79A7"
         },
         "mode": "lines",
         "name": "6_baby_earth_stool_jars",
         "type": "scatter",
         "x": [
          "2018-03-10T19:12:00",
          "2018-05-30T09:36:00",
          "2019-09-26T00:00:00",
          "2019-12-15T14:24:00",
          "2020-05-24T19:12:00",
          "2020-11-02T00:00:00",
          "2021-01-21T14:24:00",
          "2021-04-12T04:48:00",
          "2021-07-01T19:12:00",
          "2021-09-20T09:36:00"
         ],
         "y": [
          1,
          1,
          6,
          4,
          3,
          2,
          6,
          13,
          12,
          6
         ]
        },
        {
         "hoverinfo": "text",
         "hovertext": [
          "<b>Topic 7</b><br>Words: orders, kettle, batch, popcorn, continue",
          "<b>Topic 7</b><br>Words: corn, northeast, glory, winter, common",
          "<b>Topic 7</b><br>Words: poper, enthusiasts, poped, stirring, kernels",
          "<b>Topic 7</b><br>Words: popcorn, chicago, separated, palmer, massive",
          "<b>Topic 7</b><br>Words: popcorn, contents, pour, cut, sure",
          "<b>Topic 7</b><br>Words: reese, cheesy, cheese, changed, purchasing",
          "<b>Topic 7</b><br>Words: table, popcorn, popped, salt, smartpop",
          "<b>Topic 7</b><br>Words: popcorn, northern, theater, dump, microwave",
          "<b>Topic 7</b><br>Words: popcorn, theater, partner, poweringly, basement",
          "<b>Topic 7</b><br>Words: popcorn, movie, india, cob, tree",
          "<b>Topic 7</b><br>Words: popcorn, popper, movie, theater, kernels",
          "<b>Topic 7</b><br>Words: popcorn, shortenings, truth, redenbacher, crisco",
          "<b>Topic 7</b><br>Words: popcorn, hulls, kale, popper, pop"
         ],
         "marker": {
          "color": "#E69F00"
         },
         "mode": "lines",
         "name": "7_popcorn_theater_movie_popper",
         "type": "scatter",
         "x": [
          "2017-07-10T09:18:43.200000",
          "2017-12-20T04:48:00",
          "2018-03-10T19:12:00",
          "2018-08-19T00:00:00",
          "2018-11-07T14:24:00",
          "2019-12-15T14:24:00",
          "2020-03-05T04:48:00",
          "2020-05-24T19:12:00",
          "2020-11-02T00:00:00",
          "2021-01-21T14:24:00",
          "2021-04-12T04:48:00",
          "2021-07-01T19:12:00",
          "2021-09-20T09:36:00"
         ],
         "y": [
          1,
          1,
          1,
          4,
          1,
          1,
          3,
          3,
          8,
          5,
          11,
          3,
          8
         ]
        },
        {
         "hoverinfo": "text",
         "hovertext": [
          "<b>Topic 8</b><br>Words: children, beat, needs, special, need",
          "<b>Topic 8</b><br>Words: target, electronics, boat, concetrates, diapers",
          "<b>Topic 8</b><br>Words: mimsid7, superfresh, wegman, purchasesd, checking",
          "<b>Topic 8</b><br>Words: seven, packs, wary, 42, competitive",
          "<b>Topic 8</b><br>Words: woudl, walmart, cheaper, canister, double",
          "<b>Topic 8</b><br>Words: raising, 12pk, 131, 99buyer, 00",
          "<b>Topic 8</b><br>Words: rip, babies, 30, awesome, item",
          "<b>Topic 8</b><br>Words: shown, 95, prices, segment, entitled",
          "<b>Topic 8</b><br>Words: honeyville, weis, koolaid, dummy, 00",
          "<b>Topic 8</b><br>Words: marshmallows, 10, 95, 99, 00",
          "<b>Topic 8</b><br>Words: 00, mistake, locition, isworth, indianapolis",
          "<b>Topic 8</b><br>Words: pay, 00, publixrated, mistakeon, factoring"
         ],
         "marker": {
          "color": "#56B4E9"
         },
         "mode": "lines",
         "name": "8_00_50_99_pay",
         "type": "scatter",
         "x": [
          "2017-12-20T04:48:00",
          "2018-08-19T00:00:00",
          "2019-01-27T04:48:00",
          "2019-07-07T09:36:00",
          "2019-09-26T00:00:00",
          "2019-12-15T14:24:00",
          "2020-03-05T04:48:00",
          "2020-11-02T00:00:00",
          "2021-01-21T14:24:00",
          "2021-04-12T04:48:00",
          "2021-07-01T19:12:00",
          "2021-09-20T09:36:00"
         ],
         "y": [
          1,
          1,
          2,
          2,
          2,
          5,
          1,
          4,
          5,
          8,
          8,
          5
         ]
        },
        {
         "hoverinfo": "text",
         "hovertext": [
          "<b>Topic 9</b><br>Words: bela, siracha, grossed, sake, adore",
          "<b>Topic 9</b><br>Words: sardines, skinless, neutral, absence, mercury",
          "<b>Topic 9</b><br>Words: tuna, caviar, marky, charleston, maypurchase",
          "<b>Topic 9</b><br>Words: kippers, renewable, herring, omega, loving",
          "<b>Topic 9</b><br>Words: sardines, olives, cora, crown, skinless",
          "<b>Topic 9</b><br>Words: sardines, connoisseurs, fitting, confirm, tightly",
          "<b>Topic 9</b><br>Words: sardines, tuna, addiction, tomatosauce, thistin",
          "<b>Topic 9</b><br>Words: tuna, embasa, afganastan, fillet, daugter",
          "<b>Topic 9</b><br>Words: awwfuul, sardines, tuna, superior, satisfying",
          "<b>Topic 9</b><br>Words: tuna, sardines, commissary, filets, mercury"
         ],
         "marker": {
          "color": "#009E73"
         },
         "mode": "lines",
         "name": "9_sardines_tuna_skinless_mercury",
         "type": "scatter",
         "x": [
          "2017-12-20T04:48:00",
          "2018-08-19T00:00:00",
          "2019-12-15T14:24:00",
          "2020-03-05T04:48:00",
          "2020-05-24T19:12:00",
          "2020-11-02T00:00:00",
          "2021-01-21T14:24:00",
          "2021-04-12T04:48:00",
          "2021-07-01T19:12:00",
          "2021-09-20T09:36:00"
         ],
         "y": [
          1,
          1,
          4,
          1,
          3,
          2,
          3,
          3,
          2,
          5
         ]
        },
        {
         "hoverinfo": "text",
         "hovertext": [
          "<b>Topic 10</b><br>Words: curry, paste, tailor, madras, confidence",
          "<b>Topic 10</b><br>Words: curry, slush, videos, bearing, pork",
          "<b>Topic 10</b><br>Words: indian, cookbook, spices, coast, book",
          "<b>Topic 10</b><br>Words: tikka, masala, dish, curry, chicken",
          "<b>Topic 10</b><br>Words: result, yield, leftover, modified, indian",
          "<b>Topic 10</b><br>Words: espeically, recognize, successful, pronounce, blended",
          "<b>Topic 10</b><br>Words: pates, biryani, preparation, instructed, curry",
          "<b>Topic 10</b><br>Words: curry, tahini, paste, kevala, mae",
          "<b>Topic 10</b><br>Words: indian, jyoti, shockingly, relieved, virgin",
          "<b>Topic 10</b><br>Words: indian, curry, aloo, palak, defrost",
          "<b>Topic 10</b><br>Words: curry, juicesaltgarlicblend, yummier, panang, chickpeas"
         ],
         "marker": {
          "color": "#F0E442"
         },
         "mode": "lines",
         "name": "10_curry_indian_paste_tahini",
         "type": "scatter",
         "x": [
          "2017-12-20T04:48:00",
          "2018-08-19T00:00:00",
          "2019-09-26T00:00:00",
          "2019-12-15T14:24:00",
          "2020-03-05T04:48:00",
          "2020-05-24T19:12:00",
          "2020-08-13T09:36:00",
          "2021-01-21T14:24:00",
          "2021-04-12T04:48:00",
          "2021-07-01T19:12:00",
          "2021-09-20T09:36:00"
         ],
         "y": [
          2,
          1,
          1,
          1,
          1,
          2,
          2,
          3,
          3,
          2,
          3
         ]
        },
        {
         "hoverinfo": "text",
         "hovertext": [
          "<b>Topic 11</b><br>Words: butterenjoy, honeyspread, manuka, ancient, arnold",
          "<b>Topic 11</b><br>Words: honey, exercising, running, suppose, energetic",
          "<b>Topic 11</b><br>Words: honey, crystallized, jar, spooning, pounder",
          "<b>Topic 11</b><br>Words: honey, jars, trip, powers, breakfasts",
          "<b>Topic 11</b><br>Words: honey, type, diminished, neck, honeys",
          "<b>Topic 11</b><br>Words: honey, ants, raw, jars, attracting",
          "<b>Topic 11</b><br>Words: hives, yucky, cure, um, grandmother",
          "<b>Topic 11</b><br>Words: remembered, implosion, slope, honey, colorado"
         ],
         "marker": {
          "color": "#D55E00"
         },
         "mode": "lines",
         "name": "11_honey_ants_raw_jars",
         "type": "scatter",
         "x": [
          "2018-03-10T19:12:00",
          "2019-12-15T14:24:00",
          "2020-05-24T19:12:00",
          "2020-08-13T09:36:00",
          "2021-01-21T14:24:00",
          "2021-04-12T04:48:00",
          "2021-07-01T19:12:00",
          "2021-09-20T09:36:00"
         ],
         "y": [
          1,
          2,
          3,
          2,
          3,
          7,
          1,
          2
         ]
        },
        {
         "hoverinfo": "text",
         "hovertext": [
          "<b>Topic 12</b><br>Words: supervisor, oatmeal, service, english, speak",
          "<b>Topic 12</b><br>Words: shoveling, monotonous, tastiest, oatmeal, walking",
          "<b>Topic 12</b><br>Words: oatmeal, mccann, steel, delighted, quaker",
          "<b>Topic 12</b><br>Words: originally, oats, oatmeal, virginia, intend",
          "<b>Topic 12</b><br>Words: oatmeal, oats, brown, ratio, braeburn",
          "<b>Topic 12</b><br>Words: mcdougall, oatmeal, oatcake, oats, dr",
          "<b>Topic 12</b><br>Words: oat, bran, cecilia, agin, andtaste"
         ],
         "marker": {
          "color": "#0072B2"
         },
         "mode": "lines",
         "name": "12_oatmeal_oats_supervisor_oat",
         "type": "scatter",
         "x": [
          "2019-12-15T14:24:00",
          "2020-05-24T19:12:00",
          "2020-08-13T09:36:00",
          "2020-11-02T00:00:00",
          "2021-04-12T04:48:00",
          "2021-07-01T19:12:00",
          "2021-09-20T09:36:00"
         ],
         "y": [
          3,
          1,
          2,
          2,
          6,
          3,
          3
         ]
        },
        {
         "hoverinfo": "text",
         "hovertext": [
          "<b>Topic 13</b><br>Words: audrey, plant, roots, deceased, facilitate",
          "<b>Topic 13</b><br>Words: plant, dead, arrival, nurtured, undersized",
          "<b>Topic 13</b><br>Words: mangled, gonna, arrival, dead, plant",
          "<b>Topic 13</b><br>Words: soil, plant, compound, dead, base",
          "<b>Topic 13</b><br>Words: beautiful, uneasy, bonsaiboy, plant, tree",
          "<b>Topic 13</b><br>Words: plant, bamboo, superb, shape, planting",
          "<b>Topic 13</b><br>Words: retail, nearly, supposed, normally, packaged"
         ],
         "marker": {
          "color": "#CC79A7"
         },
         "mode": "lines",
         "name": "13_plant_dead_soil_audrey",
         "type": "scatter",
         "x": [
          "2019-09-26T00:00:00",
          "2019-12-15T14:24:00",
          "2020-03-05T04:48:00",
          "2020-05-24T19:12:00",
          "2021-04-12T04:48:00",
          "2021-07-01T19:12:00",
          "2021-09-20T09:36:00"
         ],
         "y": [
          1,
          4,
          1,
          6,
          1,
          3,
          1
         ]
        },
        {
         "hoverinfo": "text",
         "hovertext": [
          "<b>Topic 14</b><br>Words: laptop, recognize, hours, icicle, plug",
          "<b>Topic 14</b><br>Words: firmware, windows, newer, troubleshooting, exchanging",
          "<b>Topic 14</b><br>Words: nuff, noise, pitched, signal, flimsy",
          "<b>Topic 14</b><br>Words: shure, volume, macbook, loudly, audacity",
          "<b>Topic 14</b><br>Words: mic, preamp, recording, icicle, xlr",
          "<b>Topic 14</b><br>Words: blue, authorization, tech, constant, pitched",
          "<b>Topic 14</b><br>Words: icicle, guitar, din, microphone, c3000b",
          "<b>Topic 14</b><br>Words: working, feather, software, hassles, flimsy",
          "<b>Topic 14</b><br>Words: signal, mic, recording, condenser, sound"
         ],
         "marker": {
          "color": "#E69F00"
         },
         "mode": "lines",
         "name": "14_mic_icicle_recording_signal",
         "type": "scatter",
         "x": [
          "2019-01-27T04:48:00",
          "2019-07-07T09:36:00",
          "2019-12-15T14:24:00",
          "2020-03-05T04:48:00",
          "2020-05-24T19:12:00",
          "2020-11-02T00:00:00",
          "2021-01-21T14:24:00",
          "2021-04-12T04:48:00",
          "2021-09-20T09:36:00"
         ],
         "y": [
          1,
          1,
          1,
          1,
          1,
          1,
          2,
          1,
          3
         ]
        }
       ],
       "layout": {
        "height": 450,
        "hoverlabel": {
         "bgcolor": "white",
         "font": {
          "family": "Rockwell",
          "size": 16
         }
        },
        "legend": {
         "title": {
          "text": "<b>Global Topic Representation"
         }
        },
        "template": {
         "data": {
          "bar": [
           {
            "error_x": {
             "color": "rgb(36,36,36)"
            },
            "error_y": {
             "color": "rgb(36,36,36)"
            },
            "marker": {
             "line": {
              "color": "white",
              "width": 0.5
             },
             "pattern": {
              "fillmode": "overlay",
              "size": 10,
              "solidity": 0.2
             }
            },
            "type": "bar"
           }
          ],
          "barpolar": [
           {
            "marker": {
             "line": {
              "color": "white",
              "width": 0.5
             },
             "pattern": {
              "fillmode": "overlay",
              "size": 10,
              "solidity": 0.2
             }
            },
            "type": "barpolar"
           }
          ],
          "carpet": [
           {
            "aaxis": {
             "endlinecolor": "rgb(36,36,36)",
             "gridcolor": "white",
             "linecolor": "white",
             "minorgridcolor": "white",
             "startlinecolor": "rgb(36,36,36)"
            },
            "baxis": {
             "endlinecolor": "rgb(36,36,36)",
             "gridcolor": "white",
             "linecolor": "white",
             "minorgridcolor": "white",
             "startlinecolor": "rgb(36,36,36)"
            },
            "type": "carpet"
           }
          ],
          "choropleth": [
           {
            "colorbar": {
             "outlinewidth": 1,
             "tickcolor": "rgb(36,36,36)",
             "ticks": "outside"
            },
            "type": "choropleth"
           }
          ],
          "contour": [
           {
            "colorbar": {
             "outlinewidth": 1,
             "tickcolor": "rgb(36,36,36)",
             "ticks": "outside"
            },
            "colorscale": [
             [
              0,
              "#440154"
             ],
             [
              0.1111111111111111,
              "#482878"
             ],
             [
              0.2222222222222222,
              "#3e4989"
             ],
             [
              0.3333333333333333,
              "#31688e"
             ],
             [
              0.4444444444444444,
              "#26828e"
             ],
             [
              0.5555555555555556,
              "#1f9e89"
             ],
             [
              0.6666666666666666,
              "#35b779"
             ],
             [
              0.7777777777777778,
              "#6ece58"
             ],
             [
              0.8888888888888888,
              "#b5de2b"
             ],
             [
              1,
              "#fde725"
             ]
            ],
            "type": "contour"
           }
          ],
          "contourcarpet": [
           {
            "colorbar": {
             "outlinewidth": 1,
             "tickcolor": "rgb(36,36,36)",
             "ticks": "outside"
            },
            "type": "contourcarpet"
           }
          ],
          "heatmap": [
           {
            "colorbar": {
             "outlinewidth": 1,
             "tickcolor": "rgb(36,36,36)",
             "ticks": "outside"
            },
            "colorscale": [
             [
              0,
              "#440154"
             ],
             [
              0.1111111111111111,
              "#482878"
             ],
             [
              0.2222222222222222,
              "#3e4989"
             ],
             [
              0.3333333333333333,
              "#31688e"
             ],
             [
              0.4444444444444444,
              "#26828e"
             ],
             [
              0.5555555555555556,
              "#1f9e89"
             ],
             [
              0.6666666666666666,
              "#35b779"
             ],
             [
              0.7777777777777778,
              "#6ece58"
             ],
             [
              0.8888888888888888,
              "#b5de2b"
             ],
             [
              1,
              "#fde725"
             ]
            ],
            "type": "heatmap"
           }
          ],
          "heatmapgl": [
           {
            "colorbar": {
             "outlinewidth": 1,
             "tickcolor": "rgb(36,36,36)",
             "ticks": "outside"
            },
            "colorscale": [
             [
              0,
              "#440154"
             ],
             [
              0.1111111111111111,
              "#482878"
             ],
             [
              0.2222222222222222,
              "#3e4989"
             ],
             [
              0.3333333333333333,
              "#31688e"
             ],
             [
              0.4444444444444444,
              "#26828e"
             ],
             [
              0.5555555555555556,
              "#1f9e89"
             ],
             [
              0.6666666666666666,
              "#35b779"
             ],
             [
              0.7777777777777778,
              "#6ece58"
             ],
             [
              0.8888888888888888,
              "#b5de2b"
             ],
             [
              1,
              "#fde725"
             ]
            ],
            "type": "heatmapgl"
           }
          ],
          "histogram": [
           {
            "marker": {
             "line": {
              "color": "white",
              "width": 0.6
             }
            },
            "type": "histogram"
           }
          ],
          "histogram2d": [
           {
            "colorbar": {
             "outlinewidth": 1,
             "tickcolor": "rgb(36,36,36)",
             "ticks": "outside"
            },
            "colorscale": [
             [
              0,
              "#440154"
             ],
             [
              0.1111111111111111,
              "#482878"
             ],
             [
              0.2222222222222222,
              "#3e4989"
             ],
             [
              0.3333333333333333,
              "#31688e"
             ],
             [
              0.4444444444444444,
              "#26828e"
             ],
             [
              0.5555555555555556,
              "#1f9e89"
             ],
             [
              0.6666666666666666,
              "#35b779"
             ],
             [
              0.7777777777777778,
              "#6ece58"
             ],
             [
              0.8888888888888888,
              "#b5de2b"
             ],
             [
              1,
              "#fde725"
             ]
            ],
            "type": "histogram2d"
           }
          ],
          "histogram2dcontour": [
           {
            "colorbar": {
             "outlinewidth": 1,
             "tickcolor": "rgb(36,36,36)",
             "ticks": "outside"
            },
            "colorscale": [
             [
              0,
              "#440154"
             ],
             [
              0.1111111111111111,
              "#482878"
             ],
             [
              0.2222222222222222,
              "#3e4989"
             ],
             [
              0.3333333333333333,
              "#31688e"
             ],
             [
              0.4444444444444444,
              "#26828e"
             ],
             [
              0.5555555555555556,
              "#1f9e89"
             ],
             [
              0.6666666666666666,
              "#35b779"
             ],
             [
              0.7777777777777778,
              "#6ece58"
             ],
             [
              0.8888888888888888,
              "#b5de2b"
             ],
             [
              1,
              "#fde725"
             ]
            ],
            "type": "histogram2dcontour"
           }
          ],
          "mesh3d": [
           {
            "colorbar": {
             "outlinewidth": 1,
             "tickcolor": "rgb(36,36,36)",
             "ticks": "outside"
            },
            "type": "mesh3d"
           }
          ],
          "parcoords": [
           {
            "line": {
             "colorbar": {
              "outlinewidth": 1,
              "tickcolor": "rgb(36,36,36)",
              "ticks": "outside"
             }
            },
            "type": "parcoords"
           }
          ],
          "pie": [
           {
            "automargin": true,
            "type": "pie"
           }
          ],
          "scatter": [
           {
            "fillpattern": {
             "fillmode": "overlay",
             "size": 10,
             "solidity": 0.2
            },
            "type": "scatter"
           }
          ],
          "scatter3d": [
           {
            "line": {
             "colorbar": {
              "outlinewidth": 1,
              "tickcolor": "rgb(36,36,36)",
              "ticks": "outside"
             }
            },
            "marker": {
             "colorbar": {
              "outlinewidth": 1,
              "tickcolor": "rgb(36,36,36)",
              "ticks": "outside"
             }
            },
            "type": "scatter3d"
           }
          ],
          "scattercarpet": [
           {
            "marker": {
             "colorbar": {
              "outlinewidth": 1,
              "tickcolor": "rgb(36,36,36)",
              "ticks": "outside"
             }
            },
            "type": "scattercarpet"
           }
          ],
          "scattergeo": [
           {
            "marker": {
             "colorbar": {
              "outlinewidth": 1,
              "tickcolor": "rgb(36,36,36)",
              "ticks": "outside"
             }
            },
            "type": "scattergeo"
           }
          ],
          "scattergl": [
           {
            "marker": {
             "colorbar": {
              "outlinewidth": 1,
              "tickcolor": "rgb(36,36,36)",
              "ticks": "outside"
             }
            },
            "type": "scattergl"
           }
          ],
          "scattermapbox": [
           {
            "marker": {
             "colorbar": {
              "outlinewidth": 1,
              "tickcolor": "rgb(36,36,36)",
              "ticks": "outside"
             }
            },
            "type": "scattermapbox"
           }
          ],
          "scatterpolar": [
           {
            "marker": {
             "colorbar": {
              "outlinewidth": 1,
              "tickcolor": "rgb(36,36,36)",
              "ticks": "outside"
             }
            },
            "type": "scatterpolar"
           }
          ],
          "scatterpolargl": [
           {
            "marker": {
             "colorbar": {
              "outlinewidth": 1,
              "tickcolor": "rgb(36,36,36)",
              "ticks": "outside"
             }
            },
            "type": "scatterpolargl"
           }
          ],
          "scatterternary": [
           {
            "marker": {
             "colorbar": {
              "outlinewidth": 1,
              "tickcolor": "rgb(36,36,36)",
              "ticks": "outside"
             }
            },
            "type": "scatterternary"
           }
          ],
          "surface": [
           {
            "colorbar": {
             "outlinewidth": 1,
             "tickcolor": "rgb(36,36,36)",
             "ticks": "outside"
            },
            "colorscale": [
             [
              0,
              "#440154"
             ],
             [
              0.1111111111111111,
              "#482878"
             ],
             [
              0.2222222222222222,
              "#3e4989"
             ],
             [
              0.3333333333333333,
              "#31688e"
             ],
             [
              0.4444444444444444,
              "#26828e"
             ],
             [
              0.5555555555555556,
              "#1f9e89"
             ],
             [
              0.6666666666666666,
              "#35b779"
             ],
             [
              0.7777777777777778,
              "#6ece58"
             ],
             [
              0.8888888888888888,
              "#b5de2b"
             ],
             [
              1,
              "#fde725"
             ]
            ],
            "type": "surface"
           }
          ],
          "table": [
           {
            "cells": {
             "fill": {
              "color": "rgb(237,237,237)"
             },
             "line": {
              "color": "white"
             }
            },
            "header": {
             "fill": {
              "color": "rgb(217,217,217)"
             },
             "line": {
              "color": "white"
             }
            },
            "type": "table"
           }
          ]
         },
         "layout": {
          "annotationdefaults": {
           "arrowhead": 0,
           "arrowwidth": 1
          },
          "autotypenumbers": "strict",
          "coloraxis": {
           "colorbar": {
            "outlinewidth": 1,
            "tickcolor": "rgb(36,36,36)",
            "ticks": "outside"
           }
          },
          "colorscale": {
           "diverging": [
            [
             0,
             "rgb(103,0,31)"
            ],
            [
             0.1,
             "rgb(178,24,43)"
            ],
            [
             0.2,
             "rgb(214,96,77)"
            ],
            [
             0.3,
             "rgb(244,165,130)"
            ],
            [
             0.4,
             "rgb(253,219,199)"
            ],
            [
             0.5,
             "rgb(247,247,247)"
            ],
            [
             0.6,
             "rgb(209,229,240)"
            ],
            [
             0.7,
             "rgb(146,197,222)"
            ],
            [
             0.8,
             "rgb(67,147,195)"
            ],
            [
             0.9,
             "rgb(33,102,172)"
            ],
            [
             1,
             "rgb(5,48,97)"
            ]
           ],
           "sequential": [
            [
             0,
             "#440154"
            ],
            [
             0.1111111111111111,
             "#482878"
            ],
            [
             0.2222222222222222,
             "#3e4989"
            ],
            [
             0.3333333333333333,
             "#31688e"
            ],
            [
             0.4444444444444444,
             "#26828e"
            ],
            [
             0.5555555555555556,
             "#1f9e89"
            ],
            [
             0.6666666666666666,
             "#35b779"
            ],
            [
             0.7777777777777778,
             "#6ece58"
            ],
            [
             0.8888888888888888,
             "#b5de2b"
            ],
            [
             1,
             "#fde725"
            ]
           ],
           "sequentialminus": [
            [
             0,
             "#440154"
            ],
            [
             0.1111111111111111,
             "#482878"
            ],
            [
             0.2222222222222222,
             "#3e4989"
            ],
            [
             0.3333333333333333,
             "#31688e"
            ],
            [
             0.4444444444444444,
             "#26828e"
            ],
            [
             0.5555555555555556,
             "#1f9e89"
            ],
            [
             0.6666666666666666,
             "#35b779"
            ],
            [
             0.7777777777777778,
             "#6ece58"
            ],
            [
             0.8888888888888888,
             "#b5de2b"
            ],
            [
             1,
             "#fde725"
            ]
           ]
          },
          "colorway": [
           "#1F77B4",
           "#FF7F0E",
           "#2CA02C",
           "#D62728",
           "#9467BD",
           "#8C564B",
           "#E377C2",
           "#7F7F7F",
           "#BCBD22",
           "#17BECF"
          ],
          "font": {
           "color": "rgb(36,36,36)"
          },
          "geo": {
           "bgcolor": "white",
           "lakecolor": "white",
           "landcolor": "white",
           "showlakes": true,
           "showland": true,
           "subunitcolor": "white"
          },
          "hoverlabel": {
           "align": "left"
          },
          "hovermode": "closest",
          "mapbox": {
           "style": "light"
          },
          "paper_bgcolor": "white",
          "plot_bgcolor": "white",
          "polar": {
           "angularaxis": {
            "gridcolor": "rgb(232,232,232)",
            "linecolor": "rgb(36,36,36)",
            "showgrid": false,
            "showline": true,
            "ticks": "outside"
           },
           "bgcolor": "white",
           "radialaxis": {
            "gridcolor": "rgb(232,232,232)",
            "linecolor": "rgb(36,36,36)",
            "showgrid": false,
            "showline": true,
            "ticks": "outside"
           }
          },
          "scene": {
           "xaxis": {
            "backgroundcolor": "white",
            "gridcolor": "rgb(232,232,232)",
            "gridwidth": 2,
            "linecolor": "rgb(36,36,36)",
            "showbackground": true,
            "showgrid": false,
            "showline": true,
            "ticks": "outside",
            "zeroline": false,
            "zerolinecolor": "rgb(36,36,36)"
           },
           "yaxis": {
            "backgroundcolor": "white",
            "gridcolor": "rgb(232,232,232)",
            "gridwidth": 2,
            "linecolor": "rgb(36,36,36)",
            "showbackground": true,
            "showgrid": false,
            "showline": true,
            "ticks": "outside",
            "zeroline": false,
            "zerolinecolor": "rgb(36,36,36)"
           },
           "zaxis": {
            "backgroundcolor": "white",
            "gridcolor": "rgb(232,232,232)",
            "gridwidth": 2,
            "linecolor": "rgb(36,36,36)",
            "showbackground": true,
            "showgrid": false,
            "showline": true,
            "ticks": "outside",
            "zeroline": false,
            "zerolinecolor": "rgb(36,36,36)"
           }
          },
          "shapedefaults": {
           "fillcolor": "black",
           "line": {
            "width": 0
           },
           "opacity": 0.3
          },
          "ternary": {
           "aaxis": {
            "gridcolor": "rgb(232,232,232)",
            "linecolor": "rgb(36,36,36)",
            "showgrid": false,
            "showline": true,
            "ticks": "outside"
           },
           "baxis": {
            "gridcolor": "rgb(232,232,232)",
            "linecolor": "rgb(36,36,36)",
            "showgrid": false,
            "showline": true,
            "ticks": "outside"
           },
           "bgcolor": "white",
           "caxis": {
            "gridcolor": "rgb(232,232,232)",
            "linecolor": "rgb(36,36,36)",
            "showgrid": false,
            "showline": true,
            "ticks": "outside"
           }
          },
          "title": {
           "x": 0.05
          },
          "xaxis": {
           "automargin": true,
           "gridcolor": "rgb(232,232,232)",
           "linecolor": "rgb(36,36,36)",
           "showgrid": false,
           "showline": true,
           "ticks": "outside",
           "title": {
            "standoff": 15
           },
           "zeroline": false,
           "zerolinecolor": "rgb(36,36,36)"
          },
          "yaxis": {
           "automargin": true,
           "gridcolor": "rgb(232,232,232)",
           "linecolor": "rgb(36,36,36)",
           "showgrid": false,
           "showline": true,
           "ticks": "outside",
           "title": {
            "standoff": 15
           },
           "zeroline": false,
           "zerolinecolor": "rgb(36,36,36)"
          }
         }
        },
        "title": {
         "font": {
          "color": "Black",
          "size": 22
         },
         "text": "<b>Topics over Time</b>",
         "x": 0.4,
         "xanchor": "center",
         "y": 0.95,
         "yanchor": "top"
        },
        "width": 1250,
        "xaxis": {
         "showgrid": true
        },
        "yaxis": {
         "showgrid": true,
         "title": {
          "text": "Frequency"
         }
        }
       }
      }
     },
     "metadata": {},
     "output_type": "display_data"
    }
   ],
   "source": [
    "topic_model.visualize_topics_over_time(topics_over_time, top_n_topics=15)"
   ]
  },
  {
   "cell_type": "code",
   "execution_count": 33,
   "metadata": {},
   "outputs": [
    {
     "data": {
      "text/html": [
       "<div>\n",
       "<style scoped>\n",
       "    .dataframe tbody tr th:only-of-type {\n",
       "        vertical-align: middle;\n",
       "    }\n",
       "\n",
       "    .dataframe tbody tr th {\n",
       "        vertical-align: top;\n",
       "    }\n",
       "\n",
       "    .dataframe thead th {\n",
       "        text-align: right;\n",
       "    }\n",
       "</style>\n",
       "<table border=\"1\" class=\"dataframe\">\n",
       "  <thead>\n",
       "    <tr style=\"text-align: right;\">\n",
       "      <th></th>\n",
       "      <th>Topic</th>\n",
       "      <th>Count</th>\n",
       "      <th>Name</th>\n",
       "      <th>CustomName</th>\n",
       "    </tr>\n",
       "  </thead>\n",
       "  <tbody>\n",
       "    <tr>\n",
       "      <th>0</th>\n",
       "      <td>-1</td>\n",
       "      <td>1269</td>\n",
       "      <td>-1_great_product_good_taste</td>\n",
       "      <td>great-product-good</td>\n",
       "    </tr>\n",
       "    <tr>\n",
       "      <th>1</th>\n",
       "      <td>0</td>\n",
       "      <td>347</td>\n",
       "      <td>0_tea_green_iced_drink</td>\n",
       "      <td>Cold Drink</td>\n",
       "    </tr>\n",
       "    <tr>\n",
       "      <th>2</th>\n",
       "      <td>1</td>\n",
       "      <td>324</td>\n",
       "      <td>1_coffee_cup_starbucks_beans</td>\n",
       "      <td>Coffee beans</td>\n",
       "    </tr>\n",
       "    <tr>\n",
       "      <th>3</th>\n",
       "      <td>2</td>\n",
       "      <td>207</td>\n",
       "      <td>2_product_tastes_taste_great</td>\n",
       "      <td>product-tastes-taste</td>\n",
       "    </tr>\n",
       "    <tr>\n",
       "      <th>4</th>\n",
       "      <td>3</td>\n",
       "      <td>167</td>\n",
       "      <td>3_snacks_snack_tasty_fruit</td>\n",
       "      <td>snacks-snack-tasty</td>\n",
       "    </tr>\n",
       "    <tr>\n",
       "      <th>5</th>\n",
       "      <td>4</td>\n",
       "      <td>147</td>\n",
       "      <td>4_chips_potato_bag_bbq</td>\n",
       "      <td>chips-potato-bag</td>\n",
       "    </tr>\n",
       "    <tr>\n",
       "      <th>6</th>\n",
       "      <td>5</td>\n",
       "      <td>135</td>\n",
       "      <td>5_orange_juice_soda_drink</td>\n",
       "      <td>orange-juice-soda</td>\n",
       "    </tr>\n",
       "    <tr>\n",
       "      <th>7</th>\n",
       "      <td>6</td>\n",
       "      <td>134</td>\n",
       "      <td>6_price_grocery_store_amazon</td>\n",
       "      <td>price-grocery-store</td>\n",
       "    </tr>\n",
       "    <tr>\n",
       "      <th>8</th>\n",
       "      <td>7</td>\n",
       "      <td>109</td>\n",
       "      <td>7_dog_treats_dogs_treat</td>\n",
       "      <td>dog-treats-dogs</td>\n",
       "    </tr>\n",
       "    <tr>\n",
       "      <th>9</th>\n",
       "      <td>8</td>\n",
       "      <td>98</td>\n",
       "      <td>8_nuts_almond_roasted_nut</td>\n",
       "      <td>nuts-almond-roasted</td>\n",
       "    </tr>\n",
       "  </tbody>\n",
       "</table>\n",
       "</div>"
      ],
      "text/plain": [
       "   Topic  Count                          Name            CustomName\n",
       "0     -1   1269   -1_great_product_good_taste    great-product-good\n",
       "1      0    347        0_tea_green_iced_drink            Cold Drink\n",
       "2      1    324  1_coffee_cup_starbucks_beans          Coffee beans\n",
       "3      2    207  2_product_tastes_taste_great  product-tastes-taste\n",
       "4      3    167    3_snacks_snack_tasty_fruit    snacks-snack-tasty\n",
       "5      4    147        4_chips_potato_bag_bbq      chips-potato-bag\n",
       "6      5    135     5_orange_juice_soda_drink     orange-juice-soda\n",
       "7      6    134  6_price_grocery_store_amazon   price-grocery-store\n",
       "8      7    109       7_dog_treats_dogs_treat       dog-treats-dogs\n",
       "9      8     98     8_nuts_almond_roasted_nut   nuts-almond-roasted"
      ]
     },
     "execution_count": 33,
     "metadata": {},
     "output_type": "execute_result"
    }
   ],
   "source": [
    "#Change how labels are generated\n",
    "topic_labels = topic_model.generate_topic_labels(nr_words = 3, topic_prefix=False, word_length=15, separator='-')\n",
    "topic_model.set_topic_labels(topic_labels)\n",
    "\n",
    "#Or to create for specific\n",
    "topic_model.set_topic_labels({0:\"Cold Drink\", 1:\"Coffee beans\"})\n",
    "topic_model.get_topic_info().head(10)"
   ]
  },
  {
   "cell_type": "code",
   "execution_count": 36,
   "metadata": {},
   "outputs": [
    {
     "data": {
      "text/plain": [
       "([12, 7, 17], [0.7597972611987327, 0.7444208026393664, 0.6740989352739281])"
      ]
     },
     "execution_count": 36,
     "metadata": {},
     "output_type": "execute_result"
    }
   ],
   "source": [
    "#finding specific topic\n",
    "topic_model.find_topics('animal', top_n=3)"
   ]
  },
  {
   "cell_type": "code",
   "execution_count": 42,
   "metadata": {},
   "outputs": [
    {
     "data": {
      "text/plain": [
       "[('china', 0.12490522790589333),\n",
       " ('treats', 0.08203824691364132),\n",
       " ('dogs', 0.05424114952046814),\n",
       " ('dog', 0.0519195313209965),\n",
       " ('chicken', 0.04853867168122317),\n",
       " ('products', 0.035656979428674934),\n",
       " ('usa', 0.03498047359496498),\n",
       " ('country', 0.017893434052750193),\n",
       " ('sick', 0.017820012181890593),\n",
       " ('food', 0.01726687124620462)]"
      ]
     },
     "execution_count": 42,
     "metadata": {},
     "output_type": "execute_result"
    }
   ],
   "source": [
    "topic_model.get_topic(17)"
   ]
  },
  {
   "cell_type": "code",
   "execution_count": 25,
   "metadata": {},
   "outputs": [],
   "source": [
    "# Save model\n",
    "topic_model.save(\"bertopic_model\")\t"
   ]
  },
  {
   "cell_type": "code",
   "execution_count": 28,
   "metadata": {},
   "outputs": [],
   "source": [
    "# Load model\n",
    "topic_model = BERTopic.load(\"bertopic_model\")\t"
   ]
  }
 ],
 "metadata": {
  "kernelspec": {
   "display_name": "Python 3",
   "language": "python",
   "name": "python3"
  },
  "language_info": {
   "codemirror_mode": {
    "name": "ipython",
    "version": 3
   },
   "file_extension": ".py",
   "mimetype": "text/x-python",
   "name": "python",
   "nbconvert_exporter": "python",
   "pygments_lexer": "ipython3",
   "version": "3.8.12"
  },
  "orig_nbformat": 4
 },
 "nbformat": 4,
 "nbformat_minor": 2
}
