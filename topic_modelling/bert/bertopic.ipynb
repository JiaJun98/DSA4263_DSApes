{
 "cells": [
  {
   "cell_type": "code",
   "execution_count": 89,
   "metadata": {},
   "outputs": [],
   "source": [
    "from bertopic import BERTopic\n",
    "import pandas as pd\n",
    "import numpy as np\n",
    "from sklearn.feature_extraction.text import CountVectorizer\n",
    "from gensim.models.coherencemodel import CoherenceModel\n",
    "import gensim.corpora as corpora\n",
    "import matplotlib.pyplot as plt\n",
    "from bertopic.vectorizers import ClassTfidfTransformer\n",
    "from bertopic.representation import MaximalMarginalRelevance\n",
    "import sys\n",
    "import os\n",
    "import syspend\n",
    "from utility import parse_config, seed_everything, custom_print\n",
    "from preprocess_class import create_datasets\n",
    "from model_base_class import BaseModel\n",
    "from umap import UMAP\n",
    "from hdbscan import HDBSCAN\n",
    "from sklearn.cluster import KMeans\n",
    "from sklearn.decomposition import PCA\n",
    "from transformers.pipelines import pipeline\n",
    "from sentence_transformers import SentenceTransformer\n",
    "from bertopic.representation import KeyBERTInspired, ZeroShotClassification\n",
    "from BERTopic_model import BERTopic_model\n",
    "sys.path.append(\"../..\")"
   ]
  },
  {
   "cell_type": "code",
   "execution_count": 2,
   "metadata": {},
   "outputs": [],
   "source": [
    "df = pd.read_csv('../../data/reviews.csv')\n",
    "train, test = create_datasets(df)"
   ]
  },
  {
   "cell_type": "code",
   "execution_count": 53,
   "metadata": {},
   "outputs": [],
   "source": [
    "candidate_topics = ['drinks', 'cat', 'dog', 'carbohydrates', 'chocolate', 'snacks', 'healthy alternatives', 'household', 'family', 'sauce', 'condiments']\n",
    "representation_model = ZeroShotClassification(candidate_topics, model=\"facebook/bart-large-mnli\", min_prob = 0.5)\n",
    "\n",
    "# Use the representation model in BERTopic on top of the default pipeline\n",
    "topic_model = BERTopic(representation_model=representation_model)\n",
    "topics, _ = topic_model.fit_transform(train.text)"
   ]
  },
  {
   "cell_type": "code",
   "execution_count": 66,
   "metadata": {},
   "outputs": [],
   "source": [
    "miniLM_model = BERTopic_model()\n",
    "miniLM_model.topic_model = BERTopic.load('sentence-transformers-key-bigram')"
   ]
  },
  {
   "cell_type": "code",
   "execution_count": 49,
   "metadata": {},
   "outputs": [],
   "source": [
    "miniLM_model.topic_model.save(\"sentence-transformers-key-bigram\")\t\n"
   ]
  },
  {
   "cell_type": "code",
   "execution_count": 7,
   "metadata": {},
   "outputs": [
    {
     "data": {
      "application/vnd.jupyter.widget-view+json": {
       "model_id": "a7a3f78da6da4b87bf52eec5ff11096c",
       "version_major": 2,
       "version_minor": 0
      },
      "text/plain": [
       "Batches:   0%|          | 0/35 [00:00<?, ?it/s]"
      ]
     },
     "metadata": {},
     "output_type": "display_data"
    },
    {
     "data": {
      "text/plain": [
       "365"
      ]
     },
     "execution_count": 7,
     "metadata": {},
     "output_type": "execute_result"
    }
   ],
   "source": [
    "test_topic = miniLM_model.topic_model.transform(test.text)"
   ]
  },
  {
   "cell_type": "code",
   "execution_count": 54,
   "metadata": {},
   "outputs": [
    {
     "data": {
      "text/html": [
       "<div>\n",
       "<style scoped>\n",
       "    .dataframe tbody tr th:only-of-type {\n",
       "        vertical-align: middle;\n",
       "    }\n",
       "\n",
       "    .dataframe tbody tr th {\n",
       "        vertical-align: top;\n",
       "    }\n",
       "\n",
       "    .dataframe thead th {\n",
       "        text-align: right;\n",
       "    }\n",
       "</style>\n",
       "<table border=\"1\" class=\"dataframe\">\n",
       "  <thead>\n",
       "    <tr style=\"text-align: right;\">\n",
       "      <th></th>\n",
       "      <th>Topic</th>\n",
       "      <th>Count</th>\n",
       "      <th>Name</th>\n",
       "    </tr>\n",
       "  </thead>\n",
       "  <tbody>\n",
       "    <tr>\n",
       "      <th>0</th>\n",
       "      <td>-1</td>\n",
       "      <td>1055</td>\n",
       "      <td>-1_the_and_to_it</td>\n",
       "    </tr>\n",
       "    <tr>\n",
       "      <th>1</th>\n",
       "      <td>0</td>\n",
       "      <td>918</td>\n",
       "      <td>0_drinks___</td>\n",
       "    </tr>\n",
       "    <tr>\n",
       "      <th>2</th>\n",
       "      <td>1</td>\n",
       "      <td>868</td>\n",
       "      <td>1_the_and_it_to</td>\n",
       "    </tr>\n",
       "    <tr>\n",
       "      <th>3</th>\n",
       "      <td>2</td>\n",
       "      <td>342</td>\n",
       "      <td>2_and_the_to_it</td>\n",
       "    </tr>\n",
       "    <tr>\n",
       "      <th>4</th>\n",
       "      <td>3</td>\n",
       "      <td>310</td>\n",
       "      <td>3_snacks___</td>\n",
       "    </tr>\n",
       "    <tr>\n",
       "      <th>5</th>\n",
       "      <td>4</td>\n",
       "      <td>252</td>\n",
       "      <td>4_chocolate___</td>\n",
       "    </tr>\n",
       "    <tr>\n",
       "      <th>6</th>\n",
       "      <td>5</td>\n",
       "      <td>229</td>\n",
       "      <td>5_cat___</td>\n",
       "    </tr>\n",
       "    <tr>\n",
       "      <th>7</th>\n",
       "      <td>6</td>\n",
       "      <td>156</td>\n",
       "      <td>6_sauce___</td>\n",
       "    </tr>\n",
       "    <tr>\n",
       "      <th>8</th>\n",
       "      <td>7</td>\n",
       "      <td>124</td>\n",
       "      <td>7_carbohydrates___</td>\n",
       "    </tr>\n",
       "    <tr>\n",
       "      <th>9</th>\n",
       "      <td>8</td>\n",
       "      <td>79</td>\n",
       "      <td>8_healthy alternatives___</td>\n",
       "    </tr>\n",
       "    <tr>\n",
       "      <th>10</th>\n",
       "      <td>9</td>\n",
       "      <td>22</td>\n",
       "      <td>9_drinks___</td>\n",
       "    </tr>\n",
       "  </tbody>\n",
       "</table>\n",
       "</div>"
      ],
      "text/plain": [
       "    Topic  Count                       Name\n",
       "0      -1   1055           -1_the_and_to_it\n",
       "1       0    918                0_drinks___\n",
       "2       1    868            1_the_and_it_to\n",
       "3       2    342            2_and_the_to_it\n",
       "4       3    310                3_snacks___\n",
       "5       4    252             4_chocolate___\n",
       "6       5    229                   5_cat___\n",
       "7       6    156                 6_sauce___\n",
       "8       7    124         7_carbohydrates___\n",
       "9       8     79  8_healthy alternatives___\n",
       "10      9     22                9_drinks___"
      ]
     },
     "execution_count": 54,
     "metadata": {},
     "output_type": "execute_result"
    }
   ],
   "source": [
    "topic_model.get_topic_info()"
   ]
  },
  {
   "cell_type": "code",
   "execution_count": 55,
   "metadata": {},
   "outputs": [
    {
     "data": {
      "text/plain": [
       "[('the', 0.050298565034729265),\n",
       " ('and', 0.04202089928639583),\n",
       " ('it', 0.04066654586185052),\n",
       " ('to', 0.03776439526073845),\n",
       " ('this', 0.03678709696743862),\n",
       " ('is', 0.031280962615838605),\n",
       " ('of', 0.030870238957200563),\n",
       " ('for', 0.02765312690854749),\n",
       " ('in', 0.025100899786985174),\n",
       " ('was', 0.024953398287246218)]"
      ]
     },
     "execution_count": 55,
     "metadata": {},
     "output_type": "execute_result"
    }
   ],
   "source": [
    "topic_model.get_topic(1)"
   ]
  },
  {
   "cell_type": "code",
   "execution_count": 52,
   "metadata": {},
   "outputs": [
    {
     "data": {
      "text/plain": [
       "772     I purchased this at my local health food store...\n",
       "820     I realize that it is not quite healthy to guzz...\n",
       "1799    I purchased this lime juice a few years ago on...\n",
       "2123    This is a good drink, tastes like soda, but fr...\n",
       "2302    This is for sure not what I was expecting it t...\n",
       "3848    I've tried other flavors of Switch carbonated ...\n",
       "1781    I expected to like this drink because I like v...\n",
       "1719    I like orange soda but usually cannot drink an...\n",
       "3868    So far I like this cherry juice best.  I was e...\n",
       "3142    I wasn't sure what to expect with this citrusy...\n",
       "Name: Text, dtype: object"
      ]
     },
     "execution_count": 52,
     "metadata": {},
     "output_type": "execute_result"
    }
   ],
   "source": [
    "labeled_train = pd.DataFrame({'Text': train.text,'Label':topic_model.topics_})\n",
    "labeled_train.loc[labeled_train['Label']==4, 'Text'].sample(n=10)"
   ]
  },
  {
   "cell_type": "code",
   "execution_count": 41,
   "metadata": {},
   "outputs": [
    {
     "data": {
      "text/plain": [
       "'Did not like flavor.  Left significant residue in cup and flow was limited into cup.  Tried 2 and plan to return.  Very disappointing'"
      ]
     },
     "execution_count": 41,
     "metadata": {},
     "output_type": "execute_result"
    }
   ],
   "source": [
    "train.text[791]"
   ]
  },
  {
   "cell_type": "code",
   "execution_count": 47,
   "metadata": {},
   "outputs": [],
   "source": [
    "miniLM_model.topic_model.set_topic_labels({\n",
    "-1: 'Outliers',\n",
    "0: 'Soft Drinks',\n",
    "1: 'Tea/Coffee',\n",
    "2: 'Dog Food',\n",
    "3: 'Sauces',\n",
    "4: 'Baking Products',\n",
    "5: 'Snack Bars',\n",
    "6: 'Chips',\n",
    "7: 'Keurig Coffee Products',\n",
    "8: 'Cereal',\n",
    "9: 'Noodle',\n",
    "10: 'Salty Food Products',\n",
    "11: 'Crackers',\n",
    "12: 'Cat Food',\n",
    "13: 'Coconut Products',\n",
    "14: 'Popcorn',\n",
    "15: 'Oil Products',\n",
    "16: 'Soup',\n",
    "17: 'Protein Powder',\n",
    "18: 'Peanut Butter'\n",
    "})"
   ]
  },
  {
   "cell_type": "code",
   "execution_count": 46,
   "metadata": {},
   "outputs": [
    {
     "data": {
      "text/plain": [
       "1530    this product is hard to find for us in stores ...\n",
       "2138    I was expecting a plain old cup of coffee when...\n",
       "1323    The products lid stays attached to the needle ...\n",
       "937     I love Sumatra coffee and was excited to recei...\n",
       "2797    Although I've only been able to try three of C...\n",
       "2338    I love these K cups they have a nice tea taste...\n",
       "1407    I'm a pretty big coffee drinker, but had never...\n",
       "2409    I enjoyed these k-cups when I used them. They ...\n",
       "676     I have tried about 25 different K-Cup flavors,...\n",
       "139     Caused my cuisinart k-cup brewer to leak every...\n",
       "Name: Text, dtype: object"
      ]
     },
     "execution_count": 46,
     "metadata": {},
     "output_type": "execute_result"
    }
   ],
   "source": [
    "labeled_train = pd.DataFrame({'Text': train.text,'Label':miniLM_model.topic_model.topics_})\n",
    "labeled_train.loc[labeled_train['Label']==7, 'Text'].sample(n=10)"
   ]
  },
  {
   "cell_type": "code",
   "execution_count": 68,
   "metadata": {},
   "outputs": [],
   "source": [
    "miniLM_model.topic_model.set_topic_labels({\n",
    "-1: 'Outliers',\n",
    "0: 'Staple Food/Cooking Products',\n",
    "1: 'Coffee',\n",
    "2: 'Tea',\n",
    "3: 'Snacks',\n",
    "4: 'Dog Food',\n",
    "5: 'Baby Food/Canned Food',\n",
    "6: 'Delivery',\n",
    "7: 'Processed Food',\n",
    "8: 'Cat Food',\n",
    "9: 'Concentrated Syrup',\n",
    "10: 'Popcorn',\n",
    "11: 'Coconut Products',\n",
    "12: 'Protein Powder',\n",
    "13: 'Consumable Oil',\n",
    "14: 'Soup'})"
   ]
  },
  {
   "cell_type": "code",
   "execution_count": 82,
   "metadata": {},
   "outputs": [
    {
     "data": {
      "application/vnd.jupyter.widget-view+json": {
       "model_id": "6e6ae585c4ec49c2bcdcab9532692125",
       "version_major": 2,
       "version_minor": 0
      },
      "text/plain": [
       "Batches:   0%|          | 0/35 [00:00<?, ?it/s]"
      ]
     },
     "metadata": {},
     "output_type": "display_data"
    },
    {
     "name": "stderr",
     "output_type": "stream",
     "text": [
      "2023-04-05 14:48:07,900 - BERTopic - Reduced dimensionality\n",
      "2023-04-05 14:48:07,969 - BERTopic - Predicted clusters\n"
     ]
    }
   ],
   "source": [
    "test_label = model.predict(test)\n",
    "labeled_test = pd.DataFrame({'Text': test.text,'Label':test_label[0]})\n",
    "lab = model.topic_model.get_topic_info().loc[:,['Topic', 'CustomName']]\n",
    "labeled_test = labeled_test.merge(lab, how='left', left_on='Label', right_on='Topic')"
   ]
  },
  {
   "cell_type": "code",
   "execution_count": 83,
   "metadata": {},
   "outputs": [
    {
     "data": {
      "text/html": [
       "<div>\n",
       "<style scoped>\n",
       "    .dataframe tbody tr th:only-of-type {\n",
       "        vertical-align: middle;\n",
       "    }\n",
       "\n",
       "    .dataframe tbody tr th {\n",
       "        vertical-align: top;\n",
       "    }\n",
       "\n",
       "    .dataframe thead th {\n",
       "        text-align: right;\n",
       "    }\n",
       "</style>\n",
       "<table border=\"1\" class=\"dataframe\">\n",
       "  <thead>\n",
       "    <tr style=\"text-align: right;\">\n",
       "      <th></th>\n",
       "      <th>Text</th>\n",
       "      <th>Topic</th>\n",
       "      <th>CustomName</th>\n",
       "    </tr>\n",
       "    <tr>\n",
       "      <th>Label</th>\n",
       "      <th></th>\n",
       "      <th></th>\n",
       "      <th></th>\n",
       "    </tr>\n",
       "  </thead>\n",
       "  <tbody>\n",
       "    <tr>\n",
       "      <th>-1</th>\n",
       "      <td>400</td>\n",
       "      <td>400</td>\n",
       "      <td>400</td>\n",
       "    </tr>\n",
       "    <tr>\n",
       "      <th>0</th>\n",
       "      <td>262</td>\n",
       "      <td>262</td>\n",
       "      <td>262</td>\n",
       "    </tr>\n",
       "    <tr>\n",
       "      <th>1</th>\n",
       "      <td>107</td>\n",
       "      <td>107</td>\n",
       "      <td>107</td>\n",
       "    </tr>\n",
       "    <tr>\n",
       "      <th>2</th>\n",
       "      <td>107</td>\n",
       "      <td>107</td>\n",
       "      <td>107</td>\n",
       "    </tr>\n",
       "    <tr>\n",
       "      <th>3</th>\n",
       "      <td>67</td>\n",
       "      <td>67</td>\n",
       "      <td>67</td>\n",
       "    </tr>\n",
       "    <tr>\n",
       "      <th>4</th>\n",
       "      <td>55</td>\n",
       "      <td>55</td>\n",
       "      <td>55</td>\n",
       "    </tr>\n",
       "    <tr>\n",
       "      <th>5</th>\n",
       "      <td>41</td>\n",
       "      <td>41</td>\n",
       "      <td>41</td>\n",
       "    </tr>\n",
       "    <tr>\n",
       "      <th>6</th>\n",
       "      <td>37</td>\n",
       "      <td>37</td>\n",
       "      <td>37</td>\n",
       "    </tr>\n",
       "    <tr>\n",
       "      <th>7</th>\n",
       "      <td>13</td>\n",
       "      <td>13</td>\n",
       "      <td>13</td>\n",
       "    </tr>\n",
       "  </tbody>\n",
       "</table>\n",
       "</div>"
      ],
      "text/plain": [
       "       Text  Topic  CustomName\n",
       "Label                         \n",
       "-1      400    400         400\n",
       " 0      262    262         262\n",
       " 1      107    107         107\n",
       " 2      107    107         107\n",
       " 3       67     67          67\n",
       " 4       55     55          55\n",
       " 5       41     41          41\n",
       " 6       37     37          37\n",
       " 7       13     13          13"
      ]
     },
     "execution_count": 83,
     "metadata": {},
     "output_type": "execute_result"
    }
   ],
   "source": [
    "labeled_test.groupby('Label').count()"
   ]
  },
  {
   "cell_type": "code",
   "execution_count": 84,
   "metadata": {},
   "outputs": [],
   "source": [
    "out=labeled_test.loc[labeled_test['Label']==-1].sample(n=10, random_state= 4263)   \n",
    "for i in range(8):\n",
    "    out = out.append(labeled_test.loc[labeled_test['Label']==i].sample(n=10, replace=False, random_state= 4263))"
   ]
  },
  {
   "cell_type": "code",
   "execution_count": 63,
   "metadata": {},
   "outputs": [
    {
     "name": "stdout",
     "output_type": "stream",
     "text": [
      "Training model\n",
      "---------------------------------\n",
      "\n",
      "model name: zero-shot\n"
     ]
    },
    {
     "data": {
      "application/vnd.jupyter.widget-view+json": {
       "model_id": "005c91452f9943518963ba9d3a8c60f9",
       "version_major": 2,
       "version_minor": 0
      },
      "text/plain": [
       "Batches:   0%|          | 0/137 [00:00<?, ?it/s]"
      ]
     },
     "metadata": {},
     "output_type": "display_data"
    },
    {
     "name": "stderr",
     "output_type": "stream",
     "text": [
      "2023-04-05 14:18:35,872 - BERTopic - Transformed documents to Embeddings\n",
      "2023-04-05 14:18:40,406 - BERTopic - Reduced dimensionality\n",
      "2023-04-05 14:18:40,581 - BERTopic - Clustered reduced embeddings\n",
      "c:\\Users\\tingy\\OneDrive\\NUS\\DSA4263\\DSA4263_DSApes\\env\\lib\\site-packages\\numpy\\core\\fromnumeric.py:3432: RuntimeWarning:\n",
      "\n",
      "Mean of empty slice.\n",
      "\n",
      "c:\\Users\\tingy\\OneDrive\\NUS\\DSA4263\\DSA4263_DSApes\\env\\lib\\site-packages\\numpy\\core\\_methods.py:190: RuntimeWarning:\n",
      "\n",
      "invalid value encountered in double_scalars\n",
      "\n"
     ]
    },
    {
     "name": "stdout",
     "output_type": "stream",
     "text": [
      "Coherence score: nan\n",
      "    Topic  Count                                               Name\n",
      "0      -1   1291                -1_rinds_pork rinds_lentils_similac\n",
      "1       0    288                                        0_drinks___\n",
      "2       1    282                                        1_drinks___\n",
      "3       2    265                                        2_snacks___\n",
      "4       3    167                                     3_household___\n",
      "5       4    146                                           4_dog___\n",
      "6       5    127                                         5_sauce___\n",
      "7       6    112           6_bars good_banana nut_bars ve_kind bars\n",
      "8       7    112                                        7_drinks___\n",
      "9       8    108  8_salt vinegar_lime flavoring_chips really_reg...\n",
      "10      9    107                                 9_carbohydrates___\n",
      "11     10    106                                10_carbohydrates___\n",
      "12     11    106                         11_healthy alternatives___\n",
      "13     12    102                                       12_drinks___\n",
      "14     13     98                                       13_drinks___\n",
      "15     14     92                                       14_snacks___\n",
      "16     15     80                         15_healthy alternatives___\n",
      "17     16     74                                16_carbohydrates___\n",
      "18     17     64  17_beer nuts_like nuts_roasted almonds_love al...\n",
      "19     18     58                                          18_cat___\n",
      "20     19     53                                19_carbohydrates___\n",
      "21     20     50  20_theater_movie theater_kettle corn_theater p...\n",
      "22     21     49                                       21_drinks___\n",
      "23     22     48                                       22_snacks___\n",
      "24     23     47                                        23_sauce___\n",
      "25     24     46                         24_healthy alternatives___\n",
      "26     25     45                                    25_household___\n",
      "27     26     44                         26_healthy alternatives___\n",
      "28     27     43  27_bought items_contact company_00 given_recei...\n",
      "29     28     41                                       28_drinks___\n",
      "30     29     37                  29_miso_miso cup_bisque_bowl soup\n",
      "31     30     35   30_skippy_allergic peanuts_skippy reduced_barney\n",
      "32     31     32                                    31_household___\n",
      "Words and score of topic 0:\n",
      " [('drinks', 0.8129745125770569), ('', 0), ('', 0), ('', 0), ('', 0), ('', 0), ('', 0), ('', 0), ('', 0), ('', 0)]\n",
      "Words and score of topic 1:\n",
      " [('drinks', 0.6015759706497192), ('', 0), ('', 0), ('', 0), ('', 0), ('', 0), ('', 0), ('', 0), ('', 0), ('', 0)]\n",
      "Words and score of topic 2:\n",
      " [('snacks', 0.8776724338531494), ('', 0), ('', 0), ('', 0), ('', 0), ('', 0), ('', 0), ('', 0), ('', 0), ('', 0)]\n",
      "Words and score of topic 3:\n",
      " [('household', 0.9443082809448242), ('', 0), ('', 0), ('', 0), ('', 0), ('', 0), ('', 0), ('', 0), ('', 0), ('', 0)]\n",
      "Words and score of topic 4:\n",
      " [('dog', 0.869774341583252), ('', 0), ('', 0), ('', 0), ('', 0), ('', 0), ('', 0), ('', 0), ('', 0), ('', 0)]\n",
      "Words and score of topic 5:\n",
      " [('sauce', 0.9189000129699707), ('', 0), ('', 0), ('', 0), ('', 0), ('', 0), ('', 0), ('', 0), ('', 0), ('', 0)]\n",
      "Words and score of topic 6:\n",
      " [('bars good', 0.015716948306581224), ('banana nut', 0.013454257615579399), ('bars ve', 0.011106286392270697), ('kind bars', 0.011106286392270697), ('like bars', 0.011106286392270697), ('bars tasty', 0.011106286392270697), ('ingredients bars', 0.011106286392270697), ('bars taste', 0.011106286392270697), ('best bars', 0.008651775146549336), ('beach diet', 0.008651775146549336)]\n",
      "Words and score of topic 7:\n",
      " [('drinks', 0.8098949790000916), ('', 0), ('', 0), ('', 0), ('', 0), ('', 0), ('', 0), ('', 0), ('', 0), ('', 0)]\n",
      "Words and score of topic 8:\n",
      " [('salt vinegar', 0.015102269240336108), ('lime flavoring', 0.01325409797756003), ('chips really', 0.011345971569910435), ('regular chips', 0.011345971569910435), ('kettle brand', 0.011345971569910435), ('bag chips', 0.011345971569910435), ('chips chips', 0.011345971569910435), ('chips great', 0.011345971569910435), ('kettle chip', 0.009365928113942976), ('eat chips', 0.009365928113942976)]\n",
      "Words and score of topic 9:\n",
      " [('carbohydrates', 0.5228285193443298), ('', 0), ('', 0), ('', 0), ('', 0), ('', 0), ('', 0), ('', 0), ('', 0), ('', 0)]\n",
      "Words and score of topic 10:\n",
      " [('carbohydrates', 0.5391693115234375), ('', 0), ('', 0), ('', 0), ('', 0), ('', 0), ('', 0), ('', 0), ('', 0), ('', 0)]\n",
      "Words and score of topic 11:\n",
      " [('healthy alternatives', 0.8944679498672485), ('', 0), ('', 0), ('', 0), ('', 0), ('', 0), ('', 0), ('', 0), ('', 0), ('', 0)]\n",
      "Words and score of topic 12:\n",
      " [('drinks', 0.5258744955062866), ('', 0), ('', 0), ('', 0), ('', 0), ('', 0), ('', 0), ('', 0), ('', 0), ('', 0)]\n",
      "Words and score of topic 13:\n",
      " [('drinks', 0.8498060703277588), ('', 0), ('', 0), ('', 0), ('', 0), ('', 0), ('', 0), ('', 0), ('', 0), ('', 0)]\n",
      "Words and score of topic 14:\n",
      " [('snacks', 0.712505042552948), ('', 0), ('', 0), ('', 0), ('', 0), ('', 0), ('', 0), ('', 0), ('', 0), ('', 0)]\n",
      "Words and score of topic 15:\n",
      " [('healthy alternatives', 0.6669910550117493), ('', 0), ('', 0), ('', 0), ('', 0), ('', 0), ('', 0), ('', 0), ('', 0), ('', 0)]\n",
      "Words and score of topic 16:\n",
      " [('carbohydrates', 0.6355797052383423), ('', 0), ('', 0), ('', 0), ('', 0), ('', 0), ('', 0), ('', 0), ('', 0), ('', 0)]\n",
      "Words and score of topic 17:\n",
      " [('beer nuts', 0.027560581262701608), ('like nuts', 0.019475517935809514), ('roasted almonds', 0.015171389976083891), ('love almonds', 0.015171389976083891), ('extra sugar', 0.015171389976083891), ('like cashews', 0.015171389976083891), ('taste almonds', 0.015171389976083891), ('natural almonds', 0.015171389976083891), ('brazil nuts', 0.010618338241166357), ('lou', 0.010618338241166357)]\n",
      "Words and score of topic 18:\n",
      " [('cat', 0.7534002661705017), ('', 0), ('', 0), ('', 0), ('', 0), ('', 0), ('', 0), ('', 0), ('', 0), ('', 0)]\n",
      "Words and score of topic 19:\n",
      " [('carbohydrates', 0.7726234793663025), ('', 0), ('', 0), ('', 0), ('', 0), ('', 0), ('', 0), ('', 0), ('', 0), ('', 0)]\n",
      "Words and score of topic 20:\n",
      " [('theater', 0.05609388665570513), ('movie theater', 0.03412396216475771), ('kettle corn', 0.021943451373859148), ('theater popcorn', 0.021943451373859148), ('freshly popped', 0.01535805151891342), ('flavor popcorn', 0.01535805151891342), ('salt flavoring', 0.01535805151891342), ('cob', 0.01535805151891342), ('seasoning salt', 0.01535805151891342), ('great northern', 0.01535805151891342)]\n",
      "Words and score of topic 21:\n",
      " [('drinks', 0.727461040019989), ('', 0), ('', 0), ('', 0), ('', 0), ('', 0), ('', 0), ('', 0), ('', 0), ('', 0)]\n",
      "Words and score of topic 22:\n",
      " [('snacks', 0.5228753089904785), ('', 0), ('', 0), ('', 0), ('', 0), ('', 0), ('', 0), ('', 0), ('', 0), ('', 0)]\n",
      "Words and score of topic 23:\n",
      " [('sauce', 0.7818907499313354), ('', 0), ('', 0), ('', 0), ('', 0), ('', 0), ('', 0), ('', 0), ('', 0), ('', 0)]\n",
      "Words and score of topic 24:\n",
      " [('healthy alternatives', 0.7305036187171936), ('', 0), ('', 0), ('', 0), ('', 0), ('', 0), ('', 0), ('', 0), ('', 0), ('', 0)]\n",
      "Words and score of topic 25:\n",
      " [('household', 0.5324039459228516), ('', 0), ('', 0), ('', 0), ('', 0), ('', 0), ('', 0), ('', 0), ('', 0), ('', 0)]\n",
      "Words and score of topic 26:\n",
      " [('healthy alternatives', 0.6745588183403015), ('', 0), ('', 0), ('', 0), ('', 0), ('', 0), ('', 0), ('', 0), ('', 0), ('', 0)]\n",
      "Words and score of topic 27:\n",
      " [('bought items', 0.0373038988209397), ('contact company', 0.0373038988209397), ('00 given', 0.019996227367748774), ('receive fast', 0.019996227367748774), ('say agree', 0.019996227367748774), ('selling product', 0.019996227367748774), ('seeing equally', 0.019996227367748774), ('say boxed', 0.019996227367748774), ('replica sliders', 0.019996227367748774), ('product supposed', 0.019996227367748774)]\n",
      "Words and score of topic 28:\n",
      " [('drinks', 0.5595107078552246), ('', 0), ('', 0), ('', 0), ('', 0), ('', 0), ('', 0), ('', 0), ('', 0), ('', 0)]\n",
      "Words and score of topic 29:\n",
      " [('miso', 0.05169408065496058), ('miso cup', 0.03883651920847271), ('bisque', 0.03205895985734365), ('bowl soup', 0.024973866360138094), ('lobster bisque', 0.024973866360138094), ('amys', 0.024973866360138094), ('chicken noodle', 0.024973866360138094), ('white wine', 0.017479015477135745), ('overcooked', 0.017479015477135745), ('prawns', 0.017479015477135745)]\n",
      "Words and score of topic 30:\n",
      " [('skippy', 0.043264309173174954), ('allergic peanuts', 0.035714033577343), ('skippy reduced', 0.027821161563285703), ('barney', 0.027821161563285703), ('barney butter', 0.027821161563285703), ('butter decided', 0.019471815318622375), ('type box', 0.019471815318622375), ('good peanut', 0.019471815318622375), ('pbj', 0.019471815318622375), ('crunchy peanut', 0.019471815318622375)]\n",
      "Words and score of topic 31:\n",
      " [('household', 0.5744298100471497), ('', 0), ('', 0), ('', 0), ('', 0), ('', 0), ('', 0), ('', 0), ('', 0), ('', 0)]\n"
     ]
    }
   ],
   "source": [
    "###### Driver class\n",
    "curr_dir = os.getcwd()\n",
    "config_path = os.path.join(curr_dir, 'bert_topic_config.yml')\n",
    "config_file = parse_config(config_path)\n",
    "data_file = config_file['data_folder']\n",
    "home_folder = os.path.abspath(os.path.join(os.getcwd(),'../..'))\n",
    "data_df = pd.read_csv(os.path.join(home_folder,data_file))\n",
    "train, test = create_datasets(data_df)\n",
    "for i in range(len(config_file)-3):\n",
    "    if i == 5:\n",
    "        cur_model = f'model_{i}'\n",
    "        model_name = config_file[cur_model]['model_name']\n",
    "        embedding_model = eval(config_file[cur_model]['embedding_model'])\n",
    "        dim_reduction_model = eval(config_file[cur_model]['dim_reduction_model'])\n",
    "        clustering_model = eval(config_file[cur_model]['clustering_model'])\n",
    "        vectorizer_params = dict(config_file[cur_model]['vectorizer_params'])    \n",
    "        ctfidf_params = dict(config_file[cur_model]['ctfidf_params'])\n",
    "        representation_model = eval(config_file[cur_model]['representation_model'])\n",
    "        min_topic_size = int(config_file[cur_model]['min_topic_size'])\n",
    "        nr_topics = config_file[cur_model]['nr_topics']\n",
    "        logging_path = os.path.join(curr_dir,config_file['log_path'],f'{model_name}.log')\n",
    "        image_path = os.path.join(curr_dir,config_file['image_folder'])\n",
    "        ctfidf_model = ClassTfidfTransformer(bm25_weighting= ctfidf_params[\"bm25_weighting\"], reduce_frequent_words= ctfidf_params[\"reduce_frequent_words\"])        \n",
    "        vectorizer_model = CountVectorizer(stop_words=train.stop_words_list, min_df = vectorizer_params['min_df'], max_df = vectorizer_params['min_df'],\\\n",
    "                                    ngram_range=(1,vectorizer_params['ngram_range']))\n",
    "        logger = open(os.path.join(curr_dir, logging_path), 'w')\n",
    "        custom_print('Training model',logger = logger)\n",
    "        custom_print('---------------------------------\\n',logger = logger)\n",
    "        custom_print(f\"model name: {model_name}\",logger = logger)\n",
    "        model = BERTopic_model(embedding_model = embedding_model,\n",
    "                            dim_reduction_model=dim_reduction_model,\n",
    "                            clustering_model = clustering_model,\n",
    "                            vectorizer_model=vectorizer_model, \n",
    "                            ctfidf_model=ctfidf_model, \n",
    "                            representation_model=representation_model,\n",
    "                            min_topic_size = min_topic_size)\n",
    "        if nr_topics == 'None':\n",
    "            nr_topics = None\n",
    "        model.train(train, probability=False, nr_topics=nr_topics)\n",
    "        custom_print(f'Coherence score: {model.evaluate(train)}', logger=logger)\n",
    "        custom_print(f'{model.topic_model.get_topic_info()}', logger=logger)\n",
    "\n",
    "        for i in range(len(model.topic_model.topic_labels_)-1):\n",
    "            custom_print(f'Words and score of topic {i}:\\n {model.topic_model.get_topic(i)}',\n",
    "                            logger=logger)\n",
    "        fig = model.topic_model.visualize_documents(train.text)\n",
    "        fig.write_html(f\"{image_path}{model_name}_doc_viz.html\")\n",
    "        model.topic_model.save(f\"{model_name}\")\t\n",
    "\n",
    "logger.close()"
   ]
  },
  {
   "cell_type": "code",
   "execution_count": 65,
   "metadata": {},
   "outputs": [],
   "source": [
    "topics_to_merge= [[0,1,7,12,13,21,28], [2,14,22,8,20], [3,25,31],[5,23],[9,10,16,19],[6,11,15,24,26,17],\n",
    "                  [-1,27,29,30]]\n",
    "model.topic_model.merge_topics(train.text, topics_to_merge)"
   ]
  },
  {
   "cell_type": "code",
   "execution_count": 80,
   "metadata": {},
   "outputs": [
    {
     "data": {
      "text/html": [
       "<div>\n",
       "<style scoped>\n",
       "    .dataframe tbody tr th:only-of-type {\n",
       "        vertical-align: middle;\n",
       "    }\n",
       "\n",
       "    .dataframe tbody tr th {\n",
       "        vertical-align: top;\n",
       "    }\n",
       "\n",
       "    .dataframe thead th {\n",
       "        text-align: right;\n",
       "    }\n",
       "</style>\n",
       "<table border=\"1\" class=\"dataframe\">\n",
       "  <thead>\n",
       "    <tr style=\"text-align: right;\">\n",
       "      <th></th>\n",
       "      <th>Topic</th>\n",
       "      <th>Count</th>\n",
       "      <th>Name</th>\n",
       "      <th>CustomName</th>\n",
       "    </tr>\n",
       "  </thead>\n",
       "  <tbody>\n",
       "    <tr>\n",
       "      <th>0</th>\n",
       "      <td>-1</td>\n",
       "      <td>1406</td>\n",
       "      <td>-1_rinds_pork rinds_lentils_similac</td>\n",
       "      <td>Outliers</td>\n",
       "    </tr>\n",
       "    <tr>\n",
       "      <th>1</th>\n",
       "      <td>0</td>\n",
       "      <td>972</td>\n",
       "      <td>0_drinks___</td>\n",
       "      <td>Drinks</td>\n",
       "    </tr>\n",
       "    <tr>\n",
       "      <th>2</th>\n",
       "      <td>1</td>\n",
       "      <td>563</td>\n",
       "      <td>1_chicken jerky_movie_products china_theater</td>\n",
       "      <td>Snacks</td>\n",
       "    </tr>\n",
       "    <tr>\n",
       "      <th>3</th>\n",
       "      <td>2</td>\n",
       "      <td>452</td>\n",
       "      <td>2_healthy alternatives___</td>\n",
       "      <td>Healthy Alternatives</td>\n",
       "    </tr>\n",
       "    <tr>\n",
       "      <th>4</th>\n",
       "      <td>3</td>\n",
       "      <td>340</td>\n",
       "      <td>3_carbohydrates___</td>\n",
       "      <td>Carbohydrates</td>\n",
       "    </tr>\n",
       "    <tr>\n",
       "      <th>5</th>\n",
       "      <td>4</td>\n",
       "      <td>244</td>\n",
       "      <td>4_household___</td>\n",
       "      <td>Household</td>\n",
       "    </tr>\n",
       "    <tr>\n",
       "      <th>6</th>\n",
       "      <td>5</td>\n",
       "      <td>174</td>\n",
       "      <td>5_sauce___</td>\n",
       "      <td>Sauce</td>\n",
       "    </tr>\n",
       "    <tr>\n",
       "      <th>7</th>\n",
       "      <td>6</td>\n",
       "      <td>146</td>\n",
       "      <td>6_dog___</td>\n",
       "      <td>Dogs</td>\n",
       "    </tr>\n",
       "    <tr>\n",
       "      <th>8</th>\n",
       "      <td>7</td>\n",
       "      <td>58</td>\n",
       "      <td>7_cat___</td>\n",
       "      <td>Cats</td>\n",
       "    </tr>\n",
       "  </tbody>\n",
       "</table>\n",
       "</div>"
      ],
      "text/plain": [
       "   Topic  Count                                          Name  \\\n",
       "0     -1   1406           -1_rinds_pork rinds_lentils_similac   \n",
       "1      0    972                                   0_drinks___   \n",
       "2      1    563  1_chicken jerky_movie_products china_theater   \n",
       "3      2    452                     2_healthy alternatives___   \n",
       "4      3    340                            3_carbohydrates___   \n",
       "5      4    244                                4_household___   \n",
       "6      5    174                                    5_sauce___   \n",
       "7      6    146                                      6_dog___   \n",
       "8      7     58                                      7_cat___   \n",
       "\n",
       "             CustomName  \n",
       "0              Outliers  \n",
       "1                Drinks  \n",
       "2                Snacks  \n",
       "3  Healthy Alternatives  \n",
       "4         Carbohydrates  \n",
       "5             Household  \n",
       "6                 Sauce  \n",
       "7                  Dogs  \n",
       "8                  Cats  "
      ]
     },
     "execution_count": 80,
     "metadata": {},
     "output_type": "execute_result"
    }
   ],
   "source": [
    "model.topic_model.get_topic_info()"
   ]
  },
  {
   "cell_type": "code",
   "execution_count": 79,
   "metadata": {},
   "outputs": [],
   "source": [
    "model.topic_model.set_topic_labels({-1: \"Outliers\", 0: \"Drinks\", 1: \"Snacks\", 2:\"Healthy Alternatives\",\n",
    "                                    3:\"Carbohydrates\", 4:\"Household\", 5:\"Sauce\", 6:'Dogs', 7:\"Cats\"})"
   ]
  },
  {
   "cell_type": "code",
   "execution_count": 85,
   "metadata": {},
   "outputs": [],
   "source": [
    "out.drop(columns=['Label', 'Topic'], inplace=True)"
   ]
  },
  {
   "cell_type": "code",
   "execution_count": 87,
   "metadata": {},
   "outputs": [],
   "source": [
    "out.to_csv(f'zero-shot.csv', index=False)"
   ]
  },
  {
   "cell_type": "code",
   "execution_count": 44,
   "metadata": {},
   "outputs": [
    {
     "data": {
      "application/vnd.plotly.v1+json": {
       "config": {
        "plotlyServerURL": "https://plot.ly"
       },
       "data": [
        {
         "hoverinfo": "text",
         "hovertext": [
          "<b>Topic 0</b><br>Words: 10 years, disappeared, purchased amazon, surprisingly good, tasting like",
          "<b>Topic 0</b><br>Words: snacking, month old, 95, gas, dried fruit",
          "<b>Topic 0</b><br>Words: high price, month old, 95, gas, dried fruit",
          "<b>Topic 0</b><br>Words: delicious definitely, cheaper amazon, healthy snacks, did research, dried fruit",
          "<b>Topic 0</b><br>Words: bit expensive, dried fruit, candies, 95, gas",
          "<b>Topic 0</b><br>Words: candies, month old, 95, gas, dried fruit",
          "<b>Topic 0</b><br>Words: month old, 95, gas, dried fruit, wal",
          "<b>Topic 0</b><br>Words: associated, cane sugar, resist, carbohydrate, candies",
          "<b>Topic 0</b><br>Words: risk, 48, healthy low, recommend like, melts",
          "<b>Topic 0</b><br>Words: enjoys, birthday, brother, roll, buy store",
          "<b>Topic 0</b><br>Words: cheapest, regular price, digestion, floor, dried fruit",
          "<b>Topic 0</b><br>Words: slow, boys, 44, eat bag, healthy snacks",
          "<b>Topic 0</b><br>Words: reordered, 50 cents, nice size, healthy snacks, coupons",
          "<b>Topic 0</b><br>Words: wholesale, make nice, store great, ounce bags, product love",
          "<b>Topic 0</b><br>Words: pecans, wrap, flavor best, raisins, opened box",
          "<b>Topic 0</b><br>Words: 95, time ordered, coupon, month old, btw",
          "<b>Topic 0</b><br>Words: month old, lids, pound bag, opened box, chunky",
          "<b>Topic 0</b><br>Words: healthy tasty, wal, coupon, tree, peas"
         ],
         "marker": {
          "color": "#E69F00"
         },
         "mode": "lines",
         "name": "0_month old_95_gas_dried fruit",
         "type": "scatter",
         "x": [
          "2017-12-20T04:48:00",
          "2018-03-10T19:12:00",
          "2018-05-30T09:36:00",
          "2018-08-19T00:00:00",
          "2018-11-07T14:24:00",
          "2019-01-27T04:48:00",
          "2019-04-17T19:12:00",
          "2019-07-07T09:36:00",
          "2019-09-26T00:00:00",
          "2019-12-15T14:24:00",
          "2020-03-05T04:48:00",
          "2020-05-24T19:12:00",
          "2020-08-13T09:36:00",
          "2020-11-02T00:00:00",
          "2021-01-21T14:24:00",
          "2021-04-12T04:48:00",
          "2021-07-01T19:12:00",
          "2021-09-20T09:36:00"
         ],
         "y": [
          13,
          3,
          2,
          18,
          7,
          5,
          3,
          14,
          15,
          49,
          17,
          25,
          40,
          51,
          69,
          116,
          101,
          96
         ]
        },
        {
         "hoverinfo": "text",
         "hovertext": [
          "<b>Topic 1</b><br>Words: runny, decaf, drink coffee, acidity, green mountain",
          "<b>Topic 1</b><br>Words: select, acidity, drink coffee, community, freshly",
          "<b>Topic 1</b><br>Words: drink coffee, acidity, green mountain, creamer, grind",
          "<b>Topic 1</b><br>Words: drip, particular flavor, coupon, grind, creamer",
          "<b>Topic 1</b><br>Words: store great, quit, drink coffee, acidity, green mountain",
          "<b>Topic 1</b><br>Words: drink coffee, drip, acidity, green mountain, creamer",
          "<b>Topic 1</b><br>Words: drink coffee, community, drip, acidity, green mountain",
          "<b>Topic 1</b><br>Words: products ve, drink coffee, acidity, green mountain, grind",
          "<b>Topic 1</b><br>Words: powdery, balanced, wonderful flavor, cup tea, labeled",
          "<b>Topic 1</b><br>Words: jump, writing review, fair trade, good cup, nice taste",
          "<b>Topic 1</b><br>Words: make cup, acidity, batches, drink coffee, green mountain",
          "<b>Topic 1</b><br>Words: calories fat, wonderful flavor, creamer, splenda, drink coffee",
          "<b>Topic 1</b><br>Words: chemical taste, product love, plastic bag, different flavors, sip",
          "<b>Topic 1</b><br>Words: different brands, decaf, expect taste, mornings, newman",
          "<b>Topic 1</b><br>Words: darker, green mountain, flavor rich, recommend buying, degrees",
          "<b>Topic 1</b><br>Words: community, drink coffee, creamer, odor, regular price",
          "<b>Topic 1</b><br>Words: community, acidity, bodied, drink coffee, green mountain",
          "<b>Topic 1</b><br>Words: drip, grind, fair price, mornings, hearing"
         ],
         "marker": {
          "color": "#56B4E9"
         },
         "mode": "lines",
         "name": "1_drink coffee_acidity_green mountain_gr...",
         "type": "scatter",
         "x": [
          "2017-12-20T04:48:00",
          "2018-03-10T19:12:00",
          "2018-05-30T09:36:00",
          "2018-08-19T00:00:00",
          "2018-11-07T14:24:00",
          "2019-01-27T04:48:00",
          "2019-04-17T19:12:00",
          "2019-07-07T09:36:00",
          "2019-09-26T00:00:00",
          "2019-12-15T14:24:00",
          "2020-03-05T04:48:00",
          "2020-05-24T19:12:00",
          "2020-08-13T09:36:00",
          "2020-11-02T00:00:00",
          "2021-01-21T14:24:00",
          "2021-04-12T04:48:00",
          "2021-07-01T19:12:00",
          "2021-09-20T09:36:00"
         ],
         "y": [
          4,
          4,
          3,
          9,
          2,
          2,
          1,
          6,
          11,
          24,
          5,
          14,
          6,
          13,
          27,
          70,
          36,
          37
         ]
        },
        {
         "hoverinfo": "text",
         "hovertext": [
          "<b>Topic 2</b><br>Words: product comes, good fresh, usually use, english, rose",
          "<b>Topic 2</b><br>Words: rose, hearing, phase, use good, gallon",
          "<b>Topic 2</b><br>Words: rose, steep, cup tea, hot cold, sip",
          "<b>Topic 2</b><br>Words: evening, rose, steep, cup tea, hot cold",
          "<b>Topic 2</b><br>Words: boiling, rose, steep, cup tea, grass",
          "<b>Topic 2</b><br>Words: rose, steep, cup tea, sip, earthy",
          "<b>Topic 2</b><br>Words: evening, rose, steep, cup tea, hot cold",
          "<b>Topic 2</b><br>Words: noticeable, cup tea, drink great, english, smoothies",
          "<b>Topic 2</b><br>Words: hawaiian, snob, moment, visiting, ratio",
          "<b>Topic 2</b><br>Words: doesnt, peaches, price time, flavor excellent, cup tea",
          "<b>Topic 2</b><br>Words: pressure, hot cold, worth penny, skip, steep",
          "<b>Topic 2</b><br>Words: guest, tasting like, cup tea, hot cold, drops",
          "<b>Topic 2</b><br>Words: boiling, flavorings, afghanistan, smells wonderful, fair price",
          "<b>Topic 2</b><br>Words: dust, cup tea, hot cold, kind like, earthy",
          "<b>Topic 2</b><br>Words: root, rose, quit, sip, cup tea",
          "<b>Topic 2</b><br>Words: cold water, steep, rose, sickly sweet, dissolves"
         ],
         "marker": {
          "color": "#009E73"
         },
         "mode": "lines",
         "name": "2_rose_steep_cup tea_hot cold",
         "type": "scatter",
         "x": [
          "2017-12-20T04:48:00",
          "2018-03-10T19:12:00",
          "2018-08-19T00:00:00",
          "2018-11-07T14:24:00",
          "2019-01-27T04:48:00",
          "2019-07-07T09:36:00",
          "2019-09-26T00:00:00",
          "2019-12-15T14:24:00",
          "2020-03-05T04:48:00",
          "2020-05-24T19:12:00",
          "2020-08-13T09:36:00",
          "2020-11-02T00:00:00",
          "2021-01-21T14:24:00",
          "2021-04-12T04:48:00",
          "2021-07-01T19:12:00",
          "2021-09-20T09:36:00"
         ],
         "y": [
          3,
          4,
          2,
          5,
          1,
          2,
          2,
          29,
          9,
          24,
          9,
          19,
          32,
          52,
          36,
          38
         ]
        },
        {
         "hoverinfo": "text",
         "hovertext": [
          "<b>Topic 3</b><br>Words: bites, newman, healthy food, country, bank",
          "<b>Topic 3</b><br>Words: pink, newman, food products, animal, peas",
          "<b>Topic 3</b><br>Words: pronounce, minimum, dogs, newman, food products",
          "<b>Topic 3</b><br>Words: dogs, newman, food products, country, used buy",
          "<b>Topic 3</b><br>Words: alike, amazon sells, swallow, specialty, eat bag",
          "<b>Topic 3</b><br>Words: wholesome, newman, food products, animal, peas",
          "<b>Topic 3</b><br>Words: newman, hell, food products, adult, years tried",
          "<b>Topic 3</b><br>Words: gas, granted, lead, dogs, newman",
          "<b>Topic 3</b><br>Words: newman, weather, wouldn eat, digestion, farms",
          "<b>Topic 3</b><br>Words: younger, miles, minimum, healthy food, pound bag",
          "<b>Topic 3</b><br>Words: country, food products, blueberries, newman, pocket",
          "<b>Topic 3</b><br>Words: reading reviews, dogs, noticeably, encountered, make healthy",
          "<b>Topic 3</b><br>Words: promise, dogs, food products, ill, bank",
          "<b>Topic 3</b><br>Words: companies, failure, floor, used buy, newman",
          "<b>Topic 3</b><br>Words: peas, dogs, didn realize, holes, newman"
         ],
         "marker": {
          "color": "#F0E442"
         },
         "mode": "lines",
         "name": "3_dogs_newman_food products_bank",
         "type": "scatter",
         "x": [
          "2017-12-20T04:48:00",
          "2018-03-10T19:12:00",
          "2018-05-30T09:36:00",
          "2018-11-07T14:24:00",
          "2019-07-07T09:36:00",
          "2019-09-26T00:00:00",
          "2019-12-15T14:24:00",
          "2020-03-05T04:48:00",
          "2020-05-24T19:12:00",
          "2020-08-13T09:36:00",
          "2020-11-02T00:00:00",
          "2021-01-21T14:24:00",
          "2021-04-12T04:48:00",
          "2021-07-01T19:12:00",
          "2021-09-20T09:36:00"
         ],
         "y": [
          2,
          1,
          2,
          1,
          2,
          4,
          18,
          6,
          13,
          8,
          24,
          22,
          74,
          38,
          45
         ]
        },
        {
         "hoverinfo": "text",
         "hovertext": [
          "<b>Topic 4</b><br>Words: cheaper just, surprisingly good, carbonated, orange juice, 140 calories",
          "<b>Topic 4</b><br>Words: eat like, best way, orange juice, 140 calories, tang",
          "<b>Topic 4</b><br>Words: different tastes, 8oz, carbonated, orange juice, beverage",
          "<b>Topic 4</b><br>Words: best deal, amazon just, whey, quality great, orange juice",
          "<b>Topic 4</b><br>Words: carbonated, orange juice, 140 calories, tang, fewer",
          "<b>Topic 4</b><br>Words: carbonated, orange juice, 140 calories, tang, fewer",
          "<b>Topic 4</b><br>Words: pace, tasty nice, carbonated, orange juice, artificial flavors",
          "<b>Topic 4</b><br>Words: carbonated, drink great, price little, 34, sip",
          "<b>Topic 4</b><br>Words: carbonated, particular flavor, does contain, vine program, ve fan",
          "<b>Topic 4</b><br>Words: particular flavor, nectar, makes nice, faint, swallow",
          "<b>Topic 4</b><br>Words: expect taste, replaced, nice taste, peaches, orange juice",
          "<b>Topic 4</b><br>Words: requirement, sip, carbonated, orange juice, artificial flavors",
          "<b>Topic 4</b><br>Words: ll stick, beverage, 140, carbonated, sampled",
          "<b>Topic 4</b><br>Words: carbonated, surprised taste, class, tang, carbohydrates",
          "<b>Topic 4</b><br>Words: orange juice, carbonated, artificial flavors, gallon, 140 calories",
          "<b>Topic 4</b><br>Words: carbonated, orange juice, make nice, tang, smoother",
          "<b>Topic 4</b><br>Words: orange juice, tang, sampled, carbonated, high calories"
         ],
         "marker": {
          "color": "#D55E00"
         },
         "mode": "lines",
         "name": "4_carbonated_orange juice_140 calories_t...",
         "type": "scatter",
         "x": [
          "2017-12-20T04:48:00",
          "2018-03-10T19:12:00",
          "2018-05-30T09:36:00",
          "2018-08-19T00:00:00",
          "2018-11-07T14:24:00",
          "2019-04-17T19:12:00",
          "2019-07-07T09:36:00",
          "2019-09-26T00:00:00",
          "2019-12-15T14:24:00",
          "2020-03-05T04:48:00",
          "2020-05-24T19:12:00",
          "2020-08-13T09:36:00",
          "2020-11-02T00:00:00",
          "2021-01-21T14:24:00",
          "2021-04-12T04:48:00",
          "2021-07-01T19:12:00",
          "2021-09-20T09:36:00"
         ],
         "y": [
          3,
          3,
          1,
          6,
          1,
          1,
          4,
          9,
          23,
          8,
          8,
          4,
          16,
          18,
          42,
          28,
          18
         ]
        },
        {
         "hoverinfo": "text",
         "hovertext": [
          "<b>Topic 5</b><br>Words: price little, smoothies, grass, tasting product, carrots",
          "<b>Topic 5</b><br>Words: amazon really, tempted, bought brand, brother, grass",
          "<b>Topic 5</b><br>Words: flavor rich, grass, tasting product, carrots, taste smooth",
          "<b>Topic 5</b><br>Words: chemical taste, grass, tasting product, carrots, taste smooth",
          "<b>Topic 5</b><br>Words: product used, competitive, grass, tasting product, carrots",
          "<b>Topic 5</b><br>Words: boys, earthy, fragrance, shelf life, local health",
          "<b>Topic 5</b><br>Words: price time, ll like, grass, carrots, taste smooth",
          "<b>Topic 5</b><br>Words: carrots, like maybe, timely manner, different brands, peas",
          "<b>Topic 5</b><br>Words: obvious, rinse, grass, tasting product, carrots",
          "<b>Topic 5</b><br>Words: time ordered, product comes, adding water, thought good, clumps",
          "<b>Topic 5</b><br>Words: taste smooth, row, carrots, does contain, tasty sweet",
          "<b>Topic 5</b><br>Words: tasting product, grass, able buy, bakery, preparing",
          "<b>Topic 5</b><br>Words: taste smooth, 50 cents, smells wonderful, particular flavor, thank goodness",
          "<b>Topic 5</b><br>Words: thought good, expect taste, different tastes, exceptional, substitutes"
         ],
         "marker": {
          "color": "#0072B2"
         },
         "mode": "lines",
         "name": "5_grass_tasting product_carrots_taste sm...",
         "type": "scatter",
         "x": [
          "2018-03-10T19:12:00",
          "2018-08-19T00:00:00",
          "2019-04-17T19:12:00",
          "2019-07-07T09:36:00",
          "2019-09-26T00:00:00",
          "2019-12-15T14:24:00",
          "2020-03-05T04:48:00",
          "2020-05-24T19:12:00",
          "2020-08-13T09:36:00",
          "2020-11-02T00:00:00",
          "2021-01-21T14:24:00",
          "2021-04-12T04:48:00",
          "2021-07-01T19:12:00",
          "2021-09-20T09:36:00"
         ],
         "y": [
          1,
          4,
          1,
          1,
          3,
          12,
          3,
          13,
          6,
          12,
          14,
          34,
          35,
          30
         ]
        },
        {
         "hoverinfo": "text",
         "hovertext": [
          "<b>Topic 6</b><br>Words: 110, carbohydrate, orange juice, salad dressing, sandwiches",
          "<b>Topic 6</b><br>Words: salad dressing, salsa, sandwiches, pace, taste hot",
          "<b>Topic 6</b><br>Words: salad dressing, sandwiches, pace, taste hot, calories serving",
          "<b>Topic 6</b><br>Words: salad dressing, salsa, sandwiches, taste hot, calories serving",
          "<b>Topic 6</b><br>Words: salad dressing, sandwiches, pace, taste hot, calories serving",
          "<b>Topic 6</b><br>Words: salad dressing, salsa, sandwiches, taste hot, dipping",
          "<b>Topic 6</b><br>Words: dipping, rolls, thai, salad dressing, salsa",
          "<b>Topic 6</b><br>Words: pulled, favorite flavors, rep, salad dressing, herbs",
          "<b>Topic 6</b><br>Words: herbs, tuna, salad dressing, pace, taste hot",
          "<b>Topic 6</b><br>Words: burn, like use, salad dressing, olive oil, herbs",
          "<b>Topic 6</b><br>Words: afghanistan, summary, smoky, 110, salad dressing",
          "<b>Topic 6</b><br>Words: disappoint, calories serving, writing review, 110, btw",
          "<b>Topic 6</b><br>Words: salad dressing, olive oil, smoky, health conscious, try product",
          "<b>Topic 6</b><br>Words: japan, taste hot, salad dressing, recommend like, clumps",
          "<b>Topic 6</b><br>Words: sandwiches, salad dressing, shaped, excellent flavor, good things"
         ],
         "marker": {
          "color": "#CC79A7"
         },
         "mode": "lines",
         "name": "6_salad dressing_sandwiches_spaghetti_ol...",
         "type": "scatter",
         "x": [
          "2017-07-10T09:18:43.200000",
          "2017-12-20T04:48:00",
          "2018-03-10T19:12:00",
          "2018-08-19T00:00:00",
          "2019-01-27T04:48:00",
          "2019-07-07T09:36:00",
          "2019-09-26T00:00:00",
          "2019-12-15T14:24:00",
          "2020-03-05T04:48:00",
          "2020-05-24T19:12:00",
          "2020-11-02T00:00:00",
          "2021-01-21T14:24:00",
          "2021-04-12T04:48:00",
          "2021-07-01T19:12:00",
          "2021-09-20T09:36:00"
         ],
         "y": [
          1,
          2,
          1,
          4,
          2,
          4,
          4,
          11,
          5,
          5,
          13,
          14,
          23,
          24,
          21
         ]
        },
        {
         "hoverinfo": "text",
         "hovertext": [
          "<b>Topic 7</b><br>Words: beef, tuna, try ll, caught, pink",
          "<b>Topic 7</b><br>Words: think good, tuna, beef, try ll, caught",
          "<b>Topic 7</b><br>Words: 12 ounces, beef, tuna, try ll, caught",
          "<b>Topic 7</b><br>Words: eat plain, use regular, tuna, beef, caught",
          "<b>Topic 7</b><br>Words: totally worth, beef, tuna, try ll, pink",
          "<b>Topic 7</b><br>Words: olive oil, tuna, try ll, caught, pink",
          "<b>Topic 7</b><br>Words: continue buy, tuna, beef, try ll, caught",
          "<b>Topic 7</b><br>Words: pouring, eat bag, calories serving, tasty snack, tuna",
          "<b>Topic 7</b><br>Words: tuna, beef, try ll, caught, olive oil",
          "<b>Topic 7</b><br>Words: beef, crap, try ll, replaced, price really",
          "<b>Topic 7</b><br>Words: resist, seafood, consumer, try ll, pink",
          "<b>Topic 7</b><br>Words: tuna, beef, amazon better, soooo, trips",
          "<b>Topic 7</b><br>Words: anti, clumps, goes long, lead, coast",
          "<b>Topic 7</b><br>Words: flavor excellent, water add, able purchase, weather, miles",
          "<b>Topic 7</b><br>Words: tuna, shipments, overall recommend, caught, great products",
          "<b>Topic 7</b><br>Words: afghanistan, seafood, perfect snack, product love, coupon"
         ],
         "marker": {
          "color": "#E69F00"
         },
         "mode": "lines",
         "name": "7_try ll_pink_seafood_overall recommend",
         "type": "scatter",
         "x": [
          "2017-07-10T09:18:43.200000",
          "2017-12-20T04:48:00",
          "2018-03-10T19:12:00",
          "2018-08-19T00:00:00",
          "2018-11-07T14:24:00",
          "2019-07-07T09:36:00",
          "2019-09-26T00:00:00",
          "2019-12-15T14:24:00",
          "2020-03-05T04:48:00",
          "2020-05-24T19:12:00",
          "2020-08-13T09:36:00",
          "2020-11-02T00:00:00",
          "2021-01-21T14:24:00",
          "2021-04-12T04:48:00",
          "2021-07-01T19:12:00",
          "2021-09-20T09:36:00"
         ],
         "y": [
          1,
          2,
          4,
          3,
          1,
          2,
          2,
          12,
          4,
          13,
          5,
          10,
          10,
          14,
          15,
          22
         ]
        },
        {
         "hoverinfo": "text",
         "hovertext": [
          "<b>Topic 8</b><br>Words: artificial flavors, lecithin, fats, carbohydrate, 20g",
          "<b>Topic 8</b><br>Words: kettle, carbohydrate, perfect snack, munching, coupons",
          "<b>Topic 8</b><br>Words: carbohydrate, perfect snack, munching, coupons, dip",
          "<b>Topic 8</b><br>Words: tip, hard eat, chocolate chip, toddler, 3g",
          "<b>Topic 8</b><br>Words: kettle, carbohydrate, perfect snack, munching, coupons",
          "<b>Topic 8</b><br>Words: kettle, carbohydrate, perfect snack, munching, coupons",
          "<b>Topic 8</b><br>Words: perfect snack, smoky, salsa, dip, carbohydrate",
          "<b>Topic 8</b><br>Words: large quantity, cheaper amazon, kettle, carbohydrate, 20g",
          "<b>Topic 8</b><br>Words: perfect snack, kettle, carbohydrate, coupons, munching",
          "<b>Topic 8</b><br>Words: kettle, carbohydrate, perfect snack, 20g, coupons",
          "<b>Topic 8</b><br>Words: won buy, similar taste, carrots, tasty snack, carbohydrate",
          "<b>Topic 8</b><br>Words: kettle, coupons, like cinnamon, small package, good fresh",
          "<b>Topic 8</b><br>Words: kettle, carbohydrate, 20g, flakes, variation",
          "<b>Topic 8</b><br>Words: kettle, powdery, cheddar, nutritional value, bought case",
          "<b>Topic 8</b><br>Words: 3g, preparing, 24 pack, fancy, dip"
         ],
         "marker": {
          "color": "#56B4E9"
         },
         "mode": "lines",
         "name": "8_kettle_carbohydrate_perfect snack_munc...",
         "type": "scatter",
         "x": [
          "2017-12-20T04:48:00",
          "2018-03-10T19:12:00",
          "2018-05-30T09:36:00",
          "2018-08-19T00:00:00",
          "2018-11-07T14:24:00",
          "2019-09-26T00:00:00",
          "2019-12-15T14:24:00",
          "2020-03-05T04:48:00",
          "2020-05-24T19:12:00",
          "2020-08-13T09:36:00",
          "2020-11-02T00:00:00",
          "2021-01-21T14:24:00",
          "2021-04-12T04:48:00",
          "2021-07-01T19:12:00",
          "2021-09-20T09:36:00"
         ],
         "y": [
          1,
          1,
          1,
          5,
          1,
          1,
          6,
          3,
          3,
          1,
          7,
          12,
          30,
          22,
          14
         ]
        },
        {
         "hoverinfo": "text",
         "hovertext": [
          "<b>Topic 9</b><br>Words: candies, like don, granola bars, tasty snack, lose weight",
          "<b>Topic 9</b><br>Words: eat box, healthy snacks, betty, granola bars, quaker",
          "<b>Topic 9</b><br>Words: roll, granola bars, quaker, raisins, lose weight",
          "<b>Topic 9</b><br>Words: granola bars, quaker, raisins, lose weight, non dairy",
          "<b>Topic 9</b><br>Words: granola bars, quaker, raisins, lose weight, non dairy",
          "<b>Topic 9</b><br>Words: granola bars, quaker, raisins, lose weight, non dairy",
          "<b>Topic 9</b><br>Words: skip, granola bars, quaker, lose weight, non dairy",
          "<b>Topic 9</b><br>Words: roll, granola bars, phase, tapioca, healthy tasty",
          "<b>Topic 9</b><br>Words: crust, did great, overall recommend, texture great, granola bars",
          "<b>Topic 9</b><br>Words: delicious definitely, boxes pack, quaker, healthy tasty, granola bars",
          "<b>Topic 9</b><br>Words: purchases, lose weight, cup tea, raisin, granola bars",
          "<b>Topic 9</b><br>Words: production, size just, nutty flavor, granola bars, raisins",
          "<b>Topic 9</b><br>Words: quaker, tasty nice, nice change, granola bars, non dairy",
          "<b>Topic 9</b><br>Words: ratio, wonderful alternative, non dairy, chocolate chip, granola bars",
          "<b>Topic 9</b><br>Words: granola bars, cashews, shaped, best deal, almonds",
          "<b>Topic 9</b><br>Words: granola bars, cheaper amazon, lose weight, don expect, low cal"
         ],
         "marker": {
          "color": "#009E73"
         },
         "mode": "lines",
         "name": "9_granola bars_quaker_tasty snack_lose w...",
         "type": "scatter",
         "x": [
          "2018-03-10T19:12:00",
          "2018-08-19T00:00:00",
          "2018-11-07T14:24:00",
          "2019-01-27T04:48:00",
          "2019-04-17T19:12:00",
          "2019-07-07T09:36:00",
          "2019-09-26T00:00:00",
          "2019-12-15T14:24:00",
          "2020-03-05T04:48:00",
          "2020-05-24T19:12:00",
          "2020-08-13T09:36:00",
          "2020-11-02T00:00:00",
          "2021-01-21T14:24:00",
          "2021-04-12T04:48:00",
          "2021-07-01T19:12:00",
          "2021-09-20T09:36:00"
         ],
         "y": [
          1,
          4,
          2,
          2,
          1,
          1,
          2,
          14,
          7,
          8,
          6,
          8,
          12,
          13,
          13,
          14
         ]
        },
        {
         "hoverinfo": "text",
         "hovertext": [
          "<b>Topic 10</b><br>Words: crust, muffin, betty, oven, substitutes",
          "<b>Topic 10</b><br>Words: changes, muffin, betty, oven, blueberries",
          "<b>Topic 10</b><br>Words: salad dressing, frosting, muffin, betty, oven",
          "<b>Topic 10</b><br>Words: zip lock, roll, muffin, betty, oven",
          "<b>Topic 10</b><br>Words: suffer, muffin, betty, substitutes, blueberries",
          "<b>Topic 10</b><br>Words: muffin, betty, oven, substitutes, blueberries",
          "<b>Topic 10</b><br>Words: shrimp, orange juice, muffin, oven, substitutes",
          "<b>Topic 10</b><br>Words: muffin, gf, betty, oven, substitutes",
          "<b>Topic 10</b><br>Words: reordered, water add, texture great, blueberries, muffin",
          "<b>Topic 10</b><br>Words: identical, muffin, betty, oven, substitutes",
          "<b>Topic 10</b><br>Words: gf, tip, cons, diabetes, reading reviews",
          "<b>Topic 10</b><br>Words: substitutes, biting, unfortunate, melts, muffin",
          "<b>Topic 10</b><br>Words: betty, sliced, oven, substitutes, tapioca",
          "<b>Topic 10</b><br>Words: giving stars, falls, dust, frosting, coast",
          "<b>Topic 10</b><br>Words: muffin, betty, smells wonderful, taste subtle, company makes"
         ],
         "marker": {
          "color": "#F0E442"
         },
         "mode": "lines",
         "name": "10_muffin_betty_oven_substitutes",
         "type": "scatter",
         "x": [
          "2017-12-20T04:48:00",
          "2018-03-10T19:12:00",
          "2018-08-19T00:00:00",
          "2019-01-27T04:48:00",
          "2019-07-07T09:36:00",
          "2019-09-26T00:00:00",
          "2019-12-15T14:24:00",
          "2020-03-05T04:48:00",
          "2020-05-24T19:12:00",
          "2020-08-13T09:36:00",
          "2020-11-02T00:00:00",
          "2021-01-21T14:24:00",
          "2021-04-12T04:48:00",
          "2021-07-01T19:12:00",
          "2021-09-20T09:36:00"
         ],
         "y": [
          1,
          3,
          4,
          1,
          1,
          1,
          4,
          2,
          6,
          3,
          10,
          13,
          25,
          18,
          15
         ]
        },
        {
         "hoverinfo": "text",
         "hovertext": [
          "<b>Topic 11</b><br>Words: holes, chocolate chip, nana, mini, raisin",
          "<b>Topic 11</b><br>Words: raisins, pronounce, melt mouth, chocolate chip, nana",
          "<b>Topic 11</b><br>Words: nana, hard eat, melt mouth, decaf, chocolate chip",
          "<b>Topic 11</b><br>Words: eat box, chocolate chip, nana, raisins, high calories",
          "<b>Topic 11</b><br>Words: bit sweet, healthy tasty, chocolate chip, mini, 140 calories",
          "<b>Topic 11</b><br>Words: chocolate chip, tasting like, nana, raisins, 140 calories",
          "<b>Topic 11</b><br>Words: chocolate chip, nana, mini, 140 calories, quaker",
          "<b>Topic 11</b><br>Words: quaker, chocolate chip, nana, mini, 140 calories",
          "<b>Topic 11</b><br>Words: did great, high calories, toddler, fragrance, wholesome",
          "<b>Topic 11</b><br>Words: tree, snob, chocolate chip, 140 calories, raisin",
          "<b>Topic 11</b><br>Words: good cup, raisins, chocolate chip, nana, oven",
          "<b>Topic 11</b><br>Words: pronounce, store great, ll definitely, food allergies, quaker",
          "<b>Topic 11</b><br>Words: tapioca, eat day, calories serving, 140, chocolate chip",
          "<b>Topic 11</b><br>Words: mini, bites, chocolate chip, 140 calories, raisin",
          "<b>Topic 11</b><br>Words: amazon cheaper, time eating, chocolate chip, raisins, oven",
          "<b>Topic 11</b><br>Words: chocolate chip, healthy ingredients, tang, mini, healthy low",
          "<b>Topic 11</b><br>Words: 140 calories, bit high, warned, healthy snacks, raisin",
          "<b>Topic 11</b><br>Words: chocolate chip, raisin, mini, bit sweet, planning"
         ],
         "marker": {
          "color": "#D55E00"
         },
         "mode": "lines",
         "name": "11_chocolate chip_nana_mini_140 calories",
         "type": "scatter",
         "x": [
          "2017-07-10T09:18:43.200000",
          "2017-12-20T04:48:00",
          "2018-03-10T19:12:00",
          "2018-05-30T09:36:00",
          "2018-08-19T00:00:00",
          "2018-11-07T14:24:00",
          "2019-01-27T04:48:00",
          "2019-04-17T19:12:00",
          "2019-09-26T00:00:00",
          "2019-12-15T14:24:00",
          "2020-03-05T04:48:00",
          "2020-05-24T19:12:00",
          "2020-08-13T09:36:00",
          "2020-11-02T00:00:00",
          "2021-01-21T14:24:00",
          "2021-04-12T04:48:00",
          "2021-07-01T19:12:00",
          "2021-09-20T09:36:00"
         ],
         "y": [
          2,
          7,
          4,
          1,
          6,
          4,
          1,
          1,
          4,
          4,
          4,
          3,
          6,
          4,
          6,
          21,
          13,
          14
         ]
        },
        {
         "hoverinfo": "text",
         "hovertext": [
          "<b>Topic 12</b><br>Words: lowest, flax, granola bars, raisin, 12 ounces",
          "<b>Topic 12</b><br>Words: flax, snacking, granola bars, raisin, 12 ounces",
          "<b>Topic 12</b><br>Words: flax, granola bars, raisin, 12 ounces, boxes pack",
          "<b>Topic 12</b><br>Words: great products, cheapest, flax, granola bars, raisin",
          "<b>Topic 12</b><br>Words: ve fan, looking forward, mini, flax, granola bars",
          "<b>Topic 12</b><br>Words: ounce bags, healthy food, snacking, flax, granola bars",
          "<b>Topic 12</b><br>Words: flax, snacking, granola bars, raisin, 12 ounces",
          "<b>Topic 12</b><br>Words: bran, raisin, recommend buying, whey, diabetes",
          "<b>Topic 12</b><br>Words: flax, granola bars, coupons, recommendation, maple syrup",
          "<b>Topic 12</b><br>Words: cinnamon taste, nutrients, hearty, years tried, carbohydrates",
          "<b>Topic 12</b><br>Words: boxes pack, bran, 12 ounces, mornings, smoothies",
          "<b>Topic 12</b><br>Words: flakes, bran, raisin, 12 ounces, taste definitely"
         ],
         "marker": {
          "color": "#0072B2"
         },
         "mode": "lines",
         "name": "12_flax_snacking_granola bars_raisin",
         "type": "scatter",
         "x": [
          "2017-12-20T04:48:00",
          "2018-03-10T19:12:00",
          "2018-08-19T00:00:00",
          "2019-12-15T14:24:00",
          "2020-03-05T04:48:00",
          "2020-05-24T19:12:00",
          "2020-08-13T09:36:00",
          "2020-11-02T00:00:00",
          "2021-01-21T14:24:00",
          "2021-04-12T04:48:00",
          "2021-07-01T19:12:00",
          "2021-09-20T09:36:00"
         ],
         "y": [
          3,
          2,
          1,
          5,
          5,
          2,
          1,
          6,
          15,
          16,
          20,
          17
         ]
        },
        {
         "hoverinfo": "text",
         "hovertext": [
          "<b>Topic 13</b><br>Words: taste smooth, keurig, lids, green mountain, cider",
          "<b>Topic 13</b><br>Words: tried far, keurig, lids, green mountain, cider",
          "<b>Topic 13</b><br>Words: keurig, lids, green mountain, cider, sip",
          "<b>Topic 13</b><br>Words: keurig, lids, green mountain, cider, sip",
          "<b>Topic 13</b><br>Words: member, lowest, plastic bag, keurig, green mountain",
          "<b>Topic 13</b><br>Words: cider, drink coffee, keurig, green mountain, member",
          "<b>Topic 13</b><br>Words: make cup, keurig, lids, green mountain, cider",
          "<b>Topic 13</b><br>Words: ease, keurig, green mountain, cider, sip",
          "<b>Topic 13</b><br>Words: grateful, wholesale, green mountain, keurig, cider",
          "<b>Topic 13</b><br>Words: keurig, guest, flavor rich, recommend buying, spilled",
          "<b>Topic 13</b><br>Words: keurig, lids, 50 cents, numerous, buy store",
          "<b>Topic 13</b><br>Words: keurig, sounds, smallest, ordered boxes, flavor way",
          "<b>Topic 13</b><br>Words: lids, cider, keurig, like original, store great"
         ],
         "marker": {
          "color": "#CC79A7"
         },
         "mode": "lines",
         "name": "13_keurig_lids_green mountain_cider",
         "type": "scatter",
         "x": [
          "2017-12-20T04:48:00",
          "2018-08-19T00:00:00",
          "2019-07-07T09:36:00",
          "2019-09-26T00:00:00",
          "2019-12-15T14:24:00",
          "2020-03-05T04:48:00",
          "2020-05-24T19:12:00",
          "2020-08-13T09:36:00",
          "2020-11-02T00:00:00",
          "2021-01-21T14:24:00",
          "2021-04-12T04:48:00",
          "2021-07-01T19:12:00",
          "2021-09-20T09:36:00"
         ],
         "y": [
          1,
          3,
          2,
          1,
          4,
          2,
          5,
          2,
          4,
          11,
          28,
          16,
          13
         ]
        },
        {
         "hoverinfo": "text",
         "hovertext": [
          "<b>Topic 14</b><br>Words: distinct, sweetner, swiss, splenda, non dairy",
          "<b>Topic 14</b><br>Words: lowest, swiss, keurig, distinct, non dairy",
          "<b>Topic 14</b><br>Words: 24 pack, swiss, grove, distinct, sweetner",
          "<b>Topic 14</b><br>Words: swiss, distinct, non dairy, 24 pack, earthy",
          "<b>Topic 14</b><br>Words: unfortunate, swiss, distinct, non dairy, 24 pack",
          "<b>Topic 14</b><br>Words: swiss, distinct, non dairy, 24 pack, earthy",
          "<b>Topic 14</b><br>Words: swiss, distinct, non dairy, 24 pack, earthy",
          "<b>Topic 14</b><br>Words: bitter like, regular price, order product, good mix, shakes",
          "<b>Topic 14</b><br>Words: melts, good mix, different brands, bodied, swiss",
          "<b>Topic 14</b><br>Words: semi, swiss, distinct, non dairy, sweetner",
          "<b>Topic 14</b><br>Words: keurig, swiss, distinct, non dairy, sweetner",
          "<b>Topic 14</b><br>Words: bit expensive, shipping fast, swiss, warned, 24 pack",
          "<b>Topic 14</b><br>Words: swiss, non dairy, earthy, falls, make cup",
          "<b>Topic 14</b><br>Words: warned, effects, cheaper just, pomegranate, candies",
          "<b>Topic 14</b><br>Words: melt mouth, green mountain, swiss, non dairy, sweetner",
          "<b>Topic 14</b><br>Words: phase, calories fat, taste hot, really does, carbohydrate"
         ],
         "marker": {
          "color": "#E69F00"
         },
         "mode": "lines",
         "name": "14_swiss_distinct_falls_non dairy",
         "type": "scatter",
         "x": [
          "2017-12-20T04:48:00",
          "2018-03-10T19:12:00",
          "2018-08-19T00:00:00",
          "2018-11-07T14:24:00",
          "2019-01-27T04:48:00",
          "2019-04-17T19:12:00",
          "2019-07-07T09:36:00",
          "2019-12-15T14:24:00",
          "2020-03-05T04:48:00",
          "2020-05-24T19:12:00",
          "2020-08-13T09:36:00",
          "2020-11-02T00:00:00",
          "2021-01-21T14:24:00",
          "2021-04-12T04:48:00",
          "2021-07-01T19:12:00",
          "2021-09-20T09:36:00"
         ],
         "y": [
          4,
          2,
          3,
          1,
          1,
          1,
          2,
          8,
          7,
          2,
          3,
          3,
          8,
          12,
          13,
          11
         ]
        }
       ],
       "layout": {
        "height": 450,
        "hoverlabel": {
         "bgcolor": "white",
         "font": {
          "family": "Rockwell",
          "size": 16
         }
        },
        "legend": {
         "title": {
          "text": "<b>Global Topic Representation"
         }
        },
        "template": {
         "data": {
          "bar": [
           {
            "error_x": {
             "color": "rgb(36,36,36)"
            },
            "error_y": {
             "color": "rgb(36,36,36)"
            },
            "marker": {
             "line": {
              "color": "white",
              "width": 0.5
             },
             "pattern": {
              "fillmode": "overlay",
              "size": 10,
              "solidity": 0.2
             }
            },
            "type": "bar"
           }
          ],
          "barpolar": [
           {
            "marker": {
             "line": {
              "color": "white",
              "width": 0.5
             },
             "pattern": {
              "fillmode": "overlay",
              "size": 10,
              "solidity": 0.2
             }
            },
            "type": "barpolar"
           }
          ],
          "carpet": [
           {
            "aaxis": {
             "endlinecolor": "rgb(36,36,36)",
             "gridcolor": "white",
             "linecolor": "white",
             "minorgridcolor": "white",
             "startlinecolor": "rgb(36,36,36)"
            },
            "baxis": {
             "endlinecolor": "rgb(36,36,36)",
             "gridcolor": "white",
             "linecolor": "white",
             "minorgridcolor": "white",
             "startlinecolor": "rgb(36,36,36)"
            },
            "type": "carpet"
           }
          ],
          "choropleth": [
           {
            "colorbar": {
             "outlinewidth": 1,
             "tickcolor": "rgb(36,36,36)",
             "ticks": "outside"
            },
            "type": "choropleth"
           }
          ],
          "contour": [
           {
            "colorbar": {
             "outlinewidth": 1,
             "tickcolor": "rgb(36,36,36)",
             "ticks": "outside"
            },
            "colorscale": [
             [
              0,
              "#440154"
             ],
             [
              0.1111111111111111,
              "#482878"
             ],
             [
              0.2222222222222222,
              "#3e4989"
             ],
             [
              0.3333333333333333,
              "#31688e"
             ],
             [
              0.4444444444444444,
              "#26828e"
             ],
             [
              0.5555555555555556,
              "#1f9e89"
             ],
             [
              0.6666666666666666,
              "#35b779"
             ],
             [
              0.7777777777777778,
              "#6ece58"
             ],
             [
              0.8888888888888888,
              "#b5de2b"
             ],
             [
              1,
              "#fde725"
             ]
            ],
            "type": "contour"
           }
          ],
          "contourcarpet": [
           {
            "colorbar": {
             "outlinewidth": 1,
             "tickcolor": "rgb(36,36,36)",
             "ticks": "outside"
            },
            "type": "contourcarpet"
           }
          ],
          "heatmap": [
           {
            "colorbar": {
             "outlinewidth": 1,
             "tickcolor": "rgb(36,36,36)",
             "ticks": "outside"
            },
            "colorscale": [
             [
              0,
              "#440154"
             ],
             [
              0.1111111111111111,
              "#482878"
             ],
             [
              0.2222222222222222,
              "#3e4989"
             ],
             [
              0.3333333333333333,
              "#31688e"
             ],
             [
              0.4444444444444444,
              "#26828e"
             ],
             [
              0.5555555555555556,
              "#1f9e89"
             ],
             [
              0.6666666666666666,
              "#35b779"
             ],
             [
              0.7777777777777778,
              "#6ece58"
             ],
             [
              0.8888888888888888,
              "#b5de2b"
             ],
             [
              1,
              "#fde725"
             ]
            ],
            "type": "heatmap"
           }
          ],
          "heatmapgl": [
           {
            "colorbar": {
             "outlinewidth": 1,
             "tickcolor": "rgb(36,36,36)",
             "ticks": "outside"
            },
            "colorscale": [
             [
              0,
              "#440154"
             ],
             [
              0.1111111111111111,
              "#482878"
             ],
             [
              0.2222222222222222,
              "#3e4989"
             ],
             [
              0.3333333333333333,
              "#31688e"
             ],
             [
              0.4444444444444444,
              "#26828e"
             ],
             [
              0.5555555555555556,
              "#1f9e89"
             ],
             [
              0.6666666666666666,
              "#35b779"
             ],
             [
              0.7777777777777778,
              "#6ece58"
             ],
             [
              0.8888888888888888,
              "#b5de2b"
             ],
             [
              1,
              "#fde725"
             ]
            ],
            "type": "heatmapgl"
           }
          ],
          "histogram": [
           {
            "marker": {
             "line": {
              "color": "white",
              "width": 0.6
             }
            },
            "type": "histogram"
           }
          ],
          "histogram2d": [
           {
            "colorbar": {
             "outlinewidth": 1,
             "tickcolor": "rgb(36,36,36)",
             "ticks": "outside"
            },
            "colorscale": [
             [
              0,
              "#440154"
             ],
             [
              0.1111111111111111,
              "#482878"
             ],
             [
              0.2222222222222222,
              "#3e4989"
             ],
             [
              0.3333333333333333,
              "#31688e"
             ],
             [
              0.4444444444444444,
              "#26828e"
             ],
             [
              0.5555555555555556,
              "#1f9e89"
             ],
             [
              0.6666666666666666,
              "#35b779"
             ],
             [
              0.7777777777777778,
              "#6ece58"
             ],
             [
              0.8888888888888888,
              "#b5de2b"
             ],
             [
              1,
              "#fde725"
             ]
            ],
            "type": "histogram2d"
           }
          ],
          "histogram2dcontour": [
           {
            "colorbar": {
             "outlinewidth": 1,
             "tickcolor": "rgb(36,36,36)",
             "ticks": "outside"
            },
            "colorscale": [
             [
              0,
              "#440154"
             ],
             [
              0.1111111111111111,
              "#482878"
             ],
             [
              0.2222222222222222,
              "#3e4989"
             ],
             [
              0.3333333333333333,
              "#31688e"
             ],
             [
              0.4444444444444444,
              "#26828e"
             ],
             [
              0.5555555555555556,
              "#1f9e89"
             ],
             [
              0.6666666666666666,
              "#35b779"
             ],
             [
              0.7777777777777778,
              "#6ece58"
             ],
             [
              0.8888888888888888,
              "#b5de2b"
             ],
             [
              1,
              "#fde725"
             ]
            ],
            "type": "histogram2dcontour"
           }
          ],
          "mesh3d": [
           {
            "colorbar": {
             "outlinewidth": 1,
             "tickcolor": "rgb(36,36,36)",
             "ticks": "outside"
            },
            "type": "mesh3d"
           }
          ],
          "parcoords": [
           {
            "line": {
             "colorbar": {
              "outlinewidth": 1,
              "tickcolor": "rgb(36,36,36)",
              "ticks": "outside"
             }
            },
            "type": "parcoords"
           }
          ],
          "pie": [
           {
            "automargin": true,
            "type": "pie"
           }
          ],
          "scatter": [
           {
            "fillpattern": {
             "fillmode": "overlay",
             "size": 10,
             "solidity": 0.2
            },
            "type": "scatter"
           }
          ],
          "scatter3d": [
           {
            "line": {
             "colorbar": {
              "outlinewidth": 1,
              "tickcolor": "rgb(36,36,36)",
              "ticks": "outside"
             }
            },
            "marker": {
             "colorbar": {
              "outlinewidth": 1,
              "tickcolor": "rgb(36,36,36)",
              "ticks": "outside"
             }
            },
            "type": "scatter3d"
           }
          ],
          "scattercarpet": [
           {
            "marker": {
             "colorbar": {
              "outlinewidth": 1,
              "tickcolor": "rgb(36,36,36)",
              "ticks": "outside"
             }
            },
            "type": "scattercarpet"
           }
          ],
          "scattergeo": [
           {
            "marker": {
             "colorbar": {
              "outlinewidth": 1,
              "tickcolor": "rgb(36,36,36)",
              "ticks": "outside"
             }
            },
            "type": "scattergeo"
           }
          ],
          "scattergl": [
           {
            "marker": {
             "colorbar": {
              "outlinewidth": 1,
              "tickcolor": "rgb(36,36,36)",
              "ticks": "outside"
             }
            },
            "type": "scattergl"
           }
          ],
          "scattermapbox": [
           {
            "marker": {
             "colorbar": {
              "outlinewidth": 1,
              "tickcolor": "rgb(36,36,36)",
              "ticks": "outside"
             }
            },
            "type": "scattermapbox"
           }
          ],
          "scatterpolar": [
           {
            "marker": {
             "colorbar": {
              "outlinewidth": 1,
              "tickcolor": "rgb(36,36,36)",
              "ticks": "outside"
             }
            },
            "type": "scatterpolar"
           }
          ],
          "scatterpolargl": [
           {
            "marker": {
             "colorbar": {
              "outlinewidth": 1,
              "tickcolor": "rgb(36,36,36)",
              "ticks": "outside"
             }
            },
            "type": "scatterpolargl"
           }
          ],
          "scatterternary": [
           {
            "marker": {
             "colorbar": {
              "outlinewidth": 1,
              "tickcolor": "rgb(36,36,36)",
              "ticks": "outside"
             }
            },
            "type": "scatterternary"
           }
          ],
          "surface": [
           {
            "colorbar": {
             "outlinewidth": 1,
             "tickcolor": "rgb(36,36,36)",
             "ticks": "outside"
            },
            "colorscale": [
             [
              0,
              "#440154"
             ],
             [
              0.1111111111111111,
              "#482878"
             ],
             [
              0.2222222222222222,
              "#3e4989"
             ],
             [
              0.3333333333333333,
              "#31688e"
             ],
             [
              0.4444444444444444,
              "#26828e"
             ],
             [
              0.5555555555555556,
              "#1f9e89"
             ],
             [
              0.6666666666666666,
              "#35b779"
             ],
             [
              0.7777777777777778,
              "#6ece58"
             ],
             [
              0.8888888888888888,
              "#b5de2b"
             ],
             [
              1,
              "#fde725"
             ]
            ],
            "type": "surface"
           }
          ],
          "table": [
           {
            "cells": {
             "fill": {
              "color": "rgb(237,237,237)"
             },
             "line": {
              "color": "white"
             }
            },
            "header": {
             "fill": {
              "color": "rgb(217,217,217)"
             },
             "line": {
              "color": "white"
             }
            },
            "type": "table"
           }
          ]
         },
         "layout": {
          "annotationdefaults": {
           "arrowhead": 0,
           "arrowwidth": 1
          },
          "autotypenumbers": "strict",
          "coloraxis": {
           "colorbar": {
            "outlinewidth": 1,
            "tickcolor": "rgb(36,36,36)",
            "ticks": "outside"
           }
          },
          "colorscale": {
           "diverging": [
            [
             0,
             "rgb(103,0,31)"
            ],
            [
             0.1,
             "rgb(178,24,43)"
            ],
            [
             0.2,
             "rgb(214,96,77)"
            ],
            [
             0.3,
             "rgb(244,165,130)"
            ],
            [
             0.4,
             "rgb(253,219,199)"
            ],
            [
             0.5,
             "rgb(247,247,247)"
            ],
            [
             0.6,
             "rgb(209,229,240)"
            ],
            [
             0.7,
             "rgb(146,197,222)"
            ],
            [
             0.8,
             "rgb(67,147,195)"
            ],
            [
             0.9,
             "rgb(33,102,172)"
            ],
            [
             1,
             "rgb(5,48,97)"
            ]
           ],
           "sequential": [
            [
             0,
             "#440154"
            ],
            [
             0.1111111111111111,
             "#482878"
            ],
            [
             0.2222222222222222,
             "#3e4989"
            ],
            [
             0.3333333333333333,
             "#31688e"
            ],
            [
             0.4444444444444444,
             "#26828e"
            ],
            [
             0.5555555555555556,
             "#1f9e89"
            ],
            [
             0.6666666666666666,
             "#35b779"
            ],
            [
             0.7777777777777778,
             "#6ece58"
            ],
            [
             0.8888888888888888,
             "#b5de2b"
            ],
            [
             1,
             "#fde725"
            ]
           ],
           "sequentialminus": [
            [
             0,
             "#440154"
            ],
            [
             0.1111111111111111,
             "#482878"
            ],
            [
             0.2222222222222222,
             "#3e4989"
            ],
            [
             0.3333333333333333,
             "#31688e"
            ],
            [
             0.4444444444444444,
             "#26828e"
            ],
            [
             0.5555555555555556,
             "#1f9e89"
            ],
            [
             0.6666666666666666,
             "#35b779"
            ],
            [
             0.7777777777777778,
             "#6ece58"
            ],
            [
             0.8888888888888888,
             "#b5de2b"
            ],
            [
             1,
             "#fde725"
            ]
           ]
          },
          "colorway": [
           "#1F77B4",
           "#FF7F0E",
           "#2CA02C",
           "#D62728",
           "#9467BD",
           "#8C564B",
           "#E377C2",
           "#7F7F7F",
           "#BCBD22",
           "#17BECF"
          ],
          "font": {
           "color": "rgb(36,36,36)"
          },
          "geo": {
           "bgcolor": "white",
           "lakecolor": "white",
           "landcolor": "white",
           "showlakes": true,
           "showland": true,
           "subunitcolor": "white"
          },
          "hoverlabel": {
           "align": "left"
          },
          "hovermode": "closest",
          "mapbox": {
           "style": "light"
          },
          "paper_bgcolor": "white",
          "plot_bgcolor": "white",
          "polar": {
           "angularaxis": {
            "gridcolor": "rgb(232,232,232)",
            "linecolor": "rgb(36,36,36)",
            "showgrid": false,
            "showline": true,
            "ticks": "outside"
           },
           "bgcolor": "white",
           "radialaxis": {
            "gridcolor": "rgb(232,232,232)",
            "linecolor": "rgb(36,36,36)",
            "showgrid": false,
            "showline": true,
            "ticks": "outside"
           }
          },
          "scene": {
           "xaxis": {
            "backgroundcolor": "white",
            "gridcolor": "rgb(232,232,232)",
            "gridwidth": 2,
            "linecolor": "rgb(36,36,36)",
            "showbackground": true,
            "showgrid": false,
            "showline": true,
            "ticks": "outside",
            "zeroline": false,
            "zerolinecolor": "rgb(36,36,36)"
           },
           "yaxis": {
            "backgroundcolor": "white",
            "gridcolor": "rgb(232,232,232)",
            "gridwidth": 2,
            "linecolor": "rgb(36,36,36)",
            "showbackground": true,
            "showgrid": false,
            "showline": true,
            "ticks": "outside",
            "zeroline": false,
            "zerolinecolor": "rgb(36,36,36)"
           },
           "zaxis": {
            "backgroundcolor": "white",
            "gridcolor": "rgb(232,232,232)",
            "gridwidth": 2,
            "linecolor": "rgb(36,36,36)",
            "showbackground": true,
            "showgrid": false,
            "showline": true,
            "ticks": "outside",
            "zeroline": false,
            "zerolinecolor": "rgb(36,36,36)"
           }
          },
          "shapedefaults": {
           "fillcolor": "black",
           "line": {
            "width": 0
           },
           "opacity": 0.3
          },
          "ternary": {
           "aaxis": {
            "gridcolor": "rgb(232,232,232)",
            "linecolor": "rgb(36,36,36)",
            "showgrid": false,
            "showline": true,
            "ticks": "outside"
           },
           "baxis": {
            "gridcolor": "rgb(232,232,232)",
            "linecolor": "rgb(36,36,36)",
            "showgrid": false,
            "showline": true,
            "ticks": "outside"
           },
           "bgcolor": "white",
           "caxis": {
            "gridcolor": "rgb(232,232,232)",
            "linecolor": "rgb(36,36,36)",
            "showgrid": false,
            "showline": true,
            "ticks": "outside"
           }
          },
          "title": {
           "x": 0.05
          },
          "xaxis": {
           "automargin": true,
           "gridcolor": "rgb(232,232,232)",
           "linecolor": "rgb(36,36,36)",
           "showgrid": false,
           "showline": true,
           "ticks": "outside",
           "title": {
            "standoff": 15
           },
           "zeroline": false,
           "zerolinecolor": "rgb(36,36,36)"
          },
          "yaxis": {
           "automargin": true,
           "gridcolor": "rgb(232,232,232)",
           "linecolor": "rgb(36,36,36)",
           "showgrid": false,
           "showline": true,
           "ticks": "outside",
           "title": {
            "standoff": 15
           },
           "zeroline": false,
           "zerolinecolor": "rgb(36,36,36)"
          }
         }
        },
        "title": {
         "font": {
          "color": "Black",
          "size": 22
         },
         "text": "<b>Topics over Time</b>",
         "x": 0.4,
         "xanchor": "center",
         "y": 0.95,
         "yanchor": "top"
        },
        "width": 1250,
        "xaxis": {
         "showgrid": true
        },
        "yaxis": {
         "showgrid": true,
         "title": {
          "text": "Frequency"
         }
        }
       }
      }
     },
     "metadata": {},
     "output_type": "display_data"
    }
   ],
   "source": [
    "topics_over_time = model.topic_model.topics_over_time(docs=train.text, \n",
    "                                                timestamps=train.date, \n",
    "                                                global_tuning=True, \n",
    "                                                evolution_tuning=True, \n",
    "                                                nr_bins=20)\n",
    "model.topic_model.visualize_topics_over_time(topics_over_time, top_n_topics=15)"
   ]
  },
  {
   "cell_type": "code",
   "execution_count": 88,
   "metadata": {},
   "outputs": [],
   "source": [
    "# Save model\n",
    "model.topic_model.save(\"zero-shot\")\t"
   ]
  },
  {
   "cell_type": "code",
   "execution_count": 28,
   "metadata": {},
   "outputs": [],
   "source": [
    "# Load model\n",
    "topic_model = BERTopic.load(\"bertopic_model\")\t"
   ]
  }
 ],
 "metadata": {
  "kernelspec": {
   "display_name": "Python 3",
   "language": "python",
   "name": "python3"
  },
  "language_info": {
   "codemirror_mode": {
    "name": "ipython",
    "version": 3
   },
   "file_extension": ".py",
   "mimetype": "text/x-python",
   "name": "python",
   "nbconvert_exporter": "python",
   "pygments_lexer": "ipython3",
   "version": "3.8.12"
  },
  "orig_nbformat": 4
 },
 "nbformat": 4,
 "nbformat_minor": 2
}
