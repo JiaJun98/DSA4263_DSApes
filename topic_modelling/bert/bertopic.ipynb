{
 "cells": [
  {
   "cell_type": "code",
   "execution_count": 1,
   "metadata": {},
   "outputs": [
    {
     "name": "stderr",
     "output_type": "stream",
     "text": [
      "[nltk_data] Downloading package punkt to\n",
      "[nltk_data]     C:\\Users\\tingy\\AppData\\Roaming\\nltk_data...\n",
      "[nltk_data]   Package punkt is already up-to-date!\n",
      "[nltk_data] Downloading package wordnet to\n",
      "[nltk_data]     C:\\Users\\tingy\\AppData\\Roaming\\nltk_data...\n",
      "[nltk_data]   Package wordnet is already up-to-date!\n",
      "[nltk_data] Downloading package omw-1.4 to\n",
      "[nltk_data]     C:\\Users\\tingy\\AppData\\Roaming\\nltk_data...\n",
      "[nltk_data]   Package omw-1.4 is already up-to-date!\n",
      "[nltk_data] Downloading package stopwords to\n",
      "[nltk_data]     C:\\Users\\tingy\\AppData\\Roaming\\nltk_data...\n",
      "[nltk_data]   Package stopwords is already up-to-date!\n"
     ]
    }
   ],
   "source": [
    "from bertopic import BERTopic\n",
    "import pandas as pd\n",
    "import numpy as np\n",
    "from sklearn.feature_extraction.text import CountVectorizer\n",
    "from gensim.models.coherencemodel import CoherenceModel\n",
    "import gensim.corpora as corpora\n",
    "import matplotlib.pyplot as plt\n",
    "from bertopic.vectorizers import ClassTfidfTransformer\n",
    "from bertopic.representation import MaximalMarginalRelevance\n",
    "import sys\n",
    "import os\n",
    "import syspend\n",
    "from utility import parse_config, seed_everything, custom_print\n",
    "from preprocess_class import create_datasets\n",
    "from model_base_class import BaseModel\n",
    "from umap import UMAP\n",
    "from hdbscan import HDBSCAN\n",
    "from sklearn.cluster import KMeans\n",
    "from sklearn.decomposition import PCA\n",
    "from transformers.pipelines import pipeline\n",
    "from sentence_transformers import SentenceTransformer\n",
    "from bertopic.representation import KeyBERTInspired\n",
    "\n",
    "sys.path.append(\"../..\")"
   ]
  },
  {
   "cell_type": "code",
   "execution_count": 2,
   "metadata": {},
   "outputs": [],
   "source": [
    "class BERTopic_model(BaseModel):\n",
    "    \"\"\"\n",
    "    BERTopic model for topic modelling. BERTopic is modular and the final topic model is dependent on the submodels chosen for each part of the task\n",
    "    The parts of the model that an be modified is as follows: \n",
    "    1. Document embedding, 2. Dimensionality Reduction, 3. Clustering, 4. Tokenizer, 5. Weighting scheme 6. Representation Tuning (optional)\n",
    "    \"\"\"\n",
    "    def __init__(self, embedding_model = None, dim_reduction_model=None,\n",
    "                 clustering_model = None, vectorizer_model=None, \n",
    "                 ctfidf_model=None,  representation_model=None,\n",
    "                 min_topic_size = 10):\n",
    "        \"\"\"\n",
    "        @param embedding_model: Model to transform document into matrix of embedding\n",
    "        @param dim_reduction_model: Dimensionality reduction algorithm to use\n",
    "        @param clustering_model: Clustering algorithm to use\n",
    "        @param vectorizer_model: Tokenizer to use\n",
    "        @param ctfidf_model: weighting scheme to use\n",
    "        @param representation_model: optional model to use to finetune the representations calculated using ctfidf\n",
    "        \"\"\"\n",
    "        self.topic_model = None\n",
    "        self.embedding_model = embedding_model\n",
    "        self.dim_reduction_model = dim_reduction_model\n",
    "        self.clustering_model = clustering_model\n",
    "        self.vectorizer_model = vectorizer_model\n",
    "        self.ctfidf_model = ctfidf_model\n",
    "        self.representation_model =representation_model\n",
    "        self.min_topic_size = min_topic_size\n",
    "    \n",
    "    def train(self, dataset, probability = False):\n",
    "        \"\"\"\n",
    "        fit and transform the BERTopic model to the dataset\n",
    "        @param dataset [Dataset]: Dataset for the model to be fit and transform on\n",
    "        \"\"\"\n",
    "        self.topic_model = BERTopic(embedding_model=self.embedding_model, ctfidf_model=self.ctfidf_model,\n",
    "                        vectorizer_model=self.vectorizer_model, \n",
    "                        min_topic_size= self.min_topic_size, \n",
    "                        representation_model=self.representation_model, \n",
    "                        umap_model = self.dim_reduction_model, \n",
    "                        hdbscan_model = self.clustering_model, \n",
    "                        nr_topics= 'auto',\n",
    "                        calculate_probabilities=probability, verbose=True)\n",
    "        self.topic_model.fit_transform(dataset.text)\n",
    "\n",
    "    def evaluate(self,dataset):\n",
    "        \"\"\"\n",
    "        Evaluate performance of model using coherence_score. (Using normalise pointwise mutual information, range between -1 and 1, higher score is better)\n",
    "        prints out coherence score and topic freqenucy\n",
    "        @param dataset [Dataset]: Dataset to evaluate performance\n",
    "        \"\"\"\n",
    "        c_score = self.get_coherence_score(dataset)\n",
    "        return c_score\n",
    "        \n",
    "    def predict(self, dataset):\n",
    "        '''\n",
    "        Cluster the dataset into topics\n",
    "        @param dataset Union[str,[Dataset]]: New dataset to predict\n",
    "        @return prediction: Topic prediction for each document\n",
    "        '''\n",
    "        if type(dataset) == str:\n",
    "            return self.topic_model.transform(dataset)\n",
    "        else:\n",
    "            return self.topic_model.transform(dataset.text)\n",
    "\n",
    "    def load_model(self, path):\n",
    "        '''\n",
    "        Load previously trained topic model\n",
    "        @param path [str]: path to model\n",
    "        '''\n",
    "        self.topic_model = BERTopic.load(path)\n",
    "        \n",
    "    def get_coherence_score(self, dataset):\n",
    "        \"\"\"\n",
    "        Evaluation metric for model\n",
    "        @param dataset [Dataset]: Training dataset\n",
    "        @return c_score [float]: coherence score\n",
    "        \"\"\"\n",
    "        documents = pd.DataFrame({\"Document\": dataset.text,\n",
    "                                \"ID\": range(len(dataset.text)),\n",
    "                                \"Topic\": self.topic_model.topics_})\n",
    "        documents_per_topic = documents.groupby(['Topic'], as_index=False).agg({'Document': ' '.join})\n",
    "        cleaned_docs = self.topic_model._preprocess_text(documents_per_topic.Document.values)\n",
    "\n",
    "        # Extract vectorizer and analyzer from BERTopic\n",
    "        vectorizer = self.topic_model.vectorizer_model\n",
    "        analyzer = vectorizer.build_analyzer()\n",
    "\n",
    "        # Extract features for Topic Coherence evaluation\n",
    "        tokens = [analyzer(doc) for doc in cleaned_docs]\n",
    "        dictionary = corpora.Dictionary(tokens)\n",
    "        corpus = [dictionary.doc2bow(token) for token in tokens]\n",
    "        topic_words = [[words for words, _ in self.topic_model.get_topic(topic)] \n",
    "                    for topic in range(len(set(self.topic_model.topics_))-1)]\n",
    "\n",
    "        # Evaluate\n",
    "        cm = CoherenceModel(topics=topic_words, \n",
    "                                        texts=tokens, \n",
    "                                        corpus=corpus,\n",
    "                                        dictionary=dictionary, \n",
    "                                        coherence='c_npmi', #'u_mass', 'c_v', 'c_uci', 'c_npmi'\n",
    "                                        topn=5)\n",
    "        return cm.get_coherence()"
   ]
  },
  {
   "cell_type": "code",
   "execution_count": 3,
   "metadata": {},
   "outputs": [],
   "source": [
    "df = pd.read_csv('../../data/reviews.csv')\n",
    "train, test = create_datasets(df)"
   ]
  },
  {
   "cell_type": "code",
   "execution_count": 43,
   "metadata": {},
   "outputs": [],
   "source": [
    "miniLM_model = BERTopic_model()\n",
    "miniLM_model.topic_model = BERTopic.load('sentence-transformers-key-bigram-v2')"
   ]
  },
  {
   "cell_type": "code",
   "execution_count": 49,
   "metadata": {},
   "outputs": [],
   "source": [
    "miniLM_model.topic_model.save(\"sentence-transformers-key-bigram-v2\")\t\n"
   ]
  },
  {
   "cell_type": "code",
   "execution_count": 7,
   "metadata": {},
   "outputs": [
    {
     "data": {
      "application/vnd.jupyter.widget-view+json": {
       "model_id": "a7a3f78da6da4b87bf52eec5ff11096c",
       "version_major": 2,
       "version_minor": 0
      },
      "text/plain": [
       "Batches:   0%|          | 0/35 [00:00<?, ?it/s]"
      ]
     },
     "metadata": {},
     "output_type": "display_data"
    },
    {
     "data": {
      "text/plain": [
       "365"
      ]
     },
     "execution_count": 7,
     "metadata": {},
     "output_type": "execute_result"
    }
   ],
   "source": [
    "test_topic = miniLM_model.topic_model.transform(test.text)"
   ]
  },
  {
   "cell_type": "code",
   "execution_count": 48,
   "metadata": {},
   "outputs": [
    {
     "data": {
      "text/html": [
       "<div>\n",
       "<style scoped>\n",
       "    .dataframe tbody tr th:only-of-type {\n",
       "        vertical-align: middle;\n",
       "    }\n",
       "\n",
       "    .dataframe tbody tr th {\n",
       "        vertical-align: top;\n",
       "    }\n",
       "\n",
       "    .dataframe thead th {\n",
       "        text-align: right;\n",
       "    }\n",
       "</style>\n",
       "<table border=\"1\" class=\"dataframe\">\n",
       "  <thead>\n",
       "    <tr style=\"text-align: right;\">\n",
       "      <th></th>\n",
       "      <th>Topic</th>\n",
       "      <th>Count</th>\n",
       "      <th>Name</th>\n",
       "      <th>CustomName</th>\n",
       "    </tr>\n",
       "  </thead>\n",
       "  <tbody>\n",
       "    <tr>\n",
       "      <th>0</th>\n",
       "      <td>-1</td>\n",
       "      <td>902</td>\n",
       "      <td>-1_pork rinds_microwave pork_vanilla beans_raw...</td>\n",
       "      <td>Outliers</td>\n",
       "    </tr>\n",
       "    <tr>\n",
       "      <th>1</th>\n",
       "      <td>0</td>\n",
       "      <td>1406</td>\n",
       "      <td>0_tangerine flavor_tangerine orange_orange tan...</td>\n",
       "      <td>Soft Drinks</td>\n",
       "    </tr>\n",
       "    <tr>\n",
       "      <th>2</th>\n",
       "      <td>1</td>\n",
       "      <td>624</td>\n",
       "      <td>1_quality tea_quality coffee_recommend tea_tea...</td>\n",
       "      <td>Tea/Coffee</td>\n",
       "    </tr>\n",
       "    <tr>\n",
       "      <th>3</th>\n",
       "      <td>2</td>\n",
       "      <td>167</td>\n",
       "      <td>2_dog foods_dog treats_products dogs_dogs chicken</td>\n",
       "      <td>Dog Food</td>\n",
       "    </tr>\n",
       "    <tr>\n",
       "      <th>4</th>\n",
       "      <td>3</td>\n",
       "      <td>163</td>\n",
       "      <td>3_sauce tasty_ranchero sauce_fajita sauce_spic...</td>\n",
       "      <td>Sauces</td>\n",
       "    </tr>\n",
       "    <tr>\n",
       "      <th>5</th>\n",
       "      <td>4</td>\n",
       "      <td>156</td>\n",
       "      <td>4_bisquick pancakes_cake mixes_pancake mixes_b...</td>\n",
       "      <td>Baking Products</td>\n",
       "    </tr>\n",
       "    <tr>\n",
       "      <th>6</th>\n",
       "      <td>5</td>\n",
       "      <td>111</td>\n",
       "      <td>5_diet bars_tasting bars_ingredients bars_tast...</td>\n",
       "      <td>Snack Bars</td>\n",
       "    </tr>\n",
       "    <tr>\n",
       "      <th>7</th>\n",
       "      <td>6</td>\n",
       "      <td>110</td>\n",
       "      <td>6_chips flavor_chips tasty_tasting chips_love ...</td>\n",
       "      <td>Chips</td>\n",
       "    </tr>\n",
       "    <tr>\n",
       "      <th>8</th>\n",
       "      <td>7</td>\n",
       "      <td>100</td>\n",
       "      <td>7_keurig coffee_kona coffee_keurig nice_keurig...</td>\n",
       "      <td>Keurig Coffee Products</td>\n",
       "    </tr>\n",
       "    <tr>\n",
       "      <th>9</th>\n",
       "      <td>8</td>\n",
       "      <td>91</td>\n",
       "      <td>8_healthy cereals_cereal tasty_cereal snack_ta...</td>\n",
       "      <td>Cereal</td>\n",
       "    </tr>\n",
       "    <tr>\n",
       "      <th>10</th>\n",
       "      <td>9</td>\n",
       "      <td>75</td>\n",
       "      <td>9_noodles delicious_noodles tasty_prepare nood...</td>\n",
       "      <td>Noodle</td>\n",
       "    </tr>\n",
       "    <tr>\n",
       "      <th>11</th>\n",
       "      <td>10</td>\n",
       "      <td>74</td>\n",
       "      <td>10_sardines_like sardines_recommended tuna_bes...</td>\n",
       "      <td>Salty Food Products</td>\n",
       "    </tr>\n",
       "    <tr>\n",
       "      <th>12</th>\n",
       "      <td>11</td>\n",
       "      <td>57</td>\n",
       "      <td>11_crackers tasty_crackers delicious_crackers ...</td>\n",
       "      <td>Crackers</td>\n",
       "    </tr>\n",
       "    <tr>\n",
       "      <th>13</th>\n",
       "      <td>12</td>\n",
       "      <td>57</td>\n",
       "      <td>12_cats eat_cat eat_cat healthy_cat ate</td>\n",
       "      <td>Cat Food</td>\n",
       "    </tr>\n",
       "    <tr>\n",
       "      <th>14</th>\n",
       "      <td>13</td>\n",
       "      <td>50</td>\n",
       "      <td>13_coconut drinks_drinking coconut_fresh cocon...</td>\n",
       "      <td>Coconut Products</td>\n",
       "    </tr>\n",
       "    <tr>\n",
       "      <th>15</th>\n",
       "      <td>14</td>\n",
       "      <td>49</td>\n",
       "      <td>14_popcorn lovers_flavor popcorn_best popcorn_...</td>\n",
       "      <td>Popcorn</td>\n",
       "    </tr>\n",
       "    <tr>\n",
       "      <th>16</th>\n",
       "      <td>15</td>\n",
       "      <td>46</td>\n",
       "      <td>15_olive oils_coconut oils_walnut oil_avocado oil</td>\n",
       "      <td>Oil Products</td>\n",
       "    </tr>\n",
       "    <tr>\n",
       "      <th>17</th>\n",
       "      <td>16</td>\n",
       "      <td>41</td>\n",
       "      <td>16_recommend soup_soup tastes_love soup_amys s...</td>\n",
       "      <td>Soup</td>\n",
       "    </tr>\n",
       "    <tr>\n",
       "      <th>18</th>\n",
       "      <td>17</td>\n",
       "      <td>40</td>\n",
       "      <td>17_protein vanilla_protein powders_protein mix...</td>\n",
       "      <td>Protein Powder</td>\n",
       "    </tr>\n",
       "    <tr>\n",
       "      <th>19</th>\n",
       "      <td>18</td>\n",
       "      <td>36</td>\n",
       "      <td>18_crunchy peanut_regular peanut_peanuts nuttz...</td>\n",
       "      <td>Peanut Butter</td>\n",
       "    </tr>\n",
       "  </tbody>\n",
       "</table>\n",
       "</div>"
      ],
      "text/plain": [
       "    Topic  Count                                               Name  \\\n",
       "0      -1    902  -1_pork rinds_microwave pork_vanilla beans_raw...   \n",
       "1       0   1406  0_tangerine flavor_tangerine orange_orange tan...   \n",
       "2       1    624  1_quality tea_quality coffee_recommend tea_tea...   \n",
       "3       2    167  2_dog foods_dog treats_products dogs_dogs chicken   \n",
       "4       3    163  3_sauce tasty_ranchero sauce_fajita sauce_spic...   \n",
       "5       4    156  4_bisquick pancakes_cake mixes_pancake mixes_b...   \n",
       "6       5    111  5_diet bars_tasting bars_ingredients bars_tast...   \n",
       "7       6    110  6_chips flavor_chips tasty_tasting chips_love ...   \n",
       "8       7    100  7_keurig coffee_kona coffee_keurig nice_keurig...   \n",
       "9       8     91  8_healthy cereals_cereal tasty_cereal snack_ta...   \n",
       "10      9     75  9_noodles delicious_noodles tasty_prepare nood...   \n",
       "11     10     74  10_sardines_like sardines_recommended tuna_bes...   \n",
       "12     11     57  11_crackers tasty_crackers delicious_crackers ...   \n",
       "13     12     57            12_cats eat_cat eat_cat healthy_cat ate   \n",
       "14     13     50  13_coconut drinks_drinking coconut_fresh cocon...   \n",
       "15     14     49  14_popcorn lovers_flavor popcorn_best popcorn_...   \n",
       "16     15     46  15_olive oils_coconut oils_walnut oil_avocado oil   \n",
       "17     16     41  16_recommend soup_soup tastes_love soup_amys s...   \n",
       "18     17     40  17_protein vanilla_protein powders_protein mix...   \n",
       "19     18     36  18_crunchy peanut_regular peanut_peanuts nuttz...   \n",
       "\n",
       "                CustomName  \n",
       "0                 Outliers  \n",
       "1              Soft Drinks  \n",
       "2               Tea/Coffee  \n",
       "3                 Dog Food  \n",
       "4                   Sauces  \n",
       "5          Baking Products  \n",
       "6               Snack Bars  \n",
       "7                    Chips  \n",
       "8   Keurig Coffee Products  \n",
       "9                   Cereal  \n",
       "10                  Noodle  \n",
       "11     Salty Food Products  \n",
       "12                Crackers  \n",
       "13                Cat Food  \n",
       "14        Coconut Products  \n",
       "15                 Popcorn  \n",
       "16            Oil Products  \n",
       "17                    Soup  \n",
       "18          Protein Powder  \n",
       "19           Peanut Butter  "
      ]
     },
     "execution_count": 48,
     "metadata": {},
     "output_type": "execute_result"
    }
   ],
   "source": [
    "miniLM_model.topic_model.get_topic_info()"
   ]
  },
  {
   "cell_type": "code",
   "execution_count": 47,
   "metadata": {},
   "outputs": [],
   "source": [
    "miniLM_model.topic_model.set_topic_labels({\n",
    "-1: 'Outliers',\n",
    "0: 'Soft Drinks',\n",
    "1: 'Tea/Coffee',\n",
    "2: 'Dog Food',\n",
    "3: 'Sauces',\n",
    "4: 'Baking Products',\n",
    "5: 'Snack Bars',\n",
    "6: 'Chips',\n",
    "7: 'Keurig Coffee Products',\n",
    "8: 'Cereal',\n",
    "9: 'Noodle',\n",
    "10: 'Salty Food Products',\n",
    "11: 'Crackers',\n",
    "12: 'Cat Food',\n",
    "13: 'Coconut Products',\n",
    "14: 'Popcorn',\n",
    "15: 'Oil Products',\n",
    "16: 'Soup',\n",
    "17: 'Protein Powder',\n",
    "18: 'Peanut Butter'\n",
    "})"
   ]
  },
  {
   "cell_type": "code",
   "execution_count": 46,
   "metadata": {},
   "outputs": [
    {
     "data": {
      "text/plain": [
       "1530    this product is hard to find for us in stores ...\n",
       "2138    I was expecting a plain old cup of coffee when...\n",
       "1323    The products lid stays attached to the needle ...\n",
       "937     I love Sumatra coffee and was excited to recei...\n",
       "2797    Although I've only been able to try three of C...\n",
       "2338    I love these K cups they have a nice tea taste...\n",
       "1407    I'm a pretty big coffee drinker, but had never...\n",
       "2409    I enjoyed these k-cups when I used them. They ...\n",
       "676     I have tried about 25 different K-Cup flavors,...\n",
       "139     Caused my cuisinart k-cup brewer to leak every...\n",
       "Name: Text, dtype: object"
      ]
     },
     "execution_count": 46,
     "metadata": {},
     "output_type": "execute_result"
    }
   ],
   "source": [
    "labeled_train = pd.DataFrame({'Text': train.text,'Label':miniLM_model.topic_model.topics_})\n",
    "labeled_train.loc[labeled_train['Label']==7, 'Text'].sample(n=10)"
   ]
  },
  {
   "cell_type": "code",
   "execution_count": 60,
   "metadata": {},
   "outputs": [],
   "source": [
    "miniLM_model.topic_model.set_topic_labels({\n",
    "-1: 'Outliers',\n",
    "0: 'Staple Food',\n",
    "1: 'Coffee',\n",
    "2: 'Tea',\n",
    "3: 'Chips',\n",
    "4: 'Dog Food',\n",
    "5: 'Baby Food/Canned Food',\n",
    "6: 'Delivery',\n",
    "7: 'Processed Food',\n",
    "8: 'Cat Food',\n",
    "9: 'Concentrated Syrup',\n",
    "10: 'Popcorn',\n",
    "11: 'Coconut Products',\n",
    "12: 'Protein Powder',\n",
    "13: 'Consumable Oil',\n",
    "14: 'Soup'})"
   ]
  },
  {
   "cell_type": "code",
   "execution_count": 50,
   "metadata": {},
   "outputs": [
    {
     "data": {
      "application/vnd.jupyter.widget-view+json": {
       "model_id": "e613e7cc66ee498b92e9358c2f285ea2",
       "version_major": 2,
       "version_minor": 0
      },
      "text/plain": [
       "Batches:   0%|          | 0/35 [00:00<?, ?it/s]"
      ]
     },
     "metadata": {},
     "output_type": "display_data"
    }
   ],
   "source": [
    "test_label = miniLM_model.predict(test)\n",
    "labeled_test = pd.DataFrame({'Text': test.text,'Label':test_label[0]})\n",
    "lab = miniLM_model.topic_model.get_topic_info().loc[:,['Topic', 'CustomName']]\n",
    "labeled_test = labeled_test.merge(lab, how='left', left_on='Label', right_on='Topic')"
   ]
  },
  {
   "cell_type": "code",
   "execution_count": 13,
   "metadata": {},
   "outputs": [
    {
     "data": {
      "text/html": [
       "<div>\n",
       "<style scoped>\n",
       "    .dataframe tbody tr th:only-of-type {\n",
       "        vertical-align: middle;\n",
       "    }\n",
       "\n",
       "    .dataframe tbody tr th {\n",
       "        vertical-align: top;\n",
       "    }\n",
       "\n",
       "    .dataframe thead th {\n",
       "        text-align: right;\n",
       "    }\n",
       "</style>\n",
       "<table border=\"1\" class=\"dataframe\">\n",
       "  <thead>\n",
       "    <tr style=\"text-align: right;\">\n",
       "      <th></th>\n",
       "      <th>Text</th>\n",
       "      <th>Label</th>\n",
       "      <th>Topic</th>\n",
       "      <th>CustomName</th>\n",
       "    </tr>\n",
       "  </thead>\n",
       "  <tbody>\n",
       "    <tr>\n",
       "      <th>0</th>\n",
       "      <td>This tea is amazing, I cannot believe the pric...</td>\n",
       "      <td>2</td>\n",
       "      <td>2</td>\n",
       "      <td>Tea</td>\n",
       "    </tr>\n",
       "    <tr>\n",
       "      <th>1</th>\n",
       "      <td>I've tried a handful of other brands of French...</td>\n",
       "      <td>-1</td>\n",
       "      <td>-1</td>\n",
       "      <td>Outliers</td>\n",
       "    </tr>\n",
       "    <tr>\n",
       "      <th>2</th>\n",
       "      <td>I would recommend not buying these nuts if you...</td>\n",
       "      <td>0</td>\n",
       "      <td>0</td>\n",
       "      <td>Staple Food</td>\n",
       "    </tr>\n",
       "    <tr>\n",
       "      <th>3</th>\n",
       "      <td>I wish these came in larger quantities, if I c...</td>\n",
       "      <td>-1</td>\n",
       "      <td>-1</td>\n",
       "      <td>Outliers</td>\n",
       "    </tr>\n",
       "    <tr>\n",
       "      <th>4</th>\n",
       "      <td>Has a smooth taste like it claims without any ...</td>\n",
       "      <td>9</td>\n",
       "      <td>9</td>\n",
       "      <td>Concentrated Syrup</td>\n",
       "    </tr>\n",
       "    <tr>\n",
       "      <th>...</th>\n",
       "      <td>...</td>\n",
       "      <td>...</td>\n",
       "      <td>...</td>\n",
       "      <td>...</td>\n",
       "    </tr>\n",
       "    <tr>\n",
       "      <th>1084</th>\n",
       "      <td>I'd seen an add for these in a magazine recent...</td>\n",
       "      <td>-1</td>\n",
       "      <td>-1</td>\n",
       "      <td>Outliers</td>\n",
       "    </tr>\n",
       "    <tr>\n",
       "      <th>1085</th>\n",
       "      <td>I was a bit cautious when I first opened the b...</td>\n",
       "      <td>-1</td>\n",
       "      <td>-1</td>\n",
       "      <td>Outliers</td>\n",
       "    </tr>\n",
       "    <tr>\n",
       "      <th>1086</th>\n",
       "      <td>I bought these for my wife for her birthday, s...</td>\n",
       "      <td>-1</td>\n",
       "      <td>-1</td>\n",
       "      <td>Outliers</td>\n",
       "    </tr>\n",
       "    <tr>\n",
       "      <th>1087</th>\n",
       "      <td>Lowrey's has changed it's microwave pork rinds...</td>\n",
       "      <td>-1</td>\n",
       "      <td>-1</td>\n",
       "      <td>Outliers</td>\n",
       "    </tr>\n",
       "    <tr>\n",
       "      <th>1088</th>\n",
       "      <td>I have tried 4 different kinds of oolongs, and...</td>\n",
       "      <td>2</td>\n",
       "      <td>2</td>\n",
       "      <td>Tea</td>\n",
       "    </tr>\n",
       "  </tbody>\n",
       "</table>\n",
       "<p>1089 rows × 4 columns</p>\n",
       "</div>"
      ],
      "text/plain": [
       "                                                   Text  Label  Topic  \\\n",
       "0     This tea is amazing, I cannot believe the pric...      2      2   \n",
       "1     I've tried a handful of other brands of French...     -1     -1   \n",
       "2     I would recommend not buying these nuts if you...      0      0   \n",
       "3     I wish these came in larger quantities, if I c...     -1     -1   \n",
       "4     Has a smooth taste like it claims without any ...      9      9   \n",
       "...                                                 ...    ...    ...   \n",
       "1084  I'd seen an add for these in a magazine recent...     -1     -1   \n",
       "1085  I was a bit cautious when I first opened the b...     -1     -1   \n",
       "1086  I bought these for my wife for her birthday, s...     -1     -1   \n",
       "1087  Lowrey's has changed it's microwave pork rinds...     -1     -1   \n",
       "1088  I have tried 4 different kinds of oolongs, and...      2      2   \n",
       "\n",
       "              CustomName  \n",
       "0                    Tea  \n",
       "1               Outliers  \n",
       "2            Staple Food  \n",
       "3               Outliers  \n",
       "4     Concentrated Syrup  \n",
       "...                  ...  \n",
       "1084            Outliers  \n",
       "1085            Outliers  \n",
       "1086            Outliers  \n",
       "1087            Outliers  \n",
       "1088                 Tea  \n",
       "\n",
       "[1089 rows x 4 columns]"
      ]
     },
     "execution_count": 13,
     "metadata": {},
     "output_type": "execute_result"
    }
   ],
   "source": [
    "labeled_test"
   ]
  },
  {
   "cell_type": "code",
   "execution_count": 51,
   "metadata": {},
   "outputs": [],
   "source": [
    "out=labeled_test.loc[labeled_test['Label']==-1].sample(n=10, random_state= 4263)   \n",
    "for i in range(19):\n",
    "    out = out.append(labeled_test.loc[labeled_test['Label']==i].sample(n=10, replace=True, random_state= 4263))"
   ]
  },
  {
   "cell_type": "code",
   "execution_count": 54,
   "metadata": {},
   "outputs": [
    {
     "data": {
      "text/html": [
       "<div>\n",
       "<style scoped>\n",
       "    .dataframe tbody tr th:only-of-type {\n",
       "        vertical-align: middle;\n",
       "    }\n",
       "\n",
       "    .dataframe tbody tr th {\n",
       "        vertical-align: top;\n",
       "    }\n",
       "\n",
       "    .dataframe thead th {\n",
       "        text-align: right;\n",
       "    }\n",
       "</style>\n",
       "<table border=\"1\" class=\"dataframe\">\n",
       "  <thead>\n",
       "    <tr style=\"text-align: right;\">\n",
       "      <th></th>\n",
       "      <th>Text</th>\n",
       "      <th>CustomName</th>\n",
       "    </tr>\n",
       "  </thead>\n",
       "  <tbody>\n",
       "    <tr>\n",
       "      <th>54</th>\n",
       "      <td>I am the biggest fan of mushrooms you'll ever ...</td>\n",
       "      <td>Outliers</td>\n",
       "    </tr>\n",
       "    <tr>\n",
       "      <th>567</th>\n",
       "      <td>I have bought this at a local pet shop for my ...</td>\n",
       "      <td>Outliers</td>\n",
       "    </tr>\n",
       "    <tr>\n",
       "      <th>94</th>\n",
       "      <td>I can only drink decaf.  Caffiene makes me nut...</td>\n",
       "      <td>Outliers</td>\n",
       "    </tr>\n",
       "    <tr>\n",
       "      <th>77</th>\n",
       "      <td>I bought this product last week for our dogs, ...</td>\n",
       "      <td>Outliers</td>\n",
       "    </tr>\n",
       "    <tr>\n",
       "      <th>769</th>\n",
       "      <td>I had been looking for a healthier breakfast. ...</td>\n",
       "      <td>Outliers</td>\n",
       "    </tr>\n",
       "    <tr>\n",
       "      <th>...</th>\n",
       "      <td>...</td>\n",
       "      <td>...</td>\n",
       "    </tr>\n",
       "    <tr>\n",
       "      <th>965</th>\n",
       "      <td>I really enjoy this peanut butter, it is sweet...</td>\n",
       "      <td>Peanut Butter</td>\n",
       "    </tr>\n",
       "    <tr>\n",
       "      <th>869</th>\n",
       "      <td>I make an extended butter using this oil, wate...</td>\n",
       "      <td>Peanut Butter</td>\n",
       "    </tr>\n",
       "    <tr>\n",
       "      <th>819</th>\n",
       "      <td>The peanut butter was very fresh tasting.  The...</td>\n",
       "      <td>Peanut Butter</td>\n",
       "    </tr>\n",
       "    <tr>\n",
       "      <th>1023</th>\n",
       "      <td>Absolutely the best Nutella alternative. I act...</td>\n",
       "      <td>Peanut Butter</td>\n",
       "    </tr>\n",
       "    <tr>\n",
       "      <th>965</th>\n",
       "      <td>I really enjoy this peanut butter, it is sweet...</td>\n",
       "      <td>Peanut Butter</td>\n",
       "    </tr>\n",
       "  </tbody>\n",
       "</table>\n",
       "<p>200 rows × 2 columns</p>\n",
       "</div>"
      ],
      "text/plain": [
       "                                                   Text     CustomName\n",
       "54    I am the biggest fan of mushrooms you'll ever ...       Outliers\n",
       "567   I have bought this at a local pet shop for my ...       Outliers\n",
       "94    I can only drink decaf.  Caffiene makes me nut...       Outliers\n",
       "77    I bought this product last week for our dogs, ...       Outliers\n",
       "769   I had been looking for a healthier breakfast. ...       Outliers\n",
       "...                                                 ...            ...\n",
       "965   I really enjoy this peanut butter, it is sweet...  Peanut Butter\n",
       "869   I make an extended butter using this oil, wate...  Peanut Butter\n",
       "819   The peanut butter was very fresh tasting.  The...  Peanut Butter\n",
       "1023  Absolutely the best Nutella alternative. I act...  Peanut Butter\n",
       "965   I really enjoy this peanut butter, it is sweet...  Peanut Butter\n",
       "\n",
       "[200 rows x 2 columns]"
      ]
     },
     "execution_count": 54,
     "metadata": {},
     "output_type": "execute_result"
    }
   ],
   "source": [
    "out"
   ]
  },
  {
   "cell_type": "code",
   "execution_count": 53,
   "metadata": {},
   "outputs": [],
   "source": [
    "out.drop(columns=['Label', 'Topic'], inplace=True)"
   ]
  },
  {
   "cell_type": "code",
   "execution_count": 55,
   "metadata": {},
   "outputs": [],
   "source": [
    "out.to_csv(f'sentence-transformers-key-bigram-v2.csv', index=False)"
   ]
  },
  {
   "cell_type": "code",
   "execution_count": 44,
   "metadata": {},
   "outputs": [
    {
     "data": {
      "application/vnd.plotly.v1+json": {
       "config": {
        "plotlyServerURL": "https://plot.ly"
       },
       "data": [
        {
         "hoverinfo": "text",
         "hovertext": [
          "<b>Topic 0</b><br>Words: 10 years, disappeared, purchased amazon, surprisingly good, tasting like",
          "<b>Topic 0</b><br>Words: snacking, month old, 95, gas, dried fruit",
          "<b>Topic 0</b><br>Words: high price, month old, 95, gas, dried fruit",
          "<b>Topic 0</b><br>Words: delicious definitely, cheaper amazon, healthy snacks, did research, dried fruit",
          "<b>Topic 0</b><br>Words: bit expensive, dried fruit, candies, 95, gas",
          "<b>Topic 0</b><br>Words: candies, month old, 95, gas, dried fruit",
          "<b>Topic 0</b><br>Words: month old, 95, gas, dried fruit, wal",
          "<b>Topic 0</b><br>Words: associated, cane sugar, resist, carbohydrate, candies",
          "<b>Topic 0</b><br>Words: risk, 48, healthy low, recommend like, melts",
          "<b>Topic 0</b><br>Words: enjoys, birthday, brother, roll, buy store",
          "<b>Topic 0</b><br>Words: cheapest, regular price, digestion, floor, dried fruit",
          "<b>Topic 0</b><br>Words: slow, boys, 44, eat bag, healthy snacks",
          "<b>Topic 0</b><br>Words: reordered, 50 cents, nice size, healthy snacks, coupons",
          "<b>Topic 0</b><br>Words: wholesale, make nice, store great, ounce bags, product love",
          "<b>Topic 0</b><br>Words: pecans, wrap, flavor best, raisins, opened box",
          "<b>Topic 0</b><br>Words: 95, time ordered, coupon, month old, btw",
          "<b>Topic 0</b><br>Words: month old, lids, pound bag, opened box, chunky",
          "<b>Topic 0</b><br>Words: healthy tasty, wal, coupon, tree, peas"
         ],
         "marker": {
          "color": "#E69F00"
         },
         "mode": "lines",
         "name": "0_month old_95_gas_dried fruit",
         "type": "scatter",
         "x": [
          "2017-12-20T04:48:00",
          "2018-03-10T19:12:00",
          "2018-05-30T09:36:00",
          "2018-08-19T00:00:00",
          "2018-11-07T14:24:00",
          "2019-01-27T04:48:00",
          "2019-04-17T19:12:00",
          "2019-07-07T09:36:00",
          "2019-09-26T00:00:00",
          "2019-12-15T14:24:00",
          "2020-03-05T04:48:00",
          "2020-05-24T19:12:00",
          "2020-08-13T09:36:00",
          "2020-11-02T00:00:00",
          "2021-01-21T14:24:00",
          "2021-04-12T04:48:00",
          "2021-07-01T19:12:00",
          "2021-09-20T09:36:00"
         ],
         "y": [
          13,
          3,
          2,
          18,
          7,
          5,
          3,
          14,
          15,
          49,
          17,
          25,
          40,
          51,
          69,
          116,
          101,
          96
         ]
        },
        {
         "hoverinfo": "text",
         "hovertext": [
          "<b>Topic 1</b><br>Words: runny, decaf, drink coffee, acidity, green mountain",
          "<b>Topic 1</b><br>Words: select, acidity, drink coffee, community, freshly",
          "<b>Topic 1</b><br>Words: drink coffee, acidity, green mountain, creamer, grind",
          "<b>Topic 1</b><br>Words: drip, particular flavor, coupon, grind, creamer",
          "<b>Topic 1</b><br>Words: store great, quit, drink coffee, acidity, green mountain",
          "<b>Topic 1</b><br>Words: drink coffee, drip, acidity, green mountain, creamer",
          "<b>Topic 1</b><br>Words: drink coffee, community, drip, acidity, green mountain",
          "<b>Topic 1</b><br>Words: products ve, drink coffee, acidity, green mountain, grind",
          "<b>Topic 1</b><br>Words: powdery, balanced, wonderful flavor, cup tea, labeled",
          "<b>Topic 1</b><br>Words: jump, writing review, fair trade, good cup, nice taste",
          "<b>Topic 1</b><br>Words: make cup, acidity, batches, drink coffee, green mountain",
          "<b>Topic 1</b><br>Words: calories fat, wonderful flavor, creamer, splenda, drink coffee",
          "<b>Topic 1</b><br>Words: chemical taste, product love, plastic bag, different flavors, sip",
          "<b>Topic 1</b><br>Words: different brands, decaf, expect taste, mornings, newman",
          "<b>Topic 1</b><br>Words: darker, green mountain, flavor rich, recommend buying, degrees",
          "<b>Topic 1</b><br>Words: community, drink coffee, creamer, odor, regular price",
          "<b>Topic 1</b><br>Words: community, acidity, bodied, drink coffee, green mountain",
          "<b>Topic 1</b><br>Words: drip, grind, fair price, mornings, hearing"
         ],
         "marker": {
          "color": "#56B4E9"
         },
         "mode": "lines",
         "name": "1_drink coffee_acidity_green mountain_gr...",
         "type": "scatter",
         "x": [
          "2017-12-20T04:48:00",
          "2018-03-10T19:12:00",
          "2018-05-30T09:36:00",
          "2018-08-19T00:00:00",
          "2018-11-07T14:24:00",
          "2019-01-27T04:48:00",
          "2019-04-17T19:12:00",
          "2019-07-07T09:36:00",
          "2019-09-26T00:00:00",
          "2019-12-15T14:24:00",
          "2020-03-05T04:48:00",
          "2020-05-24T19:12:00",
          "2020-08-13T09:36:00",
          "2020-11-02T00:00:00",
          "2021-01-21T14:24:00",
          "2021-04-12T04:48:00",
          "2021-07-01T19:12:00",
          "2021-09-20T09:36:00"
         ],
         "y": [
          4,
          4,
          3,
          9,
          2,
          2,
          1,
          6,
          11,
          24,
          5,
          14,
          6,
          13,
          27,
          70,
          36,
          37
         ]
        },
        {
         "hoverinfo": "text",
         "hovertext": [
          "<b>Topic 2</b><br>Words: product comes, good fresh, usually use, english, rose",
          "<b>Topic 2</b><br>Words: rose, hearing, phase, use good, gallon",
          "<b>Topic 2</b><br>Words: rose, steep, cup tea, hot cold, sip",
          "<b>Topic 2</b><br>Words: evening, rose, steep, cup tea, hot cold",
          "<b>Topic 2</b><br>Words: boiling, rose, steep, cup tea, grass",
          "<b>Topic 2</b><br>Words: rose, steep, cup tea, sip, earthy",
          "<b>Topic 2</b><br>Words: evening, rose, steep, cup tea, hot cold",
          "<b>Topic 2</b><br>Words: noticeable, cup tea, drink great, english, smoothies",
          "<b>Topic 2</b><br>Words: hawaiian, snob, moment, visiting, ratio",
          "<b>Topic 2</b><br>Words: doesnt, peaches, price time, flavor excellent, cup tea",
          "<b>Topic 2</b><br>Words: pressure, hot cold, worth penny, skip, steep",
          "<b>Topic 2</b><br>Words: guest, tasting like, cup tea, hot cold, drops",
          "<b>Topic 2</b><br>Words: boiling, flavorings, afghanistan, smells wonderful, fair price",
          "<b>Topic 2</b><br>Words: dust, cup tea, hot cold, kind like, earthy",
          "<b>Topic 2</b><br>Words: root, rose, quit, sip, cup tea",
          "<b>Topic 2</b><br>Words: cold water, steep, rose, sickly sweet, dissolves"
         ],
         "marker": {
          "color": "#009E73"
         },
         "mode": "lines",
         "name": "2_rose_steep_cup tea_hot cold",
         "type": "scatter",
         "x": [
          "2017-12-20T04:48:00",
          "2018-03-10T19:12:00",
          "2018-08-19T00:00:00",
          "2018-11-07T14:24:00",
          "2019-01-27T04:48:00",
          "2019-07-07T09:36:00",
          "2019-09-26T00:00:00",
          "2019-12-15T14:24:00",
          "2020-03-05T04:48:00",
          "2020-05-24T19:12:00",
          "2020-08-13T09:36:00",
          "2020-11-02T00:00:00",
          "2021-01-21T14:24:00",
          "2021-04-12T04:48:00",
          "2021-07-01T19:12:00",
          "2021-09-20T09:36:00"
         ],
         "y": [
          3,
          4,
          2,
          5,
          1,
          2,
          2,
          29,
          9,
          24,
          9,
          19,
          32,
          52,
          36,
          38
         ]
        },
        {
         "hoverinfo": "text",
         "hovertext": [
          "<b>Topic 3</b><br>Words: bites, newman, healthy food, country, bank",
          "<b>Topic 3</b><br>Words: pink, newman, food products, animal, peas",
          "<b>Topic 3</b><br>Words: pronounce, minimum, dogs, newman, food products",
          "<b>Topic 3</b><br>Words: dogs, newman, food products, country, used buy",
          "<b>Topic 3</b><br>Words: alike, amazon sells, swallow, specialty, eat bag",
          "<b>Topic 3</b><br>Words: wholesome, newman, food products, animal, peas",
          "<b>Topic 3</b><br>Words: newman, hell, food products, adult, years tried",
          "<b>Topic 3</b><br>Words: gas, granted, lead, dogs, newman",
          "<b>Topic 3</b><br>Words: newman, weather, wouldn eat, digestion, farms",
          "<b>Topic 3</b><br>Words: younger, miles, minimum, healthy food, pound bag",
          "<b>Topic 3</b><br>Words: country, food products, blueberries, newman, pocket",
          "<b>Topic 3</b><br>Words: reading reviews, dogs, noticeably, encountered, make healthy",
          "<b>Topic 3</b><br>Words: promise, dogs, food products, ill, bank",
          "<b>Topic 3</b><br>Words: companies, failure, floor, used buy, newman",
          "<b>Topic 3</b><br>Words: peas, dogs, didn realize, holes, newman"
         ],
         "marker": {
          "color": "#F0E442"
         },
         "mode": "lines",
         "name": "3_dogs_newman_food products_bank",
         "type": "scatter",
         "x": [
          "2017-12-20T04:48:00",
          "2018-03-10T19:12:00",
          "2018-05-30T09:36:00",
          "2018-11-07T14:24:00",
          "2019-07-07T09:36:00",
          "2019-09-26T00:00:00",
          "2019-12-15T14:24:00",
          "2020-03-05T04:48:00",
          "2020-05-24T19:12:00",
          "2020-08-13T09:36:00",
          "2020-11-02T00:00:00",
          "2021-01-21T14:24:00",
          "2021-04-12T04:48:00",
          "2021-07-01T19:12:00",
          "2021-09-20T09:36:00"
         ],
         "y": [
          2,
          1,
          2,
          1,
          2,
          4,
          18,
          6,
          13,
          8,
          24,
          22,
          74,
          38,
          45
         ]
        },
        {
         "hoverinfo": "text",
         "hovertext": [
          "<b>Topic 4</b><br>Words: cheaper just, surprisingly good, carbonated, orange juice, 140 calories",
          "<b>Topic 4</b><br>Words: eat like, best way, orange juice, 140 calories, tang",
          "<b>Topic 4</b><br>Words: different tastes, 8oz, carbonated, orange juice, beverage",
          "<b>Topic 4</b><br>Words: best deal, amazon just, whey, quality great, orange juice",
          "<b>Topic 4</b><br>Words: carbonated, orange juice, 140 calories, tang, fewer",
          "<b>Topic 4</b><br>Words: carbonated, orange juice, 140 calories, tang, fewer",
          "<b>Topic 4</b><br>Words: pace, tasty nice, carbonated, orange juice, artificial flavors",
          "<b>Topic 4</b><br>Words: carbonated, drink great, price little, 34, sip",
          "<b>Topic 4</b><br>Words: carbonated, particular flavor, does contain, vine program, ve fan",
          "<b>Topic 4</b><br>Words: particular flavor, nectar, makes nice, faint, swallow",
          "<b>Topic 4</b><br>Words: expect taste, replaced, nice taste, peaches, orange juice",
          "<b>Topic 4</b><br>Words: requirement, sip, carbonated, orange juice, artificial flavors",
          "<b>Topic 4</b><br>Words: ll stick, beverage, 140, carbonated, sampled",
          "<b>Topic 4</b><br>Words: carbonated, surprised taste, class, tang, carbohydrates",
          "<b>Topic 4</b><br>Words: orange juice, carbonated, artificial flavors, gallon, 140 calories",
          "<b>Topic 4</b><br>Words: carbonated, orange juice, make nice, tang, smoother",
          "<b>Topic 4</b><br>Words: orange juice, tang, sampled, carbonated, high calories"
         ],
         "marker": {
          "color": "#D55E00"
         },
         "mode": "lines",
         "name": "4_carbonated_orange juice_140 calories_t...",
         "type": "scatter",
         "x": [
          "2017-12-20T04:48:00",
          "2018-03-10T19:12:00",
          "2018-05-30T09:36:00",
          "2018-08-19T00:00:00",
          "2018-11-07T14:24:00",
          "2019-04-17T19:12:00",
          "2019-07-07T09:36:00",
          "2019-09-26T00:00:00",
          "2019-12-15T14:24:00",
          "2020-03-05T04:48:00",
          "2020-05-24T19:12:00",
          "2020-08-13T09:36:00",
          "2020-11-02T00:00:00",
          "2021-01-21T14:24:00",
          "2021-04-12T04:48:00",
          "2021-07-01T19:12:00",
          "2021-09-20T09:36:00"
         ],
         "y": [
          3,
          3,
          1,
          6,
          1,
          1,
          4,
          9,
          23,
          8,
          8,
          4,
          16,
          18,
          42,
          28,
          18
         ]
        },
        {
         "hoverinfo": "text",
         "hovertext": [
          "<b>Topic 5</b><br>Words: price little, smoothies, grass, tasting product, carrots",
          "<b>Topic 5</b><br>Words: amazon really, tempted, bought brand, brother, grass",
          "<b>Topic 5</b><br>Words: flavor rich, grass, tasting product, carrots, taste smooth",
          "<b>Topic 5</b><br>Words: chemical taste, grass, tasting product, carrots, taste smooth",
          "<b>Topic 5</b><br>Words: product used, competitive, grass, tasting product, carrots",
          "<b>Topic 5</b><br>Words: boys, earthy, fragrance, shelf life, local health",
          "<b>Topic 5</b><br>Words: price time, ll like, grass, carrots, taste smooth",
          "<b>Topic 5</b><br>Words: carrots, like maybe, timely manner, different brands, peas",
          "<b>Topic 5</b><br>Words: obvious, rinse, grass, tasting product, carrots",
          "<b>Topic 5</b><br>Words: time ordered, product comes, adding water, thought good, clumps",
          "<b>Topic 5</b><br>Words: taste smooth, row, carrots, does contain, tasty sweet",
          "<b>Topic 5</b><br>Words: tasting product, grass, able buy, bakery, preparing",
          "<b>Topic 5</b><br>Words: taste smooth, 50 cents, smells wonderful, particular flavor, thank goodness",
          "<b>Topic 5</b><br>Words: thought good, expect taste, different tastes, exceptional, substitutes"
         ],
         "marker": {
          "color": "#0072B2"
         },
         "mode": "lines",
         "name": "5_grass_tasting product_carrots_taste sm...",
         "type": "scatter",
         "x": [
          "2018-03-10T19:12:00",
          "2018-08-19T00:00:00",
          "2019-04-17T19:12:00",
          "2019-07-07T09:36:00",
          "2019-09-26T00:00:00",
          "2019-12-15T14:24:00",
          "2020-03-05T04:48:00",
          "2020-05-24T19:12:00",
          "2020-08-13T09:36:00",
          "2020-11-02T00:00:00",
          "2021-01-21T14:24:00",
          "2021-04-12T04:48:00",
          "2021-07-01T19:12:00",
          "2021-09-20T09:36:00"
         ],
         "y": [
          1,
          4,
          1,
          1,
          3,
          12,
          3,
          13,
          6,
          12,
          14,
          34,
          35,
          30
         ]
        },
        {
         "hoverinfo": "text",
         "hovertext": [
          "<b>Topic 6</b><br>Words: 110, carbohydrate, orange juice, salad dressing, sandwiches",
          "<b>Topic 6</b><br>Words: salad dressing, salsa, sandwiches, pace, taste hot",
          "<b>Topic 6</b><br>Words: salad dressing, sandwiches, pace, taste hot, calories serving",
          "<b>Topic 6</b><br>Words: salad dressing, salsa, sandwiches, taste hot, calories serving",
          "<b>Topic 6</b><br>Words: salad dressing, sandwiches, pace, taste hot, calories serving",
          "<b>Topic 6</b><br>Words: salad dressing, salsa, sandwiches, taste hot, dipping",
          "<b>Topic 6</b><br>Words: dipping, rolls, thai, salad dressing, salsa",
          "<b>Topic 6</b><br>Words: pulled, favorite flavors, rep, salad dressing, herbs",
          "<b>Topic 6</b><br>Words: herbs, tuna, salad dressing, pace, taste hot",
          "<b>Topic 6</b><br>Words: burn, like use, salad dressing, olive oil, herbs",
          "<b>Topic 6</b><br>Words: afghanistan, summary, smoky, 110, salad dressing",
          "<b>Topic 6</b><br>Words: disappoint, calories serving, writing review, 110, btw",
          "<b>Topic 6</b><br>Words: salad dressing, olive oil, smoky, health conscious, try product",
          "<b>Topic 6</b><br>Words: japan, taste hot, salad dressing, recommend like, clumps",
          "<b>Topic 6</b><br>Words: sandwiches, salad dressing, shaped, excellent flavor, good things"
         ],
         "marker": {
          "color": "#CC79A7"
         },
         "mode": "lines",
         "name": "6_salad dressing_sandwiches_spaghetti_ol...",
         "type": "scatter",
         "x": [
          "2017-07-10T09:18:43.200000",
          "2017-12-20T04:48:00",
          "2018-03-10T19:12:00",
          "2018-08-19T00:00:00",
          "2019-01-27T04:48:00",
          "2019-07-07T09:36:00",
          "2019-09-26T00:00:00",
          "2019-12-15T14:24:00",
          "2020-03-05T04:48:00",
          "2020-05-24T19:12:00",
          "2020-11-02T00:00:00",
          "2021-01-21T14:24:00",
          "2021-04-12T04:48:00",
          "2021-07-01T19:12:00",
          "2021-09-20T09:36:00"
         ],
         "y": [
          1,
          2,
          1,
          4,
          2,
          4,
          4,
          11,
          5,
          5,
          13,
          14,
          23,
          24,
          21
         ]
        },
        {
         "hoverinfo": "text",
         "hovertext": [
          "<b>Topic 7</b><br>Words: beef, tuna, try ll, caught, pink",
          "<b>Topic 7</b><br>Words: think good, tuna, beef, try ll, caught",
          "<b>Topic 7</b><br>Words: 12 ounces, beef, tuna, try ll, caught",
          "<b>Topic 7</b><br>Words: eat plain, use regular, tuna, beef, caught",
          "<b>Topic 7</b><br>Words: totally worth, beef, tuna, try ll, pink",
          "<b>Topic 7</b><br>Words: olive oil, tuna, try ll, caught, pink",
          "<b>Topic 7</b><br>Words: continue buy, tuna, beef, try ll, caught",
          "<b>Topic 7</b><br>Words: pouring, eat bag, calories serving, tasty snack, tuna",
          "<b>Topic 7</b><br>Words: tuna, beef, try ll, caught, olive oil",
          "<b>Topic 7</b><br>Words: beef, crap, try ll, replaced, price really",
          "<b>Topic 7</b><br>Words: resist, seafood, consumer, try ll, pink",
          "<b>Topic 7</b><br>Words: tuna, beef, amazon better, soooo, trips",
          "<b>Topic 7</b><br>Words: anti, clumps, goes long, lead, coast",
          "<b>Topic 7</b><br>Words: flavor excellent, water add, able purchase, weather, miles",
          "<b>Topic 7</b><br>Words: tuna, shipments, overall recommend, caught, great products",
          "<b>Topic 7</b><br>Words: afghanistan, seafood, perfect snack, product love, coupon"
         ],
         "marker": {
          "color": "#E69F00"
         },
         "mode": "lines",
         "name": "7_try ll_pink_seafood_overall recommend",
         "type": "scatter",
         "x": [
          "2017-07-10T09:18:43.200000",
          "2017-12-20T04:48:00",
          "2018-03-10T19:12:00",
          "2018-08-19T00:00:00",
          "2018-11-07T14:24:00",
          "2019-07-07T09:36:00",
          "2019-09-26T00:00:00",
          "2019-12-15T14:24:00",
          "2020-03-05T04:48:00",
          "2020-05-24T19:12:00",
          "2020-08-13T09:36:00",
          "2020-11-02T00:00:00",
          "2021-01-21T14:24:00",
          "2021-04-12T04:48:00",
          "2021-07-01T19:12:00",
          "2021-09-20T09:36:00"
         ],
         "y": [
          1,
          2,
          4,
          3,
          1,
          2,
          2,
          12,
          4,
          13,
          5,
          10,
          10,
          14,
          15,
          22
         ]
        },
        {
         "hoverinfo": "text",
         "hovertext": [
          "<b>Topic 8</b><br>Words: artificial flavors, lecithin, fats, carbohydrate, 20g",
          "<b>Topic 8</b><br>Words: kettle, carbohydrate, perfect snack, munching, coupons",
          "<b>Topic 8</b><br>Words: carbohydrate, perfect snack, munching, coupons, dip",
          "<b>Topic 8</b><br>Words: tip, hard eat, chocolate chip, toddler, 3g",
          "<b>Topic 8</b><br>Words: kettle, carbohydrate, perfect snack, munching, coupons",
          "<b>Topic 8</b><br>Words: kettle, carbohydrate, perfect snack, munching, coupons",
          "<b>Topic 8</b><br>Words: perfect snack, smoky, salsa, dip, carbohydrate",
          "<b>Topic 8</b><br>Words: large quantity, cheaper amazon, kettle, carbohydrate, 20g",
          "<b>Topic 8</b><br>Words: perfect snack, kettle, carbohydrate, coupons, munching",
          "<b>Topic 8</b><br>Words: kettle, carbohydrate, perfect snack, 20g, coupons",
          "<b>Topic 8</b><br>Words: won buy, similar taste, carrots, tasty snack, carbohydrate",
          "<b>Topic 8</b><br>Words: kettle, coupons, like cinnamon, small package, good fresh",
          "<b>Topic 8</b><br>Words: kettle, carbohydrate, 20g, flakes, variation",
          "<b>Topic 8</b><br>Words: kettle, powdery, cheddar, nutritional value, bought case",
          "<b>Topic 8</b><br>Words: 3g, preparing, 24 pack, fancy, dip"
         ],
         "marker": {
          "color": "#56B4E9"
         },
         "mode": "lines",
         "name": "8_kettle_carbohydrate_perfect snack_munc...",
         "type": "scatter",
         "x": [
          "2017-12-20T04:48:00",
          "2018-03-10T19:12:00",
          "2018-05-30T09:36:00",
          "2018-08-19T00:00:00",
          "2018-11-07T14:24:00",
          "2019-09-26T00:00:00",
          "2019-12-15T14:24:00",
          "2020-03-05T04:48:00",
          "2020-05-24T19:12:00",
          "2020-08-13T09:36:00",
          "2020-11-02T00:00:00",
          "2021-01-21T14:24:00",
          "2021-04-12T04:48:00",
          "2021-07-01T19:12:00",
          "2021-09-20T09:36:00"
         ],
         "y": [
          1,
          1,
          1,
          5,
          1,
          1,
          6,
          3,
          3,
          1,
          7,
          12,
          30,
          22,
          14
         ]
        },
        {
         "hoverinfo": "text",
         "hovertext": [
          "<b>Topic 9</b><br>Words: candies, like don, granola bars, tasty snack, lose weight",
          "<b>Topic 9</b><br>Words: eat box, healthy snacks, betty, granola bars, quaker",
          "<b>Topic 9</b><br>Words: roll, granola bars, quaker, raisins, lose weight",
          "<b>Topic 9</b><br>Words: granola bars, quaker, raisins, lose weight, non dairy",
          "<b>Topic 9</b><br>Words: granola bars, quaker, raisins, lose weight, non dairy",
          "<b>Topic 9</b><br>Words: granola bars, quaker, raisins, lose weight, non dairy",
          "<b>Topic 9</b><br>Words: skip, granola bars, quaker, lose weight, non dairy",
          "<b>Topic 9</b><br>Words: roll, granola bars, phase, tapioca, healthy tasty",
          "<b>Topic 9</b><br>Words: crust, did great, overall recommend, texture great, granola bars",
          "<b>Topic 9</b><br>Words: delicious definitely, boxes pack, quaker, healthy tasty, granola bars",
          "<b>Topic 9</b><br>Words: purchases, lose weight, cup tea, raisin, granola bars",
          "<b>Topic 9</b><br>Words: production, size just, nutty flavor, granola bars, raisins",
          "<b>Topic 9</b><br>Words: quaker, tasty nice, nice change, granola bars, non dairy",
          "<b>Topic 9</b><br>Words: ratio, wonderful alternative, non dairy, chocolate chip, granola bars",
          "<b>Topic 9</b><br>Words: granola bars, cashews, shaped, best deal, almonds",
          "<b>Topic 9</b><br>Words: granola bars, cheaper amazon, lose weight, don expect, low cal"
         ],
         "marker": {
          "color": "#009E73"
         },
         "mode": "lines",
         "name": "9_granola bars_quaker_tasty snack_lose w...",
         "type": "scatter",
         "x": [
          "2018-03-10T19:12:00",
          "2018-08-19T00:00:00",
          "2018-11-07T14:24:00",
          "2019-01-27T04:48:00",
          "2019-04-17T19:12:00",
          "2019-07-07T09:36:00",
          "2019-09-26T00:00:00",
          "2019-12-15T14:24:00",
          "2020-03-05T04:48:00",
          "2020-05-24T19:12:00",
          "2020-08-13T09:36:00",
          "2020-11-02T00:00:00",
          "2021-01-21T14:24:00",
          "2021-04-12T04:48:00",
          "2021-07-01T19:12:00",
          "2021-09-20T09:36:00"
         ],
         "y": [
          1,
          4,
          2,
          2,
          1,
          1,
          2,
          14,
          7,
          8,
          6,
          8,
          12,
          13,
          13,
          14
         ]
        },
        {
         "hoverinfo": "text",
         "hovertext": [
          "<b>Topic 10</b><br>Words: crust, muffin, betty, oven, substitutes",
          "<b>Topic 10</b><br>Words: changes, muffin, betty, oven, blueberries",
          "<b>Topic 10</b><br>Words: salad dressing, frosting, muffin, betty, oven",
          "<b>Topic 10</b><br>Words: zip lock, roll, muffin, betty, oven",
          "<b>Topic 10</b><br>Words: suffer, muffin, betty, substitutes, blueberries",
          "<b>Topic 10</b><br>Words: muffin, betty, oven, substitutes, blueberries",
          "<b>Topic 10</b><br>Words: shrimp, orange juice, muffin, oven, substitutes",
          "<b>Topic 10</b><br>Words: muffin, gf, betty, oven, substitutes",
          "<b>Topic 10</b><br>Words: reordered, water add, texture great, blueberries, muffin",
          "<b>Topic 10</b><br>Words: identical, muffin, betty, oven, substitutes",
          "<b>Topic 10</b><br>Words: gf, tip, cons, diabetes, reading reviews",
          "<b>Topic 10</b><br>Words: substitutes, biting, unfortunate, melts, muffin",
          "<b>Topic 10</b><br>Words: betty, sliced, oven, substitutes, tapioca",
          "<b>Topic 10</b><br>Words: giving stars, falls, dust, frosting, coast",
          "<b>Topic 10</b><br>Words: muffin, betty, smells wonderful, taste subtle, company makes"
         ],
         "marker": {
          "color": "#F0E442"
         },
         "mode": "lines",
         "name": "10_muffin_betty_oven_substitutes",
         "type": "scatter",
         "x": [
          "2017-12-20T04:48:00",
          "2018-03-10T19:12:00",
          "2018-08-19T00:00:00",
          "2019-01-27T04:48:00",
          "2019-07-07T09:36:00",
          "2019-09-26T00:00:00",
          "2019-12-15T14:24:00",
          "2020-03-05T04:48:00",
          "2020-05-24T19:12:00",
          "2020-08-13T09:36:00",
          "2020-11-02T00:00:00",
          "2021-01-21T14:24:00",
          "2021-04-12T04:48:00",
          "2021-07-01T19:12:00",
          "2021-09-20T09:36:00"
         ],
         "y": [
          1,
          3,
          4,
          1,
          1,
          1,
          4,
          2,
          6,
          3,
          10,
          13,
          25,
          18,
          15
         ]
        },
        {
         "hoverinfo": "text",
         "hovertext": [
          "<b>Topic 11</b><br>Words: holes, chocolate chip, nana, mini, raisin",
          "<b>Topic 11</b><br>Words: raisins, pronounce, melt mouth, chocolate chip, nana",
          "<b>Topic 11</b><br>Words: nana, hard eat, melt mouth, decaf, chocolate chip",
          "<b>Topic 11</b><br>Words: eat box, chocolate chip, nana, raisins, high calories",
          "<b>Topic 11</b><br>Words: bit sweet, healthy tasty, chocolate chip, mini, 140 calories",
          "<b>Topic 11</b><br>Words: chocolate chip, tasting like, nana, raisins, 140 calories",
          "<b>Topic 11</b><br>Words: chocolate chip, nana, mini, 140 calories, quaker",
          "<b>Topic 11</b><br>Words: quaker, chocolate chip, nana, mini, 140 calories",
          "<b>Topic 11</b><br>Words: did great, high calories, toddler, fragrance, wholesome",
          "<b>Topic 11</b><br>Words: tree, snob, chocolate chip, 140 calories, raisin",
          "<b>Topic 11</b><br>Words: good cup, raisins, chocolate chip, nana, oven",
          "<b>Topic 11</b><br>Words: pronounce, store great, ll definitely, food allergies, quaker",
          "<b>Topic 11</b><br>Words: tapioca, eat day, calories serving, 140, chocolate chip",
          "<b>Topic 11</b><br>Words: mini, bites, chocolate chip, 140 calories, raisin",
          "<b>Topic 11</b><br>Words: amazon cheaper, time eating, chocolate chip, raisins, oven",
          "<b>Topic 11</b><br>Words: chocolate chip, healthy ingredients, tang, mini, healthy low",
          "<b>Topic 11</b><br>Words: 140 calories, bit high, warned, healthy snacks, raisin",
          "<b>Topic 11</b><br>Words: chocolate chip, raisin, mini, bit sweet, planning"
         ],
         "marker": {
          "color": "#D55E00"
         },
         "mode": "lines",
         "name": "11_chocolate chip_nana_mini_140 calories",
         "type": "scatter",
         "x": [
          "2017-07-10T09:18:43.200000",
          "2017-12-20T04:48:00",
          "2018-03-10T19:12:00",
          "2018-05-30T09:36:00",
          "2018-08-19T00:00:00",
          "2018-11-07T14:24:00",
          "2019-01-27T04:48:00",
          "2019-04-17T19:12:00",
          "2019-09-26T00:00:00",
          "2019-12-15T14:24:00",
          "2020-03-05T04:48:00",
          "2020-05-24T19:12:00",
          "2020-08-13T09:36:00",
          "2020-11-02T00:00:00",
          "2021-01-21T14:24:00",
          "2021-04-12T04:48:00",
          "2021-07-01T19:12:00",
          "2021-09-20T09:36:00"
         ],
         "y": [
          2,
          7,
          4,
          1,
          6,
          4,
          1,
          1,
          4,
          4,
          4,
          3,
          6,
          4,
          6,
          21,
          13,
          14
         ]
        },
        {
         "hoverinfo": "text",
         "hovertext": [
          "<b>Topic 12</b><br>Words: lowest, flax, granola bars, raisin, 12 ounces",
          "<b>Topic 12</b><br>Words: flax, snacking, granola bars, raisin, 12 ounces",
          "<b>Topic 12</b><br>Words: flax, granola bars, raisin, 12 ounces, boxes pack",
          "<b>Topic 12</b><br>Words: great products, cheapest, flax, granola bars, raisin",
          "<b>Topic 12</b><br>Words: ve fan, looking forward, mini, flax, granola bars",
          "<b>Topic 12</b><br>Words: ounce bags, healthy food, snacking, flax, granola bars",
          "<b>Topic 12</b><br>Words: flax, snacking, granola bars, raisin, 12 ounces",
          "<b>Topic 12</b><br>Words: bran, raisin, recommend buying, whey, diabetes",
          "<b>Topic 12</b><br>Words: flax, granola bars, coupons, recommendation, maple syrup",
          "<b>Topic 12</b><br>Words: cinnamon taste, nutrients, hearty, years tried, carbohydrates",
          "<b>Topic 12</b><br>Words: boxes pack, bran, 12 ounces, mornings, smoothies",
          "<b>Topic 12</b><br>Words: flakes, bran, raisin, 12 ounces, taste definitely"
         ],
         "marker": {
          "color": "#0072B2"
         },
         "mode": "lines",
         "name": "12_flax_snacking_granola bars_raisin",
         "type": "scatter",
         "x": [
          "2017-12-20T04:48:00",
          "2018-03-10T19:12:00",
          "2018-08-19T00:00:00",
          "2019-12-15T14:24:00",
          "2020-03-05T04:48:00",
          "2020-05-24T19:12:00",
          "2020-08-13T09:36:00",
          "2020-11-02T00:00:00",
          "2021-01-21T14:24:00",
          "2021-04-12T04:48:00",
          "2021-07-01T19:12:00",
          "2021-09-20T09:36:00"
         ],
         "y": [
          3,
          2,
          1,
          5,
          5,
          2,
          1,
          6,
          15,
          16,
          20,
          17
         ]
        },
        {
         "hoverinfo": "text",
         "hovertext": [
          "<b>Topic 13</b><br>Words: taste smooth, keurig, lids, green mountain, cider",
          "<b>Topic 13</b><br>Words: tried far, keurig, lids, green mountain, cider",
          "<b>Topic 13</b><br>Words: keurig, lids, green mountain, cider, sip",
          "<b>Topic 13</b><br>Words: keurig, lids, green mountain, cider, sip",
          "<b>Topic 13</b><br>Words: member, lowest, plastic bag, keurig, green mountain",
          "<b>Topic 13</b><br>Words: cider, drink coffee, keurig, green mountain, member",
          "<b>Topic 13</b><br>Words: make cup, keurig, lids, green mountain, cider",
          "<b>Topic 13</b><br>Words: ease, keurig, green mountain, cider, sip",
          "<b>Topic 13</b><br>Words: grateful, wholesale, green mountain, keurig, cider",
          "<b>Topic 13</b><br>Words: keurig, guest, flavor rich, recommend buying, spilled",
          "<b>Topic 13</b><br>Words: keurig, lids, 50 cents, numerous, buy store",
          "<b>Topic 13</b><br>Words: keurig, sounds, smallest, ordered boxes, flavor way",
          "<b>Topic 13</b><br>Words: lids, cider, keurig, like original, store great"
         ],
         "marker": {
          "color": "#CC79A7"
         },
         "mode": "lines",
         "name": "13_keurig_lids_green mountain_cider",
         "type": "scatter",
         "x": [
          "2017-12-20T04:48:00",
          "2018-08-19T00:00:00",
          "2019-07-07T09:36:00",
          "2019-09-26T00:00:00",
          "2019-12-15T14:24:00",
          "2020-03-05T04:48:00",
          "2020-05-24T19:12:00",
          "2020-08-13T09:36:00",
          "2020-11-02T00:00:00",
          "2021-01-21T14:24:00",
          "2021-04-12T04:48:00",
          "2021-07-01T19:12:00",
          "2021-09-20T09:36:00"
         ],
         "y": [
          1,
          3,
          2,
          1,
          4,
          2,
          5,
          2,
          4,
          11,
          28,
          16,
          13
         ]
        },
        {
         "hoverinfo": "text",
         "hovertext": [
          "<b>Topic 14</b><br>Words: distinct, sweetner, swiss, splenda, non dairy",
          "<b>Topic 14</b><br>Words: lowest, swiss, keurig, distinct, non dairy",
          "<b>Topic 14</b><br>Words: 24 pack, swiss, grove, distinct, sweetner",
          "<b>Topic 14</b><br>Words: swiss, distinct, non dairy, 24 pack, earthy",
          "<b>Topic 14</b><br>Words: unfortunate, swiss, distinct, non dairy, 24 pack",
          "<b>Topic 14</b><br>Words: swiss, distinct, non dairy, 24 pack, earthy",
          "<b>Topic 14</b><br>Words: swiss, distinct, non dairy, 24 pack, earthy",
          "<b>Topic 14</b><br>Words: bitter like, regular price, order product, good mix, shakes",
          "<b>Topic 14</b><br>Words: melts, good mix, different brands, bodied, swiss",
          "<b>Topic 14</b><br>Words: semi, swiss, distinct, non dairy, sweetner",
          "<b>Topic 14</b><br>Words: keurig, swiss, distinct, non dairy, sweetner",
          "<b>Topic 14</b><br>Words: bit expensive, shipping fast, swiss, warned, 24 pack",
          "<b>Topic 14</b><br>Words: swiss, non dairy, earthy, falls, make cup",
          "<b>Topic 14</b><br>Words: warned, effects, cheaper just, pomegranate, candies",
          "<b>Topic 14</b><br>Words: melt mouth, green mountain, swiss, non dairy, sweetner",
          "<b>Topic 14</b><br>Words: phase, calories fat, taste hot, really does, carbohydrate"
         ],
         "marker": {
          "color": "#E69F00"
         },
         "mode": "lines",
         "name": "14_swiss_distinct_falls_non dairy",
         "type": "scatter",
         "x": [
          "2017-12-20T04:48:00",
          "2018-03-10T19:12:00",
          "2018-08-19T00:00:00",
          "2018-11-07T14:24:00",
          "2019-01-27T04:48:00",
          "2019-04-17T19:12:00",
          "2019-07-07T09:36:00",
          "2019-12-15T14:24:00",
          "2020-03-05T04:48:00",
          "2020-05-24T19:12:00",
          "2020-08-13T09:36:00",
          "2020-11-02T00:00:00",
          "2021-01-21T14:24:00",
          "2021-04-12T04:48:00",
          "2021-07-01T19:12:00",
          "2021-09-20T09:36:00"
         ],
         "y": [
          4,
          2,
          3,
          1,
          1,
          1,
          2,
          8,
          7,
          2,
          3,
          3,
          8,
          12,
          13,
          11
         ]
        }
       ],
       "layout": {
        "height": 450,
        "hoverlabel": {
         "bgcolor": "white",
         "font": {
          "family": "Rockwell",
          "size": 16
         }
        },
        "legend": {
         "title": {
          "text": "<b>Global Topic Representation"
         }
        },
        "template": {
         "data": {
          "bar": [
           {
            "error_x": {
             "color": "rgb(36,36,36)"
            },
            "error_y": {
             "color": "rgb(36,36,36)"
            },
            "marker": {
             "line": {
              "color": "white",
              "width": 0.5
             },
             "pattern": {
              "fillmode": "overlay",
              "size": 10,
              "solidity": 0.2
             }
            },
            "type": "bar"
           }
          ],
          "barpolar": [
           {
            "marker": {
             "line": {
              "color": "white",
              "width": 0.5
             },
             "pattern": {
              "fillmode": "overlay",
              "size": 10,
              "solidity": 0.2
             }
            },
            "type": "barpolar"
           }
          ],
          "carpet": [
           {
            "aaxis": {
             "endlinecolor": "rgb(36,36,36)",
             "gridcolor": "white",
             "linecolor": "white",
             "minorgridcolor": "white",
             "startlinecolor": "rgb(36,36,36)"
            },
            "baxis": {
             "endlinecolor": "rgb(36,36,36)",
             "gridcolor": "white",
             "linecolor": "white",
             "minorgridcolor": "white",
             "startlinecolor": "rgb(36,36,36)"
            },
            "type": "carpet"
           }
          ],
          "choropleth": [
           {
            "colorbar": {
             "outlinewidth": 1,
             "tickcolor": "rgb(36,36,36)",
             "ticks": "outside"
            },
            "type": "choropleth"
           }
          ],
          "contour": [
           {
            "colorbar": {
             "outlinewidth": 1,
             "tickcolor": "rgb(36,36,36)",
             "ticks": "outside"
            },
            "colorscale": [
             [
              0,
              "#440154"
             ],
             [
              0.1111111111111111,
              "#482878"
             ],
             [
              0.2222222222222222,
              "#3e4989"
             ],
             [
              0.3333333333333333,
              "#31688e"
             ],
             [
              0.4444444444444444,
              "#26828e"
             ],
             [
              0.5555555555555556,
              "#1f9e89"
             ],
             [
              0.6666666666666666,
              "#35b779"
             ],
             [
              0.7777777777777778,
              "#6ece58"
             ],
             [
              0.8888888888888888,
              "#b5de2b"
             ],
             [
              1,
              "#fde725"
             ]
            ],
            "type": "contour"
           }
          ],
          "contourcarpet": [
           {
            "colorbar": {
             "outlinewidth": 1,
             "tickcolor": "rgb(36,36,36)",
             "ticks": "outside"
            },
            "type": "contourcarpet"
           }
          ],
          "heatmap": [
           {
            "colorbar": {
             "outlinewidth": 1,
             "tickcolor": "rgb(36,36,36)",
             "ticks": "outside"
            },
            "colorscale": [
             [
              0,
              "#440154"
             ],
             [
              0.1111111111111111,
              "#482878"
             ],
             [
              0.2222222222222222,
              "#3e4989"
             ],
             [
              0.3333333333333333,
              "#31688e"
             ],
             [
              0.4444444444444444,
              "#26828e"
             ],
             [
              0.5555555555555556,
              "#1f9e89"
             ],
             [
              0.6666666666666666,
              "#35b779"
             ],
             [
              0.7777777777777778,
              "#6ece58"
             ],
             [
              0.8888888888888888,
              "#b5de2b"
             ],
             [
              1,
              "#fde725"
             ]
            ],
            "type": "heatmap"
           }
          ],
          "heatmapgl": [
           {
            "colorbar": {
             "outlinewidth": 1,
             "tickcolor": "rgb(36,36,36)",
             "ticks": "outside"
            },
            "colorscale": [
             [
              0,
              "#440154"
             ],
             [
              0.1111111111111111,
              "#482878"
             ],
             [
              0.2222222222222222,
              "#3e4989"
             ],
             [
              0.3333333333333333,
              "#31688e"
             ],
             [
              0.4444444444444444,
              "#26828e"
             ],
             [
              0.5555555555555556,
              "#1f9e89"
             ],
             [
              0.6666666666666666,
              "#35b779"
             ],
             [
              0.7777777777777778,
              "#6ece58"
             ],
             [
              0.8888888888888888,
              "#b5de2b"
             ],
             [
              1,
              "#fde725"
             ]
            ],
            "type": "heatmapgl"
           }
          ],
          "histogram": [
           {
            "marker": {
             "line": {
              "color": "white",
              "width": 0.6
             }
            },
            "type": "histogram"
           }
          ],
          "histogram2d": [
           {
            "colorbar": {
             "outlinewidth": 1,
             "tickcolor": "rgb(36,36,36)",
             "ticks": "outside"
            },
            "colorscale": [
             [
              0,
              "#440154"
             ],
             [
              0.1111111111111111,
              "#482878"
             ],
             [
              0.2222222222222222,
              "#3e4989"
             ],
             [
              0.3333333333333333,
              "#31688e"
             ],
             [
              0.4444444444444444,
              "#26828e"
             ],
             [
              0.5555555555555556,
              "#1f9e89"
             ],
             [
              0.6666666666666666,
              "#35b779"
             ],
             [
              0.7777777777777778,
              "#6ece58"
             ],
             [
              0.8888888888888888,
              "#b5de2b"
             ],
             [
              1,
              "#fde725"
             ]
            ],
            "type": "histogram2d"
           }
          ],
          "histogram2dcontour": [
           {
            "colorbar": {
             "outlinewidth": 1,
             "tickcolor": "rgb(36,36,36)",
             "ticks": "outside"
            },
            "colorscale": [
             [
              0,
              "#440154"
             ],
             [
              0.1111111111111111,
              "#482878"
             ],
             [
              0.2222222222222222,
              "#3e4989"
             ],
             [
              0.3333333333333333,
              "#31688e"
             ],
             [
              0.4444444444444444,
              "#26828e"
             ],
             [
              0.5555555555555556,
              "#1f9e89"
             ],
             [
              0.6666666666666666,
              "#35b779"
             ],
             [
              0.7777777777777778,
              "#6ece58"
             ],
             [
              0.8888888888888888,
              "#b5de2b"
             ],
             [
              1,
              "#fde725"
             ]
            ],
            "type": "histogram2dcontour"
           }
          ],
          "mesh3d": [
           {
            "colorbar": {
             "outlinewidth": 1,
             "tickcolor": "rgb(36,36,36)",
             "ticks": "outside"
            },
            "type": "mesh3d"
           }
          ],
          "parcoords": [
           {
            "line": {
             "colorbar": {
              "outlinewidth": 1,
              "tickcolor": "rgb(36,36,36)",
              "ticks": "outside"
             }
            },
            "type": "parcoords"
           }
          ],
          "pie": [
           {
            "automargin": true,
            "type": "pie"
           }
          ],
          "scatter": [
           {
            "fillpattern": {
             "fillmode": "overlay",
             "size": 10,
             "solidity": 0.2
            },
            "type": "scatter"
           }
          ],
          "scatter3d": [
           {
            "line": {
             "colorbar": {
              "outlinewidth": 1,
              "tickcolor": "rgb(36,36,36)",
              "ticks": "outside"
             }
            },
            "marker": {
             "colorbar": {
              "outlinewidth": 1,
              "tickcolor": "rgb(36,36,36)",
              "ticks": "outside"
             }
            },
            "type": "scatter3d"
           }
          ],
          "scattercarpet": [
           {
            "marker": {
             "colorbar": {
              "outlinewidth": 1,
              "tickcolor": "rgb(36,36,36)",
              "ticks": "outside"
             }
            },
            "type": "scattercarpet"
           }
          ],
          "scattergeo": [
           {
            "marker": {
             "colorbar": {
              "outlinewidth": 1,
              "tickcolor": "rgb(36,36,36)",
              "ticks": "outside"
             }
            },
            "type": "scattergeo"
           }
          ],
          "scattergl": [
           {
            "marker": {
             "colorbar": {
              "outlinewidth": 1,
              "tickcolor": "rgb(36,36,36)",
              "ticks": "outside"
             }
            },
            "type": "scattergl"
           }
          ],
          "scattermapbox": [
           {
            "marker": {
             "colorbar": {
              "outlinewidth": 1,
              "tickcolor": "rgb(36,36,36)",
              "ticks": "outside"
             }
            },
            "type": "scattermapbox"
           }
          ],
          "scatterpolar": [
           {
            "marker": {
             "colorbar": {
              "outlinewidth": 1,
              "tickcolor": "rgb(36,36,36)",
              "ticks": "outside"
             }
            },
            "type": "scatterpolar"
           }
          ],
          "scatterpolargl": [
           {
            "marker": {
             "colorbar": {
              "outlinewidth": 1,
              "tickcolor": "rgb(36,36,36)",
              "ticks": "outside"
             }
            },
            "type": "scatterpolargl"
           }
          ],
          "scatterternary": [
           {
            "marker": {
             "colorbar": {
              "outlinewidth": 1,
              "tickcolor": "rgb(36,36,36)",
              "ticks": "outside"
             }
            },
            "type": "scatterternary"
           }
          ],
          "surface": [
           {
            "colorbar": {
             "outlinewidth": 1,
             "tickcolor": "rgb(36,36,36)",
             "ticks": "outside"
            },
            "colorscale": [
             [
              0,
              "#440154"
             ],
             [
              0.1111111111111111,
              "#482878"
             ],
             [
              0.2222222222222222,
              "#3e4989"
             ],
             [
              0.3333333333333333,
              "#31688e"
             ],
             [
              0.4444444444444444,
              "#26828e"
             ],
             [
              0.5555555555555556,
              "#1f9e89"
             ],
             [
              0.6666666666666666,
              "#35b779"
             ],
             [
              0.7777777777777778,
              "#6ece58"
             ],
             [
              0.8888888888888888,
              "#b5de2b"
             ],
             [
              1,
              "#fde725"
             ]
            ],
            "type": "surface"
           }
          ],
          "table": [
           {
            "cells": {
             "fill": {
              "color": "rgb(237,237,237)"
             },
             "line": {
              "color": "white"
             }
            },
            "header": {
             "fill": {
              "color": "rgb(217,217,217)"
             },
             "line": {
              "color": "white"
             }
            },
            "type": "table"
           }
          ]
         },
         "layout": {
          "annotationdefaults": {
           "arrowhead": 0,
           "arrowwidth": 1
          },
          "autotypenumbers": "strict",
          "coloraxis": {
           "colorbar": {
            "outlinewidth": 1,
            "tickcolor": "rgb(36,36,36)",
            "ticks": "outside"
           }
          },
          "colorscale": {
           "diverging": [
            [
             0,
             "rgb(103,0,31)"
            ],
            [
             0.1,
             "rgb(178,24,43)"
            ],
            [
             0.2,
             "rgb(214,96,77)"
            ],
            [
             0.3,
             "rgb(244,165,130)"
            ],
            [
             0.4,
             "rgb(253,219,199)"
            ],
            [
             0.5,
             "rgb(247,247,247)"
            ],
            [
             0.6,
             "rgb(209,229,240)"
            ],
            [
             0.7,
             "rgb(146,197,222)"
            ],
            [
             0.8,
             "rgb(67,147,195)"
            ],
            [
             0.9,
             "rgb(33,102,172)"
            ],
            [
             1,
             "rgb(5,48,97)"
            ]
           ],
           "sequential": [
            [
             0,
             "#440154"
            ],
            [
             0.1111111111111111,
             "#482878"
            ],
            [
             0.2222222222222222,
             "#3e4989"
            ],
            [
             0.3333333333333333,
             "#31688e"
            ],
            [
             0.4444444444444444,
             "#26828e"
            ],
            [
             0.5555555555555556,
             "#1f9e89"
            ],
            [
             0.6666666666666666,
             "#35b779"
            ],
            [
             0.7777777777777778,
             "#6ece58"
            ],
            [
             0.8888888888888888,
             "#b5de2b"
            ],
            [
             1,
             "#fde725"
            ]
           ],
           "sequentialminus": [
            [
             0,
             "#440154"
            ],
            [
             0.1111111111111111,
             "#482878"
            ],
            [
             0.2222222222222222,
             "#3e4989"
            ],
            [
             0.3333333333333333,
             "#31688e"
            ],
            [
             0.4444444444444444,
             "#26828e"
            ],
            [
             0.5555555555555556,
             "#1f9e89"
            ],
            [
             0.6666666666666666,
             "#35b779"
            ],
            [
             0.7777777777777778,
             "#6ece58"
            ],
            [
             0.8888888888888888,
             "#b5de2b"
            ],
            [
             1,
             "#fde725"
            ]
           ]
          },
          "colorway": [
           "#1F77B4",
           "#FF7F0E",
           "#2CA02C",
           "#D62728",
           "#9467BD",
           "#8C564B",
           "#E377C2",
           "#7F7F7F",
           "#BCBD22",
           "#17BECF"
          ],
          "font": {
           "color": "rgb(36,36,36)"
          },
          "geo": {
           "bgcolor": "white",
           "lakecolor": "white",
           "landcolor": "white",
           "showlakes": true,
           "showland": true,
           "subunitcolor": "white"
          },
          "hoverlabel": {
           "align": "left"
          },
          "hovermode": "closest",
          "mapbox": {
           "style": "light"
          },
          "paper_bgcolor": "white",
          "plot_bgcolor": "white",
          "polar": {
           "angularaxis": {
            "gridcolor": "rgb(232,232,232)",
            "linecolor": "rgb(36,36,36)",
            "showgrid": false,
            "showline": true,
            "ticks": "outside"
           },
           "bgcolor": "white",
           "radialaxis": {
            "gridcolor": "rgb(232,232,232)",
            "linecolor": "rgb(36,36,36)",
            "showgrid": false,
            "showline": true,
            "ticks": "outside"
           }
          },
          "scene": {
           "xaxis": {
            "backgroundcolor": "white",
            "gridcolor": "rgb(232,232,232)",
            "gridwidth": 2,
            "linecolor": "rgb(36,36,36)",
            "showbackground": true,
            "showgrid": false,
            "showline": true,
            "ticks": "outside",
            "zeroline": false,
            "zerolinecolor": "rgb(36,36,36)"
           },
           "yaxis": {
            "backgroundcolor": "white",
            "gridcolor": "rgb(232,232,232)",
            "gridwidth": 2,
            "linecolor": "rgb(36,36,36)",
            "showbackground": true,
            "showgrid": false,
            "showline": true,
            "ticks": "outside",
            "zeroline": false,
            "zerolinecolor": "rgb(36,36,36)"
           },
           "zaxis": {
            "backgroundcolor": "white",
            "gridcolor": "rgb(232,232,232)",
            "gridwidth": 2,
            "linecolor": "rgb(36,36,36)",
            "showbackground": true,
            "showgrid": false,
            "showline": true,
            "ticks": "outside",
            "zeroline": false,
            "zerolinecolor": "rgb(36,36,36)"
           }
          },
          "shapedefaults": {
           "fillcolor": "black",
           "line": {
            "width": 0
           },
           "opacity": 0.3
          },
          "ternary": {
           "aaxis": {
            "gridcolor": "rgb(232,232,232)",
            "linecolor": "rgb(36,36,36)",
            "showgrid": false,
            "showline": true,
            "ticks": "outside"
           },
           "baxis": {
            "gridcolor": "rgb(232,232,232)",
            "linecolor": "rgb(36,36,36)",
            "showgrid": false,
            "showline": true,
            "ticks": "outside"
           },
           "bgcolor": "white",
           "caxis": {
            "gridcolor": "rgb(232,232,232)",
            "linecolor": "rgb(36,36,36)",
            "showgrid": false,
            "showline": true,
            "ticks": "outside"
           }
          },
          "title": {
           "x": 0.05
          },
          "xaxis": {
           "automargin": true,
           "gridcolor": "rgb(232,232,232)",
           "linecolor": "rgb(36,36,36)",
           "showgrid": false,
           "showline": true,
           "ticks": "outside",
           "title": {
            "standoff": 15
           },
           "zeroline": false,
           "zerolinecolor": "rgb(36,36,36)"
          },
          "yaxis": {
           "automargin": true,
           "gridcolor": "rgb(232,232,232)",
           "linecolor": "rgb(36,36,36)",
           "showgrid": false,
           "showline": true,
           "ticks": "outside",
           "title": {
            "standoff": 15
           },
           "zeroline": false,
           "zerolinecolor": "rgb(36,36,36)"
          }
         }
        },
        "title": {
         "font": {
          "color": "Black",
          "size": 22
         },
         "text": "<b>Topics over Time</b>",
         "x": 0.4,
         "xanchor": "center",
         "y": 0.95,
         "yanchor": "top"
        },
        "width": 1250,
        "xaxis": {
         "showgrid": true
        },
        "yaxis": {
         "showgrid": true,
         "title": {
          "text": "Frequency"
         }
        }
       }
      }
     },
     "metadata": {},
     "output_type": "display_data"
    }
   ],
   "source": [
    "topics_over_time = model.topic_model.topics_over_time(docs=train.text, \n",
    "                                                timestamps=train.date, \n",
    "                                                global_tuning=True, \n",
    "                                                evolution_tuning=True, \n",
    "                                                nr_bins=20)\n",
    "model.topic_model.visualize_topics_over_time(topics_over_time, top_n_topics=15)"
   ]
  },
  {
   "cell_type": "code",
   "execution_count": 25,
   "metadata": {},
   "outputs": [],
   "source": [
    "# Save model\n",
    "topic_model.save(\"bertopic_model\")\t"
   ]
  },
  {
   "cell_type": "code",
   "execution_count": 28,
   "metadata": {},
   "outputs": [],
   "source": [
    "# Load model\n",
    "topic_model = BERTopic.load(\"bertopic_model\")\t"
   ]
  }
 ],
 "metadata": {
  "kernelspec": {
   "display_name": "Python 3",
   "language": "python",
   "name": "python3"
  },
  "language_info": {
   "codemirror_mode": {
    "name": "ipython",
    "version": 3
   },
   "file_extension": ".py",
   "mimetype": "text/x-python",
   "name": "python",
   "nbconvert_exporter": "python",
   "pygments_lexer": "ipython3",
   "version": "3.8.12"
  },
  "orig_nbformat": 4
 },
 "nbformat": 4,
 "nbformat_minor": 2
}
