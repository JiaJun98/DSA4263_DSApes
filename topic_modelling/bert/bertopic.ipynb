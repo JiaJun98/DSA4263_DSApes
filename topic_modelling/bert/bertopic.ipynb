{
 "cells": [
  {
   "cell_type": "code",
   "execution_count": 1,
   "metadata": {},
   "outputs": [
    {
     "name": "stderr",
     "output_type": "stream",
     "text": [
      "[nltk_data] Downloading package punkt to\n",
      "[nltk_data]     C:\\Users\\tingy\\AppData\\Roaming\\nltk_data...\n",
      "[nltk_data]   Package punkt is already up-to-date!\n",
      "[nltk_data] Downloading package wordnet to\n",
      "[nltk_data]     C:\\Users\\tingy\\AppData\\Roaming\\nltk_data...\n",
      "[nltk_data]   Package wordnet is already up-to-date!\n",
      "[nltk_data] Downloading package omw-1.4 to\n",
      "[nltk_data]     C:\\Users\\tingy\\AppData\\Roaming\\nltk_data...\n",
      "[nltk_data]   Package omw-1.4 is already up-to-date!\n",
      "[nltk_data] Downloading package stopwords to\n",
      "[nltk_data]     C:\\Users\\tingy\\AppData\\Roaming\\nltk_data...\n",
      "[nltk_data]   Package stopwords is already up-to-date!\n"
     ]
    }
   ],
   "source": [
    "from bertopic import BERTopic\n",
    "import pandas as pd\n",
    "import numpy as np\n",
    "from sklearn.feature_extraction.text import CountVectorizer\n",
    "from gensim.models.coherencemodel import CoherenceModel\n",
    "import gensim.corpora as corpora\n",
    "import matplotlib.pyplot as plt\n",
    "from bertopic.vectorizers import ClassTfidfTransformer\n",
    "from bertopic.representation import MaximalMarginalRelevance\n",
    "import sys\n",
    "import os\n",
    "import syspend\n",
    "from utility import parse_config, seed_everything, custom_print\n",
    "from preprocess_class import create_datasets\n",
    "from model_base_class import BaseModel\n",
    "from umap import UMAP\n",
    "from hdbscan import HDBSCAN\n",
    "from sklearn.cluster import KMeans\n",
    "from sklearn.decomposition import PCA\n",
    "from transformers.pipelines import pipeline\n",
    "from sentence_transformers import SentenceTransformer\n",
    "from bertopic.representation import KeyBERTInspired, ZeroShotClassification\n",
    "from BERTopic_model import BERTopic_model\n",
    "import plotly\n",
    "\n",
    "sys.path.append(\"../..\")"
   ]
  },
  {
   "cell_type": "code",
   "execution_count": 2,
   "metadata": {},
   "outputs": [],
   "source": [
    "df = pd.read_csv('../../data/reviews.csv')\n",
    "train, test = create_datasets(df)"
   ]
  },
  {
   "cell_type": "code",
   "execution_count": 56,
   "metadata": {},
   "outputs": [],
   "source": [
    "model = BERTopic_model()\n",
    "model.topic_model = BERTopic.load('sentence-transformers-key-bigram')"
   ]
  },
  {
   "cell_type": "code",
   "execution_count": 49,
   "metadata": {},
   "outputs": [],
   "source": [
    "miniLM_model.topic_model.save(\"sentence-transformers-key-bigram\")\t\n"
   ]
  },
  {
   "cell_type": "code",
   "execution_count": 123,
   "metadata": {},
   "outputs": [
    {
     "data": {
      "text/html": [
       "<div>\n",
       "<style scoped>\n",
       "    .dataframe tbody tr th:only-of-type {\n",
       "        vertical-align: middle;\n",
       "    }\n",
       "\n",
       "    .dataframe tbody tr th {\n",
       "        vertical-align: top;\n",
       "    }\n",
       "\n",
       "    .dataframe thead th {\n",
       "        text-align: right;\n",
       "    }\n",
       "</style>\n",
       "<table border=\"1\" class=\"dataframe\">\n",
       "  <thead>\n",
       "    <tr style=\"text-align: right;\">\n",
       "      <th></th>\n",
       "      <th>Topic</th>\n",
       "      <th>Count</th>\n",
       "      <th>Name</th>\n",
       "      <th>CustomName</th>\n",
       "    </tr>\n",
       "  </thead>\n",
       "  <tbody>\n",
       "    <tr>\n",
       "      <th>0</th>\n",
       "      <td>-1</td>\n",
       "      <td>902</td>\n",
       "      <td>-1_pork rinds_microwave pork_vanilla beans_raw...</td>\n",
       "      <td>Outliers</td>\n",
       "    </tr>\n",
       "    <tr>\n",
       "      <th>1</th>\n",
       "      <td>0</td>\n",
       "      <td>1406</td>\n",
       "      <td>0_tangerine flavor_tangerine orange_orange tan...</td>\n",
       "      <td>Soft Drinks</td>\n",
       "    </tr>\n",
       "    <tr>\n",
       "      <th>2</th>\n",
       "      <td>1</td>\n",
       "      <td>624</td>\n",
       "      <td>1_quality tea_quality coffee_recommend tea_tea...</td>\n",
       "      <td>Tea/Coffee</td>\n",
       "    </tr>\n",
       "    <tr>\n",
       "      <th>3</th>\n",
       "      <td>2</td>\n",
       "      <td>167</td>\n",
       "      <td>2_dog foods_dog treats_products dogs_dogs chicken</td>\n",
       "      <td>Dog Food</td>\n",
       "    </tr>\n",
       "    <tr>\n",
       "      <th>4</th>\n",
       "      <td>3</td>\n",
       "      <td>163</td>\n",
       "      <td>3_sauce tasty_ranchero sauce_fajita sauce_spic...</td>\n",
       "      <td>Sauces</td>\n",
       "    </tr>\n",
       "    <tr>\n",
       "      <th>5</th>\n",
       "      <td>4</td>\n",
       "      <td>156</td>\n",
       "      <td>4_bisquick pancakes_cake mixes_pancake mixes_b...</td>\n",
       "      <td>Baking Products</td>\n",
       "    </tr>\n",
       "    <tr>\n",
       "      <th>6</th>\n",
       "      <td>5</td>\n",
       "      <td>111</td>\n",
       "      <td>5_diet bars_tasting bars_ingredients bars_tast...</td>\n",
       "      <td>Snack Bars</td>\n",
       "    </tr>\n",
       "    <tr>\n",
       "      <th>7</th>\n",
       "      <td>6</td>\n",
       "      <td>110</td>\n",
       "      <td>6_chips flavor_chips tasty_tasting chips_love ...</td>\n",
       "      <td>Chips</td>\n",
       "    </tr>\n",
       "    <tr>\n",
       "      <th>8</th>\n",
       "      <td>7</td>\n",
       "      <td>100</td>\n",
       "      <td>7_keurig coffee_kona coffee_keurig nice_keurig...</td>\n",
       "      <td>Keurig Coffee Products</td>\n",
       "    </tr>\n",
       "    <tr>\n",
       "      <th>9</th>\n",
       "      <td>8</td>\n",
       "      <td>91</td>\n",
       "      <td>8_healthy cereals_cereal tasty_cereal snack_ta...</td>\n",
       "      <td>Cereal</td>\n",
       "    </tr>\n",
       "    <tr>\n",
       "      <th>10</th>\n",
       "      <td>9</td>\n",
       "      <td>75</td>\n",
       "      <td>9_noodles delicious_noodles tasty_prepare nood...</td>\n",
       "      <td>Noodle</td>\n",
       "    </tr>\n",
       "    <tr>\n",
       "      <th>11</th>\n",
       "      <td>10</td>\n",
       "      <td>74</td>\n",
       "      <td>10_sardines_like sardines_recommended tuna_bes...</td>\n",
       "      <td>Salty Food Products</td>\n",
       "    </tr>\n",
       "    <tr>\n",
       "      <th>12</th>\n",
       "      <td>11</td>\n",
       "      <td>57</td>\n",
       "      <td>11_crackers tasty_crackers delicious_crackers ...</td>\n",
       "      <td>Crackers</td>\n",
       "    </tr>\n",
       "    <tr>\n",
       "      <th>13</th>\n",
       "      <td>12</td>\n",
       "      <td>57</td>\n",
       "      <td>12_cats eat_cat eat_cat healthy_cat ate</td>\n",
       "      <td>Cat Food</td>\n",
       "    </tr>\n",
       "    <tr>\n",
       "      <th>14</th>\n",
       "      <td>13</td>\n",
       "      <td>50</td>\n",
       "      <td>13_coconut drinks_drinking coconut_fresh cocon...</td>\n",
       "      <td>Coconut Products</td>\n",
       "    </tr>\n",
       "    <tr>\n",
       "      <th>15</th>\n",
       "      <td>14</td>\n",
       "      <td>49</td>\n",
       "      <td>14_popcorn lovers_flavor popcorn_best popcorn_...</td>\n",
       "      <td>Popcorn</td>\n",
       "    </tr>\n",
       "    <tr>\n",
       "      <th>16</th>\n",
       "      <td>15</td>\n",
       "      <td>46</td>\n",
       "      <td>15_olive oils_coconut oils_walnut oil_avocado oil</td>\n",
       "      <td>Oil Products</td>\n",
       "    </tr>\n",
       "    <tr>\n",
       "      <th>17</th>\n",
       "      <td>16</td>\n",
       "      <td>41</td>\n",
       "      <td>16_recommend soup_soup tastes_love soup_amys s...</td>\n",
       "      <td>Soup</td>\n",
       "    </tr>\n",
       "    <tr>\n",
       "      <th>18</th>\n",
       "      <td>17</td>\n",
       "      <td>40</td>\n",
       "      <td>17_protein vanilla_protein powders_protein mix...</td>\n",
       "      <td>Protein Powder</td>\n",
       "    </tr>\n",
       "    <tr>\n",
       "      <th>19</th>\n",
       "      <td>18</td>\n",
       "      <td>36</td>\n",
       "      <td>18_crunchy peanut_regular peanut_peanuts nuttz...</td>\n",
       "      <td>Peanut Butter</td>\n",
       "    </tr>\n",
       "  </tbody>\n",
       "</table>\n",
       "</div>"
      ],
      "text/plain": [
       "    Topic  Count                                               Name  \\\n",
       "0      -1    902  -1_pork rinds_microwave pork_vanilla beans_raw...   \n",
       "1       0   1406  0_tangerine flavor_tangerine orange_orange tan...   \n",
       "2       1    624  1_quality tea_quality coffee_recommend tea_tea...   \n",
       "3       2    167  2_dog foods_dog treats_products dogs_dogs chicken   \n",
       "4       3    163  3_sauce tasty_ranchero sauce_fajita sauce_spic...   \n",
       "5       4    156  4_bisquick pancakes_cake mixes_pancake mixes_b...   \n",
       "6       5    111  5_diet bars_tasting bars_ingredients bars_tast...   \n",
       "7       6    110  6_chips flavor_chips tasty_tasting chips_love ...   \n",
       "8       7    100  7_keurig coffee_kona coffee_keurig nice_keurig...   \n",
       "9       8     91  8_healthy cereals_cereal tasty_cereal snack_ta...   \n",
       "10      9     75  9_noodles delicious_noodles tasty_prepare nood...   \n",
       "11     10     74  10_sardines_like sardines_recommended tuna_bes...   \n",
       "12     11     57  11_crackers tasty_crackers delicious_crackers ...   \n",
       "13     12     57            12_cats eat_cat eat_cat healthy_cat ate   \n",
       "14     13     50  13_coconut drinks_drinking coconut_fresh cocon...   \n",
       "15     14     49  14_popcorn lovers_flavor popcorn_best popcorn_...   \n",
       "16     15     46  15_olive oils_coconut oils_walnut oil_avocado oil   \n",
       "17     16     41  16_recommend soup_soup tastes_love soup_amys s...   \n",
       "18     17     40  17_protein vanilla_protein powders_protein mix...   \n",
       "19     18     36  18_crunchy peanut_regular peanut_peanuts nuttz...   \n",
       "\n",
       "                CustomName  \n",
       "0                 Outliers  \n",
       "1              Soft Drinks  \n",
       "2               Tea/Coffee  \n",
       "3                 Dog Food  \n",
       "4                   Sauces  \n",
       "5          Baking Products  \n",
       "6               Snack Bars  \n",
       "7                    Chips  \n",
       "8   Keurig Coffee Products  \n",
       "9                   Cereal  \n",
       "10                  Noodle  \n",
       "11     Salty Food Products  \n",
       "12                Crackers  \n",
       "13                Cat Food  \n",
       "14        Coconut Products  \n",
       "15                 Popcorn  \n",
       "16            Oil Products  \n",
       "17                    Soup  \n",
       "18          Protein Powder  \n",
       "19           Peanut Butter  "
      ]
     },
     "execution_count": 123,
     "metadata": {},
     "output_type": "execute_result"
    }
   ],
   "source": [
    "topic_model.get_topic_info()"
   ]
  },
  {
   "cell_type": "code",
   "execution_count": 55,
   "metadata": {},
   "outputs": [
    {
     "data": {
      "text/plain": [
       "[('the', 0.050298565034729265),\n",
       " ('and', 0.04202089928639583),\n",
       " ('it', 0.04066654586185052),\n",
       " ('to', 0.03776439526073845),\n",
       " ('this', 0.03678709696743862),\n",
       " ('is', 0.031280962615838605),\n",
       " ('of', 0.030870238957200563),\n",
       " ('for', 0.02765312690854749),\n",
       " ('in', 0.025100899786985174),\n",
       " ('was', 0.024953398287246218)]"
      ]
     },
     "execution_count": 55,
     "metadata": {},
     "output_type": "execute_result"
    }
   ],
   "source": [
    "topic_model.get_topic(1)"
   ]
  },
  {
   "cell_type": "code",
   "execution_count": 52,
   "metadata": {},
   "outputs": [
    {
     "data": {
      "text/plain": [
       "772     I purchased this at my local health food store...\n",
       "820     I realize that it is not quite healthy to guzz...\n",
       "1799    I purchased this lime juice a few years ago on...\n",
       "2123    This is a good drink, tastes like soda, but fr...\n",
       "2302    This is for sure not what I was expecting it t...\n",
       "3848    I've tried other flavors of Switch carbonated ...\n",
       "1781    I expected to like this drink because I like v...\n",
       "1719    I like orange soda but usually cannot drink an...\n",
       "3868    So far I like this cherry juice best.  I was e...\n",
       "3142    I wasn't sure what to expect with this citrusy...\n",
       "Name: Text, dtype: object"
      ]
     },
     "execution_count": 52,
     "metadata": {},
     "output_type": "execute_result"
    }
   ],
   "source": [
    "labeled_train = pd.DataFrame({'Text': train.text,'Label':topic_model.topics_})\n",
    "labeled_train.loc[labeled_train['Label']==4, 'Text'].sample(n=10)"
   ]
  },
  {
   "cell_type": "code",
   "execution_count": 98,
   "metadata": {},
   "outputs": [
    {
     "data": {
      "text/plain": [
       "8"
      ]
     },
     "execution_count": 98,
     "metadata": {},
     "output_type": "execute_result"
    }
   ],
   "source": [
    "model.topic_model.get_topic_freq().shape[0] -1"
   ]
  },
  {
   "cell_type": "code",
   "execution_count": 47,
   "metadata": {},
   "outputs": [],
   "source": [
    "miniLM_model.topic_model.set_topic_labels({\n",
    "-1: 'Outliers',\n",
    "0: 'Soft Drinks',\n",
    "1: 'Tea/Coffee',\n",
    "2: 'Dog Food',\n",
    "3: 'Sauces',\n",
    "4: 'Baking Products',\n",
    "5: 'Snack Bars',\n",
    "6: 'Chips',\n",
    "7: 'Keurig Coffee Products',\n",
    "8: 'Cereal',\n",
    "9: 'Noodle',\n",
    "10: 'Salty Food Products',\n",
    "11: 'Crackers',\n",
    "12: 'Cat Food',\n",
    "13: 'Coconut Products',\n",
    "14: 'Popcorn',\n",
    "15: 'Oil Products',\n",
    "16: 'Soup',\n",
    "17: 'Protein Powder',\n",
    "18: 'Peanut Butter'\n",
    "})"
   ]
  },
  {
   "cell_type": "code",
   "execution_count": 46,
   "metadata": {},
   "outputs": [
    {
     "data": {
      "text/plain": [
       "1530    this product is hard to find for us in stores ...\n",
       "2138    I was expecting a plain old cup of coffee when...\n",
       "1323    The products lid stays attached to the needle ...\n",
       "937     I love Sumatra coffee and was excited to recei...\n",
       "2797    Although I've only been able to try three of C...\n",
       "2338    I love these K cups they have a nice tea taste...\n",
       "1407    I'm a pretty big coffee drinker, but had never...\n",
       "2409    I enjoyed these k-cups when I used them. They ...\n",
       "676     I have tried about 25 different K-Cup flavors,...\n",
       "139     Caused my cuisinart k-cup brewer to leak every...\n",
       "Name: Text, dtype: object"
      ]
     },
     "execution_count": 46,
     "metadata": {},
     "output_type": "execute_result"
    }
   ],
   "source": [
    "labeled_train = pd.DataFrame({'Text': train.text,'Label':miniLM_model.topic_model.topics_})\n",
    "labeled_train.loc[labeled_train['Label']==7, 'Text'].sample(n=10)"
   ]
  },
  {
   "cell_type": "code",
   "execution_count": 68,
   "metadata": {},
   "outputs": [],
   "source": [
    "miniLM_model.topic_model.set_topic_labels({\n",
    "-1: 'Outliers',\n",
    "0: 'Staple Food/Cooking Products',\n",
    "1: 'Coffee',\n",
    "2: 'Tea',\n",
    "3: 'Snacks',\n",
    "4: 'Dog Food',\n",
    "5: 'Baby Food/Canned Food',\n",
    "6: 'Delivery',\n",
    "7: 'Processed Food',\n",
    "8: 'Cat Food',\n",
    "9: 'Concentrated Syrup',\n",
    "10: 'Popcorn',\n",
    "11: 'Coconut Products',\n",
    "12: 'Protein Powder',\n",
    "13: 'Consumable Oil',\n",
    "14: 'Soup'})"
   ]
  },
  {
   "cell_type": "code",
   "execution_count": 83,
   "metadata": {},
   "outputs": [
    {
     "data": {
      "text/html": [
       "<div>\n",
       "<style scoped>\n",
       "    .dataframe tbody tr th:only-of-type {\n",
       "        vertical-align: middle;\n",
       "    }\n",
       "\n",
       "    .dataframe tbody tr th {\n",
       "        vertical-align: top;\n",
       "    }\n",
       "\n",
       "    .dataframe thead th {\n",
       "        text-align: right;\n",
       "    }\n",
       "</style>\n",
       "<table border=\"1\" class=\"dataframe\">\n",
       "  <thead>\n",
       "    <tr style=\"text-align: right;\">\n",
       "      <th></th>\n",
       "      <th>Text</th>\n",
       "      <th>Topic</th>\n",
       "      <th>CustomName</th>\n",
       "    </tr>\n",
       "    <tr>\n",
       "      <th>Label</th>\n",
       "      <th></th>\n",
       "      <th></th>\n",
       "      <th></th>\n",
       "    </tr>\n",
       "  </thead>\n",
       "  <tbody>\n",
       "    <tr>\n",
       "      <th>-1</th>\n",
       "      <td>400</td>\n",
       "      <td>400</td>\n",
       "      <td>400</td>\n",
       "    </tr>\n",
       "    <tr>\n",
       "      <th>0</th>\n",
       "      <td>262</td>\n",
       "      <td>262</td>\n",
       "      <td>262</td>\n",
       "    </tr>\n",
       "    <tr>\n",
       "      <th>1</th>\n",
       "      <td>107</td>\n",
       "      <td>107</td>\n",
       "      <td>107</td>\n",
       "    </tr>\n",
       "    <tr>\n",
       "      <th>2</th>\n",
       "      <td>107</td>\n",
       "      <td>107</td>\n",
       "      <td>107</td>\n",
       "    </tr>\n",
       "    <tr>\n",
       "      <th>3</th>\n",
       "      <td>67</td>\n",
       "      <td>67</td>\n",
       "      <td>67</td>\n",
       "    </tr>\n",
       "    <tr>\n",
       "      <th>4</th>\n",
       "      <td>55</td>\n",
       "      <td>55</td>\n",
       "      <td>55</td>\n",
       "    </tr>\n",
       "    <tr>\n",
       "      <th>5</th>\n",
       "      <td>41</td>\n",
       "      <td>41</td>\n",
       "      <td>41</td>\n",
       "    </tr>\n",
       "    <tr>\n",
       "      <th>6</th>\n",
       "      <td>37</td>\n",
       "      <td>37</td>\n",
       "      <td>37</td>\n",
       "    </tr>\n",
       "    <tr>\n",
       "      <th>7</th>\n",
       "      <td>13</td>\n",
       "      <td>13</td>\n",
       "      <td>13</td>\n",
       "    </tr>\n",
       "  </tbody>\n",
       "</table>\n",
       "</div>"
      ],
      "text/plain": [
       "       Text  Topic  CustomName\n",
       "Label                         \n",
       "-1      400    400         400\n",
       " 0      262    262         262\n",
       " 1      107    107         107\n",
       " 2      107    107         107\n",
       " 3       67     67          67\n",
       " 4       55     55          55\n",
       " 5       41     41          41\n",
       " 6       37     37          37\n",
       " 7       13     13          13"
      ]
     },
     "execution_count": 83,
     "metadata": {},
     "output_type": "execute_result"
    }
   ],
   "source": [
    "labeled_test.groupby('Label').count()"
   ]
  },
  {
   "cell_type": "code",
   "execution_count": 99,
   "metadata": {},
   "outputs": [
    {
     "data": {
      "text/html": [
       "<div>\n",
       "<style scoped>\n",
       "    .dataframe tbody tr th:only-of-type {\n",
       "        vertical-align: middle;\n",
       "    }\n",
       "\n",
       "    .dataframe tbody tr th {\n",
       "        vertical-align: top;\n",
       "    }\n",
       "\n",
       "    .dataframe thead th {\n",
       "        text-align: right;\n",
       "    }\n",
       "</style>\n",
       "<table border=\"1\" class=\"dataframe\">\n",
       "  <thead>\n",
       "    <tr style=\"text-align: right;\">\n",
       "      <th></th>\n",
       "      <th>Text</th>\n",
       "      <th>Label</th>\n",
       "      <th>Topic</th>\n",
       "      <th>CustomName</th>\n",
       "    </tr>\n",
       "  </thead>\n",
       "  <tbody>\n",
       "    <tr>\n",
       "      <th>0</th>\n",
       "      <td>This tea is amazing, I cannot believe the pric...</td>\n",
       "      <td>0</td>\n",
       "      <td>0</td>\n",
       "      <td>Drinks</td>\n",
       "    </tr>\n",
       "    <tr>\n",
       "      <th>1</th>\n",
       "      <td>I've tried a handful of other brands of French...</td>\n",
       "      <td>0</td>\n",
       "      <td>0</td>\n",
       "      <td>Drinks</td>\n",
       "    </tr>\n",
       "    <tr>\n",
       "      <th>2</th>\n",
       "      <td>I would recommend not buying these nuts if you...</td>\n",
       "      <td>2</td>\n",
       "      <td>2</td>\n",
       "      <td>Healthy Alternatives</td>\n",
       "    </tr>\n",
       "    <tr>\n",
       "      <th>3</th>\n",
       "      <td>I wish these came in larger quantities, if I c...</td>\n",
       "      <td>-1</td>\n",
       "      <td>-1</td>\n",
       "      <td>Outliers</td>\n",
       "    </tr>\n",
       "    <tr>\n",
       "      <th>4</th>\n",
       "      <td>Has a smooth taste like it claims without any ...</td>\n",
       "      <td>0</td>\n",
       "      <td>0</td>\n",
       "      <td>Drinks</td>\n",
       "    </tr>\n",
       "    <tr>\n",
       "      <th>...</th>\n",
       "      <td>...</td>\n",
       "      <td>...</td>\n",
       "      <td>...</td>\n",
       "      <td>...</td>\n",
       "    </tr>\n",
       "    <tr>\n",
       "      <th>1084</th>\n",
       "      <td>I'd seen an add for these in a magazine recent...</td>\n",
       "      <td>-1</td>\n",
       "      <td>-1</td>\n",
       "      <td>Outliers</td>\n",
       "    </tr>\n",
       "    <tr>\n",
       "      <th>1085</th>\n",
       "      <td>I was a bit cautious when I first opened the b...</td>\n",
       "      <td>-1</td>\n",
       "      <td>-1</td>\n",
       "      <td>Outliers</td>\n",
       "    </tr>\n",
       "    <tr>\n",
       "      <th>1086</th>\n",
       "      <td>I bought these for my wife for her birthday, s...</td>\n",
       "      <td>-1</td>\n",
       "      <td>-1</td>\n",
       "      <td>Outliers</td>\n",
       "    </tr>\n",
       "    <tr>\n",
       "      <th>1087</th>\n",
       "      <td>Lowrey's has changed it's microwave pork rinds...</td>\n",
       "      <td>-1</td>\n",
       "      <td>-1</td>\n",
       "      <td>Outliers</td>\n",
       "    </tr>\n",
       "    <tr>\n",
       "      <th>1088</th>\n",
       "      <td>I have tried 4 different kinds of oolongs, and...</td>\n",
       "      <td>0</td>\n",
       "      <td>0</td>\n",
       "      <td>Drinks</td>\n",
       "    </tr>\n",
       "  </tbody>\n",
       "</table>\n",
       "<p>1089 rows × 4 columns</p>\n",
       "</div>"
      ],
      "text/plain": [
       "                                                   Text  Label  Topic  \\\n",
       "0     This tea is amazing, I cannot believe the pric...      0      0   \n",
       "1     I've tried a handful of other brands of French...      0      0   \n",
       "2     I would recommend not buying these nuts if you...      2      2   \n",
       "3     I wish these came in larger quantities, if I c...     -1     -1   \n",
       "4     Has a smooth taste like it claims without any ...      0      0   \n",
       "...                                                 ...    ...    ...   \n",
       "1084  I'd seen an add for these in a magazine recent...     -1     -1   \n",
       "1085  I was a bit cautious when I first opened the b...     -1     -1   \n",
       "1086  I bought these for my wife for her birthday, s...     -1     -1   \n",
       "1087  Lowrey's has changed it's microwave pork rinds...     -1     -1   \n",
       "1088  I have tried 4 different kinds of oolongs, and...      0      0   \n",
       "\n",
       "                CustomName  \n",
       "0                   Drinks  \n",
       "1                   Drinks  \n",
       "2     Healthy Alternatives  \n",
       "3                 Outliers  \n",
       "4                   Drinks  \n",
       "...                    ...  \n",
       "1084              Outliers  \n",
       "1085              Outliers  \n",
       "1086              Outliers  \n",
       "1087              Outliers  \n",
       "1088                Drinks  \n",
       "\n",
       "[1089 rows x 4 columns]"
      ]
     },
     "execution_count": 99,
     "metadata": {},
     "output_type": "execute_result"
    }
   ],
   "source": [
    "labeled_test.drop(columns=['Label'], inplace=True)\n",
    "labeled_test.to_csv(f'{model_name}.csv', index=False)"
   ]
  },
  {
   "cell_type": "code",
   "execution_count": 65,
   "metadata": {},
   "outputs": [],
   "source": [
    "topics_to_merge= [[0,1,7,12,13,21,28], [2,14,22,8,20], [3,25,31],[5,23],[9,10,16,19],[6,11,15,24,26,17],\n",
    "                  [-1,27,29,30]]\n",
    "model.topic_model.merge_topics(train.text, topics_to_merge)"
   ]
  },
  {
   "cell_type": "code",
   "execution_count": 80,
   "metadata": {},
   "outputs": [
    {
     "data": {
      "text/html": [
       "<div>\n",
       "<style scoped>\n",
       "    .dataframe tbody tr th:only-of-type {\n",
       "        vertical-align: middle;\n",
       "    }\n",
       "\n",
       "    .dataframe tbody tr th {\n",
       "        vertical-align: top;\n",
       "    }\n",
       "\n",
       "    .dataframe thead th {\n",
       "        text-align: right;\n",
       "    }\n",
       "</style>\n",
       "<table border=\"1\" class=\"dataframe\">\n",
       "  <thead>\n",
       "    <tr style=\"text-align: right;\">\n",
       "      <th></th>\n",
       "      <th>Topic</th>\n",
       "      <th>Count</th>\n",
       "      <th>Name</th>\n",
       "      <th>CustomName</th>\n",
       "    </tr>\n",
       "  </thead>\n",
       "  <tbody>\n",
       "    <tr>\n",
       "      <th>0</th>\n",
       "      <td>-1</td>\n",
       "      <td>1406</td>\n",
       "      <td>-1_rinds_pork rinds_lentils_similac</td>\n",
       "      <td>Outliers</td>\n",
       "    </tr>\n",
       "    <tr>\n",
       "      <th>1</th>\n",
       "      <td>0</td>\n",
       "      <td>972</td>\n",
       "      <td>0_drinks___</td>\n",
       "      <td>Drinks</td>\n",
       "    </tr>\n",
       "    <tr>\n",
       "      <th>2</th>\n",
       "      <td>1</td>\n",
       "      <td>563</td>\n",
       "      <td>1_chicken jerky_movie_products china_theater</td>\n",
       "      <td>Snacks</td>\n",
       "    </tr>\n",
       "    <tr>\n",
       "      <th>3</th>\n",
       "      <td>2</td>\n",
       "      <td>452</td>\n",
       "      <td>2_healthy alternatives___</td>\n",
       "      <td>Healthy Alternatives</td>\n",
       "    </tr>\n",
       "    <tr>\n",
       "      <th>4</th>\n",
       "      <td>3</td>\n",
       "      <td>340</td>\n",
       "      <td>3_carbohydrates___</td>\n",
       "      <td>Carbohydrates</td>\n",
       "    </tr>\n",
       "    <tr>\n",
       "      <th>5</th>\n",
       "      <td>4</td>\n",
       "      <td>244</td>\n",
       "      <td>4_household___</td>\n",
       "      <td>Household</td>\n",
       "    </tr>\n",
       "    <tr>\n",
       "      <th>6</th>\n",
       "      <td>5</td>\n",
       "      <td>174</td>\n",
       "      <td>5_sauce___</td>\n",
       "      <td>Sauce</td>\n",
       "    </tr>\n",
       "    <tr>\n",
       "      <th>7</th>\n",
       "      <td>6</td>\n",
       "      <td>146</td>\n",
       "      <td>6_dog___</td>\n",
       "      <td>Dogs</td>\n",
       "    </tr>\n",
       "    <tr>\n",
       "      <th>8</th>\n",
       "      <td>7</td>\n",
       "      <td>58</td>\n",
       "      <td>7_cat___</td>\n",
       "      <td>Cats</td>\n",
       "    </tr>\n",
       "  </tbody>\n",
       "</table>\n",
       "</div>"
      ],
      "text/plain": [
       "   Topic  Count                                          Name  \\\n",
       "0     -1   1406           -1_rinds_pork rinds_lentils_similac   \n",
       "1      0    972                                   0_drinks___   \n",
       "2      1    563  1_chicken jerky_movie_products china_theater   \n",
       "3      2    452                     2_healthy alternatives___   \n",
       "4      3    340                            3_carbohydrates___   \n",
       "5      4    244                                4_household___   \n",
       "6      5    174                                    5_sauce___   \n",
       "7      6    146                                      6_dog___   \n",
       "8      7     58                                      7_cat___   \n",
       "\n",
       "             CustomName  \n",
       "0              Outliers  \n",
       "1                Drinks  \n",
       "2                Snacks  \n",
       "3  Healthy Alternatives  \n",
       "4         Carbohydrates  \n",
       "5             Household  \n",
       "6                 Sauce  \n",
       "7                  Dogs  \n",
       "8                  Cats  "
      ]
     },
     "execution_count": 80,
     "metadata": {},
     "output_type": "execute_result"
    }
   ],
   "source": [
    "model.topic_model.get_topic_info()"
   ]
  },
  {
   "cell_type": "code",
   "execution_count": 79,
   "metadata": {},
   "outputs": [],
   "source": [
    "model.topic_model.set_topic_labels({-1: \"Outliers\", 0: \"Drinks\", 1: \"Snacks\", 2:\"Healthy Alternatives\",\n",
    "                                    3:\"Carbohydrates\", 4:\"Household\", 5:\"Sauce\", 6:'Dogs', 7:\"Cats\"})"
   ]
  },
  {
   "cell_type": "code",
   "execution_count": 58,
   "metadata": {},
   "outputs": [
    {
     "name": "stderr",
     "output_type": "stream",
     "text": [
      "19it [02:44,  8.67s/it]\n"
     ]
    },
    {
     "data": {
      "application/vnd.plotly.v1+json": {
       "config": {
        "plotlyServerURL": "https://plot.ly"
       },
       "data": [
        {
         "hoverinfo": "text",
         "hovertext": [
          "<b>Topic 0</b><br>Words: chewiness cookie, cookies surprisingly, holes cookies, fantastic dressings, keen oatmeal",
          "<b>Topic 0</b><br>Words: oatmeal cookie, cookies soft, love oatmeal, taste fig, characteristic taste",
          "<b>Topic 0</b><br>Words: torani sugar, free syrups, calories candies, sugar eat, sugar bake",
          "<b>Topic 0</b><br>Words: cookie taste, cookies tasty, cocoa tasted, hard cookies, cookies great",
          "<b>Topic 0</b><br>Words: ranch flavored, cocoa krispies, ish snack, cookies tasty, hard grocery",
          "<b>Topic 0</b><br>Words: cookie recipe, wondering cookies, cookie kind, cinnamon chips, bun cookie",
          "<b>Topic 0</b><br>Words: flavored items, ghirardelli chocolate, meals flavors, tasty nutritional, taste goji",
          "<b>Topic 0</b><br>Words: tasty snacks, jordan almonds, snacks healthy, nut bars, banana nut",
          "<b>Topic 0</b><br>Words: nuts particularly, delicious snack, ramen good, almonds bit, fats snacks",
          "<b>Topic 0</b><br>Words: taste noodles, taste doubt, taste heavy, cheap tasty, 8oz tastes",
          "<b>Topic 0</b><br>Words: diet bars, bars taste, bars good, candy bar, kind bars",
          "<b>Topic 0</b><br>Words: cookies tasty, just dietary, mixed nuts, listed gluten, item taste",
          "<b>Topic 0</b><br>Words: considering sugar, smart sugar, angel food, best chocolate, protein bars",
          "<b>Topic 0</b><br>Words: lousy taste, lingonberry syrup, keurig happier, coffee snacks, treats surprisingly",
          "<b>Topic 0</b><br>Words: pumpkin muffins, tasty actually, snack good, tasty delicious, recipes pure",
          "<b>Topic 0</b><br>Words: cereal great, cereals, healthy tasteful, breakfast cookies, nut butter",
          "<b>Topic 0</b><br>Words: biscuit recipe, grain pancake, original bisquick, drop biscuits, grain pancakes",
          "<b>Topic 0</b><br>Words: healthy cereals, peanuts almonds, almonds cashews, hard gluten, nut bars",
          "<b>Topic 0</b><br>Words: lots sugar, breakfast snack, cereals, oatmeal raisin, non gluten"
         ],
         "marker": {
          "color": "#E69F00"
         },
         "mode": "lines",
         "name": "0_tasty cereal_cereal great_love pasta_s...",
         "type": "scatter",
         "x": [
          "2017-07-10T09:18:43.200000",
          "2017-12-20T04:48:00",
          "2018-03-10T19:12:00",
          "2018-05-30T09:36:00",
          "2018-08-19T00:00:00",
          "2018-11-07T14:24:00",
          "2019-01-27T04:48:00",
          "2019-04-17T19:12:00",
          "2019-07-07T09:36:00",
          "2019-09-26T00:00:00",
          "2019-12-15T14:24:00",
          "2020-03-05T04:48:00",
          "2020-05-24T19:12:00",
          "2020-08-13T09:36:00",
          "2020-11-02T00:00:00",
          "2021-01-21T14:24:00",
          "2021-04-12T04:48:00",
          "2021-07-01T19:12:00",
          "2021-09-20T09:36:00"
         ],
         "y": [
          3,
          28,
          19,
          3,
          39,
          11,
          10,
          9,
          21,
          21,
          101,
          52,
          81,
          53,
          105,
          134,
          247,
          230,
          217
         ]
        },
        {
         "hoverinfo": "text",
         "hovertext": [
          "<b>Topic 1</b><br>Words: keurig coffee, flavorful coffee, great coffee, buy coffee, regular coffee",
          "<b>Topic 1</b><br>Words: products coffee, coffee 81, coffees called, nung coffee, flavor stores",
          "<b>Topic 1</b><br>Words: great coffee, starbucks coffee, coffee bad, coffee rich, coffee coffee",
          "<b>Topic 1</b><br>Words: folgers coffee, coffee plan, tamer coffee, coffee considered, marked coffee",
          "<b>Topic 1</b><br>Words: amazon nespresso, buy coffee, ordering nespresso, tasting coffee, coffee coffee",
          "<b>Topic 1</b><br>Words: favorite coffees, colombian coffee, kind coffee, great coffee, recommend coffee",
          "<b>Topic 1</b><br>Words: tasting coffee, tastes bad, fruit beverages, great coffee, tangerine flavor",
          "<b>Topic 1</b><br>Words: inexpensive coffee, fine coffee, great coffee, supermarket coffees, coffee bitterness",
          "<b>Topic 1</b><br>Words: carbonated beverage, tasting coffee, drinks switch, fantastic espresso, fellow coffee",
          "<b>Topic 1</b><br>Words: juice flavor, grape soda, orange flavoring, flavors switch, tasting coffee",
          "<b>Topic 1</b><br>Words: better coffee, starbucks tastes, starbucks stuff, honestly starbucks, sodas horrible",
          "<b>Topic 1</b><br>Words: coffee lover, unused coffee, drink flavored, mentioned flavor, flavour highly",
          "<b>Topic 1</b><br>Words: natural flavored, pumpkin coffee, picky coffee, coconut juice, enjoyed coffee",
          "<b>Topic 1</b><br>Words: orange tangerine, drinker orange, eating oranges, taste soda, aftertaste orange",
          "<b>Topic 1</b><br>Words: acid coffee, sparkling juice, roasted coffee, coffee beans, lot coffee",
          "<b>Topic 1</b><br>Words: tasting coffee, regular coffee, keurig brewers, recommend coffee, coffee coffee",
          "<b>Topic 1</b><br>Words: caribou coffee, blend coffee, community coffee, coffee coffee, tasting coffee",
          "<b>Topic 1</b><br>Words: juice sodas, regular coffee, milky beverages, make juices, orange tangerine"
         ],
         "marker": {
          "color": "#56B4E9"
         },
         "mode": "lines",
         "name": "1_keurig coffee_brand coffee_recommend c...",
         "type": "scatter",
         "x": [
          "2017-12-20T04:48:00",
          "2018-03-10T19:12:00",
          "2018-05-30T09:36:00",
          "2018-08-19T00:00:00",
          "2018-11-07T14:24:00",
          "2019-01-27T04:48:00",
          "2019-04-17T19:12:00",
          "2019-07-07T09:36:00",
          "2019-09-26T00:00:00",
          "2019-12-15T14:24:00",
          "2020-03-05T04:48:00",
          "2020-05-24T19:12:00",
          "2020-08-13T09:36:00",
          "2020-11-02T00:00:00",
          "2021-01-21T14:24:00",
          "2021-04-12T04:48:00",
          "2021-07-01T19:12:00",
          "2021-09-20T09:36:00"
         ],
         "y": [
          5,
          5,
          3,
          15,
          4,
          2,
          2,
          9,
          16,
          39,
          9,
          18,
          10,
          24,
          51,
          125,
          71,
          61
         ]
        },
        {
         "hoverinfo": "text",
         "hovertext": [
          "<b>Topic 2</b><br>Words: tasting tea, organic tea, quality tea, taste tea, flavor tea",
          "<b>Topic 2</b><br>Words: tea basically, tea mix, tea health, ve tea, tea enjoy",
          "<b>Topic 2</b><br>Words: recommend tea, tea caffeine, ice tea, quality tea, strong tea",
          "<b>Topic 2</b><br>Words: tasting tea, flavor tea, quality tea, tea fantastic, strong tea",
          "<b>Topic 2</b><br>Words: lemon drink, raw honey, drink honey, instant powder, tea powder",
          "<b>Topic 2</b><br>Words: quality tea, tasting tea, recommend tea, taste tea, flavor tea",
          "<b>Topic 2</b><br>Words: quality tea, strong tea, recommend tea, tasting tea, great tea",
          "<b>Topic 2</b><br>Words: tea drink, white tea, sealed tea, white teas, tea add",
          "<b>Topic 2</b><br>Words: tea incredible, tea different, tea exactly, enjoyed teas, tea definetely",
          "<b>Topic 2</b><br>Words: quality tea, flavor tea, refined tea, remaining tea, red teas",
          "<b>Topic 2</b><br>Words: tea excellent, tea tasty, tea okay, tea definitely, tea frity",
          "<b>Topic 2</b><br>Words: tea irrestible, tea highly, tea selections, loose tea, like tea",
          "<b>Topic 2</b><br>Words: best tea, strong tea, recommend tea, oolong tea, taste tea",
          "<b>Topic 2</b><br>Words: tea choice, tea good, white tea, tasting tea, herbal teas",
          "<b>Topic 2</b><br>Words: bitterness tea, strong tea, taste tea, herbal tea, spice tea",
          "<b>Topic 2</b><br>Words: tasting tea, flavor tea, great tea, tea bad, tasteless tea"
         ],
         "marker": {
          "color": "#009E73"
         },
         "mode": "lines",
         "name": "2_quality tea_best tea_tasting tea_recom...",
         "type": "scatter",
         "x": [
          "2017-12-20T04:48:00",
          "2018-03-10T19:12:00",
          "2018-08-19T00:00:00",
          "2018-11-07T14:24:00",
          "2019-01-27T04:48:00",
          "2019-07-07T09:36:00",
          "2019-09-26T00:00:00",
          "2019-12-15T14:24:00",
          "2020-03-05T04:48:00",
          "2020-05-24T19:12:00",
          "2020-08-13T09:36:00",
          "2020-11-02T00:00:00",
          "2021-01-21T14:24:00",
          "2021-04-12T04:48:00",
          "2021-07-01T19:12:00",
          "2021-09-20T09:36:00"
         ],
         "y": [
          3,
          4,
          2,
          6,
          1,
          3,
          3,
          31,
          9,
          24,
          8,
          18,
          36,
          55,
          39,
          39
         ]
        },
        {
         "hoverinfo": "text",
         "hovertext": [
          "<b>Topic 3</b><br>Words: make chips, grain bread, chips actually, past chips, detest grain",
          "<b>Topic 3</b><br>Words: chips tasty, tasting chips, love chips, chips favorites, chips tasted",
          "<b>Topic 3</b><br>Words: chips rotten, chips edible, chips tasty, salt chips, love chips",
          "<b>Topic 3</b><br>Words: delicious chips, chip tasting, cheese chips, chips spicy, chips enjoyed",
          "<b>Topic 3</b><br>Words: bag chips, chips great, chips bag, eat chips, chips awesome",
          "<b>Topic 3</b><br>Words: crackers delicious, crackers good, snack crackers, eat crackers, plain crackers",
          "<b>Topic 3</b><br>Words: crackers delicious, crackers italian, good crackers, crackers good, crackers taste",
          "<b>Topic 3</b><br>Words: crackers delicious, crackers good, cracker fruit, plain crackers, crackers like",
          "<b>Topic 3</b><br>Words: chips delicious, chips food, try chips, chips texture, chips odd",
          "<b>Topic 3</b><br>Words: chips flavor, chips great, corn chips, eat chips, pop chips",
          "<b>Topic 3</b><br>Words: love chips, chips great, chips favorites, snack chip, chips love",
          "<b>Topic 3</b><br>Words: crackers delicious, crackers good, cracker dietary, rice crackers, healthy cracker",
          "<b>Topic 3</b><br>Words: tasty chips, crackers good, salt chips, original flavors, just crackers",
          "<b>Topic 3</b><br>Words: chips great, bag chips, cracker snacks, colored chips, potatoe chips",
          "<b>Topic 3</b><br>Words: popchips taste, tasting chips, chips tasty, pop chips, chips tasted",
          "<b>Topic 3</b><br>Words: plain crackers, chive chips, crackers like, purchase crackers, love chips",
          "<b>Topic 3</b><br>Words: taste chips, cravings chips, munching chips, chips better, regular chips"
         ],
         "marker": {
          "color": "#F0E442"
         },
         "mode": "lines",
         "name": "3_chips flavor_tasting chips_love chips_...",
         "type": "scatter",
         "x": [
          "2017-12-20T04:48:00",
          "2018-03-10T19:12:00",
          "2018-05-30T09:36:00",
          "2018-08-19T00:00:00",
          "2018-11-07T14:24:00",
          "2019-01-27T04:48:00",
          "2019-04-17T19:12:00",
          "2019-09-26T00:00:00",
          "2019-12-15T14:24:00",
          "2020-03-05T04:48:00",
          "2020-05-24T19:12:00",
          "2020-08-13T09:36:00",
          "2020-11-02T00:00:00",
          "2021-01-21T14:24:00",
          "2021-04-12T04:48:00",
          "2021-07-01T19:12:00",
          "2021-09-20T09:36:00"
         ],
         "y": [
          2,
          1,
          1,
          5,
          1,
          1,
          1,
          3,
          9,
          4,
          4,
          5,
          15,
          18,
          44,
          32,
          17
         ]
        },
        {
         "hoverinfo": "text",
         "hovertext": [
          "<b>Topic 4</b><br>Words: dog foods, holistic dog, feed dog, dog treats, dog favorite",
          "<b>Topic 4</b><br>Words: dog foods, dogs eating, feed dog, cooked dogs, clean dogs",
          "<b>Topic 4</b><br>Words: dog treats, dog foods, dried treats, treats dogs, treats feed",
          "<b>Topic 4</b><br>Words: dog foods, ingredients dog, treats natural, dog highly, pets best",
          "<b>Topic 4</b><br>Words: dog foods, recommended treats, dog chew, dog chewed, dry dogfood",
          "<b>Topic 4</b><br>Words: pet mouth, mouth pet, china mouth, china contaminated, toys china",
          "<b>Topic 4</b><br>Words: foods pet, labradoodle puppy, doggie budget, entertain dog, better dog",
          "<b>Topic 4</b><br>Words: nutrients dogs, treats ok, enjoying treats, dogs enjoying, treats promptly",
          "<b>Topic 4</b><br>Words: dogswell products, foods sourced, dogs tolerate, resist dogs, dogs doxies",
          "<b>Topic 4</b><br>Words: treats getting, country dogs, treats going, dachshund absolutely, beef rolls",
          "<b>Topic 4</b><br>Words: dog foods, dog treats, dogs eating, treats dog, dog treat",
          "<b>Topic 4</b><br>Words: dog treats, treats taste, treats dog, dogswell chew, tiny treats",
          "<b>Topic 4</b><br>Words: dog treats, duck treats, dogs chicken, duck treat, dog owners"
         ],
         "marker": {
          "color": "#D55E00"
         },
         "mode": "lines",
         "name": "4_dog foods_ingredients dog_dog treats_f...",
         "type": "scatter",
         "x": [
          "2018-05-30T09:36:00",
          "2018-11-07T14:24:00",
          "2019-07-07T09:36:00",
          "2019-09-26T00:00:00",
          "2019-12-15T14:24:00",
          "2020-03-05T04:48:00",
          "2020-05-24T19:12:00",
          "2020-08-13T09:36:00",
          "2020-11-02T00:00:00",
          "2021-01-21T14:24:00",
          "2021-04-12T04:48:00",
          "2021-07-01T19:12:00",
          "2021-09-20T09:36:00"
         ],
         "y": [
          1,
          1,
          2,
          3,
          12,
          4,
          7,
          4,
          12,
          18,
          46,
          20,
          25
         ]
        },
        {
         "hoverinfo": "text",
         "hovertext": [
          "<b>Topic 5</b><br>Words: easy toddlers, plum organics, tried pumpkin, new foods, hungry plum",
          "<b>Topic 5</b><br>Words: food pears, green vegetables, vegetables combined, pears loves, fruit veggie",
          "<b>Topic 5</b><br>Words: best foods, flat food, buy earth, infant loves, going food",
          "<b>Topic 5</b><br>Words: love reccommend, baby enjoyed, baby love, best amazon, taste baby",
          "<b>Topic 5</b><br>Words: olive spread, case grocery, jars leaked, jar lids, snack jars",
          "<b>Topic 5</b><br>Words: feeding babies, babies use, scary feeding, loves tasty, favorite banana",
          "<b>Topic 5</b><br>Words: stale treat, treat ordered, buy babiesrus, banana hurt, local prices",
          "<b>Topic 5</b><br>Words: item diaper, disliked product, favor item, remaining cartons, baby love",
          "<b>Topic 5</b><br>Words: food daughter, foods usable, foods flavor, stage foods, mango chicken",
          "<b>Topic 5</b><br>Words: product ok, product pleasantly, table foods, eb fruits, baby enjoyed",
          "<b>Topic 5</b><br>Words: plastic food, tray sticks, smoothly drawer, track tray, looking holder",
          "<b>Topic 5</b><br>Words: tasted foods, tasting baby, quality tasting, chicken apple, stinky turkey",
          "<b>Topic 5</b><br>Words: chunky meals, foods took, foods haven, fruit veggies, snack plus",
          "<b>Topic 5</b><br>Words: jars bpa, liked baby, shredded plastic, sealed jars, free jars"
         ],
         "marker": {
          "color": "#0072B2"
         },
         "mode": "lines",
         "name": "5_plastic food_improperly sealed_sealed ...",
         "type": "scatter",
         "x": [
          "2017-12-20T04:48:00",
          "2018-08-19T00:00:00",
          "2018-11-07T14:24:00",
          "2019-01-27T04:48:00",
          "2019-09-26T00:00:00",
          "2019-12-15T14:24:00",
          "2020-03-05T04:48:00",
          "2020-05-24T19:12:00",
          "2020-08-13T09:36:00",
          "2020-11-02T00:00:00",
          "2021-01-21T14:24:00",
          "2021-04-12T04:48:00",
          "2021-07-01T19:12:00",
          "2021-09-20T09:36:00"
         ],
         "y": [
          4,
          2,
          1,
          1,
          1,
          7,
          3,
          3,
          8,
          7,
          8,
          15,
          13,
          11
         ]
        },
        {
         "hoverinfo": "text",
         "hovertext": [
          "<b>Topic 6</b><br>Words: 911drugstore, 99 911drugstore, seller charge, 911drugstore charing, costs 59",
          "<b>Topic 6</b><br>Words: seven packs, total packs, cost pack, packs 14, packs snack",
          "<b>Topic 6</b><br>Words: cost pack, 10 packs, marshmallows 10, seven packs, packs meant",
          "<b>Topic 6</b><br>Words: local meijer, meijer sells, discount price, emergency snack, apiece discount",
          "<b>Topic 6</b><br>Words: pack fedex, fedex order, bag sent, ordered 16, refunded 105",
          "<b>Topic 6</b><br>Words: cost pack, 48 envelopes, boxes packs, seven packs, package crazy",
          "<b>Topic 6</b><br>Words: shop offers, price plus, deal product, price talk, paying shipping",
          "<b>Topic 6</b><br>Words: cookies costs, cost pack, costs chocolate, total boxes, costco 49",
          "<b>Topic 6</b><br>Words: cheaper shipped, box 14, receive box, arrives 15, boxes packs",
          "<b>Topic 6</b><br>Words: publix rated, local publix, checked prices, costs chocolate, discount price",
          "<b>Topic 6</b><br>Words: overpriced pack, dollars wholesale, local price, dollars package, target price",
          "<b>Topic 6</b><br>Words: overpriced grocery, priced snack, prices supermarket, sale prices, shopping chives",
          "<b>Topic 6</b><br>Words: box cookies, cost 99, 19 box, box 00, 50 grocery",
          "<b>Topic 6</b><br>Words: price package, price stores, cents muffin, checked prices, 48 cents",
          "<b>Topic 6</b><br>Words: 2oz really, approximate price, 21 2oz, pricing quite, 100 gram"
         ],
         "marker": {
          "color": "#CC79A7"
         },
         "mode": "lines",
         "name": "6_package purchase_paying shipping_packa...",
         "type": "scatter",
         "x": [
          "2017-12-20T04:48:00",
          "2018-03-10T19:12:00",
          "2018-08-19T00:00:00",
          "2019-04-17T19:12:00",
          "2019-07-07T09:36:00",
          "2019-09-26T00:00:00",
          "2019-12-15T14:24:00",
          "2020-03-05T04:48:00",
          "2020-05-24T19:12:00",
          "2020-08-13T09:36:00",
          "2020-11-02T00:00:00",
          "2021-01-21T14:24:00",
          "2021-04-12T04:48:00",
          "2021-07-01T19:12:00",
          "2021-09-20T09:36:00"
         ],
         "y": [
          1,
          1,
          4,
          1,
          1,
          2,
          5,
          3,
          2,
          1,
          5,
          11,
          18,
          12,
          15
         ]
        },
        {
         "hoverinfo": "text",
         "hovertext": [
          "<b>Topic 7</b><br>Words: salty beef, eat salty, salty fatty, eaten salty, salty eat",
          "<b>Topic 7</b><br>Words: salty product, peppered jerky, eat salty, peppered jerkys, salt good",
          "<b>Topic 7</b><br>Words: jerky saltiness, eaten salty, eat salty, salty eat, salt good",
          "<b>Topic 7</b><br>Words: eat salty, foodie salt, eaten salty, regular salt, salt good",
          "<b>Topic 7</b><br>Words: sardines olive, offerings sardines, sardines, tasting crown, great sardine",
          "<b>Topic 7</b><br>Words: dash marinates, marinates wonderful, marinates, mrs dash, benefits flavor",
          "<b>Topic 7</b><br>Words: eat salty, eaten salty, salty processed, salty eat, salt good",
          "<b>Topic 7</b><br>Words: sardines salt, based sardines, sardines, like sardines, great sardine",
          "<b>Topic 7</b><br>Words: sardines oil, filets sardines, sardines, sardines recently, canned fish",
          "<b>Topic 7</b><br>Words: eaten salty, sodium cheese, charleston seafood, eat salty, sturgeon roe",
          "<b>Topic 7</b><br>Words: taste tuna, best tuna, smoked tuna, sardines taste, tuna favorite",
          "<b>Topic 7</b><br>Words: tasting sardines, smoked salt, sardines used, sardine purveyors, sardines distinctive",
          "<b>Topic 7</b><br>Words: salt wonderful, salt tastes, salt different, salt special, snack salt",
          "<b>Topic 7</b><br>Words: salt delicious, regular salt, natural salt, serve salt, eaten salty",
          "<b>Topic 7</b><br>Words: salt good, salt great, salt prefered, taste tuna, regular saltine"
         ],
         "marker": {
          "color": "#E69F00"
         },
         "mode": "lines",
         "name": "7_salt delicious_regular sardines_salt d...",
         "type": "scatter",
         "x": [
          "2017-07-10T09:18:43.200000",
          "2017-12-20T04:48:00",
          "2018-03-10T19:12:00",
          "2018-08-19T00:00:00",
          "2019-07-07T09:36:00",
          "2019-09-26T00:00:00",
          "2019-12-15T14:24:00",
          "2020-03-05T04:48:00",
          "2020-05-24T19:12:00",
          "2020-08-13T09:36:00",
          "2020-11-02T00:00:00",
          "2021-01-21T14:24:00",
          "2021-04-12T04:48:00",
          "2021-07-01T19:12:00",
          "2021-09-20T09:36:00"
         ],
         "y": [
          1,
          2,
          3,
          3,
          1,
          1,
          3,
          1,
          9,
          2,
          6,
          9,
          9,
          11,
          16
         ]
        },
        {
         "hoverinfo": "text",
         "hovertext": [
          "<b>Topic 8</b><br>Words: cat eat, cat ate, cat foods, cats eat, treat cat",
          "<b>Topic 8</b><br>Words: food cat, cat eat, cats eat, cats treats, cat ate",
          "<b>Topic 8</b><br>Words: food cat, cats treats, cat eat, cats eat, cat canned",
          "<b>Topic 8</b><br>Words: cat eat, certain flavor, cats ounce, cat pukes, case cat",
          "<b>Topic 8</b><br>Words: appetizers quality, feast appetizers, quality cats, cats treats, food cat",
          "<b>Topic 8</b><br>Words: cat grass, plant cats, grown containers, containers cat, purchase grown",
          "<b>Topic 8</b><br>Words: cat tolerate, food vet, cat prefer, quality cat, kitty tender",
          "<b>Topic 8</b><br>Words: cat canned, trash cats, food website, adult cat, cat parents",
          "<b>Topic 8</b><br>Words: kitty eating, cat garbage, cats fine, cat iron, cat different",
          "<b>Topic 8</b><br>Words: cat foods, cats digestive, cats eat, cat healthy, cat ate",
          "<b>Topic 8</b><br>Words: pie cat, catnip, cat 15, public nutritional, red delicious",
          "<b>Topic 8</b><br>Words: cat eat, cats eat, eat cat, treat cat, treats cat"
         ],
         "marker": {
          "color": "#56B4E9"
         },
         "mode": "lines",
         "name": "8_cat foods_cats eat_cat healthy_food ca...",
         "type": "scatter",
         "x": [
          "2017-12-20T04:48:00",
          "2018-05-30T09:36:00",
          "2019-09-26T00:00:00",
          "2019-12-15T14:24:00",
          "2020-03-05T04:48:00",
          "2020-05-24T19:12:00",
          "2020-08-13T09:36:00",
          "2020-11-02T00:00:00",
          "2021-01-21T14:24:00",
          "2021-04-12T04:48:00",
          "2021-07-01T19:12:00",
          "2021-09-20T09:36:00"
         ],
         "y": [
          1,
          1,
          1,
          3,
          1,
          1,
          4,
          6,
          3,
          16,
          8,
          13
         ]
        },
        {
         "hoverinfo": "text",
         "hovertext": [
          "<b>Topic 9</b><br>Words: bottle tastes, flavor water, tasting water, water tastes, drinkers flavor",
          "<b>Topic 9</b><br>Words: efs, efs excelent, thought efs, accelerade better, compared accelerade",
          "<b>Topic 9</b><br>Words: mojito flavor, beverage drops, mixes mojito, flavors crystal, drops beverage",
          "<b>Topic 9</b><br>Words: best water, tasting waters, tasting water, water essentia, best bottled",
          "<b>Topic 9</b><br>Words: water tastes, calorie flavored, differences bottled, tasting zero, aftertaste water",
          "<b>Topic 9</b><br>Words: water flavor, tasting water, vitamin taste, water tastes, flavors crystal",
          "<b>Topic 9</b><br>Words: taste water, flavor water, tasting water, water tastes, tasting beverage",
          "<b>Topic 9</b><br>Words: flavors squirt, water flavors, swallowing vitamin, flavor water, water flavored",
          "<b>Topic 9</b><br>Words: tasting water, bottled waters, purest water, water purest, cleanser tastes",
          "<b>Topic 9</b><br>Words: drinks voss, bottle voss, daily water, bottle pinches, squeezed water",
          "<b>Topic 9</b><br>Words: citrus drink, trivedi water, tasting water, plain water, drink carbonated",
          "<b>Topic 9</b><br>Words: 32oz water, water shake, water enjoyed, buying water, expensive water",
          "<b>Topic 9</b><br>Words: tasting water, water tastes, kind water, expensive water, mixed water"
         ],
         "marker": {
          "color": "#009E73"
         },
         "mode": "lines",
         "name": "9_tasting water_trivedi water_water tast...",
         "type": "scatter",
         "x": [
          "2018-03-10T19:12:00",
          "2018-05-30T09:36:00",
          "2019-07-07T09:36:00",
          "2019-09-26T00:00:00",
          "2019-12-15T14:24:00",
          "2020-03-05T04:48:00",
          "2020-05-24T19:12:00",
          "2020-08-13T09:36:00",
          "2020-11-02T00:00:00",
          "2021-01-21T14:24:00",
          "2021-04-12T04:48:00",
          "2021-07-01T19:12:00",
          "2021-09-20T09:36:00"
         ],
         "y": [
          2,
          1,
          2,
          6,
          8,
          4,
          3,
          1,
          4,
          3,
          11,
          7,
          3
         ]
        },
        {
         "hoverinfo": "text",
         "hovertext": [
          "<b>Topic 10</b><br>Words: gives popcorn, corn popcorn, popcorn pleasing, popcorn product, white popcorn",
          "<b>Topic 10</b><br>Words: making popcorn, homemade popcorn, topping popcorn, popcorn machine, popcorn lovers",
          "<b>Topic 10</b><br>Words: popcorn taste, tasting popcorn, cheese popcorn, flavor popcorn, buttered popcorn",
          "<b>Topic 10</b><br>Words: popcorn salt, popcorn thanks, homemade popcorn, popcorn product, flavor popcorn",
          "<b>Topic 10</b><br>Words: corn popcorn, kettle corn, best popcorn, flavor popcorn, tasting popcorn",
          "<b>Topic 10</b><br>Words: popcorn salt, flavor popcorn, cheesy popcorn, homemade popcorn, popcorn seasoning",
          "<b>Topic 10</b><br>Words: corn popcorn, popcorn product, popcorn use, gourmet popcorn, fireworks popcorn",
          "<b>Topic 10</b><br>Words: theater popcorn, buy popcorn, buying popcorn, popcorn product, best popcorn",
          "<b>Topic 10</b><br>Words: tasting popcorn, flavor popcorn, grocery popcorn, corn popcorn, popcorn seasoning",
          "<b>Topic 10</b><br>Words: buying popcorn, homemade popcorn, tasting popcorn, flavor popcorn, popcorn use",
          "<b>Topic 10</b><br>Words: popcorn taste, flavor popcorn, tasting popcorn, popcorn lovers, love popcorn",
          "<b>Topic 10</b><br>Words: popcorn tasty, popcorn cooking, popcorn lovers, tasting popcorn, topping popcorn",
          "<b>Topic 10</b><br>Words: flavor popcorn, popcorn flavored, popcorn taste, popcorn good, popcorn amazing",
          "<b>Topic 10</b><br>Words: popcorn popcorn, cob popcorn, loved popcorn, different popcorn, popcorn loved"
         ],
         "marker": {
          "color": "#F0E442"
         },
         "mode": "lines",
         "name": "10_flavor popcorn_tasting popcorn_popcor...",
         "type": "scatter",
         "x": [
          "2018-03-10T19:12:00",
          "2018-08-19T00:00:00",
          "2018-11-07T14:24:00",
          "2019-01-27T04:48:00",
          "2019-09-26T00:00:00",
          "2019-12-15T14:24:00",
          "2020-03-05T04:48:00",
          "2020-05-24T19:12:00",
          "2020-08-13T09:36:00",
          "2020-11-02T00:00:00",
          "2021-01-21T14:24:00",
          "2021-04-12T04:48:00",
          "2021-07-01T19:12:00",
          "2021-09-20T09:36:00"
         ],
         "y": [
          1,
          1,
          1,
          1,
          1,
          3,
          2,
          2,
          2,
          4,
          4,
          9,
          11,
          8
         ]
        },
        {
         "hoverinfo": "text",
         "hovertext": [
          "<b>Topic 11</b><br>Words: natural pineapple, love pineapple, coconut pineapple, water pineapple, pineapple coconut",
          "<b>Topic 11</b><br>Words: taste coconut, taste efagold, enjoy coconut, tried coconut, drinking coconut",
          "<b>Topic 11</b><br>Words: sugary gatorade, gatorade similar, coconut drinks, gatorade lemonade, drinking coconut",
          "<b>Topic 11</b><br>Words: flavor jars, tub flavor, jars pleased, tub coconut, gallon tub",
          "<b>Topic 11</b><br>Words: flavor coconut, taste coconut, coconut drinks, drinking coconut, enjoy coconut",
          "<b>Topic 11</b><br>Words: coconut pineapple, tried coconut, love coconut, container coconut, coconut make",
          "<b>Topic 11</b><br>Words: flavor coconut, drinking coconut, coconut drinks, tried coconut, taste coconut",
          "<b>Topic 11</b><br>Words: coconut drink, water coconut, taste coconutty, rich coconut, coconut hard",
          "<b>Topic 11</b><br>Words: colada flavor, pina colada, coconut pineapple, pineapple coconut, love pineapple",
          "<b>Topic 11</b><br>Words: making coconut, probably coconut, pineapple flavor, tasted faint, residual flavor",
          "<b>Topic 11</b><br>Words: replacement coconut, kind coconut, say coconut, pineapple available, cans taste",
          "<b>Topic 11</b><br>Words: flavor coconut, taste coconut, water sweetened, tasted sweet, sweetened actually",
          "<b>Topic 11</b><br>Words: coconut pineapple, pineapple coconut, natural pineapple, pineapple delicious, coconut drinks",
          "<b>Topic 11</b><br>Words: drinking coconut, coconut drinks, flavor coconut, taste coconut, tried coconut"
         ],
         "marker": {
          "color": "#D55E00"
         },
         "mode": "lines",
         "name": "11_coconut drinks_drinking coconut_purch...",
         "type": "scatter",
         "x": [
          "2017-12-20T04:48:00",
          "2018-05-30T09:36:00",
          "2018-08-19T00:00:00",
          "2019-01-27T04:48:00",
          "2019-07-07T09:36:00",
          "2019-12-15T14:24:00",
          "2020-03-05T04:48:00",
          "2020-05-24T19:12:00",
          "2020-08-13T09:36:00",
          "2020-11-02T00:00:00",
          "2021-01-21T14:24:00",
          "2021-04-12T04:48:00",
          "2021-07-01T19:12:00",
          "2021-09-20T09:36:00"
         ],
         "y": [
          1,
          1,
          1,
          1,
          5,
          6,
          2,
          4,
          1,
          5,
          7,
          4,
          8,
          2
         ]
        },
        {
         "hoverinfo": "text",
         "hovertext": [
          "<b>Topic 12</b><br>Words: sour sop, protein morning, flavor benefits, protein powders, getting protein",
          "<b>Topic 12</b><br>Words: protein powders, getting protein, egg protein, like shakes, water shaker",
          "<b>Topic 12</b><br>Words: appetite hours, flavor benefits, replacement powder, protein powders, powder works",
          "<b>Topic 12</b><br>Words: protein satisfying, protein powders, portable protein, getting protein, egg protein",
          "<b>Topic 12</b><br>Words: lean body, like shakes, satisfied lean, buy lean, ready shakes",
          "<b>Topic 12</b><br>Words: dr smoothie, smoothie crushed, fat flavor, tasting easy, protein powders",
          "<b>Topic 12</b><br>Words: acai powder, nut acai, protein powders, shake taste, antioxidant product",
          "<b>Topic 12</b><br>Words: taking wheatgrass, helps wheatgrass, wheatgrass mix, yogurt did, wheatgrass best",
          "<b>Topic 12</b><br>Words: getting protein, morning protein, better smoothie, protein powders, lots protein",
          "<b>Topic 12</b><br>Words: protein powders, nutrients definitely, supplements hard, stomach tastes, shakes work",
          "<b>Topic 12</b><br>Words: taste shakes, tastes flavors, protein powders, strawberry yummy, complaining taste",
          "<b>Topic 12</b><br>Words: protein powders, taste hemp, powder great, powder recommendation, green taste",
          "<b>Topic 12</b><br>Words: protein vanilla, plenty protein, milk protein, protein used, protein dont",
          "<b>Topic 12</b><br>Words: getting protein, hemp powder, say ingested, nutritionally satisfied, hemp protein"
         ],
         "marker": {
          "color": "#0072B2"
         },
         "mode": "lines",
         "name": "12_protein vanilla_protein powders_prote...",
         "type": "scatter",
         "x": [
          "2017-12-20T04:48:00",
          "2018-05-30T09:36:00",
          "2018-11-07T14:24:00",
          "2019-07-07T09:36:00",
          "2019-09-26T00:00:00",
          "2019-12-15T14:24:00",
          "2020-03-05T04:48:00",
          "2020-05-24T19:12:00",
          "2020-08-13T09:36:00",
          "2020-11-02T00:00:00",
          "2021-01-21T14:24:00",
          "2021-04-12T04:48:00",
          "2021-07-01T19:12:00",
          "2021-09-20T09:36:00"
         ],
         "y": [
          2,
          1,
          1,
          1,
          1,
          3,
          1,
          2,
          2,
          4,
          4,
          15,
          5,
          4
         ]
        },
        {
         "hoverinfo": "text",
         "hovertext": [
          "<b>Topic 13</b><br>Words: walnut oil, chicken oil, like oils, quick oil, oils bought",
          "<b>Topic 13</b><br>Words: fabulous oil, recommend oil, quality oil, olive oils, great oil",
          "<b>Topic 13</b><br>Words: love oil, health oil, quality oil, coconut oils, oil smells",
          "<b>Topic 13</b><br>Words: olive oils, coconut oils, avocado oil, recommend oil, quality oil",
          "<b>Topic 13</b><br>Words: walnut oil, olive oils, walnut extract, coconut oils, avocado oil",
          "<b>Topic 13</b><br>Words: coconut oils, new coconut, oil cost, recommend oil, hate coconut",
          "<b>Topic 13</b><br>Words: avocado oil, quality oil, olive oils, great oil, recommend oil",
          "<b>Topic 13</b><br>Words: walnut oil, olive oils, quality walnut, quality oil, love walnut",
          "<b>Topic 13</b><br>Words: quality oil, oils brand, coconut oils, recommend oil, great oil",
          "<b>Topic 13</b><br>Words: macadamia oil, popcorn coconut, coconut sweetness, coconut hint, popcorn fantastic",
          "<b>Topic 13</b><br>Words: olive oils, olive taste, quality olive, mineral oil, oil pleasant",
          "<b>Topic 13</b><br>Words: olive oils, coconut oils, quality oil, use olive, oil skin",
          "<b>Topic 13</b><br>Words: olive oils, olive juice, olive juices, delicious olive, use olive"
         ],
         "marker": {
          "color": "#CC79A7"
         },
         "mode": "lines",
         "name": "13_olive oils_coconut oils_walnut oil_av...",
         "type": "scatter",
         "x": [
          "2017-12-20T04:48:00",
          "2018-05-30T09:36:00",
          "2019-07-07T09:36:00",
          "2019-09-26T00:00:00",
          "2019-12-15T14:24:00",
          "2020-03-05T04:48:00",
          "2020-05-24T19:12:00",
          "2020-08-13T09:36:00",
          "2020-11-02T00:00:00",
          "2021-01-21T14:24:00",
          "2021-04-12T04:48:00",
          "2021-07-01T19:12:00",
          "2021-09-20T09:36:00"
         ],
         "y": [
          3,
          1,
          1,
          2,
          2,
          1,
          1,
          3,
          4,
          7,
          6,
          10,
          3
         ]
        },
        {
         "hoverinfo": "text",
         "hovertext": [
          "<b>Topic 14</b><br>Words: soup healthy, soup tastes, calories soup, sodium soup, buying soup",
          "<b>Topic 14</b><br>Words: enjoy soup, eating soup, comforting soup, soup tastes, ok soup",
          "<b>Topic 14</b><br>Words: different soups, soups tasted, tasted soup, soup overcooked, lobster soup",
          "<b>Topic 14</b><br>Words: enjoy soup, love soup, soup tastes, good soup, eating soup",
          "<b>Topic 14</b><br>Words: japanese soups, soup perfection, soup like, soups just, finish soup",
          "<b>Topic 14</b><br>Words: soup recommend, recommend soup, enjoy soup, tasting soup, love soup",
          "<b>Topic 14</b><br>Words: soup mix, soup quick, miso soups, canned soups, soup tastes",
          "<b>Topic 14</b><br>Words: canned soups, soups ok, soup tastes, disliked soup, case soup",
          "<b>Topic 14</b><br>Words: soup tastes, soup meal, eating soup, love soup, starchy soup",
          "<b>Topic 14</b><br>Words: soup delicious, soup soup, old soup, soup makes, soup dollars",
          "<b>Topic 14</b><br>Words: healthy soup, soups available, soups excellent, soup good, soup great"
         ],
         "marker": {
          "color": "#E69F00"
         },
         "mode": "lines",
         "name": "14_recommend soup_soup tastes_love soup_...",
         "type": "scatter",
         "x": [
          "2017-12-20T04:48:00",
          "2019-07-07T09:36:00",
          "2019-12-15T14:24:00",
          "2020-03-05T04:48:00",
          "2020-05-24T19:12:00",
          "2020-08-13T09:36:00",
          "2020-11-02T00:00:00",
          "2021-01-21T14:24:00",
          "2021-04-12T04:48:00",
          "2021-07-01T19:12:00",
          "2021-09-20T09:36:00"
         ],
         "y": [
          2,
          3,
          6,
          1,
          4,
          3,
          3,
          2,
          3,
          7,
          9
         ]
        }
       ],
       "layout": {
        "height": 450,
        "hoverlabel": {
         "bgcolor": "white",
         "font": {
          "family": "Rockwell",
          "size": 16
         }
        },
        "legend": {
         "title": {
          "text": "<b>Global Topic Representation"
         }
        },
        "template": {
         "data": {
          "bar": [
           {
            "error_x": {
             "color": "rgb(36,36,36)"
            },
            "error_y": {
             "color": "rgb(36,36,36)"
            },
            "marker": {
             "line": {
              "color": "white",
              "width": 0.5
             },
             "pattern": {
              "fillmode": "overlay",
              "size": 10,
              "solidity": 0.2
             }
            },
            "type": "bar"
           }
          ],
          "barpolar": [
           {
            "marker": {
             "line": {
              "color": "white",
              "width": 0.5
             },
             "pattern": {
              "fillmode": "overlay",
              "size": 10,
              "solidity": 0.2
             }
            },
            "type": "barpolar"
           }
          ],
          "carpet": [
           {
            "aaxis": {
             "endlinecolor": "rgb(36,36,36)",
             "gridcolor": "white",
             "linecolor": "white",
             "minorgridcolor": "white",
             "startlinecolor": "rgb(36,36,36)"
            },
            "baxis": {
             "endlinecolor": "rgb(36,36,36)",
             "gridcolor": "white",
             "linecolor": "white",
             "minorgridcolor": "white",
             "startlinecolor": "rgb(36,36,36)"
            },
            "type": "carpet"
           }
          ],
          "choropleth": [
           {
            "colorbar": {
             "outlinewidth": 1,
             "tickcolor": "rgb(36,36,36)",
             "ticks": "outside"
            },
            "type": "choropleth"
           }
          ],
          "contour": [
           {
            "colorbar": {
             "outlinewidth": 1,
             "tickcolor": "rgb(36,36,36)",
             "ticks": "outside"
            },
            "colorscale": [
             [
              0,
              "#440154"
             ],
             [
              0.1111111111111111,
              "#482878"
             ],
             [
              0.2222222222222222,
              "#3e4989"
             ],
             [
              0.3333333333333333,
              "#31688e"
             ],
             [
              0.4444444444444444,
              "#26828e"
             ],
             [
              0.5555555555555556,
              "#1f9e89"
             ],
             [
              0.6666666666666666,
              "#35b779"
             ],
             [
              0.7777777777777778,
              "#6ece58"
             ],
             [
              0.8888888888888888,
              "#b5de2b"
             ],
             [
              1,
              "#fde725"
             ]
            ],
            "type": "contour"
           }
          ],
          "contourcarpet": [
           {
            "colorbar": {
             "outlinewidth": 1,
             "tickcolor": "rgb(36,36,36)",
             "ticks": "outside"
            },
            "type": "contourcarpet"
           }
          ],
          "heatmap": [
           {
            "colorbar": {
             "outlinewidth": 1,
             "tickcolor": "rgb(36,36,36)",
             "ticks": "outside"
            },
            "colorscale": [
             [
              0,
              "#440154"
             ],
             [
              0.1111111111111111,
              "#482878"
             ],
             [
              0.2222222222222222,
              "#3e4989"
             ],
             [
              0.3333333333333333,
              "#31688e"
             ],
             [
              0.4444444444444444,
              "#26828e"
             ],
             [
              0.5555555555555556,
              "#1f9e89"
             ],
             [
              0.6666666666666666,
              "#35b779"
             ],
             [
              0.7777777777777778,
              "#6ece58"
             ],
             [
              0.8888888888888888,
              "#b5de2b"
             ],
             [
              1,
              "#fde725"
             ]
            ],
            "type": "heatmap"
           }
          ],
          "heatmapgl": [
           {
            "colorbar": {
             "outlinewidth": 1,
             "tickcolor": "rgb(36,36,36)",
             "ticks": "outside"
            },
            "colorscale": [
             [
              0,
              "#440154"
             ],
             [
              0.1111111111111111,
              "#482878"
             ],
             [
              0.2222222222222222,
              "#3e4989"
             ],
             [
              0.3333333333333333,
              "#31688e"
             ],
             [
              0.4444444444444444,
              "#26828e"
             ],
             [
              0.5555555555555556,
              "#1f9e89"
             ],
             [
              0.6666666666666666,
              "#35b779"
             ],
             [
              0.7777777777777778,
              "#6ece58"
             ],
             [
              0.8888888888888888,
              "#b5de2b"
             ],
             [
              1,
              "#fde725"
             ]
            ],
            "type": "heatmapgl"
           }
          ],
          "histogram": [
           {
            "marker": {
             "line": {
              "color": "white",
              "width": 0.6
             }
            },
            "type": "histogram"
           }
          ],
          "histogram2d": [
           {
            "colorbar": {
             "outlinewidth": 1,
             "tickcolor": "rgb(36,36,36)",
             "ticks": "outside"
            },
            "colorscale": [
             [
              0,
              "#440154"
             ],
             [
              0.1111111111111111,
              "#482878"
             ],
             [
              0.2222222222222222,
              "#3e4989"
             ],
             [
              0.3333333333333333,
              "#31688e"
             ],
             [
              0.4444444444444444,
              "#26828e"
             ],
             [
              0.5555555555555556,
              "#1f9e89"
             ],
             [
              0.6666666666666666,
              "#35b779"
             ],
             [
              0.7777777777777778,
              "#6ece58"
             ],
             [
              0.8888888888888888,
              "#b5de2b"
             ],
             [
              1,
              "#fde725"
             ]
            ],
            "type": "histogram2d"
           }
          ],
          "histogram2dcontour": [
           {
            "colorbar": {
             "outlinewidth": 1,
             "tickcolor": "rgb(36,36,36)",
             "ticks": "outside"
            },
            "colorscale": [
             [
              0,
              "#440154"
             ],
             [
              0.1111111111111111,
              "#482878"
             ],
             [
              0.2222222222222222,
              "#3e4989"
             ],
             [
              0.3333333333333333,
              "#31688e"
             ],
             [
              0.4444444444444444,
              "#26828e"
             ],
             [
              0.5555555555555556,
              "#1f9e89"
             ],
             [
              0.6666666666666666,
              "#35b779"
             ],
             [
              0.7777777777777778,
              "#6ece58"
             ],
             [
              0.8888888888888888,
              "#b5de2b"
             ],
             [
              1,
              "#fde725"
             ]
            ],
            "type": "histogram2dcontour"
           }
          ],
          "mesh3d": [
           {
            "colorbar": {
             "outlinewidth": 1,
             "tickcolor": "rgb(36,36,36)",
             "ticks": "outside"
            },
            "type": "mesh3d"
           }
          ],
          "parcoords": [
           {
            "line": {
             "colorbar": {
              "outlinewidth": 1,
              "tickcolor": "rgb(36,36,36)",
              "ticks": "outside"
             }
            },
            "type": "parcoords"
           }
          ],
          "pie": [
           {
            "automargin": true,
            "type": "pie"
           }
          ],
          "scatter": [
           {
            "fillpattern": {
             "fillmode": "overlay",
             "size": 10,
             "solidity": 0.2
            },
            "type": "scatter"
           }
          ],
          "scatter3d": [
           {
            "line": {
             "colorbar": {
              "outlinewidth": 1,
              "tickcolor": "rgb(36,36,36)",
              "ticks": "outside"
             }
            },
            "marker": {
             "colorbar": {
              "outlinewidth": 1,
              "tickcolor": "rgb(36,36,36)",
              "ticks": "outside"
             }
            },
            "type": "scatter3d"
           }
          ],
          "scattercarpet": [
           {
            "marker": {
             "colorbar": {
              "outlinewidth": 1,
              "tickcolor": "rgb(36,36,36)",
              "ticks": "outside"
             }
            },
            "type": "scattercarpet"
           }
          ],
          "scattergeo": [
           {
            "marker": {
             "colorbar": {
              "outlinewidth": 1,
              "tickcolor": "rgb(36,36,36)",
              "ticks": "outside"
             }
            },
            "type": "scattergeo"
           }
          ],
          "scattergl": [
           {
            "marker": {
             "colorbar": {
              "outlinewidth": 1,
              "tickcolor": "rgb(36,36,36)",
              "ticks": "outside"
             }
            },
            "type": "scattergl"
           }
          ],
          "scattermapbox": [
           {
            "marker": {
             "colorbar": {
              "outlinewidth": 1,
              "tickcolor": "rgb(36,36,36)",
              "ticks": "outside"
             }
            },
            "type": "scattermapbox"
           }
          ],
          "scatterpolar": [
           {
            "marker": {
             "colorbar": {
              "outlinewidth": 1,
              "tickcolor": "rgb(36,36,36)",
              "ticks": "outside"
             }
            },
            "type": "scatterpolar"
           }
          ],
          "scatterpolargl": [
           {
            "marker": {
             "colorbar": {
              "outlinewidth": 1,
              "tickcolor": "rgb(36,36,36)",
              "ticks": "outside"
             }
            },
            "type": "scatterpolargl"
           }
          ],
          "scatterternary": [
           {
            "marker": {
             "colorbar": {
              "outlinewidth": 1,
              "tickcolor": "rgb(36,36,36)",
              "ticks": "outside"
             }
            },
            "type": "scatterternary"
           }
          ],
          "surface": [
           {
            "colorbar": {
             "outlinewidth": 1,
             "tickcolor": "rgb(36,36,36)",
             "ticks": "outside"
            },
            "colorscale": [
             [
              0,
              "#440154"
             ],
             [
              0.1111111111111111,
              "#482878"
             ],
             [
              0.2222222222222222,
              "#3e4989"
             ],
             [
              0.3333333333333333,
              "#31688e"
             ],
             [
              0.4444444444444444,
              "#26828e"
             ],
             [
              0.5555555555555556,
              "#1f9e89"
             ],
             [
              0.6666666666666666,
              "#35b779"
             ],
             [
              0.7777777777777778,
              "#6ece58"
             ],
             [
              0.8888888888888888,
              "#b5de2b"
             ],
             [
              1,
              "#fde725"
             ]
            ],
            "type": "surface"
           }
          ],
          "table": [
           {
            "cells": {
             "fill": {
              "color": "rgb(237,237,237)"
             },
             "line": {
              "color": "white"
             }
            },
            "header": {
             "fill": {
              "color": "rgb(217,217,217)"
             },
             "line": {
              "color": "white"
             }
            },
            "type": "table"
           }
          ]
         },
         "layout": {
          "annotationdefaults": {
           "arrowhead": 0,
           "arrowwidth": 1
          },
          "autotypenumbers": "strict",
          "coloraxis": {
           "colorbar": {
            "outlinewidth": 1,
            "tickcolor": "rgb(36,36,36)",
            "ticks": "outside"
           }
          },
          "colorscale": {
           "diverging": [
            [
             0,
             "rgb(103,0,31)"
            ],
            [
             0.1,
             "rgb(178,24,43)"
            ],
            [
             0.2,
             "rgb(214,96,77)"
            ],
            [
             0.3,
             "rgb(244,165,130)"
            ],
            [
             0.4,
             "rgb(253,219,199)"
            ],
            [
             0.5,
             "rgb(247,247,247)"
            ],
            [
             0.6,
             "rgb(209,229,240)"
            ],
            [
             0.7,
             "rgb(146,197,222)"
            ],
            [
             0.8,
             "rgb(67,147,195)"
            ],
            [
             0.9,
             "rgb(33,102,172)"
            ],
            [
             1,
             "rgb(5,48,97)"
            ]
           ],
           "sequential": [
            [
             0,
             "#440154"
            ],
            [
             0.1111111111111111,
             "#482878"
            ],
            [
             0.2222222222222222,
             "#3e4989"
            ],
            [
             0.3333333333333333,
             "#31688e"
            ],
            [
             0.4444444444444444,
             "#26828e"
            ],
            [
             0.5555555555555556,
             "#1f9e89"
            ],
            [
             0.6666666666666666,
             "#35b779"
            ],
            [
             0.7777777777777778,
             "#6ece58"
            ],
            [
             0.8888888888888888,
             "#b5de2b"
            ],
            [
             1,
             "#fde725"
            ]
           ],
           "sequentialminus": [
            [
             0,
             "#440154"
            ],
            [
             0.1111111111111111,
             "#482878"
            ],
            [
             0.2222222222222222,
             "#3e4989"
            ],
            [
             0.3333333333333333,
             "#31688e"
            ],
            [
             0.4444444444444444,
             "#26828e"
            ],
            [
             0.5555555555555556,
             "#1f9e89"
            ],
            [
             0.6666666666666666,
             "#35b779"
            ],
            [
             0.7777777777777778,
             "#6ece58"
            ],
            [
             0.8888888888888888,
             "#b5de2b"
            ],
            [
             1,
             "#fde725"
            ]
           ]
          },
          "colorway": [
           "#1F77B4",
           "#FF7F0E",
           "#2CA02C",
           "#D62728",
           "#9467BD",
           "#8C564B",
           "#E377C2",
           "#7F7F7F",
           "#BCBD22",
           "#17BECF"
          ],
          "font": {
           "color": "rgb(36,36,36)"
          },
          "geo": {
           "bgcolor": "white",
           "lakecolor": "white",
           "landcolor": "white",
           "showlakes": true,
           "showland": true,
           "subunitcolor": "white"
          },
          "hoverlabel": {
           "align": "left"
          },
          "hovermode": "closest",
          "mapbox": {
           "style": "light"
          },
          "paper_bgcolor": "white",
          "plot_bgcolor": "white",
          "polar": {
           "angularaxis": {
            "gridcolor": "rgb(232,232,232)",
            "linecolor": "rgb(36,36,36)",
            "showgrid": false,
            "showline": true,
            "ticks": "outside"
           },
           "bgcolor": "white",
           "radialaxis": {
            "gridcolor": "rgb(232,232,232)",
            "linecolor": "rgb(36,36,36)",
            "showgrid": false,
            "showline": true,
            "ticks": "outside"
           }
          },
          "scene": {
           "xaxis": {
            "backgroundcolor": "white",
            "gridcolor": "rgb(232,232,232)",
            "gridwidth": 2,
            "linecolor": "rgb(36,36,36)",
            "showbackground": true,
            "showgrid": false,
            "showline": true,
            "ticks": "outside",
            "zeroline": false,
            "zerolinecolor": "rgb(36,36,36)"
           },
           "yaxis": {
            "backgroundcolor": "white",
            "gridcolor": "rgb(232,232,232)",
            "gridwidth": 2,
            "linecolor": "rgb(36,36,36)",
            "showbackground": true,
            "showgrid": false,
            "showline": true,
            "ticks": "outside",
            "zeroline": false,
            "zerolinecolor": "rgb(36,36,36)"
           },
           "zaxis": {
            "backgroundcolor": "white",
            "gridcolor": "rgb(232,232,232)",
            "gridwidth": 2,
            "linecolor": "rgb(36,36,36)",
            "showbackground": true,
            "showgrid": false,
            "showline": true,
            "ticks": "outside",
            "zeroline": false,
            "zerolinecolor": "rgb(36,36,36)"
           }
          },
          "shapedefaults": {
           "fillcolor": "black",
           "line": {
            "width": 0
           },
           "opacity": 0.3
          },
          "ternary": {
           "aaxis": {
            "gridcolor": "rgb(232,232,232)",
            "linecolor": "rgb(36,36,36)",
            "showgrid": false,
            "showline": true,
            "ticks": "outside"
           },
           "baxis": {
            "gridcolor": "rgb(232,232,232)",
            "linecolor": "rgb(36,36,36)",
            "showgrid": false,
            "showline": true,
            "ticks": "outside"
           },
           "bgcolor": "white",
           "caxis": {
            "gridcolor": "rgb(232,232,232)",
            "linecolor": "rgb(36,36,36)",
            "showgrid": false,
            "showline": true,
            "ticks": "outside"
           }
          },
          "title": {
           "x": 0.05
          },
          "xaxis": {
           "automargin": true,
           "gridcolor": "rgb(232,232,232)",
           "linecolor": "rgb(36,36,36)",
           "showgrid": false,
           "showline": true,
           "ticks": "outside",
           "title": {
            "standoff": 15
           },
           "zeroline": false,
           "zerolinecolor": "rgb(36,36,36)"
          },
          "yaxis": {
           "automargin": true,
           "gridcolor": "rgb(232,232,232)",
           "linecolor": "rgb(36,36,36)",
           "showgrid": false,
           "showline": true,
           "ticks": "outside",
           "title": {
            "standoff": 15
           },
           "zeroline": false,
           "zerolinecolor": "rgb(36,36,36)"
          }
         }
        },
        "title": {
         "font": {
          "color": "Black",
          "size": 22
         },
         "text": "<b>Topics over Time</b>",
         "x": 0.4,
         "xanchor": "center",
         "y": 0.95,
         "yanchor": "top"
        },
        "width": 1250,
        "xaxis": {
         "showgrid": true
        },
        "yaxis": {
         "showgrid": true,
         "title": {
          "text": "Frequency"
         }
        }
       }
      }
     },
     "metadata": {},
     "output_type": "display_data"
    }
   ],
   "source": [
    "topics_over_time = model.topic_model.topics_over_time(docs=train.text, \n",
    "                                                timestamps=train.date, \n",
    "                                                global_tuning=True, \n",
    "                                                evolution_tuning=True, \n",
    "                                                nr_bins=20)\n",
    "model.topic_model.visualize_topics_over_time(topics_over_time, top_n_topics=15)"
   ]
  },
  {
   "cell_type": "code",
   "execution_count": 88,
   "metadata": {},
   "outputs": [],
   "source": [
    "# Save model\n",
    "model.topic_model.save(\"zero-shot\")\t"
   ]
  },
  {
   "cell_type": "code",
   "execution_count": 111,
   "metadata": {},
   "outputs": [],
   "source": [
    "# Load model\n",
    "topic_model = BERTopic.load(\"sentence-transformers-key-bigram-v2\")\t"
   ]
  },
  {
   "cell_type": "code",
   "execution_count": 116,
   "metadata": {},
   "outputs": [],
   "source": [
    "df = pd.DataFrame({'Text':train.text, 'Topic':topic_model.topics_, 'Date': train.date, 'Sentiment':train.sentiments})"
   ]
  },
  {
   "cell_type": "code",
   "execution_count": 128,
   "metadata": {},
   "outputs": [],
   "source": [
    "df = df.merge(topic_model.get_topic_info().loc[:,['Topic','CustomName']])"
   ]
  },
  {
   "cell_type": "code",
   "execution_count": 131,
   "metadata": {},
   "outputs": [],
   "source": [
    "df = df[['Text','Topic','CustomName', 'Date', 'Sentiment']]"
   ]
  },
  {
   "attachments": {},
   "cell_type": "markdown",
   "metadata": {},
   "source": [
    "Visualisation"
   ]
  },
  {
   "cell_type": "code",
   "execution_count": 26,
   "metadata": {},
   "outputs": [],
   "source": [
    "sent_df = pd.read_csv('sentence-transformers-key-bigram-v2_full.csv')\n",
    "sent_df['Date'] = test.date\n",
    "sent_df['Sentiment'] = test.sentiments"
   ]
  },
  {
   "cell_type": "code",
   "execution_count": 134,
   "metadata": {},
   "outputs": [],
   "source": [
    "sent_df.loc[sent_df['Sentiment'] == 'positive', 'Sentiment'] = 1\n",
    "sent_df.loc[sent_df['Sentiment'] == 'negative', 'Sentiment'] = 0\n"
   ]
  },
  {
   "cell_type": "code",
   "execution_count": 133,
   "metadata": {},
   "outputs": [],
   "source": [
    "sent_df = sent_df.append(df)"
   ]
  },
  {
   "cell_type": "code",
   "execution_count": 135,
   "metadata": {},
   "outputs": [
    {
     "data": {
      "text/html": [
       "<div>\n",
       "<style scoped>\n",
       "    .dataframe tbody tr th:only-of-type {\n",
       "        vertical-align: middle;\n",
       "    }\n",
       "\n",
       "    .dataframe tbody tr th {\n",
       "        vertical-align: top;\n",
       "    }\n",
       "\n",
       "    .dataframe thead th {\n",
       "        text-align: right;\n",
       "    }\n",
       "</style>\n",
       "<table border=\"1\" class=\"dataframe\">\n",
       "  <thead>\n",
       "    <tr style=\"text-align: right;\">\n",
       "      <th></th>\n",
       "      <th>Text</th>\n",
       "      <th>Topic</th>\n",
       "      <th>CustomName</th>\n",
       "      <th>Date</th>\n",
       "      <th>Sentiment</th>\n",
       "    </tr>\n",
       "  </thead>\n",
       "  <tbody>\n",
       "    <tr>\n",
       "      <th>0</th>\n",
       "      <td>This tea is amazing, I cannot believe the pric...</td>\n",
       "      <td>1</td>\n",
       "      <td>Tea/Coffee</td>\n",
       "      <td>2021-08-06</td>\n",
       "      <td>1</td>\n",
       "    </tr>\n",
       "    <tr>\n",
       "      <th>1</th>\n",
       "      <td>I've tried a handful of other brands of French...</td>\n",
       "      <td>1</td>\n",
       "      <td>Tea/Coffee</td>\n",
       "      <td>2021-04-09</td>\n",
       "      <td>1</td>\n",
       "    </tr>\n",
       "    <tr>\n",
       "      <th>2</th>\n",
       "      <td>I would recommend not buying these nuts if you...</td>\n",
       "      <td>0</td>\n",
       "      <td>Soft Drinks</td>\n",
       "      <td>2020-09-12</td>\n",
       "      <td>0</td>\n",
       "    </tr>\n",
       "    <tr>\n",
       "      <th>3</th>\n",
       "      <td>I wish these came in larger quantities, if I c...</td>\n",
       "      <td>0</td>\n",
       "      <td>Soft Drinks</td>\n",
       "      <td>2021-04-21</td>\n",
       "      <td>1</td>\n",
       "    </tr>\n",
       "    <tr>\n",
       "      <th>4</th>\n",
       "      <td>Has a smooth taste like it claims without any ...</td>\n",
       "      <td>1</td>\n",
       "      <td>Tea/Coffee</td>\n",
       "      <td>2020-01-13</td>\n",
       "      <td>1</td>\n",
       "    </tr>\n",
       "    <tr>\n",
       "      <th>...</th>\n",
       "      <td>...</td>\n",
       "      <td>...</td>\n",
       "      <td>...</td>\n",
       "      <td>...</td>\n",
       "      <td>...</td>\n",
       "    </tr>\n",
       "    <tr>\n",
       "      <th>4350</th>\n",
       "      <td>add to aniything!! soup, salad, meat... brings...</td>\n",
       "      <td>16</td>\n",
       "      <td>Soup</td>\n",
       "      <td>2021-11-03</td>\n",
       "      <td>1</td>\n",
       "    </tr>\n",
       "    <tr>\n",
       "      <th>4351</th>\n",
       "      <td>This makes a good, quick and sustaining meal w...</td>\n",
       "      <td>16</td>\n",
       "      <td>Soup</td>\n",
       "      <td>2019-12-18</td>\n",
       "      <td>1</td>\n",
       "    </tr>\n",
       "    <tr>\n",
       "      <th>4352</th>\n",
       "      <td>The taste is good, but I found myself biting d...</td>\n",
       "      <td>16</td>\n",
       "      <td>Soup</td>\n",
       "      <td>2020-07-03</td>\n",
       "      <td>0</td>\n",
       "    </tr>\n",
       "    <tr>\n",
       "      <th>4353</th>\n",
       "      <td>I sent this case of soup to my son. Great deal...</td>\n",
       "      <td>16</td>\n",
       "      <td>Soup</td>\n",
       "      <td>2019-08-11</td>\n",
       "      <td>1</td>\n",
       "    </tr>\n",
       "    <tr>\n",
       "      <th>4354</th>\n",
       "      <td>This soup is quick and tasty. Microwaves in no...</td>\n",
       "      <td>16</td>\n",
       "      <td>Soup</td>\n",
       "      <td>2020-12-01</td>\n",
       "      <td>1</td>\n",
       "    </tr>\n",
       "  </tbody>\n",
       "</table>\n",
       "<p>5444 rows × 5 columns</p>\n",
       "</div>"
      ],
      "text/plain": [
       "                                                   Text  Topic   CustomName  \\\n",
       "0     This tea is amazing, I cannot believe the pric...      1   Tea/Coffee   \n",
       "1     I've tried a handful of other brands of French...      1   Tea/Coffee   \n",
       "2     I would recommend not buying these nuts if you...      0  Soft Drinks   \n",
       "3     I wish these came in larger quantities, if I c...      0  Soft Drinks   \n",
       "4     Has a smooth taste like it claims without any ...      1   Tea/Coffee   \n",
       "...                                                 ...    ...          ...   \n",
       "4350  add to aniything!! soup, salad, meat... brings...     16         Soup   \n",
       "4351  This makes a good, quick and sustaining meal w...     16         Soup   \n",
       "4352  The taste is good, but I found myself biting d...     16         Soup   \n",
       "4353  I sent this case of soup to my son. Great deal...     16         Soup   \n",
       "4354  This soup is quick and tasty. Microwaves in no...     16         Soup   \n",
       "\n",
       "           Date Sentiment  \n",
       "0    2021-08-06         1  \n",
       "1    2021-04-09         1  \n",
       "2    2020-09-12         0  \n",
       "3    2021-04-21         1  \n",
       "4    2020-01-13         1  \n",
       "...         ...       ...  \n",
       "4350 2021-11-03         1  \n",
       "4351 2019-12-18         1  \n",
       "4352 2020-07-03         0  \n",
       "4353 2019-08-11         1  \n",
       "4354 2020-12-01         1  \n",
       "\n",
       "[5444 rows x 5 columns]"
      ]
     },
     "execution_count": 135,
     "metadata": {},
     "output_type": "execute_result"
    }
   ],
   "source": [
    "sent_df"
   ]
  },
  {
   "cell_type": "code",
   "execution_count": 136,
   "metadata": {},
   "outputs": [],
   "source": [
    "group_df_time =sent_df.groupby(['Topic', pd.Grouper(freq=\"6M\",key='Date')]).agg(Positive=('Sentiment', np.sum), Count = ('Sentiment', len), Avg=('Sentiment', lambda x: x.sum()/len(x)))\n",
    "#Count positive and negative sentiment, positive/total, use this value to see how it changes"
   ]
  },
  {
   "cell_type": "code",
   "execution_count": 137,
   "metadata": {},
   "outputs": [],
   "source": [
    "group_df_time.reset_index(inplace=True)"
   ]
  },
  {
   "cell_type": "code",
   "execution_count": 142,
   "metadata": {},
   "outputs": [
    {
     "data": {
      "text/html": [
       "<div>\n",
       "<style scoped>\n",
       "    .dataframe tbody tr th:only-of-type {\n",
       "        vertical-align: middle;\n",
       "    }\n",
       "\n",
       "    .dataframe tbody tr th {\n",
       "        vertical-align: top;\n",
       "    }\n",
       "\n",
       "    .dataframe thead th {\n",
       "        text-align: right;\n",
       "    }\n",
       "</style>\n",
       "<table border=\"1\" class=\"dataframe\">\n",
       "  <thead>\n",
       "    <tr style=\"text-align: right;\">\n",
       "      <th></th>\n",
       "      <th>Topic</th>\n",
       "      <th>Date</th>\n",
       "      <th>Positive</th>\n",
       "      <th>Count</th>\n",
       "      <th>Avg</th>\n",
       "    </tr>\n",
       "  </thead>\n",
       "  <tbody>\n",
       "    <tr>\n",
       "      <th>0</th>\n",
       "      <td>-1</td>\n",
       "      <td>2017-07-31</td>\n",
       "      <td>2</td>\n",
       "      <td>4</td>\n",
       "      <td>0.500000</td>\n",
       "    </tr>\n",
       "    <tr>\n",
       "      <th>1</th>\n",
       "      <td>-1</td>\n",
       "      <td>2018-01-31</td>\n",
       "      <td>7</td>\n",
       "      <td>11</td>\n",
       "      <td>0.636364</td>\n",
       "    </tr>\n",
       "    <tr>\n",
       "      <th>2</th>\n",
       "      <td>-1</td>\n",
       "      <td>2018-07-31</td>\n",
       "      <td>22</td>\n",
       "      <td>31</td>\n",
       "      <td>0.709677</td>\n",
       "    </tr>\n",
       "    <tr>\n",
       "      <th>3</th>\n",
       "      <td>-1</td>\n",
       "      <td>2019-01-31</td>\n",
       "      <td>29</td>\n",
       "      <td>45</td>\n",
       "      <td>0.644444</td>\n",
       "    </tr>\n",
       "    <tr>\n",
       "      <th>4</th>\n",
       "      <td>-1</td>\n",
       "      <td>2019-07-31</td>\n",
       "      <td>24</td>\n",
       "      <td>35</td>\n",
       "      <td>0.685714</td>\n",
       "    </tr>\n",
       "    <tr>\n",
       "      <th>...</th>\n",
       "      <td>...</td>\n",
       "      <td>...</td>\n",
       "      <td>...</td>\n",
       "      <td>...</td>\n",
       "      <td>...</td>\n",
       "    </tr>\n",
       "    <tr>\n",
       "      <th>165</th>\n",
       "      <td>18</td>\n",
       "      <td>2019-07-31</td>\n",
       "      <td>2</td>\n",
       "      <td>3</td>\n",
       "      <td>0.666667</td>\n",
       "    </tr>\n",
       "    <tr>\n",
       "      <th>166</th>\n",
       "      <td>18</td>\n",
       "      <td>2020-07-31</td>\n",
       "      <td>7</td>\n",
       "      <td>8</td>\n",
       "      <td>0.875000</td>\n",
       "    </tr>\n",
       "    <tr>\n",
       "      <th>167</th>\n",
       "      <td>18</td>\n",
       "      <td>2021-01-31</td>\n",
       "      <td>7</td>\n",
       "      <td>7</td>\n",
       "      <td>1.000000</td>\n",
       "    </tr>\n",
       "    <tr>\n",
       "      <th>168</th>\n",
       "      <td>18</td>\n",
       "      <td>2021-07-31</td>\n",
       "      <td>13</td>\n",
       "      <td>14</td>\n",
       "      <td>0.928571</td>\n",
       "    </tr>\n",
       "    <tr>\n",
       "      <th>169</th>\n",
       "      <td>18</td>\n",
       "      <td>2022-01-31</td>\n",
       "      <td>11</td>\n",
       "      <td>12</td>\n",
       "      <td>0.916667</td>\n",
       "    </tr>\n",
       "  </tbody>\n",
       "</table>\n",
       "<p>170 rows × 5 columns</p>\n",
       "</div>"
      ],
      "text/plain": [
       "     Topic       Date Positive  Count       Avg\n",
       "0       -1 2017-07-31        2      4  0.500000\n",
       "1       -1 2018-01-31        7     11  0.636364\n",
       "2       -1 2018-07-31       22     31  0.709677\n",
       "3       -1 2019-01-31       29     45  0.644444\n",
       "4       -1 2019-07-31       24     35  0.685714\n",
       "..     ...        ...      ...    ...       ...\n",
       "165     18 2019-07-31        2      3  0.666667\n",
       "166     18 2020-07-31        7      8  0.875000\n",
       "167     18 2021-01-31        7      7  1.000000\n",
       "168     18 2021-07-31       13     14  0.928571\n",
       "169     18 2022-01-31       11     12  0.916667\n",
       "\n",
       "[170 rows x 5 columns]"
      ]
     },
     "execution_count": 142,
     "metadata": {},
     "output_type": "execute_result"
    }
   ],
   "source": [
    "group_df_time"
   ]
  },
  {
   "cell_type": "code",
   "execution_count": 138,
   "metadata": {},
   "outputs": [],
   "source": [
    "pivot_df_time = group_df_time.pivot(index='Date',columns='Topic', values='Avg')"
   ]
  },
  {
   "cell_type": "code",
   "execution_count": 139,
   "metadata": {},
   "outputs": [
    {
     "data": {
      "text/html": [
       "<div>\n",
       "<style scoped>\n",
       "    .dataframe tbody tr th:only-of-type {\n",
       "        vertical-align: middle;\n",
       "    }\n",
       "\n",
       "    .dataframe tbody tr th {\n",
       "        vertical-align: top;\n",
       "    }\n",
       "\n",
       "    .dataframe thead th {\n",
       "        text-align: right;\n",
       "    }\n",
       "</style>\n",
       "<table border=\"1\" class=\"dataframe\">\n",
       "  <thead>\n",
       "    <tr style=\"text-align: right;\">\n",
       "      <th>Topic</th>\n",
       "      <th>-1</th>\n",
       "      <th>0</th>\n",
       "      <th>1</th>\n",
       "      <th>2</th>\n",
       "      <th>3</th>\n",
       "      <th>4</th>\n",
       "      <th>5</th>\n",
       "      <th>6</th>\n",
       "      <th>7</th>\n",
       "      <th>8</th>\n",
       "      <th>9</th>\n",
       "      <th>10</th>\n",
       "      <th>11</th>\n",
       "      <th>12</th>\n",
       "      <th>13</th>\n",
       "      <th>14</th>\n",
       "      <th>15</th>\n",
       "      <th>16</th>\n",
       "      <th>17</th>\n",
       "      <th>18</th>\n",
       "    </tr>\n",
       "    <tr>\n",
       "      <th>Date</th>\n",
       "      <th></th>\n",
       "      <th></th>\n",
       "      <th></th>\n",
       "      <th></th>\n",
       "      <th></th>\n",
       "      <th></th>\n",
       "      <th></th>\n",
       "      <th></th>\n",
       "      <th></th>\n",
       "      <th></th>\n",
       "      <th></th>\n",
       "      <th></th>\n",
       "      <th></th>\n",
       "      <th></th>\n",
       "      <th></th>\n",
       "      <th></th>\n",
       "      <th></th>\n",
       "      <th></th>\n",
       "      <th></th>\n",
       "      <th></th>\n",
       "    </tr>\n",
       "  </thead>\n",
       "  <tbody>\n",
       "    <tr>\n",
       "      <th>2017-07-31</th>\n",
       "      <td>0.500000</td>\n",
       "      <td>1.000000</td>\n",
       "      <td>NaN</td>\n",
       "      <td>NaN</td>\n",
       "      <td>NaN</td>\n",
       "      <td>NaN</td>\n",
       "      <td>NaN</td>\n",
       "      <td>NaN</td>\n",
       "      <td>NaN</td>\n",
       "      <td>NaN</td>\n",
       "      <td>NaN</td>\n",
       "      <td>1.000000</td>\n",
       "      <td>NaN</td>\n",
       "      <td>NaN</td>\n",
       "      <td>NaN</td>\n",
       "      <td>NaN</td>\n",
       "      <td>NaN</td>\n",
       "      <td>NaN</td>\n",
       "      <td>NaN</td>\n",
       "      <td>NaN</td>\n",
       "    </tr>\n",
       "    <tr>\n",
       "      <th>2018-01-31</th>\n",
       "      <td>0.636364</td>\n",
       "      <td>0.680000</td>\n",
       "      <td>0.500000</td>\n",
       "      <td>0.000000</td>\n",
       "      <td>1.000000</td>\n",
       "      <td>1.000000</td>\n",
       "      <td>1.000000</td>\n",
       "      <td>0.000000</td>\n",
       "      <td>1.000000</td>\n",
       "      <td>1.000000</td>\n",
       "      <td>1.000000</td>\n",
       "      <td>1.000000</td>\n",
       "      <td>NaN</td>\n",
       "      <td>NaN</td>\n",
       "      <td>1.000000</td>\n",
       "      <td>NaN</td>\n",
       "      <td>0.666667</td>\n",
       "      <td>0.500000</td>\n",
       "      <td>1.000000</td>\n",
       "      <td>1.000000</td>\n",
       "    </tr>\n",
       "    <tr>\n",
       "      <th>2018-07-31</th>\n",
       "      <td>0.709677</td>\n",
       "      <td>0.787879</td>\n",
       "      <td>0.888889</td>\n",
       "      <td>1.000000</td>\n",
       "      <td>1.000000</td>\n",
       "      <td>0.833333</td>\n",
       "      <td>1.000000</td>\n",
       "      <td>0.666667</td>\n",
       "      <td>0.500000</td>\n",
       "      <td>1.000000</td>\n",
       "      <td>1.000000</td>\n",
       "      <td>0.250000</td>\n",
       "      <td>1.000000</td>\n",
       "      <td>0.000000</td>\n",
       "      <td>1.000000</td>\n",
       "      <td>1.000000</td>\n",
       "      <td>1.000000</td>\n",
       "      <td>NaN</td>\n",
       "      <td>1.000000</td>\n",
       "      <td>NaN</td>\n",
       "    </tr>\n",
       "    <tr>\n",
       "      <th>2019-01-31</th>\n",
       "      <td>0.644444</td>\n",
       "      <td>0.711864</td>\n",
       "      <td>0.857143</td>\n",
       "      <td>1.000000</td>\n",
       "      <td>1.000000</td>\n",
       "      <td>0.714286</td>\n",
       "      <td>0.714286</td>\n",
       "      <td>0.571429</td>\n",
       "      <td>1.000000</td>\n",
       "      <td>1.000000</td>\n",
       "      <td>1.000000</td>\n",
       "      <td>0.500000</td>\n",
       "      <td>1.000000</td>\n",
       "      <td>NaN</td>\n",
       "      <td>NaN</td>\n",
       "      <td>0.500000</td>\n",
       "      <td>NaN</td>\n",
       "      <td>NaN</td>\n",
       "      <td>1.000000</td>\n",
       "      <td>1.000000</td>\n",
       "    </tr>\n",
       "    <tr>\n",
       "      <th>2019-07-31</th>\n",
       "      <td>0.685714</td>\n",
       "      <td>0.693878</td>\n",
       "      <td>0.846154</td>\n",
       "      <td>1.000000</td>\n",
       "      <td>1.000000</td>\n",
       "      <td>0.500000</td>\n",
       "      <td>1.000000</td>\n",
       "      <td>NaN</td>\n",
       "      <td>1.000000</td>\n",
       "      <td>1.000000</td>\n",
       "      <td>1.000000</td>\n",
       "      <td>1.000000</td>\n",
       "      <td>1.000000</td>\n",
       "      <td>1.000000</td>\n",
       "      <td>0.800000</td>\n",
       "      <td>1.000000</td>\n",
       "      <td>NaN</td>\n",
       "      <td>0.500000</td>\n",
       "      <td>NaN</td>\n",
       "      <td>0.666667</td>\n",
       "    </tr>\n",
       "    <tr>\n",
       "      <th>2020-01-31</th>\n",
       "      <td>0.712644</td>\n",
       "      <td>0.705882</td>\n",
       "      <td>0.776119</td>\n",
       "      <td>0.583333</td>\n",
       "      <td>0.866667</td>\n",
       "      <td>0.800000</td>\n",
       "      <td>0.894737</td>\n",
       "      <td>1.000000</td>\n",
       "      <td>0.857143</td>\n",
       "      <td>0.800000</td>\n",
       "      <td>1.000000</td>\n",
       "      <td>0.800000</td>\n",
       "      <td>0.666667</td>\n",
       "      <td>0.666667</td>\n",
       "      <td>0.333333</td>\n",
       "      <td>1.000000</td>\n",
       "      <td>0.833333</td>\n",
       "      <td>0.571429</td>\n",
       "      <td>1.000000</td>\n",
       "      <td>NaN</td>\n",
       "    </tr>\n",
       "    <tr>\n",
       "      <th>2020-07-31</th>\n",
       "      <td>0.725806</td>\n",
       "      <td>0.721311</td>\n",
       "      <td>0.833333</td>\n",
       "      <td>0.692308</td>\n",
       "      <td>0.952381</td>\n",
       "      <td>0.869565</td>\n",
       "      <td>0.952381</td>\n",
       "      <td>0.625000</td>\n",
       "      <td>0.583333</td>\n",
       "      <td>1.000000</td>\n",
       "      <td>1.000000</td>\n",
       "      <td>0.916667</td>\n",
       "      <td>0.428571</td>\n",
       "      <td>0.800000</td>\n",
       "      <td>0.583333</td>\n",
       "      <td>0.600000</td>\n",
       "      <td>1.000000</td>\n",
       "      <td>0.375000</td>\n",
       "      <td>1.000000</td>\n",
       "      <td>0.875000</td>\n",
       "    </tr>\n",
       "    <tr>\n",
       "      <th>2021-01-31</th>\n",
       "      <td>0.724138</td>\n",
       "      <td>0.708487</td>\n",
       "      <td>0.846939</td>\n",
       "      <td>0.259259</td>\n",
       "      <td>0.857143</td>\n",
       "      <td>0.724138</td>\n",
       "      <td>0.913043</td>\n",
       "      <td>0.333333</td>\n",
       "      <td>0.777778</td>\n",
       "      <td>0.923077</td>\n",
       "      <td>1.000000</td>\n",
       "      <td>0.750000</td>\n",
       "      <td>0.882353</td>\n",
       "      <td>0.363636</td>\n",
       "      <td>0.272727</td>\n",
       "      <td>0.777778</td>\n",
       "      <td>0.800000</td>\n",
       "      <td>0.700000</td>\n",
       "      <td>1.000000</td>\n",
       "      <td>1.000000</td>\n",
       "    </tr>\n",
       "    <tr>\n",
       "      <th>2021-07-31</th>\n",
       "      <td>0.700980</td>\n",
       "      <td>0.732888</td>\n",
       "      <td>0.792517</td>\n",
       "      <td>0.517647</td>\n",
       "      <td>0.888889</td>\n",
       "      <td>0.604938</td>\n",
       "      <td>0.833333</td>\n",
       "      <td>0.647887</td>\n",
       "      <td>0.650794</td>\n",
       "      <td>0.953488</td>\n",
       "      <td>0.918919</td>\n",
       "      <td>0.821429</td>\n",
       "      <td>1.000000</td>\n",
       "      <td>0.551724</td>\n",
       "      <td>0.733333</td>\n",
       "      <td>0.900000</td>\n",
       "      <td>0.750000</td>\n",
       "      <td>0.583333</td>\n",
       "      <td>0.785714</td>\n",
       "      <td>0.928571</td>\n",
       "    </tr>\n",
       "    <tr>\n",
       "      <th>2022-01-31</th>\n",
       "      <td>0.717557</td>\n",
       "      <td>0.722527</td>\n",
       "      <td>0.762195</td>\n",
       "      <td>0.488372</td>\n",
       "      <td>0.962264</td>\n",
       "      <td>0.613636</td>\n",
       "      <td>0.965517</td>\n",
       "      <td>0.781250</td>\n",
       "      <td>0.481481</td>\n",
       "      <td>0.862069</td>\n",
       "      <td>0.782609</td>\n",
       "      <td>0.875000</td>\n",
       "      <td>0.769231</td>\n",
       "      <td>0.526316</td>\n",
       "      <td>0.555556</td>\n",
       "      <td>0.866667</td>\n",
       "      <td>0.800000</td>\n",
       "      <td>0.833333</td>\n",
       "      <td>1.000000</td>\n",
       "      <td>0.916667</td>\n",
       "    </tr>\n",
       "  </tbody>\n",
       "</table>\n",
       "</div>"
      ],
      "text/plain": [
       "Topic            -1         0         1         2         3         4   \\\n",
       "Date                                                                     \n",
       "2017-07-31  0.500000  1.000000       NaN       NaN       NaN       NaN   \n",
       "2018-01-31  0.636364  0.680000  0.500000  0.000000  1.000000  1.000000   \n",
       "2018-07-31  0.709677  0.787879  0.888889  1.000000  1.000000  0.833333   \n",
       "2019-01-31  0.644444  0.711864  0.857143  1.000000  1.000000  0.714286   \n",
       "2019-07-31  0.685714  0.693878  0.846154  1.000000  1.000000  0.500000   \n",
       "2020-01-31  0.712644  0.705882  0.776119  0.583333  0.866667  0.800000   \n",
       "2020-07-31  0.725806  0.721311  0.833333  0.692308  0.952381  0.869565   \n",
       "2021-01-31  0.724138  0.708487  0.846939  0.259259  0.857143  0.724138   \n",
       "2021-07-31  0.700980  0.732888  0.792517  0.517647  0.888889  0.604938   \n",
       "2022-01-31  0.717557  0.722527  0.762195  0.488372  0.962264  0.613636   \n",
       "\n",
       "Topic             5         6         7         8         9         10  \\\n",
       "Date                                                                     \n",
       "2017-07-31       NaN       NaN       NaN       NaN       NaN  1.000000   \n",
       "2018-01-31  1.000000  0.000000  1.000000  1.000000  1.000000  1.000000   \n",
       "2018-07-31  1.000000  0.666667  0.500000  1.000000  1.000000  0.250000   \n",
       "2019-01-31  0.714286  0.571429  1.000000  1.000000  1.000000  0.500000   \n",
       "2019-07-31  1.000000       NaN  1.000000  1.000000  1.000000  1.000000   \n",
       "2020-01-31  0.894737  1.000000  0.857143  0.800000  1.000000  0.800000   \n",
       "2020-07-31  0.952381  0.625000  0.583333  1.000000  1.000000  0.916667   \n",
       "2021-01-31  0.913043  0.333333  0.777778  0.923077  1.000000  0.750000   \n",
       "2021-07-31  0.833333  0.647887  0.650794  0.953488  0.918919  0.821429   \n",
       "2022-01-31  0.965517  0.781250  0.481481  0.862069  0.782609  0.875000   \n",
       "\n",
       "Topic             11        12        13        14        15        16  \\\n",
       "Date                                                                     \n",
       "2017-07-31       NaN       NaN       NaN       NaN       NaN       NaN   \n",
       "2018-01-31       NaN       NaN  1.000000       NaN  0.666667  0.500000   \n",
       "2018-07-31  1.000000  0.000000  1.000000  1.000000  1.000000       NaN   \n",
       "2019-01-31  1.000000       NaN       NaN  0.500000       NaN       NaN   \n",
       "2019-07-31  1.000000  1.000000  0.800000  1.000000       NaN  0.500000   \n",
       "2020-01-31  0.666667  0.666667  0.333333  1.000000  0.833333  0.571429   \n",
       "2020-07-31  0.428571  0.800000  0.583333  0.600000  1.000000  0.375000   \n",
       "2021-01-31  0.882353  0.363636  0.272727  0.777778  0.800000  0.700000   \n",
       "2021-07-31  1.000000  0.551724  0.733333  0.900000  0.750000  0.583333   \n",
       "2022-01-31  0.769231  0.526316  0.555556  0.866667  0.800000  0.833333   \n",
       "\n",
       "Topic             17        18  \n",
       "Date                            \n",
       "2017-07-31       NaN       NaN  \n",
       "2018-01-31  1.000000  1.000000  \n",
       "2018-07-31  1.000000       NaN  \n",
       "2019-01-31  1.000000  1.000000  \n",
       "2019-07-31       NaN  0.666667  \n",
       "2020-01-31  1.000000       NaN  \n",
       "2020-07-31  1.000000  0.875000  \n",
       "2021-01-31  1.000000  1.000000  \n",
       "2021-07-31  0.785714  0.928571  \n",
       "2022-01-31  1.000000  0.916667  "
      ]
     },
     "execution_count": 139,
     "metadata": {},
     "output_type": "execute_result"
    }
   ],
   "source": [
    "pivot_df_time"
   ]
  },
  {
   "cell_type": "code",
   "execution_count": 144,
   "metadata": {},
   "outputs": [],
   "source": [
    "group_df =sent_df.groupby(['CustomName'], as_index=False, group_keys=False).agg(Positive=('Sentiment', np.sum), Count = ('Sentiment', len), Avg=('Sentiment', lambda x: x.sum()/len(x)))\n"
   ]
  },
  {
   "cell_type": "code",
   "execution_count": 145,
   "metadata": {},
   "outputs": [
    {
     "data": {
      "application/vnd.plotly.v1+json": {
       "config": {
        "plotlyServerURL": "https://plot.ly"
       },
       "data": [
        {
         "hovertemplate": "Topic=-1<br>Date=%{x}<br>value=%{y}<extra></extra>",
         "legendgroup": "-1",
         "line": {
          "color": "#636efa",
          "dash": "solid"
         },
         "marker": {
          "symbol": "circle"
         },
         "mode": "lines",
         "name": "-1",
         "orientation": "v",
         "showlegend": true,
         "type": "scatter",
         "x": [
          "2017-07-31T00:00:00",
          "2018-01-31T00:00:00",
          "2018-07-31T00:00:00",
          "2019-01-31T00:00:00",
          "2019-07-31T00:00:00",
          "2020-01-31T00:00:00",
          "2020-07-31T00:00:00",
          "2021-01-31T00:00:00",
          "2021-07-31T00:00:00",
          "2022-01-31T00:00:00"
         ],
         "xaxis": "x",
         "y": [
          0.5,
          0.6363636363636364,
          0.7096774193548387,
          0.6444444444444445,
          0.6857142857142857,
          0.7126436781609196,
          0.7258064516129032,
          0.7241379310344828,
          0.7009803921568627,
          0.7175572519083969
         ],
         "yaxis": "y"
        },
        {
         "hovertemplate": "Topic=0<br>Date=%{x}<br>value=%{y}<extra></extra>",
         "legendgroup": "0",
         "line": {
          "color": "#EF553B",
          "dash": "solid"
         },
         "marker": {
          "symbol": "circle"
         },
         "mode": "lines",
         "name": "0",
         "orientation": "v",
         "showlegend": true,
         "type": "scatter",
         "x": [
          "2017-07-31T00:00:00",
          "2018-01-31T00:00:00",
          "2018-07-31T00:00:00",
          "2019-01-31T00:00:00",
          "2019-07-31T00:00:00",
          "2020-01-31T00:00:00",
          "2020-07-31T00:00:00",
          "2021-01-31T00:00:00",
          "2021-07-31T00:00:00",
          "2022-01-31T00:00:00"
         ],
         "xaxis": "x",
         "y": [
          1,
          0.68,
          0.7878787878787878,
          0.711864406779661,
          0.6938775510204082,
          0.7058823529411765,
          0.7213114754098361,
          0.7084870848708487,
          0.7328881469115192,
          0.7225274725274725
         ],
         "yaxis": "y"
        },
        {
         "hovertemplate": "Topic=1<br>Date=%{x}<br>value=%{y}<extra></extra>",
         "legendgroup": "1",
         "line": {
          "color": "#00cc96",
          "dash": "solid"
         },
         "marker": {
          "symbol": "circle"
         },
         "mode": "lines",
         "name": "1",
         "orientation": "v",
         "showlegend": true,
         "type": "scatter",
         "x": [
          "2017-07-31T00:00:00",
          "2018-01-31T00:00:00",
          "2018-07-31T00:00:00",
          "2019-01-31T00:00:00",
          "2019-07-31T00:00:00",
          "2020-01-31T00:00:00",
          "2020-07-31T00:00:00",
          "2021-01-31T00:00:00",
          "2021-07-31T00:00:00",
          "2022-01-31T00:00:00"
         ],
         "xaxis": "x",
         "y": [
          null,
          0.5,
          0.8888888888888888,
          0.8571428571428571,
          0.8461538461538461,
          0.7761194029850746,
          0.8333333333333334,
          0.8469387755102041,
          0.7925170068027211,
          0.7621951219512195
         ],
         "yaxis": "y"
        },
        {
         "hovertemplate": "Topic=2<br>Date=%{x}<br>value=%{y}<extra></extra>",
         "legendgroup": "2",
         "line": {
          "color": "#ab63fa",
          "dash": "solid"
         },
         "marker": {
          "symbol": "circle"
         },
         "mode": "lines",
         "name": "2",
         "orientation": "v",
         "showlegend": true,
         "type": "scatter",
         "x": [
          "2017-07-31T00:00:00",
          "2018-01-31T00:00:00",
          "2018-07-31T00:00:00",
          "2019-01-31T00:00:00",
          "2019-07-31T00:00:00",
          "2020-01-31T00:00:00",
          "2020-07-31T00:00:00",
          "2021-01-31T00:00:00",
          "2021-07-31T00:00:00",
          "2022-01-31T00:00:00"
         ],
         "xaxis": "x",
         "y": [
          null,
          0,
          1,
          1,
          1,
          0.5833333333333334,
          0.6923076923076923,
          0.25925925925925924,
          0.5176470588235295,
          0.4883720930232558
         ],
         "yaxis": "y"
        },
        {
         "hovertemplate": "Topic=3<br>Date=%{x}<br>value=%{y}<extra></extra>",
         "legendgroup": "3",
         "line": {
          "color": "#FFA15A",
          "dash": "solid"
         },
         "marker": {
          "symbol": "circle"
         },
         "mode": "lines",
         "name": "3",
         "orientation": "v",
         "showlegend": true,
         "type": "scatter",
         "x": [
          "2017-07-31T00:00:00",
          "2018-01-31T00:00:00",
          "2018-07-31T00:00:00",
          "2019-01-31T00:00:00",
          "2019-07-31T00:00:00",
          "2020-01-31T00:00:00",
          "2020-07-31T00:00:00",
          "2021-01-31T00:00:00",
          "2021-07-31T00:00:00",
          "2022-01-31T00:00:00"
         ],
         "xaxis": "x",
         "y": [
          null,
          1,
          1,
          1,
          1,
          0.8666666666666667,
          0.9523809523809523,
          0.8571428571428571,
          0.8888888888888888,
          0.9622641509433962
         ],
         "yaxis": "y"
        },
        {
         "hovertemplate": "Topic=4<br>Date=%{x}<br>value=%{y}<extra></extra>",
         "legendgroup": "4",
         "line": {
          "color": "#19d3f3",
          "dash": "solid"
         },
         "marker": {
          "symbol": "circle"
         },
         "mode": "lines",
         "name": "4",
         "orientation": "v",
         "showlegend": true,
         "type": "scatter",
         "x": [
          "2017-07-31T00:00:00",
          "2018-01-31T00:00:00",
          "2018-07-31T00:00:00",
          "2019-01-31T00:00:00",
          "2019-07-31T00:00:00",
          "2020-01-31T00:00:00",
          "2020-07-31T00:00:00",
          "2021-01-31T00:00:00",
          "2021-07-31T00:00:00",
          "2022-01-31T00:00:00"
         ],
         "xaxis": "x",
         "y": [
          null,
          1,
          0.8333333333333334,
          0.7142857142857143,
          0.5,
          0.8,
          0.8695652173913043,
          0.7241379310344828,
          0.6049382716049383,
          0.6136363636363636
         ],
         "yaxis": "y"
        },
        {
         "hovertemplate": "Topic=5<br>Date=%{x}<br>value=%{y}<extra></extra>",
         "legendgroup": "5",
         "line": {
          "color": "#FF6692",
          "dash": "solid"
         },
         "marker": {
          "symbol": "circle"
         },
         "mode": "lines",
         "name": "5",
         "orientation": "v",
         "showlegend": true,
         "type": "scatter",
         "x": [
          "2017-07-31T00:00:00",
          "2018-01-31T00:00:00",
          "2018-07-31T00:00:00",
          "2019-01-31T00:00:00",
          "2019-07-31T00:00:00",
          "2020-01-31T00:00:00",
          "2020-07-31T00:00:00",
          "2021-01-31T00:00:00",
          "2021-07-31T00:00:00",
          "2022-01-31T00:00:00"
         ],
         "xaxis": "x",
         "y": [
          null,
          1,
          1,
          0.7142857142857143,
          1,
          0.8947368421052632,
          0.9523809523809523,
          0.9130434782608695,
          0.8333333333333334,
          0.9655172413793104
         ],
         "yaxis": "y"
        },
        {
         "hovertemplate": "Topic=6<br>Date=%{x}<br>value=%{y}<extra></extra>",
         "legendgroup": "6",
         "line": {
          "color": "#B6E880",
          "dash": "solid"
         },
         "marker": {
          "symbol": "circle"
         },
         "mode": "lines",
         "name": "6",
         "orientation": "v",
         "showlegend": true,
         "type": "scatter",
         "x": [
          "2017-07-31T00:00:00",
          "2018-01-31T00:00:00",
          "2018-07-31T00:00:00",
          "2019-01-31T00:00:00",
          "2019-07-31T00:00:00",
          "2020-01-31T00:00:00",
          "2020-07-31T00:00:00",
          "2021-01-31T00:00:00",
          "2021-07-31T00:00:00",
          "2022-01-31T00:00:00"
         ],
         "xaxis": "x",
         "y": [
          null,
          0,
          0.6666666666666666,
          0.5714285714285714,
          null,
          1,
          0.625,
          0.3333333333333333,
          0.647887323943662,
          0.78125
         ],
         "yaxis": "y"
        },
        {
         "hovertemplate": "Topic=7<br>Date=%{x}<br>value=%{y}<extra></extra>",
         "legendgroup": "7",
         "line": {
          "color": "#FF97FF",
          "dash": "solid"
         },
         "marker": {
          "symbol": "circle"
         },
         "mode": "lines",
         "name": "7",
         "orientation": "v",
         "showlegend": true,
         "type": "scatter",
         "x": [
          "2017-07-31T00:00:00",
          "2018-01-31T00:00:00",
          "2018-07-31T00:00:00",
          "2019-01-31T00:00:00",
          "2019-07-31T00:00:00",
          "2020-01-31T00:00:00",
          "2020-07-31T00:00:00",
          "2021-01-31T00:00:00",
          "2021-07-31T00:00:00",
          "2022-01-31T00:00:00"
         ],
         "xaxis": "x",
         "y": [
          null,
          1,
          0.5,
          1,
          1,
          0.8571428571428571,
          0.5833333333333334,
          0.7777777777777778,
          0.6507936507936508,
          0.48148148148148145
         ],
         "yaxis": "y"
        },
        {
         "hovertemplate": "Topic=8<br>Date=%{x}<br>value=%{y}<extra></extra>",
         "legendgroup": "8",
         "line": {
          "color": "#FECB52",
          "dash": "solid"
         },
         "marker": {
          "symbol": "circle"
         },
         "mode": "lines",
         "name": "8",
         "orientation": "v",
         "showlegend": true,
         "type": "scatter",
         "x": [
          "2017-07-31T00:00:00",
          "2018-01-31T00:00:00",
          "2018-07-31T00:00:00",
          "2019-01-31T00:00:00",
          "2019-07-31T00:00:00",
          "2020-01-31T00:00:00",
          "2020-07-31T00:00:00",
          "2021-01-31T00:00:00",
          "2021-07-31T00:00:00",
          "2022-01-31T00:00:00"
         ],
         "xaxis": "x",
         "y": [
          null,
          1,
          1,
          1,
          1,
          0.8,
          1,
          0.9230769230769231,
          0.9534883720930233,
          0.8620689655172413
         ],
         "yaxis": "y"
        },
        {
         "hovertemplate": "Topic=9<br>Date=%{x}<br>value=%{y}<extra></extra>",
         "legendgroup": "9",
         "line": {
          "color": "#636efa",
          "dash": "solid"
         },
         "marker": {
          "symbol": "circle"
         },
         "mode": "lines",
         "name": "9",
         "orientation": "v",
         "showlegend": true,
         "type": "scatter",
         "x": [
          "2017-07-31T00:00:00",
          "2018-01-31T00:00:00",
          "2018-07-31T00:00:00",
          "2019-01-31T00:00:00",
          "2019-07-31T00:00:00",
          "2020-01-31T00:00:00",
          "2020-07-31T00:00:00",
          "2021-01-31T00:00:00",
          "2021-07-31T00:00:00",
          "2022-01-31T00:00:00"
         ],
         "xaxis": "x",
         "y": [
          null,
          1,
          1,
          1,
          1,
          1,
          1,
          1,
          0.918918918918919,
          0.782608695652174
         ],
         "yaxis": "y"
        },
        {
         "hovertemplate": "Topic=10<br>Date=%{x}<br>value=%{y}<extra></extra>",
         "legendgroup": "10",
         "line": {
          "color": "#EF553B",
          "dash": "solid"
         },
         "marker": {
          "symbol": "circle"
         },
         "mode": "lines",
         "name": "10",
         "orientation": "v",
         "showlegend": true,
         "type": "scatter",
         "x": [
          "2017-07-31T00:00:00",
          "2018-01-31T00:00:00",
          "2018-07-31T00:00:00",
          "2019-01-31T00:00:00",
          "2019-07-31T00:00:00",
          "2020-01-31T00:00:00",
          "2020-07-31T00:00:00",
          "2021-01-31T00:00:00",
          "2021-07-31T00:00:00",
          "2022-01-31T00:00:00"
         ],
         "xaxis": "x",
         "y": [
          1,
          1,
          0.25,
          0.5,
          1,
          0.8,
          0.9166666666666666,
          0.75,
          0.8214285714285714,
          0.875
         ],
         "yaxis": "y"
        },
        {
         "hovertemplate": "Topic=11<br>Date=%{x}<br>value=%{y}<extra></extra>",
         "legendgroup": "11",
         "line": {
          "color": "#00cc96",
          "dash": "solid"
         },
         "marker": {
          "symbol": "circle"
         },
         "mode": "lines",
         "name": "11",
         "orientation": "v",
         "showlegend": true,
         "type": "scatter",
         "x": [
          "2017-07-31T00:00:00",
          "2018-01-31T00:00:00",
          "2018-07-31T00:00:00",
          "2019-01-31T00:00:00",
          "2019-07-31T00:00:00",
          "2020-01-31T00:00:00",
          "2020-07-31T00:00:00",
          "2021-01-31T00:00:00",
          "2021-07-31T00:00:00",
          "2022-01-31T00:00:00"
         ],
         "xaxis": "x",
         "y": [
          null,
          null,
          1,
          1,
          1,
          0.6666666666666666,
          0.42857142857142855,
          0.8823529411764706,
          1,
          0.7692307692307693
         ],
         "yaxis": "y"
        },
        {
         "hovertemplate": "Topic=12<br>Date=%{x}<br>value=%{y}<extra></extra>",
         "legendgroup": "12",
         "line": {
          "color": "#ab63fa",
          "dash": "solid"
         },
         "marker": {
          "symbol": "circle"
         },
         "mode": "lines",
         "name": "12",
         "orientation": "v",
         "showlegend": true,
         "type": "scatter",
         "x": [
          "2017-07-31T00:00:00",
          "2018-01-31T00:00:00",
          "2018-07-31T00:00:00",
          "2019-01-31T00:00:00",
          "2019-07-31T00:00:00",
          "2020-01-31T00:00:00",
          "2020-07-31T00:00:00",
          "2021-01-31T00:00:00",
          "2021-07-31T00:00:00",
          "2022-01-31T00:00:00"
         ],
         "xaxis": "x",
         "y": [
          null,
          null,
          0,
          null,
          1,
          0.6666666666666666,
          0.8,
          0.36363636363636365,
          0.5517241379310345,
          0.5263157894736842
         ],
         "yaxis": "y"
        },
        {
         "hovertemplate": "Topic=13<br>Date=%{x}<br>value=%{y}<extra></extra>",
         "legendgroup": "13",
         "line": {
          "color": "#FFA15A",
          "dash": "solid"
         },
         "marker": {
          "symbol": "circle"
         },
         "mode": "lines",
         "name": "13",
         "orientation": "v",
         "showlegend": true,
         "type": "scatter",
         "x": [
          "2017-07-31T00:00:00",
          "2018-01-31T00:00:00",
          "2018-07-31T00:00:00",
          "2019-01-31T00:00:00",
          "2019-07-31T00:00:00",
          "2020-01-31T00:00:00",
          "2020-07-31T00:00:00",
          "2021-01-31T00:00:00",
          "2021-07-31T00:00:00",
          "2022-01-31T00:00:00"
         ],
         "xaxis": "x",
         "y": [
          null,
          1,
          1,
          null,
          0.8,
          0.3333333333333333,
          0.5833333333333334,
          0.2727272727272727,
          0.7333333333333333,
          0.5555555555555556
         ],
         "yaxis": "y"
        },
        {
         "hovertemplate": "Topic=14<br>Date=%{x}<br>value=%{y}<extra></extra>",
         "legendgroup": "14",
         "line": {
          "color": "#19d3f3",
          "dash": "solid"
         },
         "marker": {
          "symbol": "circle"
         },
         "mode": "lines",
         "name": "14",
         "orientation": "v",
         "showlegend": true,
         "type": "scatter",
         "x": [
          "2017-07-31T00:00:00",
          "2018-01-31T00:00:00",
          "2018-07-31T00:00:00",
          "2019-01-31T00:00:00",
          "2019-07-31T00:00:00",
          "2020-01-31T00:00:00",
          "2020-07-31T00:00:00",
          "2021-01-31T00:00:00",
          "2021-07-31T00:00:00",
          "2022-01-31T00:00:00"
         ],
         "xaxis": "x",
         "y": [
          null,
          null,
          1,
          0.5,
          1,
          1,
          0.6,
          0.7777777777777778,
          0.9,
          0.8666666666666667
         ],
         "yaxis": "y"
        },
        {
         "hovertemplate": "Topic=15<br>Date=%{x}<br>value=%{y}<extra></extra>",
         "legendgroup": "15",
         "line": {
          "color": "#FF6692",
          "dash": "solid"
         },
         "marker": {
          "symbol": "circle"
         },
         "mode": "lines",
         "name": "15",
         "orientation": "v",
         "showlegend": true,
         "type": "scatter",
         "x": [
          "2017-07-31T00:00:00",
          "2018-01-31T00:00:00",
          "2018-07-31T00:00:00",
          "2019-01-31T00:00:00",
          "2019-07-31T00:00:00",
          "2020-01-31T00:00:00",
          "2020-07-31T00:00:00",
          "2021-01-31T00:00:00",
          "2021-07-31T00:00:00",
          "2022-01-31T00:00:00"
         ],
         "xaxis": "x",
         "y": [
          null,
          0.6666666666666666,
          1,
          null,
          null,
          0.8333333333333334,
          1,
          0.8,
          0.75,
          0.8
         ],
         "yaxis": "y"
        },
        {
         "hovertemplate": "Topic=16<br>Date=%{x}<br>value=%{y}<extra></extra>",
         "legendgroup": "16",
         "line": {
          "color": "#B6E880",
          "dash": "solid"
         },
         "marker": {
          "symbol": "circle"
         },
         "mode": "lines",
         "name": "16",
         "orientation": "v",
         "showlegend": true,
         "type": "scatter",
         "x": [
          "2017-07-31T00:00:00",
          "2018-01-31T00:00:00",
          "2018-07-31T00:00:00",
          "2019-01-31T00:00:00",
          "2019-07-31T00:00:00",
          "2020-01-31T00:00:00",
          "2020-07-31T00:00:00",
          "2021-01-31T00:00:00",
          "2021-07-31T00:00:00",
          "2022-01-31T00:00:00"
         ],
         "xaxis": "x",
         "y": [
          null,
          0.5,
          null,
          null,
          0.5,
          0.5714285714285714,
          0.375,
          0.7,
          0.5833333333333334,
          0.8333333333333334
         ],
         "yaxis": "y"
        },
        {
         "hovertemplate": "Topic=17<br>Date=%{x}<br>value=%{y}<extra></extra>",
         "legendgroup": "17",
         "line": {
          "color": "#FF97FF",
          "dash": "solid"
         },
         "marker": {
          "symbol": "circle"
         },
         "mode": "lines",
         "name": "17",
         "orientation": "v",
         "showlegend": true,
         "type": "scatter",
         "x": [
          "2017-07-31T00:00:00",
          "2018-01-31T00:00:00",
          "2018-07-31T00:00:00",
          "2019-01-31T00:00:00",
          "2019-07-31T00:00:00",
          "2020-01-31T00:00:00",
          "2020-07-31T00:00:00",
          "2021-01-31T00:00:00",
          "2021-07-31T00:00:00",
          "2022-01-31T00:00:00"
         ],
         "xaxis": "x",
         "y": [
          null,
          1,
          1,
          1,
          null,
          1,
          1,
          1,
          0.7857142857142857,
          1
         ],
         "yaxis": "y"
        },
        {
         "hovertemplate": "Topic=18<br>Date=%{x}<br>value=%{y}<extra></extra>",
         "legendgroup": "18",
         "line": {
          "color": "#FECB52",
          "dash": "solid"
         },
         "marker": {
          "symbol": "circle"
         },
         "mode": "lines",
         "name": "18",
         "orientation": "v",
         "showlegend": true,
         "type": "scatter",
         "x": [
          "2017-07-31T00:00:00",
          "2018-01-31T00:00:00",
          "2018-07-31T00:00:00",
          "2019-01-31T00:00:00",
          "2019-07-31T00:00:00",
          "2020-01-31T00:00:00",
          "2020-07-31T00:00:00",
          "2021-01-31T00:00:00",
          "2021-07-31T00:00:00",
          "2022-01-31T00:00:00"
         ],
         "xaxis": "x",
         "y": [
          null,
          1,
          null,
          1,
          0.6666666666666666,
          null,
          0.875,
          1,
          0.9285714285714286,
          0.9166666666666666
         ],
         "yaxis": "y"
        }
       ],
       "layout": {
        "legend": {
         "title": {
          "text": "Topic"
         },
         "tracegroupgap": 0
        },
        "margin": {
         "t": 60
        },
        "template": {
         "data": {
          "bar": [
           {
            "error_x": {
             "color": "#2a3f5f"
            },
            "error_y": {
             "color": "#2a3f5f"
            },
            "marker": {
             "line": {
              "color": "#E5ECF6",
              "width": 0.5
             },
             "pattern": {
              "fillmode": "overlay",
              "size": 10,
              "solidity": 0.2
             }
            },
            "type": "bar"
           }
          ],
          "barpolar": [
           {
            "marker": {
             "line": {
              "color": "#E5ECF6",
              "width": 0.5
             },
             "pattern": {
              "fillmode": "overlay",
              "size": 10,
              "solidity": 0.2
             }
            },
            "type": "barpolar"
           }
          ],
          "carpet": [
           {
            "aaxis": {
             "endlinecolor": "#2a3f5f",
             "gridcolor": "white",
             "linecolor": "white",
             "minorgridcolor": "white",
             "startlinecolor": "#2a3f5f"
            },
            "baxis": {
             "endlinecolor": "#2a3f5f",
             "gridcolor": "white",
             "linecolor": "white",
             "minorgridcolor": "white",
             "startlinecolor": "#2a3f5f"
            },
            "type": "carpet"
           }
          ],
          "choropleth": [
           {
            "colorbar": {
             "outlinewidth": 0,
             "ticks": ""
            },
            "type": "choropleth"
           }
          ],
          "contour": [
           {
            "colorbar": {
             "outlinewidth": 0,
             "ticks": ""
            },
            "colorscale": [
             [
              0,
              "#0d0887"
             ],
             [
              0.1111111111111111,
              "#46039f"
             ],
             [
              0.2222222222222222,
              "#7201a8"
             ],
             [
              0.3333333333333333,
              "#9c179e"
             ],
             [
              0.4444444444444444,
              "#bd3786"
             ],
             [
              0.5555555555555556,
              "#d8576b"
             ],
             [
              0.6666666666666666,
              "#ed7953"
             ],
             [
              0.7777777777777778,
              "#fb9f3a"
             ],
             [
              0.8888888888888888,
              "#fdca26"
             ],
             [
              1,
              "#f0f921"
             ]
            ],
            "type": "contour"
           }
          ],
          "contourcarpet": [
           {
            "colorbar": {
             "outlinewidth": 0,
             "ticks": ""
            },
            "type": "contourcarpet"
           }
          ],
          "heatmap": [
           {
            "colorbar": {
             "outlinewidth": 0,
             "ticks": ""
            },
            "colorscale": [
             [
              0,
              "#0d0887"
             ],
             [
              0.1111111111111111,
              "#46039f"
             ],
             [
              0.2222222222222222,
              "#7201a8"
             ],
             [
              0.3333333333333333,
              "#9c179e"
             ],
             [
              0.4444444444444444,
              "#bd3786"
             ],
             [
              0.5555555555555556,
              "#d8576b"
             ],
             [
              0.6666666666666666,
              "#ed7953"
             ],
             [
              0.7777777777777778,
              "#fb9f3a"
             ],
             [
              0.8888888888888888,
              "#fdca26"
             ],
             [
              1,
              "#f0f921"
             ]
            ],
            "type": "heatmap"
           }
          ],
          "heatmapgl": [
           {
            "colorbar": {
             "outlinewidth": 0,
             "ticks": ""
            },
            "colorscale": [
             [
              0,
              "#0d0887"
             ],
             [
              0.1111111111111111,
              "#46039f"
             ],
             [
              0.2222222222222222,
              "#7201a8"
             ],
             [
              0.3333333333333333,
              "#9c179e"
             ],
             [
              0.4444444444444444,
              "#bd3786"
             ],
             [
              0.5555555555555556,
              "#d8576b"
             ],
             [
              0.6666666666666666,
              "#ed7953"
             ],
             [
              0.7777777777777778,
              "#fb9f3a"
             ],
             [
              0.8888888888888888,
              "#fdca26"
             ],
             [
              1,
              "#f0f921"
             ]
            ],
            "type": "heatmapgl"
           }
          ],
          "histogram": [
           {
            "marker": {
             "pattern": {
              "fillmode": "overlay",
              "size": 10,
              "solidity": 0.2
             }
            },
            "type": "histogram"
           }
          ],
          "histogram2d": [
           {
            "colorbar": {
             "outlinewidth": 0,
             "ticks": ""
            },
            "colorscale": [
             [
              0,
              "#0d0887"
             ],
             [
              0.1111111111111111,
              "#46039f"
             ],
             [
              0.2222222222222222,
              "#7201a8"
             ],
             [
              0.3333333333333333,
              "#9c179e"
             ],
             [
              0.4444444444444444,
              "#bd3786"
             ],
             [
              0.5555555555555556,
              "#d8576b"
             ],
             [
              0.6666666666666666,
              "#ed7953"
             ],
             [
              0.7777777777777778,
              "#fb9f3a"
             ],
             [
              0.8888888888888888,
              "#fdca26"
             ],
             [
              1,
              "#f0f921"
             ]
            ],
            "type": "histogram2d"
           }
          ],
          "histogram2dcontour": [
           {
            "colorbar": {
             "outlinewidth": 0,
             "ticks": ""
            },
            "colorscale": [
             [
              0,
              "#0d0887"
             ],
             [
              0.1111111111111111,
              "#46039f"
             ],
             [
              0.2222222222222222,
              "#7201a8"
             ],
             [
              0.3333333333333333,
              "#9c179e"
             ],
             [
              0.4444444444444444,
              "#bd3786"
             ],
             [
              0.5555555555555556,
              "#d8576b"
             ],
             [
              0.6666666666666666,
              "#ed7953"
             ],
             [
              0.7777777777777778,
              "#fb9f3a"
             ],
             [
              0.8888888888888888,
              "#fdca26"
             ],
             [
              1,
              "#f0f921"
             ]
            ],
            "type": "histogram2dcontour"
           }
          ],
          "mesh3d": [
           {
            "colorbar": {
             "outlinewidth": 0,
             "ticks": ""
            },
            "type": "mesh3d"
           }
          ],
          "parcoords": [
           {
            "line": {
             "colorbar": {
              "outlinewidth": 0,
              "ticks": ""
             }
            },
            "type": "parcoords"
           }
          ],
          "pie": [
           {
            "automargin": true,
            "type": "pie"
           }
          ],
          "scatter": [
           {
            "fillpattern": {
             "fillmode": "overlay",
             "size": 10,
             "solidity": 0.2
            },
            "type": "scatter"
           }
          ],
          "scatter3d": [
           {
            "line": {
             "colorbar": {
              "outlinewidth": 0,
              "ticks": ""
             }
            },
            "marker": {
             "colorbar": {
              "outlinewidth": 0,
              "ticks": ""
             }
            },
            "type": "scatter3d"
           }
          ],
          "scattercarpet": [
           {
            "marker": {
             "colorbar": {
              "outlinewidth": 0,
              "ticks": ""
             }
            },
            "type": "scattercarpet"
           }
          ],
          "scattergeo": [
           {
            "marker": {
             "colorbar": {
              "outlinewidth": 0,
              "ticks": ""
             }
            },
            "type": "scattergeo"
           }
          ],
          "scattergl": [
           {
            "marker": {
             "colorbar": {
              "outlinewidth": 0,
              "ticks": ""
             }
            },
            "type": "scattergl"
           }
          ],
          "scattermapbox": [
           {
            "marker": {
             "colorbar": {
              "outlinewidth": 0,
              "ticks": ""
             }
            },
            "type": "scattermapbox"
           }
          ],
          "scatterpolar": [
           {
            "marker": {
             "colorbar": {
              "outlinewidth": 0,
              "ticks": ""
             }
            },
            "type": "scatterpolar"
           }
          ],
          "scatterpolargl": [
           {
            "marker": {
             "colorbar": {
              "outlinewidth": 0,
              "ticks": ""
             }
            },
            "type": "scatterpolargl"
           }
          ],
          "scatterternary": [
           {
            "marker": {
             "colorbar": {
              "outlinewidth": 0,
              "ticks": ""
             }
            },
            "type": "scatterternary"
           }
          ],
          "surface": [
           {
            "colorbar": {
             "outlinewidth": 0,
             "ticks": ""
            },
            "colorscale": [
             [
              0,
              "#0d0887"
             ],
             [
              0.1111111111111111,
              "#46039f"
             ],
             [
              0.2222222222222222,
              "#7201a8"
             ],
             [
              0.3333333333333333,
              "#9c179e"
             ],
             [
              0.4444444444444444,
              "#bd3786"
             ],
             [
              0.5555555555555556,
              "#d8576b"
             ],
             [
              0.6666666666666666,
              "#ed7953"
             ],
             [
              0.7777777777777778,
              "#fb9f3a"
             ],
             [
              0.8888888888888888,
              "#fdca26"
             ],
             [
              1,
              "#f0f921"
             ]
            ],
            "type": "surface"
           }
          ],
          "table": [
           {
            "cells": {
             "fill": {
              "color": "#EBF0F8"
             },
             "line": {
              "color": "white"
             }
            },
            "header": {
             "fill": {
              "color": "#C8D4E3"
             },
             "line": {
              "color": "white"
             }
            },
            "type": "table"
           }
          ]
         },
         "layout": {
          "annotationdefaults": {
           "arrowcolor": "#2a3f5f",
           "arrowhead": 0,
           "arrowwidth": 1
          },
          "autotypenumbers": "strict",
          "coloraxis": {
           "colorbar": {
            "outlinewidth": 0,
            "ticks": ""
           }
          },
          "colorscale": {
           "diverging": [
            [
             0,
             "#8e0152"
            ],
            [
             0.1,
             "#c51b7d"
            ],
            [
             0.2,
             "#de77ae"
            ],
            [
             0.3,
             "#f1b6da"
            ],
            [
             0.4,
             "#fde0ef"
            ],
            [
             0.5,
             "#f7f7f7"
            ],
            [
             0.6,
             "#e6f5d0"
            ],
            [
             0.7,
             "#b8e186"
            ],
            [
             0.8,
             "#7fbc41"
            ],
            [
             0.9,
             "#4d9221"
            ],
            [
             1,
             "#276419"
            ]
           ],
           "sequential": [
            [
             0,
             "#0d0887"
            ],
            [
             0.1111111111111111,
             "#46039f"
            ],
            [
             0.2222222222222222,
             "#7201a8"
            ],
            [
             0.3333333333333333,
             "#9c179e"
            ],
            [
             0.4444444444444444,
             "#bd3786"
            ],
            [
             0.5555555555555556,
             "#d8576b"
            ],
            [
             0.6666666666666666,
             "#ed7953"
            ],
            [
             0.7777777777777778,
             "#fb9f3a"
            ],
            [
             0.8888888888888888,
             "#fdca26"
            ],
            [
             1,
             "#f0f921"
            ]
           ],
           "sequentialminus": [
            [
             0,
             "#0d0887"
            ],
            [
             0.1111111111111111,
             "#46039f"
            ],
            [
             0.2222222222222222,
             "#7201a8"
            ],
            [
             0.3333333333333333,
             "#9c179e"
            ],
            [
             0.4444444444444444,
             "#bd3786"
            ],
            [
             0.5555555555555556,
             "#d8576b"
            ],
            [
             0.6666666666666666,
             "#ed7953"
            ],
            [
             0.7777777777777778,
             "#fb9f3a"
            ],
            [
             0.8888888888888888,
             "#fdca26"
            ],
            [
             1,
             "#f0f921"
            ]
           ]
          },
          "colorway": [
           "#636efa",
           "#EF553B",
           "#00cc96",
           "#ab63fa",
           "#FFA15A",
           "#19d3f3",
           "#FF6692",
           "#B6E880",
           "#FF97FF",
           "#FECB52"
          ],
          "font": {
           "color": "#2a3f5f"
          },
          "geo": {
           "bgcolor": "white",
           "lakecolor": "white",
           "landcolor": "#E5ECF6",
           "showlakes": true,
           "showland": true,
           "subunitcolor": "white"
          },
          "hoverlabel": {
           "align": "left"
          },
          "hovermode": "closest",
          "mapbox": {
           "style": "light"
          },
          "paper_bgcolor": "white",
          "plot_bgcolor": "#E5ECF6",
          "polar": {
           "angularaxis": {
            "gridcolor": "white",
            "linecolor": "white",
            "ticks": ""
           },
           "bgcolor": "#E5ECF6",
           "radialaxis": {
            "gridcolor": "white",
            "linecolor": "white",
            "ticks": ""
           }
          },
          "scene": {
           "xaxis": {
            "backgroundcolor": "#E5ECF6",
            "gridcolor": "white",
            "gridwidth": 2,
            "linecolor": "white",
            "showbackground": true,
            "ticks": "",
            "zerolinecolor": "white"
           },
           "yaxis": {
            "backgroundcolor": "#E5ECF6",
            "gridcolor": "white",
            "gridwidth": 2,
            "linecolor": "white",
            "showbackground": true,
            "ticks": "",
            "zerolinecolor": "white"
           },
           "zaxis": {
            "backgroundcolor": "#E5ECF6",
            "gridcolor": "white",
            "gridwidth": 2,
            "linecolor": "white",
            "showbackground": true,
            "ticks": "",
            "zerolinecolor": "white"
           }
          },
          "shapedefaults": {
           "line": {
            "color": "#2a3f5f"
           }
          },
          "ternary": {
           "aaxis": {
            "gridcolor": "white",
            "linecolor": "white",
            "ticks": ""
           },
           "baxis": {
            "gridcolor": "white",
            "linecolor": "white",
            "ticks": ""
           },
           "bgcolor": "#E5ECF6",
           "caxis": {
            "gridcolor": "white",
            "linecolor": "white",
            "ticks": ""
           }
          },
          "title": {
           "x": 0.05
          },
          "xaxis": {
           "automargin": true,
           "gridcolor": "white",
           "linecolor": "white",
           "ticks": "",
           "title": {
            "standoff": 15
           },
           "zerolinecolor": "white",
           "zerolinewidth": 2
          },
          "yaxis": {
           "automargin": true,
           "gridcolor": "white",
           "linecolor": "white",
           "ticks": "",
           "title": {
            "standoff": 15
           },
           "zerolinecolor": "white",
           "zerolinewidth": 2
          }
         }
        },
        "xaxis": {
         "anchor": "y",
         "domain": [
          0,
          1
         ],
         "title": {
          "text": "Date"
         }
        },
        "yaxis": {
         "anchor": "x",
         "domain": [
          0,
          1
         ],
         "title": {
          "text": "value"
         }
        }
       }
      }
     },
     "metadata": {},
     "output_type": "display_data"
    }
   ],
   "source": [
    "fig = px.line(pivot_df_time, x=pivot_df_time.index, y =pivot_df_time.columns)\n",
    "fig.show()"
   ]
  },
  {
   "cell_type": "code",
   "execution_count": 143,
   "metadata": {},
   "outputs": [],
   "source": [
    "group_df_time.to_csv('out.csv')"
   ]
  },
  {
   "cell_type": "code",
   "execution_count": 146,
   "metadata": {},
   "outputs": [
    {
     "data": {
      "application/vnd.plotly.v1+json": {
       "config": {
        "plotlyServerURL": "https://plot.ly"
       },
       "data": [
        {
         "alignmentgroup": "True",
         "hovertemplate": "CustomName=%{x}<br>Avg=%{y}<extra></extra>",
         "legendgroup": "",
         "marker": {
          "color": "#636efa",
          "pattern": {
           "shape": ""
          }
         },
         "name": "",
         "offsetgroup": "",
         "orientation": "v",
         "showlegend": false,
         "textposition": "auto",
         "type": "bar",
         "x": [
          "Baking Products",
          "Cat Food",
          "Cereal",
          "Chips",
          "Coconut Products",
          "Crackers",
          "Dog Food",
          "Keurig Coffee Products",
          "Noodle",
          "Oil Products",
          "Outliers",
          "Peanut Butter",
          "Popcorn",
          "Protein Powder",
          "Salty Food Products",
          "Sauces",
          "Snack Bars",
          "Soft Drinks",
          "Soup",
          "Tea/Coffee"
         ],
         "xaxis": "x",
         "y": [
          0.6731707317073171,
          0.5285714285714286,
          0.9252336448598131,
          0.6595744680851063,
          0.5789473684210527,
          0.8529411764705882,
          0.51010101010101,
          0.6456692913385826,
          0.9148936170212766,
          0.8135593220338984,
          0.707874682472481,
          0.9130434782608695,
          0.8421052631578947,
          0.8846153846153846,
          0.8131868131868132,
          0.9175257731958762,
          0.9020979020979021,
          0.7225806451612903,
          0.6226415094339622,
          0.800251256281407
         ],
         "yaxis": "y"
        }
       ],
       "layout": {
        "barmode": "relative",
        "legend": {
         "tracegroupgap": 0
        },
        "margin": {
         "t": 60
        },
        "template": {
         "data": {
          "bar": [
           {
            "error_x": {
             "color": "#2a3f5f"
            },
            "error_y": {
             "color": "#2a3f5f"
            },
            "marker": {
             "line": {
              "color": "#E5ECF6",
              "width": 0.5
             },
             "pattern": {
              "fillmode": "overlay",
              "size": 10,
              "solidity": 0.2
             }
            },
            "type": "bar"
           }
          ],
          "barpolar": [
           {
            "marker": {
             "line": {
              "color": "#E5ECF6",
              "width": 0.5
             },
             "pattern": {
              "fillmode": "overlay",
              "size": 10,
              "solidity": 0.2
             }
            },
            "type": "barpolar"
           }
          ],
          "carpet": [
           {
            "aaxis": {
             "endlinecolor": "#2a3f5f",
             "gridcolor": "white",
             "linecolor": "white",
             "minorgridcolor": "white",
             "startlinecolor": "#2a3f5f"
            },
            "baxis": {
             "endlinecolor": "#2a3f5f",
             "gridcolor": "white",
             "linecolor": "white",
             "minorgridcolor": "white",
             "startlinecolor": "#2a3f5f"
            },
            "type": "carpet"
           }
          ],
          "choropleth": [
           {
            "colorbar": {
             "outlinewidth": 0,
             "ticks": ""
            },
            "type": "choropleth"
           }
          ],
          "contour": [
           {
            "colorbar": {
             "outlinewidth": 0,
             "ticks": ""
            },
            "colorscale": [
             [
              0,
              "#0d0887"
             ],
             [
              0.1111111111111111,
              "#46039f"
             ],
             [
              0.2222222222222222,
              "#7201a8"
             ],
             [
              0.3333333333333333,
              "#9c179e"
             ],
             [
              0.4444444444444444,
              "#bd3786"
             ],
             [
              0.5555555555555556,
              "#d8576b"
             ],
             [
              0.6666666666666666,
              "#ed7953"
             ],
             [
              0.7777777777777778,
              "#fb9f3a"
             ],
             [
              0.8888888888888888,
              "#fdca26"
             ],
             [
              1,
              "#f0f921"
             ]
            ],
            "type": "contour"
           }
          ],
          "contourcarpet": [
           {
            "colorbar": {
             "outlinewidth": 0,
             "ticks": ""
            },
            "type": "contourcarpet"
           }
          ],
          "heatmap": [
           {
            "colorbar": {
             "outlinewidth": 0,
             "ticks": ""
            },
            "colorscale": [
             [
              0,
              "#0d0887"
             ],
             [
              0.1111111111111111,
              "#46039f"
             ],
             [
              0.2222222222222222,
              "#7201a8"
             ],
             [
              0.3333333333333333,
              "#9c179e"
             ],
             [
              0.4444444444444444,
              "#bd3786"
             ],
             [
              0.5555555555555556,
              "#d8576b"
             ],
             [
              0.6666666666666666,
              "#ed7953"
             ],
             [
              0.7777777777777778,
              "#fb9f3a"
             ],
             [
              0.8888888888888888,
              "#fdca26"
             ],
             [
              1,
              "#f0f921"
             ]
            ],
            "type": "heatmap"
           }
          ],
          "heatmapgl": [
           {
            "colorbar": {
             "outlinewidth": 0,
             "ticks": ""
            },
            "colorscale": [
             [
              0,
              "#0d0887"
             ],
             [
              0.1111111111111111,
              "#46039f"
             ],
             [
              0.2222222222222222,
              "#7201a8"
             ],
             [
              0.3333333333333333,
              "#9c179e"
             ],
             [
              0.4444444444444444,
              "#bd3786"
             ],
             [
              0.5555555555555556,
              "#d8576b"
             ],
             [
              0.6666666666666666,
              "#ed7953"
             ],
             [
              0.7777777777777778,
              "#fb9f3a"
             ],
             [
              0.8888888888888888,
              "#fdca26"
             ],
             [
              1,
              "#f0f921"
             ]
            ],
            "type": "heatmapgl"
           }
          ],
          "histogram": [
           {
            "marker": {
             "pattern": {
              "fillmode": "overlay",
              "size": 10,
              "solidity": 0.2
             }
            },
            "type": "histogram"
           }
          ],
          "histogram2d": [
           {
            "colorbar": {
             "outlinewidth": 0,
             "ticks": ""
            },
            "colorscale": [
             [
              0,
              "#0d0887"
             ],
             [
              0.1111111111111111,
              "#46039f"
             ],
             [
              0.2222222222222222,
              "#7201a8"
             ],
             [
              0.3333333333333333,
              "#9c179e"
             ],
             [
              0.4444444444444444,
              "#bd3786"
             ],
             [
              0.5555555555555556,
              "#d8576b"
             ],
             [
              0.6666666666666666,
              "#ed7953"
             ],
             [
              0.7777777777777778,
              "#fb9f3a"
             ],
             [
              0.8888888888888888,
              "#fdca26"
             ],
             [
              1,
              "#f0f921"
             ]
            ],
            "type": "histogram2d"
           }
          ],
          "histogram2dcontour": [
           {
            "colorbar": {
             "outlinewidth": 0,
             "ticks": ""
            },
            "colorscale": [
             [
              0,
              "#0d0887"
             ],
             [
              0.1111111111111111,
              "#46039f"
             ],
             [
              0.2222222222222222,
              "#7201a8"
             ],
             [
              0.3333333333333333,
              "#9c179e"
             ],
             [
              0.4444444444444444,
              "#bd3786"
             ],
             [
              0.5555555555555556,
              "#d8576b"
             ],
             [
              0.6666666666666666,
              "#ed7953"
             ],
             [
              0.7777777777777778,
              "#fb9f3a"
             ],
             [
              0.8888888888888888,
              "#fdca26"
             ],
             [
              1,
              "#f0f921"
             ]
            ],
            "type": "histogram2dcontour"
           }
          ],
          "mesh3d": [
           {
            "colorbar": {
             "outlinewidth": 0,
             "ticks": ""
            },
            "type": "mesh3d"
           }
          ],
          "parcoords": [
           {
            "line": {
             "colorbar": {
              "outlinewidth": 0,
              "ticks": ""
             }
            },
            "type": "parcoords"
           }
          ],
          "pie": [
           {
            "automargin": true,
            "type": "pie"
           }
          ],
          "scatter": [
           {
            "fillpattern": {
             "fillmode": "overlay",
             "size": 10,
             "solidity": 0.2
            },
            "type": "scatter"
           }
          ],
          "scatter3d": [
           {
            "line": {
             "colorbar": {
              "outlinewidth": 0,
              "ticks": ""
             }
            },
            "marker": {
             "colorbar": {
              "outlinewidth": 0,
              "ticks": ""
             }
            },
            "type": "scatter3d"
           }
          ],
          "scattercarpet": [
           {
            "marker": {
             "colorbar": {
              "outlinewidth": 0,
              "ticks": ""
             }
            },
            "type": "scattercarpet"
           }
          ],
          "scattergeo": [
           {
            "marker": {
             "colorbar": {
              "outlinewidth": 0,
              "ticks": ""
             }
            },
            "type": "scattergeo"
           }
          ],
          "scattergl": [
           {
            "marker": {
             "colorbar": {
              "outlinewidth": 0,
              "ticks": ""
             }
            },
            "type": "scattergl"
           }
          ],
          "scattermapbox": [
           {
            "marker": {
             "colorbar": {
              "outlinewidth": 0,
              "ticks": ""
             }
            },
            "type": "scattermapbox"
           }
          ],
          "scatterpolar": [
           {
            "marker": {
             "colorbar": {
              "outlinewidth": 0,
              "ticks": ""
             }
            },
            "type": "scatterpolar"
           }
          ],
          "scatterpolargl": [
           {
            "marker": {
             "colorbar": {
              "outlinewidth": 0,
              "ticks": ""
             }
            },
            "type": "scatterpolargl"
           }
          ],
          "scatterternary": [
           {
            "marker": {
             "colorbar": {
              "outlinewidth": 0,
              "ticks": ""
             }
            },
            "type": "scatterternary"
           }
          ],
          "surface": [
           {
            "colorbar": {
             "outlinewidth": 0,
             "ticks": ""
            },
            "colorscale": [
             [
              0,
              "#0d0887"
             ],
             [
              0.1111111111111111,
              "#46039f"
             ],
             [
              0.2222222222222222,
              "#7201a8"
             ],
             [
              0.3333333333333333,
              "#9c179e"
             ],
             [
              0.4444444444444444,
              "#bd3786"
             ],
             [
              0.5555555555555556,
              "#d8576b"
             ],
             [
              0.6666666666666666,
              "#ed7953"
             ],
             [
              0.7777777777777778,
              "#fb9f3a"
             ],
             [
              0.8888888888888888,
              "#fdca26"
             ],
             [
              1,
              "#f0f921"
             ]
            ],
            "type": "surface"
           }
          ],
          "table": [
           {
            "cells": {
             "fill": {
              "color": "#EBF0F8"
             },
             "line": {
              "color": "white"
             }
            },
            "header": {
             "fill": {
              "color": "#C8D4E3"
             },
             "line": {
              "color": "white"
             }
            },
            "type": "table"
           }
          ]
         },
         "layout": {
          "annotationdefaults": {
           "arrowcolor": "#2a3f5f",
           "arrowhead": 0,
           "arrowwidth": 1
          },
          "autotypenumbers": "strict",
          "coloraxis": {
           "colorbar": {
            "outlinewidth": 0,
            "ticks": ""
           }
          },
          "colorscale": {
           "diverging": [
            [
             0,
             "#8e0152"
            ],
            [
             0.1,
             "#c51b7d"
            ],
            [
             0.2,
             "#de77ae"
            ],
            [
             0.3,
             "#f1b6da"
            ],
            [
             0.4,
             "#fde0ef"
            ],
            [
             0.5,
             "#f7f7f7"
            ],
            [
             0.6,
             "#e6f5d0"
            ],
            [
             0.7,
             "#b8e186"
            ],
            [
             0.8,
             "#7fbc41"
            ],
            [
             0.9,
             "#4d9221"
            ],
            [
             1,
             "#276419"
            ]
           ],
           "sequential": [
            [
             0,
             "#0d0887"
            ],
            [
             0.1111111111111111,
             "#46039f"
            ],
            [
             0.2222222222222222,
             "#7201a8"
            ],
            [
             0.3333333333333333,
             "#9c179e"
            ],
            [
             0.4444444444444444,
             "#bd3786"
            ],
            [
             0.5555555555555556,
             "#d8576b"
            ],
            [
             0.6666666666666666,
             "#ed7953"
            ],
            [
             0.7777777777777778,
             "#fb9f3a"
            ],
            [
             0.8888888888888888,
             "#fdca26"
            ],
            [
             1,
             "#f0f921"
            ]
           ],
           "sequentialminus": [
            [
             0,
             "#0d0887"
            ],
            [
             0.1111111111111111,
             "#46039f"
            ],
            [
             0.2222222222222222,
             "#7201a8"
            ],
            [
             0.3333333333333333,
             "#9c179e"
            ],
            [
             0.4444444444444444,
             "#bd3786"
            ],
            [
             0.5555555555555556,
             "#d8576b"
            ],
            [
             0.6666666666666666,
             "#ed7953"
            ],
            [
             0.7777777777777778,
             "#fb9f3a"
            ],
            [
             0.8888888888888888,
             "#fdca26"
            ],
            [
             1,
             "#f0f921"
            ]
           ]
          },
          "colorway": [
           "#636efa",
           "#EF553B",
           "#00cc96",
           "#ab63fa",
           "#FFA15A",
           "#19d3f3",
           "#FF6692",
           "#B6E880",
           "#FF97FF",
           "#FECB52"
          ],
          "font": {
           "color": "#2a3f5f"
          },
          "geo": {
           "bgcolor": "white",
           "lakecolor": "white",
           "landcolor": "#E5ECF6",
           "showlakes": true,
           "showland": true,
           "subunitcolor": "white"
          },
          "hoverlabel": {
           "align": "left"
          },
          "hovermode": "closest",
          "mapbox": {
           "style": "light"
          },
          "paper_bgcolor": "white",
          "plot_bgcolor": "#E5ECF6",
          "polar": {
           "angularaxis": {
            "gridcolor": "white",
            "linecolor": "white",
            "ticks": ""
           },
           "bgcolor": "#E5ECF6",
           "radialaxis": {
            "gridcolor": "white",
            "linecolor": "white",
            "ticks": ""
           }
          },
          "scene": {
           "xaxis": {
            "backgroundcolor": "#E5ECF6",
            "gridcolor": "white",
            "gridwidth": 2,
            "linecolor": "white",
            "showbackground": true,
            "ticks": "",
            "zerolinecolor": "white"
           },
           "yaxis": {
            "backgroundcolor": "#E5ECF6",
            "gridcolor": "white",
            "gridwidth": 2,
            "linecolor": "white",
            "showbackground": true,
            "ticks": "",
            "zerolinecolor": "white"
           },
           "zaxis": {
            "backgroundcolor": "#E5ECF6",
            "gridcolor": "white",
            "gridwidth": 2,
            "linecolor": "white",
            "showbackground": true,
            "ticks": "",
            "zerolinecolor": "white"
           }
          },
          "shapedefaults": {
           "line": {
            "color": "#2a3f5f"
           }
          },
          "ternary": {
           "aaxis": {
            "gridcolor": "white",
            "linecolor": "white",
            "ticks": ""
           },
           "baxis": {
            "gridcolor": "white",
            "linecolor": "white",
            "ticks": ""
           },
           "bgcolor": "#E5ECF6",
           "caxis": {
            "gridcolor": "white",
            "linecolor": "white",
            "ticks": ""
           }
          },
          "title": {
           "x": 0.05
          },
          "xaxis": {
           "automargin": true,
           "gridcolor": "white",
           "linecolor": "white",
           "ticks": "",
           "title": {
            "standoff": 15
           },
           "zerolinecolor": "white",
           "zerolinewidth": 2
          },
          "yaxis": {
           "automargin": true,
           "gridcolor": "white",
           "linecolor": "white",
           "ticks": "",
           "title": {
            "standoff": 15
           },
           "zerolinecolor": "white",
           "zerolinewidth": 2
          }
         }
        },
        "xaxis": {
         "anchor": "y",
         "domain": [
          0,
          1
         ],
         "title": {
          "text": "CustomName"
         }
        },
        "yaxis": {
         "anchor": "x",
         "domain": [
          0,
          1
         ],
         "title": {
          "text": "Avg"
         }
        }
       }
      }
     },
     "metadata": {},
     "output_type": "display_data"
    }
   ],
   "source": [
    "import plotly.express as px\n",
    "fig = px.bar(group_df, x='CustomName', y ='Avg')\n",
    "fig.show()"
   ]
  }
 ],
 "metadata": {
  "kernelspec": {
   "display_name": "Python 3",
   "language": "python",
   "name": "python3"
  },
  "language_info": {
   "codemirror_mode": {
    "name": "ipython",
    "version": 3
   },
   "file_extension": ".py",
   "mimetype": "text/x-python",
   "name": "python",
   "nbconvert_exporter": "python",
   "pygments_lexer": "ipython3",
   "version": "3.8.12"
  },
  "orig_nbformat": 4
 },
 "nbformat": 4,
 "nbformat_minor": 2
}
